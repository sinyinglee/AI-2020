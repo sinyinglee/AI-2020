{
 "cells": [
  {
   "cell_type": "code",
   "execution_count": 1,
   "metadata": {},
   "outputs": [],
   "source": [
    "%matplotlib inline\n",
    "import matplotlib.pyplot as plt\n",
    "import numpy as np"
   ]
  },
  {
   "cell_type": "code",
   "execution_count": 2,
   "metadata": {},
   "outputs": [],
   "source": [
    "import pandas as pd"
   ]
  },
  {
   "cell_type": "code",
   "execution_count": 3,
   "metadata": {},
   "outputs": [],
   "source": [
    "country=[\"Germany\"\n",
    "         ,\"Russia\"\n",
    "         ,\"United Kingdom\",\"France\",\"Italy\",\"Spain\",\"Ukraine\",\"Poland\",\"Romania\",\"Netherlands\",\"Belgium\",\"Czech Republic\",\"Greece\",\"Portugal\"\n",
    ",\"Sweden\"\n",
    ",\"Hungary\"\n",
    ",\"Belarus\"\n",
    ",\"Austria\"\n",
    ",\"Serbia\"\n",
    ",\"Switzerland\"\n",
    ",\"Bulgaria\"\n",
    ",\"Denmark\"\n",
    ",\"Finland\"\n",
    ",\"Slovakia\"\n",
    ",\"Norway\"\n",
    ",\"Ireland\"\n",
    ",\"Croatia\"\n",
    ",\"Moldova\"\n",
    ",\"Bosnia and Herzegovina\"\n",
    ",\"Albania\"\n",
    ",\"Lithuania\"\n",
    ",\"North Macedonia\"\n",
    ",\"Slovenia\"\n",
    ",\"Latvia\"\n",
    ",\"Estonia\"\n",
    ",\"Montenegro\"\n",
    ",\"Luxembourg\"\n",
    ",\"Malta\"\n",
    ",\"Iceland\"\n",
    ",\"Canada\"\n",
    ",\"Australia\"\n",
    ",\"New Zealand\"]"
   ]
  },
  {
   "cell_type": "code",
   "execution_count": 28,
   "metadata": {},
   "outputs": [],
   "source": [
    "covid = pd.read_csv(\"owid-covid-data.csv\")"
   ]
  },
  {
   "cell_type": "code",
   "execution_count": 32,
   "metadata": {},
   "outputs": [
    {
     "data": {
      "text/plain": [
       "location\n",
       "Afghanistan      2019-12-31\n",
       "Afghanistan      2020-01-01\n",
       "Afghanistan      2020-01-02\n",
       "Afghanistan      2020-01-03\n",
       "Afghanistan      2020-01-04\n",
       "Afghanistan      2020-01-05\n",
       "Afghanistan      2020-01-06\n",
       "Afghanistan      2020-01-07\n",
       "Afghanistan      2020-01-08\n",
       "Afghanistan      2020-01-09\n",
       "Afghanistan      2020-01-10\n",
       "Afghanistan      2020-01-11\n",
       "Afghanistan      2020-01-12\n",
       "Afghanistan      2020-01-13\n",
       "Afghanistan      2020-01-14\n",
       "Afghanistan      2020-01-15\n",
       "Afghanistan      2020-01-16\n",
       "Afghanistan      2020-01-17\n",
       "Afghanistan      2020-01-18\n",
       "Afghanistan      2020-01-19\n",
       "Afghanistan      2020-01-20\n",
       "Afghanistan      2020-01-21\n",
       "Afghanistan      2020-01-22\n",
       "Afghanistan      2020-01-23\n",
       "Afghanistan      2020-01-24\n",
       "Afghanistan      2020-01-25\n",
       "Afghanistan      2020-01-26\n",
       "Afghanistan      2020-01-27\n",
       "Afghanistan      2020-01-28\n",
       "Afghanistan      2020-01-29\n",
       "                    ...    \n",
       "International    2020-02-03\n",
       "International    2020-02-04\n",
       "International    2020-02-05\n",
       "International    2020-02-06\n",
       "International    2020-02-07\n",
       "International    2020-02-08\n",
       "International    2020-02-09\n",
       "International    2020-02-10\n",
       "International    2020-02-11\n",
       "International    2020-02-12\n",
       "International    2020-02-13\n",
       "International    2020-02-14\n",
       "International    2020-02-15\n",
       "International    2020-02-16\n",
       "International    2020-02-17\n",
       "International    2020-02-18\n",
       "International    2020-02-19\n",
       "International    2020-02-20\n",
       "International    2020-02-21\n",
       "International    2020-02-22\n",
       "International    2020-02-23\n",
       "International    2020-02-24\n",
       "International    2020-02-25\n",
       "International    2020-02-26\n",
       "International    2020-02-27\n",
       "International    2020-02-28\n",
       "International    2020-02-29\n",
       "International    2020-03-01\n",
       "International    2020-03-02\n",
       "International    2020-03-10\n",
       "Name: date, Length: 22452, dtype: object"
      ]
     },
     "execution_count": 32,
     "metadata": {},
     "output_type": "execute_result"
    }
   ],
   "source": [
    "covid[\"date\"]"
   ]
  },
  {
   "cell_type": "code",
   "execution_count": 5,
   "metadata": {},
   "outputs": [],
   "source": [
    "# covid[\"date\"] = pd.to_datetime(covid[\"date\"],format=\"%Y-%M-%d\")"
   ]
  },
  {
   "cell_type": "code",
   "execution_count": 29,
   "metadata": {},
   "outputs": [],
   "source": [
    "covid.set_index(\"location\",inplace=True)"
   ]
  },
  {
   "cell_type": "code",
   "execution_count": 30,
   "metadata": {},
   "outputs": [],
   "source": [
    "day_list = []"
   ]
  },
  {
   "cell_type": "code",
   "execution_count": 31,
   "metadata": {},
   "outputs": [
    {
     "ename": "TypeError",
     "evalue": "unsupported operand type(s) for -: 'str' and 'str'",
     "output_type": "error",
     "traceback": [
      "\u001b[0;31m---------------------------------------------------------------------------\u001b[0m",
      "\u001b[0;31mTypeError\u001b[0m                                 Traceback (most recent call last)",
      "\u001b[0;32m//anaconda3/lib/python3.7/site-packages/pandas/core/ops.py\u001b[0m in \u001b[0;36mna_op\u001b[0;34m(x, y)\u001b[0m\n\u001b[1;32m   1504\u001b[0m         \u001b[0;32mtry\u001b[0m\u001b[0;34m:\u001b[0m\u001b[0;34m\u001b[0m\u001b[0;34m\u001b[0m\u001b[0m\n\u001b[0;32m-> 1505\u001b[0;31m             \u001b[0mresult\u001b[0m \u001b[0;34m=\u001b[0m \u001b[0mexpressions\u001b[0m\u001b[0;34m.\u001b[0m\u001b[0mevaluate\u001b[0m\u001b[0;34m(\u001b[0m\u001b[0mop\u001b[0m\u001b[0;34m,\u001b[0m \u001b[0mstr_rep\u001b[0m\u001b[0;34m,\u001b[0m \u001b[0mx\u001b[0m\u001b[0;34m,\u001b[0m \u001b[0my\u001b[0m\u001b[0;34m,\u001b[0m \u001b[0;34m**\u001b[0m\u001b[0meval_kwargs\u001b[0m\u001b[0;34m)\u001b[0m\u001b[0;34m\u001b[0m\u001b[0;34m\u001b[0m\u001b[0m\n\u001b[0m\u001b[1;32m   1506\u001b[0m         \u001b[0;32mexcept\u001b[0m \u001b[0mTypeError\u001b[0m\u001b[0;34m:\u001b[0m\u001b[0;34m\u001b[0m\u001b[0;34m\u001b[0m\u001b[0m\n",
      "\u001b[0;32m//anaconda3/lib/python3.7/site-packages/pandas/core/computation/expressions.py\u001b[0m in \u001b[0;36mevaluate\u001b[0;34m(op, op_str, a, b, use_numexpr, **eval_kwargs)\u001b[0m\n\u001b[1;32m    207\u001b[0m     \u001b[0;32mif\u001b[0m \u001b[0muse_numexpr\u001b[0m\u001b[0;34m:\u001b[0m\u001b[0;34m\u001b[0m\u001b[0;34m\u001b[0m\u001b[0m\n\u001b[0;32m--> 208\u001b[0;31m         \u001b[0;32mreturn\u001b[0m \u001b[0m_evaluate\u001b[0m\u001b[0;34m(\u001b[0m\u001b[0mop\u001b[0m\u001b[0;34m,\u001b[0m \u001b[0mop_str\u001b[0m\u001b[0;34m,\u001b[0m \u001b[0ma\u001b[0m\u001b[0;34m,\u001b[0m \u001b[0mb\u001b[0m\u001b[0;34m,\u001b[0m \u001b[0;34m**\u001b[0m\u001b[0meval_kwargs\u001b[0m\u001b[0;34m)\u001b[0m\u001b[0;34m\u001b[0m\u001b[0;34m\u001b[0m\u001b[0m\n\u001b[0m\u001b[1;32m    209\u001b[0m     \u001b[0;32mreturn\u001b[0m \u001b[0m_evaluate_standard\u001b[0m\u001b[0;34m(\u001b[0m\u001b[0mop\u001b[0m\u001b[0;34m,\u001b[0m \u001b[0mop_str\u001b[0m\u001b[0;34m,\u001b[0m \u001b[0ma\u001b[0m\u001b[0;34m,\u001b[0m \u001b[0mb\u001b[0m\u001b[0;34m)\u001b[0m\u001b[0;34m\u001b[0m\u001b[0;34m\u001b[0m\u001b[0m\n",
      "\u001b[0;32m//anaconda3/lib/python3.7/site-packages/pandas/core/computation/expressions.py\u001b[0m in \u001b[0;36m_evaluate_numexpr\u001b[0;34m(op, op_str, a, b, truediv, reversed, **eval_kwargs)\u001b[0m\n\u001b[1;32m    122\u001b[0m     \u001b[0;32mif\u001b[0m \u001b[0mresult\u001b[0m \u001b[0;32mis\u001b[0m \u001b[0;32mNone\u001b[0m\u001b[0;34m:\u001b[0m\u001b[0;34m\u001b[0m\u001b[0;34m\u001b[0m\u001b[0m\n\u001b[0;32m--> 123\u001b[0;31m         \u001b[0mresult\u001b[0m \u001b[0;34m=\u001b[0m \u001b[0m_evaluate_standard\u001b[0m\u001b[0;34m(\u001b[0m\u001b[0mop\u001b[0m\u001b[0;34m,\u001b[0m \u001b[0mop_str\u001b[0m\u001b[0;34m,\u001b[0m \u001b[0ma\u001b[0m\u001b[0;34m,\u001b[0m \u001b[0mb\u001b[0m\u001b[0;34m)\u001b[0m\u001b[0;34m\u001b[0m\u001b[0;34m\u001b[0m\u001b[0m\n\u001b[0m\u001b[1;32m    124\u001b[0m \u001b[0;34m\u001b[0m\u001b[0m\n",
      "\u001b[0;32m//anaconda3/lib/python3.7/site-packages/pandas/core/computation/expressions.py\u001b[0m in \u001b[0;36m_evaluate_standard\u001b[0;34m(op, op_str, a, b, **eval_kwargs)\u001b[0m\n\u001b[1;32m     67\u001b[0m     \u001b[0;32mwith\u001b[0m \u001b[0mnp\u001b[0m\u001b[0;34m.\u001b[0m\u001b[0merrstate\u001b[0m\u001b[0;34m(\u001b[0m\u001b[0mall\u001b[0m\u001b[0;34m=\u001b[0m\u001b[0;34m'ignore'\u001b[0m\u001b[0;34m)\u001b[0m\u001b[0;34m:\u001b[0m\u001b[0;34m\u001b[0m\u001b[0;34m\u001b[0m\u001b[0m\n\u001b[0;32m---> 68\u001b[0;31m         \u001b[0;32mreturn\u001b[0m \u001b[0mop\u001b[0m\u001b[0;34m(\u001b[0m\u001b[0ma\u001b[0m\u001b[0;34m,\u001b[0m \u001b[0mb\u001b[0m\u001b[0;34m)\u001b[0m\u001b[0;34m\u001b[0m\u001b[0;34m\u001b[0m\u001b[0m\n\u001b[0m\u001b[1;32m     69\u001b[0m \u001b[0;34m\u001b[0m\u001b[0m\n",
      "\u001b[0;31mTypeError\u001b[0m: unsupported operand type(s) for -: 'str' and 'str'",
      "\nDuring handling of the above exception, another exception occurred:\n",
      "\u001b[0;31mTypeError\u001b[0m                                 Traceback (most recent call last)",
      "\u001b[0;32m//anaconda3/lib/python3.7/site-packages/pandas/core/ops.py\u001b[0m in \u001b[0;36msafe_na_op\u001b[0;34m(lvalues, rvalues)\u001b[0m\n\u001b[1;32m   1528\u001b[0m             \u001b[0;32mwith\u001b[0m \u001b[0mnp\u001b[0m\u001b[0;34m.\u001b[0m\u001b[0merrstate\u001b[0m\u001b[0;34m(\u001b[0m\u001b[0mall\u001b[0m\u001b[0;34m=\u001b[0m\u001b[0;34m'ignore'\u001b[0m\u001b[0;34m)\u001b[0m\u001b[0;34m:\u001b[0m\u001b[0;34m\u001b[0m\u001b[0;34m\u001b[0m\u001b[0m\n\u001b[0;32m-> 1529\u001b[0;31m                 \u001b[0;32mreturn\u001b[0m \u001b[0mna_op\u001b[0m\u001b[0;34m(\u001b[0m\u001b[0mlvalues\u001b[0m\u001b[0;34m,\u001b[0m \u001b[0mrvalues\u001b[0m\u001b[0;34m)\u001b[0m\u001b[0;34m\u001b[0m\u001b[0;34m\u001b[0m\u001b[0m\n\u001b[0m\u001b[1;32m   1530\u001b[0m         \u001b[0;32mexcept\u001b[0m \u001b[0mException\u001b[0m\u001b[0;34m:\u001b[0m\u001b[0;34m\u001b[0m\u001b[0;34m\u001b[0m\u001b[0m\n",
      "\u001b[0;32m//anaconda3/lib/python3.7/site-packages/pandas/core/ops.py\u001b[0m in \u001b[0;36mna_op\u001b[0;34m(x, y)\u001b[0m\n\u001b[1;32m   1506\u001b[0m         \u001b[0;32mexcept\u001b[0m \u001b[0mTypeError\u001b[0m\u001b[0;34m:\u001b[0m\u001b[0;34m\u001b[0m\u001b[0;34m\u001b[0m\u001b[0m\n\u001b[0;32m-> 1507\u001b[0;31m             \u001b[0mresult\u001b[0m \u001b[0;34m=\u001b[0m \u001b[0mmasked_arith_op\u001b[0m\u001b[0;34m(\u001b[0m\u001b[0mx\u001b[0m\u001b[0;34m,\u001b[0m \u001b[0my\u001b[0m\u001b[0;34m,\u001b[0m \u001b[0mop\u001b[0m\u001b[0;34m)\u001b[0m\u001b[0;34m\u001b[0m\u001b[0;34m\u001b[0m\u001b[0m\n\u001b[0m\u001b[1;32m   1508\u001b[0m \u001b[0;34m\u001b[0m\u001b[0m\n",
      "\u001b[0;32m//anaconda3/lib/python3.7/site-packages/pandas/core/ops.py\u001b[0m in \u001b[0;36mmasked_arith_op\u001b[0;34m(x, y, op)\u001b[0m\n\u001b[1;32m   1008\u001b[0m                 result[mask] = op(xrav[mask],\n\u001b[0;32m-> 1009\u001b[0;31m                                   com.values_from_object(yrav[mask]))\n\u001b[0m\u001b[1;32m   1010\u001b[0m \u001b[0;34m\u001b[0m\u001b[0m\n",
      "\u001b[0;31mTypeError\u001b[0m: unsupported operand type(s) for -: 'str' and 'str'",
      "\nDuring handling of the above exception, another exception occurred:\n",
      "\u001b[0;31mTypeError\u001b[0m                                 Traceback (most recent call last)",
      "\u001b[0;32m<ipython-input-31-29596145dafb>\u001b[0m in \u001b[0;36m<module>\u001b[0;34m\u001b[0m\n\u001b[1;32m      5\u001b[0m     \u001b[0mmax_date\u001b[0m \u001b[0;34m=\u001b[0m \u001b[0meach_country\u001b[0m\u001b[0;34m.\u001b[0m\u001b[0mloc\u001b[0m\u001b[0;34m[\u001b[0m\u001b[0meach_country\u001b[0m\u001b[0;34m[\u001b[0m\u001b[0;34m\"total_cases\"\u001b[0m\u001b[0;34m]\u001b[0m\u001b[0;34m==\u001b[0m\u001b[0mmax_count\u001b[0m\u001b[0;34m,\u001b[0m\u001b[0;34m\"date\"\u001b[0m\u001b[0;34m]\u001b[0m\u001b[0;34m\u001b[0m\u001b[0;34m\u001b[0m\u001b[0m\n\u001b[1;32m      6\u001b[0m     \u001b[0mmin_date\u001b[0m \u001b[0;34m=\u001b[0m \u001b[0meach_country\u001b[0m\u001b[0;34m.\u001b[0m\u001b[0mloc\u001b[0m\u001b[0;34m[\u001b[0m\u001b[0meach_country\u001b[0m\u001b[0;34m[\u001b[0m\u001b[0;34m\"total_cases\"\u001b[0m\u001b[0;34m]\u001b[0m\u001b[0;34m==\u001b[0m\u001b[0mmin_count\u001b[0m\u001b[0;34m,\u001b[0m\u001b[0;34m\"date\"\u001b[0m\u001b[0;34m]\u001b[0m\u001b[0;34m\u001b[0m\u001b[0;34m\u001b[0m\u001b[0m\n\u001b[0;32m----> 7\u001b[0;31m     \u001b[0mdays_to_peak\u001b[0m \u001b[0;34m=\u001b[0m \u001b[0mmax_date\u001b[0m \u001b[0;34m-\u001b[0m \u001b[0mmin_date\u001b[0m\u001b[0;34m\u001b[0m\u001b[0;34m\u001b[0m\u001b[0m\n\u001b[0m\u001b[1;32m      8\u001b[0m     \u001b[0mget_days\u001b[0m \u001b[0;34m=\u001b[0m \u001b[0mdays_to_peak\u001b[0m\u001b[0;34m.\u001b[0m\u001b[0mdt\u001b[0m\u001b[0;34m.\u001b[0m\u001b[0mdays\u001b[0m\u001b[0;34m\u001b[0m\u001b[0;34m\u001b[0m\u001b[0m\n\u001b[1;32m      9\u001b[0m     \u001b[0mday_list\u001b[0m\u001b[0;34m.\u001b[0m\u001b[0mappend\u001b[0m\u001b[0;34m(\u001b[0m\u001b[0mget_days\u001b[0m\u001b[0;34m)\u001b[0m\u001b[0;34m\u001b[0m\u001b[0;34m\u001b[0m\u001b[0m\n",
      "\u001b[0;32m//anaconda3/lib/python3.7/site-packages/pandas/core/ops.py\u001b[0m in \u001b[0;36mwrapper\u001b[0;34m(left, right)\u001b[0m\n\u001b[1;32m   1581\u001b[0m             \u001b[0mrvalues\u001b[0m \u001b[0;34m=\u001b[0m \u001b[0mrvalues\u001b[0m\u001b[0;34m.\u001b[0m\u001b[0mvalues\u001b[0m\u001b[0;34m\u001b[0m\u001b[0;34m\u001b[0m\u001b[0m\n\u001b[1;32m   1582\u001b[0m \u001b[0;34m\u001b[0m\u001b[0m\n\u001b[0;32m-> 1583\u001b[0;31m         \u001b[0mresult\u001b[0m \u001b[0;34m=\u001b[0m \u001b[0msafe_na_op\u001b[0m\u001b[0;34m(\u001b[0m\u001b[0mlvalues\u001b[0m\u001b[0;34m,\u001b[0m \u001b[0mrvalues\u001b[0m\u001b[0;34m)\u001b[0m\u001b[0;34m\u001b[0m\u001b[0;34m\u001b[0m\u001b[0m\n\u001b[0m\u001b[1;32m   1584\u001b[0m         return construct_result(left, result,\n\u001b[1;32m   1585\u001b[0m                                 index=left.index, name=res_name, dtype=None)\n",
      "\u001b[0;32m//anaconda3/lib/python3.7/site-packages/pandas/core/ops.py\u001b[0m in \u001b[0;36msafe_na_op\u001b[0;34m(lvalues, rvalues)\u001b[0m\n\u001b[1;32m   1531\u001b[0m             \u001b[0;32mif\u001b[0m \u001b[0mis_object_dtype\u001b[0m\u001b[0;34m(\u001b[0m\u001b[0mlvalues\u001b[0m\u001b[0;34m)\u001b[0m\u001b[0;34m:\u001b[0m\u001b[0;34m\u001b[0m\u001b[0;34m\u001b[0m\u001b[0m\n\u001b[1;32m   1532\u001b[0m                 return libalgos.arrmap_object(lvalues,\n\u001b[0;32m-> 1533\u001b[0;31m                                               lambda x: op(x, rvalues))\n\u001b[0m\u001b[1;32m   1534\u001b[0m             \u001b[0;32mraise\u001b[0m\u001b[0;34m\u001b[0m\u001b[0;34m\u001b[0m\u001b[0m\n\u001b[1;32m   1535\u001b[0m \u001b[0;34m\u001b[0m\u001b[0m\n",
      "\u001b[0;32mpandas/_libs/algos.pyx\u001b[0m in \u001b[0;36mpandas._libs.algos.arrmap\u001b[0;34m()\u001b[0m\n",
      "\u001b[0;32m//anaconda3/lib/python3.7/site-packages/pandas/core/ops.py\u001b[0m in \u001b[0;36m<lambda>\u001b[0;34m(x)\u001b[0m\n\u001b[1;32m   1531\u001b[0m             \u001b[0;32mif\u001b[0m \u001b[0mis_object_dtype\u001b[0m\u001b[0;34m(\u001b[0m\u001b[0mlvalues\u001b[0m\u001b[0;34m)\u001b[0m\u001b[0;34m:\u001b[0m\u001b[0;34m\u001b[0m\u001b[0;34m\u001b[0m\u001b[0m\n\u001b[1;32m   1532\u001b[0m                 return libalgos.arrmap_object(lvalues,\n\u001b[0;32m-> 1533\u001b[0;31m                                               lambda x: op(x, rvalues))\n\u001b[0m\u001b[1;32m   1534\u001b[0m             \u001b[0;32mraise\u001b[0m\u001b[0;34m\u001b[0m\u001b[0;34m\u001b[0m\u001b[0m\n\u001b[1;32m   1535\u001b[0m \u001b[0;34m\u001b[0m\u001b[0m\n",
      "\u001b[0;31mTypeError\u001b[0m: unsupported operand type(s) for -: 'str' and 'str'"
     ]
    }
   ],
   "source": [
    "for i in country:\n",
    "    each_country = covid.loc[(covid[\"total_cases\"]>30)&(covid.index==i),[\"date\",\"total_cases\"]]\n",
    "    max_count = each_country[\"total_cases\"].max()\n",
    "    min_count = each_country[\"total_cases\"].min()\n",
    "    max_date = each_country.loc[each_country[\"total_cases\"]==max_count,\"date\"]\n",
    "    min_date = each_country.loc[each_country[\"total_cases\"]==min_count,\"date\"]\n",
    "    days_to_peak = max_date - min_date\n",
    "    get_days = days_to_peak.dt.days\n",
    "    day_list.append(get_days)\n",
    "    "
   ]
  },
  {
   "cell_type": "code",
   "execution_count": 27,
   "metadata": {},
   "outputs": [
    {
     "data": {
      "text/plain": [
       "location\n",
       "New Zealand   2020-01-20 00:03:00\n",
       "Name: date, dtype: datetime64[ns]"
      ]
     },
     "execution_count": 27,
     "metadata": {},
     "output_type": "execute_result"
    }
   ],
   "source": [
    " each_country.loc[ each_country[\"total_cases\"]==39,\"date\"]"
   ]
  },
  {
   "cell_type": "code",
   "execution_count": 26,
   "metadata": {},
   "outputs": [
    {
     "data": {
      "text/plain": [
       "39"
      ]
     },
     "execution_count": 26,
     "metadata": {},
     "output_type": "execute_result"
    }
   ],
   "source": [
    "min_count"
   ]
  },
  {
   "cell_type": "code",
   "execution_count": 21,
   "metadata": {},
   "outputs": [
    {
     "data": {
      "text/plain": [
       "location\n",
       "New Zealand   2020-01-22 00:05:00\n",
       "New Zealand   2020-01-23 00:05:00\n",
       "New Zealand   2020-01-24 00:05:00\n",
       "New Zealand   2020-01-25 00:05:00\n",
       "New Zealand   2020-01-26 00:05:00\n",
       "New Zealand   2020-01-27 00:05:00\n",
       "New Zealand   2020-01-28 00:05:00\n",
       "New Zealand   2020-01-29 00:05:00\n",
       "New Zealand   2020-01-30 00:05:00\n",
       "New Zealand   2020-01-31 00:05:00\n",
       "New Zealand   2020-01-01 00:06:00\n",
       "New Zealand   2020-01-02 00:06:00\n",
       "New Zealand   2020-01-03 00:06:00\n",
       "New Zealand   2020-01-04 00:06:00\n",
       "New Zealand   2020-01-05 00:06:00\n",
       "New Zealand   2020-01-06 00:06:00\n",
       "New Zealand   2020-01-07 00:06:00\n",
       "Name: date, dtype: datetime64[ns]"
      ]
     },
     "execution_count": 21,
     "metadata": {},
     "output_type": "execute_result"
    }
   ],
   "source": [
    "max_date"
   ]
  },
  {
   "cell_type": "code",
   "execution_count": 20,
   "metadata": {},
   "outputs": [
    {
     "data": {
      "text/plain": [
       "[location\n",
       " Germany   -21\n",
       " Name: date, dtype: int64, location\n",
       " Russia   -7\n",
       " Name: date, dtype: int64, location\n",
       " United Kingdom    5\n",
       " Name: date, dtype: int64, location\n",
       " France   -21\n",
       " Name: date, dtype: int64, location\n",
       " Italy   -16\n",
       " Name: date, dtype: int64, location\n",
       " Spain   -22\n",
       " Name: date, dtype: int64, location\n",
       " Ukraine   -16\n",
       " Ukraine   -15\n",
       " Name: date, dtype: int64, location\n",
       " Poland   -5\n",
       " Name: date, dtype: int64, location\n",
       " Romania   -5\n",
       " Name: date, dtype: int64, location\n",
       " Netherlands    2\n",
       " Name: date, dtype: int64, location\n",
       " Belgium    1\n",
       " Name: date, dtype: int64, location\n",
       " Czech Republic   -2\n",
       " Name: date, dtype: int64, location\n",
       " Greece    1\n",
       " Name: date, dtype: int64, location\n",
       " Portugal   -3\n",
       " Name: date, dtype: int64, location\n",
       " Sweden    2\n",
       " Name: date, dtype: int64, location\n",
       " Hungary   -9\n",
       " Hungary   -8\n",
       " Name: date, dtype: int64, location\n",
       " Belarus   -10\n",
       " Belarus   -11\n",
       " Name: date, dtype: int64, location\n",
       " Austria    1\n",
       " Name: date, dtype: int64, location\n",
       " Serbia   -7\n",
       " Name: date, dtype: int64, location\n",
       " Switzerland    3\n",
       " Name: date, dtype: int64, location\n",
       " Bulgaria   -7\n",
       " Name: date, dtype: int64, location\n",
       " Denmark   -1\n",
       " Name: date, dtype: int64, location\n",
       " Finland   -3\n",
       " Name: date, dtype: int64, location\n",
       " Slovakia   -8\n",
       " Name: date, dtype: int64, location\n",
       " Norway    2\n",
       " Norway    3\n",
       " Name: date, dtype: int64, location\n",
       " Ireland   -4\n",
       " Name: date, dtype: int64, location\n",
       " Croatia   -9\n",
       " Croatia   -8\n",
       " Croatia   -7\n",
       " Name: date, dtype: int64, location\n",
       " Moldova   -12\n",
       " Name: date, dtype: int64, location\n",
       " Bosnia and Herzegovina   -13\n",
       " Bosnia and Herzegovina   -12\n",
       " Name: date, dtype: int64, location\n",
       " Albania   -7\n",
       " Name: date, dtype: int64, location\n",
       " Lithuania   -12\n",
       " Name: date, dtype: int64, Series([], Name: date, dtype: int64), location\n",
       " Slovenia   -4\n",
       " Name: date, dtype: int64, location\n",
       " Latvia   -9\n",
       " Name: date, dtype: int64, location\n",
       " Estonia   -7\n",
       " Name: date, dtype: int64, location\n",
       " Montenegro   -19\n",
       " Montenegro   -18\n",
       " Montenegro   -17\n",
       " Montenegro   -16\n",
       " Montenegro   -15\n",
       " Montenegro   -14\n",
       " Montenegro   -13\n",
       " Montenegro   -12\n",
       " Montenegro   -11\n",
       " Montenegro   -10\n",
       " Montenegro    -9\n",
       " Montenegro    -8\n",
       " Montenegro    -7\n",
       " Montenegro    -6\n",
       " Montenegro    -5\n",
       " Montenegro    -4\n",
       " Montenegro    -3\n",
       " Montenegro    -2\n",
       " Montenegro    -1\n",
       " Montenegro     0\n",
       " Montenegro     1\n",
       " Montenegro     2\n",
       " Montenegro     3\n",
       " Montenegro     4\n",
       " Montenegro     5\n",
       " Montenegro     6\n",
       " Montenegro   -24\n",
       " Montenegro   -23\n",
       " Montenegro   -22\n",
       " Montenegro   -21\n",
       " Montenegro   -20\n",
       " Montenegro   -19\n",
       " Montenegro   -18\n",
       " Name: date, dtype: int64, location\n",
       " Luxembourg   -7\n",
       " Name: date, dtype: int64, location\n",
       " Malta   -13\n",
       " Malta   -12\n",
       " Malta   -11\n",
       " Malta   -10\n",
       " Name: date, dtype: int64, location\n",
       " Iceland    25\n",
       " Iceland    -5\n",
       " Iceland    -4\n",
       " Iceland    -3\n",
       " Iceland    -2\n",
       " Iceland    -1\n",
       " Iceland     0\n",
       " Iceland     1\n",
       " Name: date, dtype: int64, location\n",
       " Canada    2\n",
       " Name: date, dtype: int64, location\n",
       " Australia    4\n",
       " Name: date, dtype: int64, location\n",
       " New Zealand     2\n",
       " New Zealand     3\n",
       " New Zealand     4\n",
       " New Zealand     5\n",
       " New Zealand     6\n",
       " New Zealand     7\n",
       " New Zealand     8\n",
       " New Zealand     9\n",
       " New Zealand    10\n",
       " New Zealand    11\n",
       " New Zealand   -19\n",
       " New Zealand   -18\n",
       " New Zealand   -17\n",
       " New Zealand   -16\n",
       " New Zealand   -15\n",
       " New Zealand   -14\n",
       " New Zealand   -13\n",
       " Name: date, dtype: int64]"
      ]
     },
     "execution_count": 20,
     "metadata": {},
     "output_type": "execute_result"
    }
   ],
   "source": [
    "day_list"
   ]
  },
  {
   "cell_type": "code",
   "execution_count": null,
   "metadata": {},
   "outputs": [],
   "source": []
  }
 ],
 "metadata": {
  "kernelspec": {
   "display_name": "Python 3",
   "language": "python",
   "name": "python3"
  },
  "language_info": {
   "codemirror_mode": {
    "name": "ipython",
    "version": 3
   },
   "file_extension": ".py",
   "mimetype": "text/x-python",
   "name": "python",
   "nbconvert_exporter": "python",
   "pygments_lexer": "ipython3",
   "version": "3.7.3"
  }
 },
 "nbformat": 4,
 "nbformat_minor": 2
}

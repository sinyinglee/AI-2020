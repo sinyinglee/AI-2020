{
 "cells": [
  {
   "cell_type": "code",
   "execution_count": 38,
   "metadata": {},
   "outputs": [],
   "source": [
    "import requests\n",
    "import re\n",
    "import csv"
   ]
  },
  {
   "cell_type": "code",
   "execution_count": 39,
   "metadata": {},
   "outputs": [],
   "source": [
    "from bs4 import BeautifulSoup"
   ]
  },
  {
   "cell_type": "code",
   "execution_count": 40,
   "metadata": {},
   "outputs": [],
   "source": [
    "header = {\"User_Agent\":\"Mozilla/5.0 (Macintosh; Intel Mac OS X 10_14_6) AppleWebKit/537.36 (KHTML, like Gecko) Chrome/81.0.4044.129 Safari/537.36\"}"
   ]
  },
  {
   "cell_type": "code",
   "execution_count": 41,
   "metadata": {},
   "outputs": [],
   "source": [
    "letter_list = [\"a\"]"
   ]
  },
  {
   "cell_type": "code",
   "execution_count": 42,
   "metadata": {},
   "outputs": [],
   "source": [
    "img_list = []"
   ]
  },
  {
   "cell_type": "code",
   "execution_count": 43,
   "metadata": {},
   "outputs": [],
   "source": [
    "height_list = []\n",
    "web_list = []"
   ]
  },
  {
   "cell_type": "code",
   "execution_count": 44,
   "metadata": {},
   "outputs": [
    {
     "name": "stderr",
     "output_type": "stream",
     "text": [
      "//anaconda3/lib/python3.7/site-packages/urllib3/connectionpool.py:847: InsecureRequestWarning: Unverified HTTPS request is being made. Adding certificate verification is strongly advised. See: https://urllib3.readthedocs.io/en/latest/advanced-usage.html#ssl-warnings\n",
      "  InsecureRequestWarning)\n"
     ]
    }
   ],
   "source": [
    "for i in letter_list:\n",
    "    for num in range(1,2):\n",
    "        web = f\"https://celebsheight.org/celebrities-starting-with-{i}-heights?page={num}\"\n",
    "        page = requests.get(web, headers = header, verify = False)\n",
    "        soup =  BeautifulSoup(page.content, \"html.parser\")\n",
    "        img_links = soup.find_all(\"img\", {\"src\": re.compile('.*?\\.jpg')})\n",
    "        for link in img_links:\n",
    "            img_list.append(link[\"src\"])\n",
    "        soup1 = BeautifulSoup(page1.content, \"html.parser\")\n",
    "        height = soup1.find_all(\"div\", class_ = \"celeb-grid-item-n\")\n",
    "        each_height = []\n",
    "        each_name =[]\n",
    "        for i in height:\n",
    "            \n",
    "            each_height.append(i.find(\"h2\").text)\n",
    "            each_name.append(i.find(\"h1\").text)\n",
    "        height_list.append(each_height)\n",
    "        name_list.append(each_name)\n",
    "            \n",
    "        "
   ]
  },
  {
   "cell_type": "code",
   "execution_count": 45,
   "metadata": {
    "collapsed": true
   },
   "outputs": [
    {
     "data": {
      "text/plain": [
       "['https://celebsheight.org/actors/Anthony Starke.jpg',\n",
       " 'https://celebsheight.org/actors/Aarón Díaz.jpg',\n",
       " 'https://celebsheight.org/actors/Alan Powell.jpg',\n",
       " 'https://celebsheight.org/actors/Aunjanue Ellis.jpg',\n",
       " 'https://celebsheight.org/actors/Amy Okuda.jpg',\n",
       " 'https://celebsheight.org/actors/Andrew Koji.jpg',\n",
       " 'https://celebsheight.org/actors/Asha Bromfield.jpg',\n",
       " 'https://celebsheight.org/actors/Adam Lundgren.jpg',\n",
       " 'https://celebsheight.org/actors/Aimee Mullins.jpg',\n",
       " 'https://celebsheight.org/actors/Andrey Ivchenko.jpg',\n",
       " 'https://celebsheight.org/actors/Adam Huss.jpg',\n",
       " 'https://celebsheight.org/actors/Andrew Cuomo.jpg',\n",
       " 'https://celebsheight.org/actors/Adama Traoré.jpg',\n",
       " 'https://celebsheight.org/actors/Angus Cloud.jpg',\n",
       " 'https://celebsheight.org/actors/Adam Rose.jpg',\n",
       " 'https://celebsheight.org/actors/Arthur Shelby.jpg',\n",
       " 'https://celebsheight.org/actors/2-Adriyan Rae.jpg',\n",
       " 'https://celebsheight.org/actors/Álex González.jpg',\n",
       " 'https://celebsheight.org/actors/Ansu Fati.jpg',\n",
       " 'https://celebsheight.org/actors/6-Alex Essoe.jpg',\n",
       " 'https://celebsheight.org/actors/7-Ashley Newbrough.jpg',\n",
       " 'https://celebsheight.org/actors/4-Andrew Steel.jpg',\n",
       " 'https://celebsheight.org/actors/8-Andy Allo.jpg',\n",
       " 'https://celebsheight.org/actors/5-Alex Russell.jpg',\n",
       " 'https://celebsheight.org/actors/4-Austin Abrams.jpg',\n",
       " 'https://celebsheight.org/actors/Aaron Hernandez.jpg',\n",
       " 'https://celebsheight.org/actors/3-Angela Simmons.jpg',\n",
       " \"https://celebsheight.org/actors/7-Anna Van Hooft's.jpg\"]"
      ]
     },
     "execution_count": 45,
     "metadata": {},
     "output_type": "execute_result"
    }
   ],
   "source": [
    "img_list"
   ]
  },
  {
   "cell_type": "code",
   "execution_count": 46,
   "metadata": {},
   "outputs": [
    {
     "data": {
      "text/plain": [
       "28"
      ]
     },
     "execution_count": 46,
     "metadata": {},
     "output_type": "execute_result"
    }
   ],
   "source": [
    "len(img_list)"
   ]
  },
  {
   "cell_type": "code",
   "execution_count": 47,
   "metadata": {},
   "outputs": [],
   "source": [
    "for i in letter_list:\n",
    "    for num in range(1,2):\n",
    "        web= f\"https://celebsheight.org/celebrities-starting-with-{i}-heights?page={num}\"\n",
    "        web_list.append(web)"
   ]
  },
  {
   "cell_type": "code",
   "execution_count": 48,
   "metadata": {},
   "outputs": [],
   "source": [
    "for web in web_list:\n",
    "    try:\n",
    "        page1 = requests.get(web, headers = header)\n",
    "        soup1 =  BeautifulSoup(page1.content, \"html.parser\")\n",
    "        height = soup1.find_all(\"div\", class_ = \"celeb-grid-item-n\")\n",
    "        each_height = []\n",
    "        each_name =[]\n",
    "        for i in height:\n",
    "            each_height.append(i.find(\"h2\").text)\n",
    "            each_name.append(i.find(\"h1\").text)\n",
    "        height_list.append(each_height)\n",
    "        name_list.append(each_name)\n",
    "    except:\n",
    "        height_list.append(\"NA\")\n",
    "        img_list.append(\"NA\")"
   ]
  },
  {
   "cell_type": "code",
   "execution_count": 49,
   "metadata": {},
   "outputs": [],
   "source": [
    "name_list = []"
   ]
  },
  {
   "cell_type": "code",
   "execution_count": 50,
   "metadata": {},
   "outputs": [],
   "source": [
    "height_lists = []\n",
    "name_lists = []"
   ]
  },
  {
   "cell_type": "code",
   "execution_count": 51,
   "metadata": {},
   "outputs": [],
   "source": [
    "for i in range(len(height_list)):\n",
    "    for a in range(len(height_list[i])):\n",
    "        height_split = height_list[i][a]\n",
    "        name_height = height_split.split(\" \")\n",
    "        height = name_height[-2]\n",
    "        height_lists.append(height)"
   ]
  },
  {
   "cell_type": "code",
   "execution_count": 52,
   "metadata": {},
   "outputs": [],
   "source": [
    "for i in range(len(name_list)):\n",
    "    for a in range(len(name_list[i])):\n",
    "        name = name_list[i][a]\n",
    "        name_lists.append(name)"
   ]
  },
  {
   "cell_type": "code",
   "execution_count": 53,
   "metadata": {},
   "outputs": [
    {
     "data": {
      "text/plain": [
       "30"
      ]
     },
     "execution_count": 53,
     "metadata": {},
     "output_type": "execute_result"
    }
   ],
   "source": [
    "len(height_lists)"
   ]
  },
  {
   "cell_type": "code",
   "execution_count": 54,
   "metadata": {
    "collapsed": true
   },
   "outputs": [
    {
     "data": {
      "text/plain": [
       "['177',\n",
       " '183',\n",
       " '188',\n",
       " '166',\n",
       " '158',\n",
       " '181',\n",
       " '163',\n",
       " '184',\n",
       " '173',\n",
       " '191',\n",
       " '185',\n",
       " '180',\n",
       " '178',\n",
       " '180',\n",
       " '173',\n",
       " '185',\n",
       " '176',\n",
       " '163',\n",
       " '182',\n",
       " '178',\n",
       " '175',\n",
       " '174',\n",
       " '189',\n",
       " '162',\n",
       " '180',\n",
       " '168',\n",
       " '171',\n",
       " '185',\n",
       " '163',\n",
       " '173']"
      ]
     },
     "execution_count": 54,
     "metadata": {},
     "output_type": "execute_result"
    }
   ],
   "source": [
    "height_lists"
   ]
  },
  {
   "cell_type": "code",
   "execution_count": 56,
   "metadata": {
    "collapsed": true
   },
   "outputs": [
    {
     "data": {
      "text/plain": [
       "['https://celebsheight.org/actors/Anthony Starke.jpg',\n",
       " 'https://celebsheight.org/actors/Aarón Díaz.jpg',\n",
       " 'https://celebsheight.org/actors/Alan Powell.jpg',\n",
       " 'https://celebsheight.org/actors/Aunjanue Ellis.jpg',\n",
       " 'https://celebsheight.org/actors/Amy Okuda.jpg',\n",
       " 'https://celebsheight.org/actors/Andrew Koji.jpg',\n",
       " 'https://celebsheight.org/actors/Asha Bromfield.jpg',\n",
       " 'https://celebsheight.org/actors/Adam Lundgren.jpg',\n",
       " 'https://celebsheight.org/actors/Aimee Mullins.jpg',\n",
       " 'https://celebsheight.org/actors/Andrey Ivchenko.jpg',\n",
       " 'https://celebsheight.org/actors/Adam Huss.jpg',\n",
       " 'https://celebsheight.org/actors/Andrew Cuomo.jpg',\n",
       " 'https://celebsheight.org/actors/Adama Traoré.jpg',\n",
       " 'https://celebsheight.org/actors/Angus Cloud.jpg',\n",
       " 'https://celebsheight.org/actors/Adam Rose.jpg',\n",
       " 'https://celebsheight.org/actors/Arthur Shelby.jpg',\n",
       " 'https://celebsheight.org/actors/2-Adriyan Rae.jpg',\n",
       " 'https://celebsheight.org/actors/Álex González.jpg',\n",
       " 'https://celebsheight.org/actors/Ansu Fati.jpg',\n",
       " 'https://celebsheight.org/actors/6-Alex Essoe.jpg',\n",
       " 'https://celebsheight.org/actors/7-Ashley Newbrough.jpg',\n",
       " 'https://celebsheight.org/actors/4-Andrew Steel.jpg',\n",
       " 'https://celebsheight.org/actors/8-Andy Allo.jpg',\n",
       " 'https://celebsheight.org/actors/5-Alex Russell.jpg',\n",
       " 'https://celebsheight.org/actors/4-Austin Abrams.jpg',\n",
       " 'https://celebsheight.org/actors/Aaron Hernandez.jpg',\n",
       " 'https://celebsheight.org/actors/3-Angela Simmons.jpg',\n",
       " \"https://celebsheight.org/actors/7-Anna Van Hooft's.jpg\"]"
      ]
     },
     "execution_count": 56,
     "metadata": {},
     "output_type": "execute_result"
    }
   ],
   "source": [
    "img_list"
   ]
  },
  {
   "cell_type": "code",
   "execution_count": null,
   "metadata": {},
   "outputs": [],
   "source": []
  }
 ],
 "metadata": {
  "kernelspec": {
   "display_name": "Python 3",
   "language": "python",
   "name": "python3"
  },
  "language_info": {
   "codemirror_mode": {
    "name": "ipython",
    "version": 3
   },
   "file_extension": ".py",
   "mimetype": "text/x-python",
   "name": "python",
   "nbconvert_exporter": "python",
   "pygments_lexer": "ipython3",
   "version": "3.7.3"
  }
 },
 "nbformat": 4,
 "nbformat_minor": 2
}

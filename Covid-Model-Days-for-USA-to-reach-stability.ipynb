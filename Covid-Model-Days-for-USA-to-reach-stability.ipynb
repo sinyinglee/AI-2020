{
 "cells": [
  {
   "cell_type": "markdown",
   "metadata": {},
   "source": [
    "### Data Preparation"
   ]
  },
  {
   "cell_type": "code",
   "execution_count": 5,
   "metadata": {},
   "outputs": [],
   "source": [
    "%matplotlib inline\n",
    "import numpy as np\n",
    "import pandas as pd\n",
    "import matplotlib.pyplot as plt"
   ]
  },
  {
   "cell_type": "code",
   "execution_count": 6,
   "metadata": {},
   "outputs": [],
   "source": [
    "covid_original = pd.read_csv(\"owid-covid-data.csv\")"
   ]
  },
  {
   "cell_type": "code",
   "execution_count": 7,
   "metadata": {
    "scrolled": true
   },
   "outputs": [
    {
     "data": {
      "text/html": [
       "<div>\n",
       "<style scoped>\n",
       "    .dataframe tbody tr th:only-of-type {\n",
       "        vertical-align: middle;\n",
       "    }\n",
       "\n",
       "    .dataframe tbody tr th {\n",
       "        vertical-align: top;\n",
       "    }\n",
       "\n",
       "    .dataframe thead th {\n",
       "        text-align: right;\n",
       "    }\n",
       "</style>\n",
       "<table border=\"1\" class=\"dataframe\">\n",
       "  <thead>\n",
       "    <tr style=\"text-align: right;\">\n",
       "      <th></th>\n",
       "      <th>iso_code</th>\n",
       "      <th>continent</th>\n",
       "      <th>location</th>\n",
       "      <th>date</th>\n",
       "      <th>total_cases</th>\n",
       "      <th>new_cases</th>\n",
       "      <th>total_deaths</th>\n",
       "      <th>new_deaths</th>\n",
       "      <th>total_cases_per_million</th>\n",
       "      <th>new_cases_per_million</th>\n",
       "      <th>...</th>\n",
       "      <th>aged_65_older</th>\n",
       "      <th>aged_70_older</th>\n",
       "      <th>gdp_per_capita</th>\n",
       "      <th>extreme_poverty</th>\n",
       "      <th>cvd_death_rate</th>\n",
       "      <th>diabetes_prevalence</th>\n",
       "      <th>female_smokers</th>\n",
       "      <th>male_smokers</th>\n",
       "      <th>handwashing_facilities</th>\n",
       "      <th>hospital_beds_per_thousand</th>\n",
       "    </tr>\n",
       "  </thead>\n",
       "  <tbody>\n",
       "    <tr>\n",
       "      <th>0</th>\n",
       "      <td>AFG</td>\n",
       "      <td>Asia</td>\n",
       "      <td>Afghanistan</td>\n",
       "      <td>2019-12-31</td>\n",
       "      <td>0</td>\n",
       "      <td>0</td>\n",
       "      <td>0</td>\n",
       "      <td>0</td>\n",
       "      <td>0.0</td>\n",
       "      <td>0.0</td>\n",
       "      <td>...</td>\n",
       "      <td>2.581</td>\n",
       "      <td>1.337</td>\n",
       "      <td>1803.987</td>\n",
       "      <td>NaN</td>\n",
       "      <td>597.029</td>\n",
       "      <td>9.59</td>\n",
       "      <td>NaN</td>\n",
       "      <td>NaN</td>\n",
       "      <td>37.746</td>\n",
       "      <td>0.5</td>\n",
       "    </tr>\n",
       "    <tr>\n",
       "      <th>1</th>\n",
       "      <td>AFG</td>\n",
       "      <td>Asia</td>\n",
       "      <td>Afghanistan</td>\n",
       "      <td>2020-01-01</td>\n",
       "      <td>0</td>\n",
       "      <td>0</td>\n",
       "      <td>0</td>\n",
       "      <td>0</td>\n",
       "      <td>0.0</td>\n",
       "      <td>0.0</td>\n",
       "      <td>...</td>\n",
       "      <td>2.581</td>\n",
       "      <td>1.337</td>\n",
       "      <td>1803.987</td>\n",
       "      <td>NaN</td>\n",
       "      <td>597.029</td>\n",
       "      <td>9.59</td>\n",
       "      <td>NaN</td>\n",
       "      <td>NaN</td>\n",
       "      <td>37.746</td>\n",
       "      <td>0.5</td>\n",
       "    </tr>\n",
       "    <tr>\n",
       "      <th>2</th>\n",
       "      <td>AFG</td>\n",
       "      <td>Asia</td>\n",
       "      <td>Afghanistan</td>\n",
       "      <td>2020-01-02</td>\n",
       "      <td>0</td>\n",
       "      <td>0</td>\n",
       "      <td>0</td>\n",
       "      <td>0</td>\n",
       "      <td>0.0</td>\n",
       "      <td>0.0</td>\n",
       "      <td>...</td>\n",
       "      <td>2.581</td>\n",
       "      <td>1.337</td>\n",
       "      <td>1803.987</td>\n",
       "      <td>NaN</td>\n",
       "      <td>597.029</td>\n",
       "      <td>9.59</td>\n",
       "      <td>NaN</td>\n",
       "      <td>NaN</td>\n",
       "      <td>37.746</td>\n",
       "      <td>0.5</td>\n",
       "    </tr>\n",
       "    <tr>\n",
       "      <th>3</th>\n",
       "      <td>AFG</td>\n",
       "      <td>Asia</td>\n",
       "      <td>Afghanistan</td>\n",
       "      <td>2020-01-03</td>\n",
       "      <td>0</td>\n",
       "      <td>0</td>\n",
       "      <td>0</td>\n",
       "      <td>0</td>\n",
       "      <td>0.0</td>\n",
       "      <td>0.0</td>\n",
       "      <td>...</td>\n",
       "      <td>2.581</td>\n",
       "      <td>1.337</td>\n",
       "      <td>1803.987</td>\n",
       "      <td>NaN</td>\n",
       "      <td>597.029</td>\n",
       "      <td>9.59</td>\n",
       "      <td>NaN</td>\n",
       "      <td>NaN</td>\n",
       "      <td>37.746</td>\n",
       "      <td>0.5</td>\n",
       "    </tr>\n",
       "    <tr>\n",
       "      <th>4</th>\n",
       "      <td>AFG</td>\n",
       "      <td>Asia</td>\n",
       "      <td>Afghanistan</td>\n",
       "      <td>2020-01-04</td>\n",
       "      <td>0</td>\n",
       "      <td>0</td>\n",
       "      <td>0</td>\n",
       "      <td>0</td>\n",
       "      <td>0.0</td>\n",
       "      <td>0.0</td>\n",
       "      <td>...</td>\n",
       "      <td>2.581</td>\n",
       "      <td>1.337</td>\n",
       "      <td>1803.987</td>\n",
       "      <td>NaN</td>\n",
       "      <td>597.029</td>\n",
       "      <td>9.59</td>\n",
       "      <td>NaN</td>\n",
       "      <td>NaN</td>\n",
       "      <td>37.746</td>\n",
       "      <td>0.5</td>\n",
       "    </tr>\n",
       "  </tbody>\n",
       "</table>\n",
       "<p>5 rows × 33 columns</p>\n",
       "</div>"
      ],
      "text/plain": [
       "  iso_code continent     location        date  total_cases  new_cases  \\\n",
       "0      AFG      Asia  Afghanistan  2019-12-31            0          0   \n",
       "1      AFG      Asia  Afghanistan  2020-01-01            0          0   \n",
       "2      AFG      Asia  Afghanistan  2020-01-02            0          0   \n",
       "3      AFG      Asia  Afghanistan  2020-01-03            0          0   \n",
       "4      AFG      Asia  Afghanistan  2020-01-04            0          0   \n",
       "\n",
       "   total_deaths  new_deaths  total_cases_per_million  new_cases_per_million  \\\n",
       "0             0           0                      0.0                    0.0   \n",
       "1             0           0                      0.0                    0.0   \n",
       "2             0           0                      0.0                    0.0   \n",
       "3             0           0                      0.0                    0.0   \n",
       "4             0           0                      0.0                    0.0   \n",
       "\n",
       "   ...  aged_65_older  aged_70_older  gdp_per_capita  extreme_poverty  \\\n",
       "0  ...          2.581          1.337        1803.987              NaN   \n",
       "1  ...          2.581          1.337        1803.987              NaN   \n",
       "2  ...          2.581          1.337        1803.987              NaN   \n",
       "3  ...          2.581          1.337        1803.987              NaN   \n",
       "4  ...          2.581          1.337        1803.987              NaN   \n",
       "\n",
       "   cvd_death_rate  diabetes_prevalence  female_smokers  male_smokers  \\\n",
       "0         597.029                 9.59             NaN           NaN   \n",
       "1         597.029                 9.59             NaN           NaN   \n",
       "2         597.029                 9.59             NaN           NaN   \n",
       "3         597.029                 9.59             NaN           NaN   \n",
       "4         597.029                 9.59             NaN           NaN   \n",
       "\n",
       "  handwashing_facilities  hospital_beds_per_thousand  \n",
       "0                 37.746                         0.5  \n",
       "1                 37.746                         0.5  \n",
       "2                 37.746                         0.5  \n",
       "3                 37.746                         0.5  \n",
       "4                 37.746                         0.5  \n",
       "\n",
       "[5 rows x 33 columns]"
      ]
     },
     "execution_count": 7,
     "metadata": {},
     "output_type": "execute_result"
    }
   ],
   "source": [
    "covid_original.head()"
   ]
  },
  {
   "cell_type": "markdown",
   "metadata": {},
   "source": [
    "#### Goal: How long did European countries/USA/Canada/Australia/New Zealand take to control the virus?\n",
    "Method: Stable date - Starting date, yielding number of days\n",
    "\n",
    "Starting date: the first date when the confirmed cases reached over 30\n",
    "Stable date: \n",
    "1. Find the median of total confirmed case, locate the date when confirmed case reached \"median\". I named it as \"median_date\"\n",
    "2. Calculate the moving average. [Algorithm: (Today total case - Yesterday total case) / Yesterday total case]\n",
    "3. Focus only on the dates after the median date, and collect the dates in a list which is named as \"moving_date_list\"\n",
    "4. The median of \"moving_date_list\" is set as the \"Stable date\"."
   ]
  },
  {
   "cell_type": "markdown",
   "metadata": {},
   "source": [
    "#### Step 1. "
   ]
  },
  {
   "cell_type": "code",
   "execution_count": 8,
   "metadata": {},
   "outputs": [],
   "source": [
    "country=[\"Germany\"\n",
    "         ,\"Russia\"\n",
    "         ,\"United Kingdom\",\"France\",\"Italy\",\"Spain\",\"Ukraine\",\"Poland\",\"Romania\",\"Netherlands\",\"Belgium\",\"Czech Republic\",\"Greece\",\"Portugal\"\n",
    ",\"Sweden\"\n",
    ",\"Hungary\"\n",
    ",\"Belarus\"\n",
    ",\"Austria\"\n",
    ",\"Serbia\"\n",
    ",\"Switzerland\"\n",
    ",\"Bulgaria\"\n",
    ",\"Denmark\"\n",
    ",\"Finland\"\n",
    ",\"Slovakia\"\n",
    ",\"Norway\"\n",
    ",\"Ireland\"\n",
    ",\"Croatia\"\n",
    ",\"Moldova\"\n",
    ",\"Bosnia and Herzegovina\"\n",
    ",\"Albania\"\n",
    ",\"Lithuania\"\n",
    ",\"North Macedonia\"\n",
    ",\"Slovenia\"\n",
    ",\"Latvia\"\n",
    ",\"Estonia\"\n",
    ",\"Montenegro\"\n",
    ",\"Luxembourg\"\n",
    ",\"Malta\"\n",
    ",\"Iceland\"\n",
    ",\"Canada\"\n",
    ",\"Australia\"\n",
    ",\"New Zealand\"]"
   ]
  },
  {
   "cell_type": "code",
   "execution_count": 9,
   "metadata": {},
   "outputs": [],
   "source": [
    "def median_date(i):\n",
    "    country_case = covid_original.loc[(covid_original[\"location\"] ==i)&(covid_original[\"total_cases\"]>=30), [\"date\",\"total_cases\"]]\n",
    "    country_case[\"date\"] = pd.to_datetime(country_case[\"date\"],format=\"%Y-%m-%d\")\n",
    "    median_num = country_case.total_cases.median()\n",
    "    date_over_median = covid_original.loc[(covid_original[\"location\"] ==i)&(covid_original[\"total_cases\"]>=median_num), [\"date\",\"total_cases\"]]\n",
    "    date_over_median_list = date_over_median[\"date\"].tolist()\n",
    "    date = date_over_median_list[0]\n",
    "    return date"
   ]
  },
  {
   "cell_type": "markdown",
   "metadata": {},
   "source": [
    "#### Step 2."
   ]
  },
  {
   "cell_type": "code",
   "execution_count": 10,
   "metadata": {},
   "outputs": [],
   "source": [
    "def moving_rate_table(country):\n",
    "    date = []\n",
    "    case = []\n",
    "    country_case = covid_original.loc[(covid_original[\"location\"] ==country)&(covid_original[\"total_cases\"]>=30), [\"date\",\"total_cases\"]]\n",
    "    for i in country_case[\"date\"]:\n",
    "        date.append(i)\n",
    "    for i in country_case[\"total_cases\"]:\n",
    "        case.append(i)\n",
    "    change_rate = []\n",
    "    for index, value in enumerate(case):\n",
    "        try:\n",
    "            rate = ((case[index+1] - value)/value)*100\n",
    "            change_rate.append(rate)\n",
    "        except:\n",
    "            pass\n",
    "    change_rate = np.asarray(change_rate)\n",
    "    data = {\"Date\":date[1:], \"Change Rate\":change_rate}\n",
    "    df = pd.DataFrame(data)\n",
    "    df[\"Date\"] = pd.to_datetime(df[\"Date\"],format=\"%Y-%m-%d\")\n",
    "    return df"
   ]
  },
  {
   "cell_type": "markdown",
   "metadata": {},
   "source": [
    "#### Step 3. "
   ]
  },
  {
   "cell_type": "code",
   "execution_count": 11,
   "metadata": {},
   "outputs": [],
   "source": [
    "def calculate_quarlitle(df,median_date):\n",
    "    new_df = df.loc[df[\"Date\"]>median_date,:]\n",
    "    new_df_quantile = new_df.quantile([0.25,0.5,0.75])\n",
    "    new_df_average = new_df_quantile[\"Change Rate\"].tolist()\n",
    "    get_average = new_df_average[1]\n",
    "    return get_average"
   ]
  },
  {
   "cell_type": "markdown",
   "metadata": {},
   "source": [
    "#### Step 4."
   ]
  },
  {
   "cell_type": "code",
   "execution_count": 12,
   "metadata": {},
   "outputs": [],
   "source": [
    "def days_to_stable(i,df,date,mean):\n",
    "    new_df = df.loc[df[\"Date\"]>date,:]\n",
    "    mean = mean-0.1\n",
    "    stable_date = new_df.loc[df[\"Change Rate\"]<=mean,:\"Date\"]\n",
    "    stable_date_list = stable_date[\"Date\"].tolist()\n",
    "    country_case = covid_original.loc[(covid_original[\"location\"] ==i)&(covid_original[\"total_cases\"]>=30), [\"date\",\"total_cases\"]]\n",
    "    country_case[\"date\"] = pd.to_datetime(country_case[\"date\"],format=\"%Y-%m-%d\")\n",
    "    day_to_stable = stable_date_list[2] - country_case[\"date\"].min()\n",
    "    day_to_stable = day_to_stable.days\n",
    "    return day_to_stable"
   ]
  },
  {
   "cell_type": "code",
   "execution_count": 13,
   "metadata": {},
   "outputs": [],
   "source": [
    "dic = {}"
   ]
  },
  {
   "cell_type": "markdown",
   "metadata": {},
   "source": [
    "#### Compile all the functions"
   ]
  },
  {
   "cell_type": "code",
   "execution_count": 14,
   "metadata": {},
   "outputs": [
    {
     "name": "stdout",
     "output_type": "stream",
     "text": [
      "North Macedonia occured error\n",
      "Slovenia occured error\n",
      "Montenegro occured error\n",
      "Iceland occured error\n",
      "New Zealand occured error\n"
     ]
    }
   ],
   "source": [
    "for i in country:\n",
    "    try:\n",
    "        median = median_date(i)\n",
    "        change_df = moving_rate_table(i)\n",
    "        average = calculate_quarlitle(change_df,median)\n",
    "        to_stable = days_to_stable(i,change_df,median,average)\n",
    "        dic[i] = to_stable\n",
    "    except:\n",
    "        print(f\"{i} occured error\")"
   ]
  },
  {
   "cell_type": "code",
   "execution_count": 15,
   "metadata": {},
   "outputs": [
    {
     "data": {
      "text/plain": [
       "{'Germany': 80,\n",
       " 'Russia': 69,\n",
       " 'United Kingdom': 80,\n",
       " 'France': 79,\n",
       " 'Italy': 88,\n",
       " 'Spain': 80,\n",
       " 'Ukraine': 60,\n",
       " 'Poland': 59,\n",
       " 'Romania': 69,\n",
       " 'Netherlands': 76,\n",
       " 'Belgium': 76,\n",
       " 'Czech Republic': 57,\n",
       " 'Greece': 57,\n",
       " 'Portugal': 55,\n",
       " 'Sweden': 60,\n",
       " 'Hungary': 64,\n",
       " 'Belarus': 65,\n",
       " 'Austria': 63,\n",
       " 'Serbia': 64,\n",
       " 'Switzerland': 92,\n",
       " 'Bulgaria': 59,\n",
       " 'Denmark': 75,\n",
       " 'Finland': 71,\n",
       " 'Slovakia': 67,\n",
       " 'Norway': 72,\n",
       " 'Ireland': 70,\n",
       " 'Croatia': 74,\n",
       " 'Moldova': 47,\n",
       " 'Bosnia and Herzegovina': 55,\n",
       " 'Albania': 50,\n",
       " 'Lithuania': 46,\n",
       " 'Latvia': 55,\n",
       " 'Estonia': 54,\n",
       " 'Luxembourg': 70,\n",
       " 'Malta': 48,\n",
       " 'Canada': 77,\n",
       " 'Australia': 83}"
      ]
     },
     "execution_count": 15,
     "metadata": {},
     "output_type": "execute_result"
    }
   ],
   "source": [
    "dic"
   ]
  },
  {
   "cell_type": "markdown",
   "metadata": {},
   "source": [
    "### * Fixing error "
   ]
  },
  {
   "cell_type": "code",
   "execution_count": 16,
   "metadata": {},
   "outputs": [],
   "source": [
    "country_case_NM = covid_original.loc[(covid_original[\"location\"] ==\"North Macedonia\")&(covid_original[\"total_cases\"]>=30), [\"date\",\"total_cases\"]]"
   ]
  },
  {
   "cell_type": "markdown",
   "metadata": {},
   "source": [
    "#### Can't find North Macedonia resources in the database, will remove it"
   ]
  },
  {
   "cell_type": "code",
   "execution_count": 17,
   "metadata": {},
   "outputs": [
    {
     "data": {
      "text/html": [
       "<div>\n",
       "<style scoped>\n",
       "    .dataframe tbody tr th:only-of-type {\n",
       "        vertical-align: middle;\n",
       "    }\n",
       "\n",
       "    .dataframe tbody tr th {\n",
       "        vertical-align: top;\n",
       "    }\n",
       "\n",
       "    .dataframe thead th {\n",
       "        text-align: right;\n",
       "    }\n",
       "</style>\n",
       "<table border=\"1\" class=\"dataframe\">\n",
       "  <thead>\n",
       "    <tr style=\"text-align: right;\">\n",
       "      <th></th>\n",
       "      <th>date</th>\n",
       "      <th>total_cases</th>\n",
       "    </tr>\n",
       "  </thead>\n",
       "  <tbody>\n",
       "  </tbody>\n",
       "</table>\n",
       "</div>"
      ],
      "text/plain": [
       "Empty DataFrame\n",
       "Columns: [date, total_cases]\n",
       "Index: []"
      ]
     },
     "execution_count": 17,
     "metadata": {},
     "output_type": "execute_result"
    }
   ],
   "source": [
    "country_case_NM"
   ]
  },
  {
   "cell_type": "markdown",
   "metadata": {},
   "source": [
    "#### Slovenia will take 62 days to control the virus"
   ]
  },
  {
   "cell_type": "code",
   "execution_count": 18,
   "metadata": {},
   "outputs": [],
   "source": [
    "median_slv = median_date(\"Slovenia\")"
   ]
  },
  {
   "cell_type": "code",
   "execution_count": 19,
   "metadata": {},
   "outputs": [],
   "source": [
    "df_slv = moving_rate_table(\"Slovenia\")"
   ]
  },
  {
   "cell_type": "code",
   "execution_count": 20,
   "metadata": {},
   "outputs": [],
   "source": [
    "cq_slv = calculate_quarlitle(df_slv,median_slv)"
   ]
  },
  {
   "cell_type": "code",
   "execution_count": 21,
   "metadata": {},
   "outputs": [],
   "source": [
    "new_df_slv = df_slv.loc[df_slv[\"Date\"]>median_slv,:]\n",
    "stable_date = new_df_slv.loc[df_slv[\"Change Rate\"]<cq_slv,:\"Date\"]\n",
    "stable_date_list = stable_date[\"Date\"].tolist()\n",
    "country_case = covid_original.loc[(covid_original[\"location\"] ==\"Slovenia\")&(covid_original[\"total_cases\"]>=30), [\"date\",\"total_cases\"]]\n",
    "country_case[\"date\"] = pd.to_datetime(country_case[\"date\"],format=\"%Y-%m-%d\")\n",
    "day_to_stable_slv = stable_date_list[2] - country_case[\"date\"].min()"
   ]
  },
  {
   "cell_type": "code",
   "execution_count": 22,
   "metadata": {},
   "outputs": [
    {
     "data": {
      "text/plain": [
       "Timedelta('62 days 00:00:00')"
      ]
     },
     "execution_count": 22,
     "metadata": {},
     "output_type": "execute_result"
    }
   ],
   "source": [
    "day_to_stable_slv"
   ]
  },
  {
   "cell_type": "markdown",
   "metadata": {},
   "source": [
    "### Montenegro"
   ]
  },
  {
   "cell_type": "code",
   "execution_count": 23,
   "metadata": {},
   "outputs": [],
   "source": [
    "median_mtg = median_date(\"Montenegro\")"
   ]
  },
  {
   "cell_type": "code",
   "execution_count": 24,
   "metadata": {},
   "outputs": [],
   "source": [
    "df_mtg = moving_rate_table(\"Montenegro\")"
   ]
  },
  {
   "cell_type": "code",
   "execution_count": 25,
   "metadata": {},
   "outputs": [],
   "source": [
    "new_df_mtg = df_mtg.loc[df_mtg[\"Date\"]>median_mtg,:]\n",
    "mtg_stable_list = new_df_mtg.loc[df_mtg[\"Change Rate\"]== 0.0,:\"Date\"]\n",
    "mtg_stable_list = stable_date[\"Date\"].tolist()"
   ]
  },
  {
   "cell_type": "code",
   "execution_count": 26,
   "metadata": {},
   "outputs": [],
   "source": [
    "mtg_date = mtg_stable_list[0]"
   ]
  },
  {
   "cell_type": "code",
   "execution_count": 27,
   "metadata": {},
   "outputs": [
    {
     "data": {
      "text/plain": [
       "Timestamp('2020-04-28 00:00:00')"
      ]
     },
     "execution_count": 27,
     "metadata": {},
     "output_type": "execute_result"
    }
   ],
   "source": [
    "mtg_date"
   ]
  },
  {
   "cell_type": "code",
   "execution_count": 28,
   "metadata": {},
   "outputs": [],
   "source": [
    "mtg_case = covid_original.loc[(covid_original[\"location\"] ==\"Montenegro\")&(covid_original[\"total_cases\"]>=30), [\"date\",\"total_cases\"]]\n",
    "mtg_case[\"date\"] = pd.to_datetime(mtg_case[\"date\"],format=\"%Y-%m-%d\")"
   ]
  },
  {
   "cell_type": "code",
   "execution_count": 29,
   "metadata": {},
   "outputs": [],
   "source": [
    "day_to_stable_mtg = mtg_date - mtg_case[\"date\"].min()"
   ]
  },
  {
   "cell_type": "markdown",
   "metadata": {},
   "source": [
    "#### Montenegro will take 34 days to control the virus"
   ]
  },
  {
   "cell_type": "code",
   "execution_count": 30,
   "metadata": {},
   "outputs": [
    {
     "data": {
      "text/plain": [
       "Timedelta('34 days 00:00:00')"
      ]
     },
     "execution_count": 30,
     "metadata": {},
     "output_type": "execute_result"
    }
   ],
   "source": [
    "day_to_stable_mtg"
   ]
  },
  {
   "cell_type": "markdown",
   "metadata": {},
   "source": [
    "### Iceland"
   ]
  },
  {
   "cell_type": "code",
   "execution_count": 31,
   "metadata": {},
   "outputs": [],
   "source": [
    "median_lc = median_date(\"Iceland\")"
   ]
  },
  {
   "cell_type": "code",
   "execution_count": 32,
   "metadata": {},
   "outputs": [],
   "source": [
    "df_lc = moving_rate_table(\"Iceland\")"
   ]
  },
  {
   "cell_type": "code",
   "execution_count": 33,
   "metadata": {},
   "outputs": [],
   "source": [
    "cq_lc = calculate_quarlitle(df_lc,median_lc)"
   ]
  },
  {
   "cell_type": "code",
   "execution_count": 34,
   "metadata": {},
   "outputs": [],
   "source": [
    "new_df_lc = df_lc.loc[df_lc[\"Date\"]>median_lc,:]\n",
    "lc_stable_list = new_df_lc.loc[df_lc[\"Change Rate\"]<= cq_lc,:\"Date\"]\n",
    "lc_stable_list = lc_stable_list[\"Date\"].tolist()"
   ]
  },
  {
   "cell_type": "code",
   "execution_count": 35,
   "metadata": {},
   "outputs": [],
   "source": [
    "lc_date = lc_stable_list[0]"
   ]
  },
  {
   "cell_type": "code",
   "execution_count": 36,
   "metadata": {},
   "outputs": [
    {
     "data": {
      "text/plain": [
       "Timestamp('2020-04-25 00:00:00')"
      ]
     },
     "execution_count": 36,
     "metadata": {},
     "output_type": "execute_result"
    }
   ],
   "source": [
    "lc_date"
   ]
  },
  {
   "cell_type": "code",
   "execution_count": 37,
   "metadata": {},
   "outputs": [],
   "source": [
    "lc_case = covid_original.loc[(covid_original[\"location\"] ==\"Iceland\")&(covid_original[\"total_cases\"]>=30),[\"date\",\"total_cases\"]]\n",
    "lc_case[\"date\"] = pd.to_datetime(lc_case[\"date\"],format=\"%Y-%m-%d\")"
   ]
  },
  {
   "cell_type": "code",
   "execution_count": 38,
   "metadata": {},
   "outputs": [],
   "source": [
    "day_to_stable_lc = lc_date - lc_case[\"date\"].min()"
   ]
  },
  {
   "cell_type": "markdown",
   "metadata": {},
   "source": [
    "#### Iceland will take 50 days to control the virus"
   ]
  },
  {
   "cell_type": "code",
   "execution_count": 39,
   "metadata": {},
   "outputs": [
    {
     "data": {
      "text/plain": [
       "Timedelta('50 days 00:00:00')"
      ]
     },
     "execution_count": 39,
     "metadata": {},
     "output_type": "execute_result"
    }
   ],
   "source": [
    "day_to_stable_lc"
   ]
  },
  {
   "cell_type": "markdown",
   "metadata": {},
   "source": [
    "### New Zealand"
   ]
  },
  {
   "cell_type": "code",
   "execution_count": 40,
   "metadata": {},
   "outputs": [],
   "source": [
    "median_nz =  median_date(\"New Zealand\")"
   ]
  },
  {
   "cell_type": "code",
   "execution_count": 41,
   "metadata": {},
   "outputs": [],
   "source": [
    "df_nz = moving_rate_table(\"New Zealand\")"
   ]
  },
  {
   "cell_type": "code",
   "execution_count": 42,
   "metadata": {},
   "outputs": [],
   "source": [
    "cq_nz = calculate_quarlitle(df_nz,median_nz)"
   ]
  },
  {
   "cell_type": "code",
   "execution_count": 43,
   "metadata": {},
   "outputs": [],
   "source": [
    "new_df_nz = df_nz.loc[df_nz[\"Date\"]>median_nz,:]\n",
    "nz_stable_list = new_df_nz.loc[df_nz[\"Change Rate\"]<= cq_nz,:\"Date\"]\n",
    "nz_stable_list = nz_stable_list[\"Date\"].tolist()"
   ]
  },
  {
   "cell_type": "code",
   "execution_count": 44,
   "metadata": {},
   "outputs": [],
   "source": [
    "nz_date = nz_stable_list[0]"
   ]
  },
  {
   "cell_type": "code",
   "execution_count": 45,
   "metadata": {},
   "outputs": [],
   "source": [
    "nz_case = covid_original.loc[(covid_original[\"location\"] ==\"New Zealand\")&(covid_original[\"total_cases\"]>=30),[\"date\",\"total_cases\"]]\n",
    "nz_case[\"date\"] = pd.to_datetime(nz_case[\"date\"],format=\"%Y-%m-%d\")"
   ]
  },
  {
   "cell_type": "code",
   "execution_count": 46,
   "metadata": {},
   "outputs": [],
   "source": [
    "day_to_stable_nz = nz_date - nz_case[\"date\"].min()"
   ]
  },
  {
   "cell_type": "markdown",
   "metadata": {},
   "source": [
    "##### New Zealand will take 46 days to control the virus"
   ]
  },
  {
   "cell_type": "code",
   "execution_count": 47,
   "metadata": {},
   "outputs": [
    {
     "data": {
      "text/plain": [
       "Timedelta('46 days 00:00:00')"
      ]
     },
     "execution_count": 47,
     "metadata": {},
     "output_type": "execute_result"
    }
   ],
   "source": [
    "day_to_stable_nz"
   ]
  },
  {
   "cell_type": "markdown",
   "metadata": {},
   "source": [
    "#### Result of error countries\n",
    "- North Macedonia: NA\n",
    "- Montenegro: 31 days\n",
    "- Iceland: 51 days\n",
    "- New Zealand: 46 days\n",
    "- Slovenia: 62 days"
   ]
  },
  {
   "cell_type": "code",
   "execution_count": 48,
   "metadata": {},
   "outputs": [],
   "source": [
    "dic[\"Slovenia\"] = 62\n",
    "dic[\"Montenegro\"] = 31\n",
    "dic[\"Iceland\"] =51\n",
    "dic[\"New Zealand\"] = 46\n",
    "dic[\"Slovenia\"] = 62"
   ]
  },
  {
   "cell_type": "code",
   "execution_count": 49,
   "metadata": {},
   "outputs": [
    {
     "data": {
      "text/plain": [
       "{'Germany': 80,\n",
       " 'Russia': 69,\n",
       " 'United Kingdom': 80,\n",
       " 'France': 79,\n",
       " 'Italy': 88,\n",
       " 'Spain': 80,\n",
       " 'Ukraine': 60,\n",
       " 'Poland': 59,\n",
       " 'Romania': 69,\n",
       " 'Netherlands': 76,\n",
       " 'Belgium': 76,\n",
       " 'Czech Republic': 57,\n",
       " 'Greece': 57,\n",
       " 'Portugal': 55,\n",
       " 'Sweden': 60,\n",
       " 'Hungary': 64,\n",
       " 'Belarus': 65,\n",
       " 'Austria': 63,\n",
       " 'Serbia': 64,\n",
       " 'Switzerland': 92,\n",
       " 'Bulgaria': 59,\n",
       " 'Denmark': 75,\n",
       " 'Finland': 71,\n",
       " 'Slovakia': 67,\n",
       " 'Norway': 72,\n",
       " 'Ireland': 70,\n",
       " 'Croatia': 74,\n",
       " 'Moldova': 47,\n",
       " 'Bosnia and Herzegovina': 55,\n",
       " 'Albania': 50,\n",
       " 'Lithuania': 46,\n",
       " 'Latvia': 55,\n",
       " 'Estonia': 54,\n",
       " 'Luxembourg': 70,\n",
       " 'Malta': 48,\n",
       " 'Canada': 77,\n",
       " 'Australia': 83,\n",
       " 'Slovenia': 62,\n",
       " 'Montenegro': 31,\n",
       " 'Iceland': 51,\n",
       " 'New Zealand': 46}"
      ]
     },
     "execution_count": 49,
     "metadata": {},
     "output_type": "execute_result"
    }
   ],
   "source": [
    "dic"
   ]
  },
  {
   "cell_type": "markdown",
   "metadata": {},
   "source": [
    "## Build/Convert Training Dataset"
   ]
  },
  {
   "cell_type": "code",
   "execution_count": 50,
   "metadata": {},
   "outputs": [],
   "source": [
    "covid_data = pd.read_csv(\"COVID Data Collection _ copy.csv\")"
   ]
  },
  {
   "cell_type": "code",
   "execution_count": 51,
   "metadata": {},
   "outputs": [],
   "source": [
    "covid_data[\"Days to Stability\"] = covid_data[\"Country\"].map(dic)"
   ]
  },
  {
   "cell_type": "code",
   "execution_count": 52,
   "metadata": {},
   "outputs": [
    {
     "data": {
      "text/plain": [
       "Index(['Country', 'Young Population\\n(Aged under 15 )',\n",
       "       'Working Age Population\\n(Aged between 15 - 64)',\n",
       "       'Elderly population\\n(Aged 65 and over)', 'Population ',\n",
       "       'Population Density \\n(per Km2)', 'Political Ideology ', 'Death Rate',\n",
       "       'Social Distancing\\n(days)', 'Wearing Face mask\\n(days)',\n",
       "       '14 day Quarantine\\n(days)', 'Boarders\\n(days)',\n",
       "       'School closures\\n(days)', 'Lockdown', 'Days to Peak',\n",
       "       'Days to Stability'],\n",
       "      dtype='object')"
      ]
     },
     "execution_count": 52,
     "metadata": {},
     "output_type": "execute_result"
    }
   ],
   "source": [
    "covid_data.columns"
   ]
  },
  {
   "cell_type": "markdown",
   "metadata": {},
   "source": [
    "### Processing data\n",
    "-  Set country as index\n",
    "- Convert Young population/Working Age population/Elderly population/Death Rate to int\n",
    "- Covert Political Ideology/Lockdown to int indicators\n",
    "- \"Days to Stability\" has 2 missing value"
   ]
  },
  {
   "cell_type": "code",
   "execution_count": 53,
   "metadata": {},
   "outputs": [
    {
     "name": "stdout",
     "output_type": "stream",
     "text": [
      "<class 'pandas.core.frame.DataFrame'>\n",
      "RangeIndex: 43 entries, 0 to 42\n",
      "Data columns (total 16 columns):\n",
      "Country                                          43 non-null object\n",
      "Young Population\n",
      "(Aged under 15 )                43 non-null object\n",
      "Working Age Population\n",
      "(Aged between 15 - 64)    43 non-null object\n",
      "Elderly population\n",
      "(Aged 65 and over)            43 non-null object\n",
      "Population                                       43 non-null int64\n",
      "Population Density \n",
      "(per Km2)                    43 non-null int64\n",
      "Political Ideology                               43 non-null object\n",
      "Death Rate                                       43 non-null object\n",
      "Social Distancing\n",
      "(days)                         43 non-null int64\n",
      "Wearing Face mask\n",
      "(days)                         43 non-null int64\n",
      "14 day Quarantine\n",
      "(days)                         43 non-null int64\n",
      "Boarders\n",
      "(days)                                  43 non-null int64\n",
      "School closures\n",
      "(days)                           43 non-null int64\n",
      "Lockdown                                         43 non-null object\n",
      "Days to Peak                                     43 non-null int64\n",
      "Days to Stability                                41 non-null float64\n",
      "dtypes: float64(1), int64(8), object(7)\n",
      "memory usage: 5.5+ KB\n"
     ]
    }
   ],
   "source": [
    "covid_data.info()"
   ]
  },
  {
   "cell_type": "code",
   "execution_count": 54,
   "metadata": {},
   "outputs": [],
   "source": [
    "covid_data.set_index(\"Country\",inplace = True)"
   ]
  },
  {
   "cell_type": "code",
   "execution_count": 55,
   "metadata": {},
   "outputs": [
    {
     "data": {
      "text/plain": [
       "Index(['Young Population\\n(Aged under 15 )',\n",
       "       'Working Age Population\\n(Aged between 15 - 64)',\n",
       "       'Elderly population\\n(Aged 65 and over)', 'Population ',\n",
       "       'Population Density \\n(per Km2)', 'Political Ideology ', 'Death Rate',\n",
       "       'Social Distancing\\n(days)', 'Wearing Face mask\\n(days)',\n",
       "       '14 day Quarantine\\n(days)', 'Boarders\\n(days)',\n",
       "       'School closures\\n(days)', 'Lockdown', 'Days to Peak',\n",
       "       'Days to Stability'],\n",
       "      dtype='object')"
      ]
     },
     "execution_count": 55,
     "metadata": {},
     "output_type": "execute_result"
    }
   ],
   "source": [
    "covid_data.columns"
   ]
  },
  {
   "cell_type": "code",
   "execution_count": 56,
   "metadata": {},
   "outputs": [
    {
     "data": {
      "text/plain": [
       "Young Population\\n(Aged under 15 )                 object\n",
       "Working Age Population\\n(Aged between 15 - 64)     object\n",
       "Elderly population\\n(Aged 65 and over)             object\n",
       "Population                                          int64\n",
       "Population Density \\n(per Km2)                      int64\n",
       "Political Ideology                                 object\n",
       "Death Rate                                         object\n",
       "Social Distancing\\n(days)                           int64\n",
       "Wearing Face mask\\n(days)                           int64\n",
       "14 day Quarantine\\n(days)                           int64\n",
       "Boarders\\n(days)                                    int64\n",
       "School closures\\n(days)                             int64\n",
       "Lockdown                                           object\n",
       "Days to Peak                                        int64\n",
       "Days to Stability                                 float64\n",
       "dtype: object"
      ]
     },
     "execution_count": 56,
     "metadata": {},
     "output_type": "execute_result"
    }
   ],
   "source": [
    "covid_data.dtypes"
   ]
  },
  {
   "cell_type": "code",
   "execution_count": 57,
   "metadata": {},
   "outputs": [],
   "source": [
    "# Convert all the population / Death rate into float\n",
    "covid_data[\"Young Population\\n(Aged under 15 )\"] = covid_data[\"Young Population\\n(Aged under 15 )\"].astype(str).str.rstrip(\"%\").astype(float)\n",
    "covid_data[\"Working Age Population\\n(Aged between 15 - 64)\"] = covid_data[\"Working Age Population\\n(Aged between 15 - 64)\"].astype(str).str.rstrip(\"%\").astype(float)\n",
    "covid_data[\"Elderly population\\n(Aged 65 and over)\"] = covid_data[\"Elderly population\\n(Aged 65 and over)\"].astype(str).str.rstrip(\"%\").astype(float)\n",
    "covid_data[\"Death Rate\"] = covid_data[\"Death Rate\"].astype(str).str.rstrip(\"%\").astype(float)"
   ]
  },
  {
   "cell_type": "code",
   "execution_count": 58,
   "metadata": {},
   "outputs": [],
   "source": [
    "# Convert columns to int indicator\n",
    "covid_data.replace(\"Y\",1,inplace = True)\n",
    "covid_data.replace(\"N\",0,inplace=True)"
   ]
  },
  {
   "cell_type": "code",
   "execution_count": 59,
   "metadata": {},
   "outputs": [
    {
     "data": {
      "text/plain": [
       "Political Ideology \n",
       "Authoritarian        2\n",
       "Flawed Democracy    17\n",
       "Full Democracy      18\n",
       "Hybrid Regime        6\n",
       "dtype: int64"
      ]
     },
     "execution_count": 59,
     "metadata": {},
     "output_type": "execute_result"
    }
   ],
   "source": [
    "covid_data.groupby(\"Political Ideology \").size()"
   ]
  },
  {
   "cell_type": "markdown",
   "metadata": {},
   "source": [
    "### Reset indicator as following\n",
    "- Authoritarian: 1\n",
    "- Flawed Democracy: 2\n",
    "- Full Democracy: 3\n",
    "- Hybrid Regime: 4"
   ]
  },
  {
   "cell_type": "code",
   "execution_count": 60,
   "metadata": {},
   "outputs": [],
   "source": [
    "covid_data.replace(\"Authoritarian\",1,inplace = True)\n",
    "covid_data.replace(\"Flawed Democracy\",2,inplace = True)\n",
    "covid_data.replace(\"Full Democracy\",3,inplace = True)\n",
    "covid_data.replace(\"Hybrid Regime\",4,inplace = True)"
   ]
  },
  {
   "cell_type": "code",
   "execution_count": 61,
   "metadata": {},
   "outputs": [
    {
     "data": {
      "text/html": [
       "<div>\n",
       "<style scoped>\n",
       "    .dataframe tbody tr th:only-of-type {\n",
       "        vertical-align: middle;\n",
       "    }\n",
       "\n",
       "    .dataframe tbody tr th {\n",
       "        vertical-align: top;\n",
       "    }\n",
       "\n",
       "    .dataframe thead th {\n",
       "        text-align: right;\n",
       "    }\n",
       "</style>\n",
       "<table border=\"1\" class=\"dataframe\">\n",
       "  <thead>\n",
       "    <tr style=\"text-align: right;\">\n",
       "      <th></th>\n",
       "      <th>Young Population\n",
       "(Aged under 15 )</th>\n",
       "      <th>Working Age Population\n",
       "(Aged between 15 - 64)</th>\n",
       "      <th>Elderly population\n",
       "(Aged 65 and over)</th>\n",
       "      <th>Population</th>\n",
       "      <th>Population Density \n",
       "(per Km2)</th>\n",
       "      <th>Political Ideology</th>\n",
       "      <th>Death Rate</th>\n",
       "      <th>Social Distancing\n",
       "(days)</th>\n",
       "      <th>Wearing Face mask\n",
       "(days)</th>\n",
       "      <th>14 day Quarantine\n",
       "(days)</th>\n",
       "      <th>Boarders\n",
       "(days)</th>\n",
       "      <th>School closures\n",
       "(days)</th>\n",
       "      <th>Lockdown</th>\n",
       "      <th>Days to Peak</th>\n",
       "      <th>Days to Stability</th>\n",
       "    </tr>\n",
       "    <tr>\n",
       "      <th>Country</th>\n",
       "      <th></th>\n",
       "      <th></th>\n",
       "      <th></th>\n",
       "      <th></th>\n",
       "      <th></th>\n",
       "      <th></th>\n",
       "      <th></th>\n",
       "      <th></th>\n",
       "      <th></th>\n",
       "      <th></th>\n",
       "      <th></th>\n",
       "      <th></th>\n",
       "      <th></th>\n",
       "      <th></th>\n",
       "      <th></th>\n",
       "    </tr>\n",
       "  </thead>\n",
       "  <tbody>\n",
       "    <tr>\n",
       "      <th>USA</th>\n",
       "      <td>18.62</td>\n",
       "      <td>65.35</td>\n",
       "      <td>16.03</td>\n",
       "      <td>32823952</td>\n",
       "      <td>34</td>\n",
       "      <td>2</td>\n",
       "      <td>5.60</td>\n",
       "      <td>103</td>\n",
       "      <td>0</td>\n",
       "      <td>149</td>\n",
       "      <td>109</td>\n",
       "      <td>106</td>\n",
       "      <td>1</td>\n",
       "      <td>106</td>\n",
       "      <td>NaN</td>\n",
       "    </tr>\n",
       "    <tr>\n",
       "      <th>Germany</th>\n",
       "      <td>13.50</td>\n",
       "      <td>65.00</td>\n",
       "      <td>21.47</td>\n",
       "      <td>83783942</td>\n",
       "      <td>240</td>\n",
       "      <td>3</td>\n",
       "      <td>4.70</td>\n",
       "      <td>49</td>\n",
       "      <td>44</td>\n",
       "      <td>70</td>\n",
       "      <td>91</td>\n",
       "      <td>52</td>\n",
       "      <td>1</td>\n",
       "      <td>100</td>\n",
       "      <td>80.0</td>\n",
       "    </tr>\n",
       "    <tr>\n",
       "      <th>Russia</th>\n",
       "      <td>17.91</td>\n",
       "      <td>67.41</td>\n",
       "      <td>14.67</td>\n",
       "      <td>145934462</td>\n",
       "      <td>9</td>\n",
       "      <td>1</td>\n",
       "      <td>1.25</td>\n",
       "      <td>45</td>\n",
       "      <td>64</td>\n",
       "      <td>0</td>\n",
       "      <td>104</td>\n",
       "      <td>0</td>\n",
       "      <td>1</td>\n",
       "      <td>85</td>\n",
       "      <td>69.0</td>\n",
       "    </tr>\n",
       "    <tr>\n",
       "      <th>United Kingdom</th>\n",
       "      <td>18.90</td>\n",
       "      <td>63.10</td>\n",
       "      <td>18.00</td>\n",
       "      <td>67886011</td>\n",
       "      <td>281</td>\n",
       "      <td>3</td>\n",
       "      <td>14.20</td>\n",
       "      <td>99</td>\n",
       "      <td>15</td>\n",
       "      <td>60</td>\n",
       "      <td>105</td>\n",
       "      <td>87</td>\n",
       "      <td>1</td>\n",
       "      <td>97</td>\n",
       "      <td>80.0</td>\n",
       "    </tr>\n",
       "    <tr>\n",
       "      <th>France</th>\n",
       "      <td>18.10</td>\n",
       "      <td>62.20</td>\n",
       "      <td>19.70</td>\n",
       "      <td>65273511</td>\n",
       "      <td>119</td>\n",
       "      <td>3</td>\n",
       "      <td>18.97</td>\n",
       "      <td>55</td>\n",
       "      <td>51</td>\n",
       "      <td>50</td>\n",
       "      <td>70</td>\n",
       "      <td>55</td>\n",
       "      <td>1</td>\n",
       "      <td>100</td>\n",
       "      <td>79.0</td>\n",
       "    </tr>\n",
       "  </tbody>\n",
       "</table>\n",
       "</div>"
      ],
      "text/plain": [
       "                Young Population\\n(Aged under 15 )  \\\n",
       "Country                                              \n",
       "USA                                          18.62   \n",
       "Germany                                      13.50   \n",
       "Russia                                       17.91   \n",
       "United Kingdom                               18.90   \n",
       "France                                       18.10   \n",
       "\n",
       "                Working Age Population\\n(Aged between 15 - 64)  \\\n",
       "Country                                                          \n",
       "USA                                                      65.35   \n",
       "Germany                                                  65.00   \n",
       "Russia                                                   67.41   \n",
       "United Kingdom                                           63.10   \n",
       "France                                                   62.20   \n",
       "\n",
       "                Elderly population\\n(Aged 65 and over)  Population   \\\n",
       "Country                                                               \n",
       "USA                                              16.03     32823952   \n",
       "Germany                                          21.47     83783942   \n",
       "Russia                                           14.67    145934462   \n",
       "United Kingdom                                   18.00     67886011   \n",
       "France                                           19.70     65273511   \n",
       "\n",
       "                Population Density \\n(per Km2)  Political Ideology   \\\n",
       "Country                                                               \n",
       "USA                                         34                    2   \n",
       "Germany                                    240                    3   \n",
       "Russia                                       9                    1   \n",
       "United Kingdom                             281                    3   \n",
       "France                                     119                    3   \n",
       "\n",
       "                Death Rate  Social Distancing\\n(days)  \\\n",
       "Country                                                 \n",
       "USA                   5.60                        103   \n",
       "Germany               4.70                         49   \n",
       "Russia                1.25                         45   \n",
       "United Kingdom       14.20                         99   \n",
       "France               18.97                         55   \n",
       "\n",
       "                Wearing Face mask\\n(days)  14 day Quarantine\\n(days)  \\\n",
       "Country                                                                \n",
       "USA                                     0                        149   \n",
       "Germany                                44                         70   \n",
       "Russia                                 64                          0   \n",
       "United Kingdom                         15                         60   \n",
       "France                                 51                         50   \n",
       "\n",
       "                Boarders\\n(days)  School closures\\n(days)  Lockdown  \\\n",
       "Country                                                               \n",
       "USA                          109                      106         1   \n",
       "Germany                       91                       52         1   \n",
       "Russia                       104                        0         1   \n",
       "United Kingdom               105                       87         1   \n",
       "France                        70                       55         1   \n",
       "\n",
       "                Days to Peak  Days to Stability  \n",
       "Country                                          \n",
       "USA                      106                NaN  \n",
       "Germany                  100               80.0  \n",
       "Russia                    85               69.0  \n",
       "United Kingdom            97               80.0  \n",
       "France                   100               79.0  "
      ]
     },
     "execution_count": 61,
     "metadata": {},
     "output_type": "execute_result"
    }
   ],
   "source": [
    "covid_data.head()"
   ]
  },
  {
   "cell_type": "markdown",
   "metadata": {},
   "source": [
    "### Cleaning the NA value"
   ]
  },
  {
   "cell_type": "code",
   "execution_count": 62,
   "metadata": {},
   "outputs": [],
   "source": [
    "covid_train = covid_data.copy()"
   ]
  },
  {
   "cell_type": "code",
   "execution_count": 63,
   "metadata": {},
   "outputs": [],
   "source": [
    "covid_train.drop([\"USA\"],inplace = True)"
   ]
  },
  {
   "cell_type": "code",
   "execution_count": 64,
   "metadata": {},
   "outputs": [
    {
     "data": {
      "text/html": [
       "<div>\n",
       "<style scoped>\n",
       "    .dataframe tbody tr th:only-of-type {\n",
       "        vertical-align: middle;\n",
       "    }\n",
       "\n",
       "    .dataframe tbody tr th {\n",
       "        vertical-align: top;\n",
       "    }\n",
       "\n",
       "    .dataframe thead th {\n",
       "        text-align: right;\n",
       "    }\n",
       "</style>\n",
       "<table border=\"1\" class=\"dataframe\">\n",
       "  <thead>\n",
       "    <tr style=\"text-align: right;\">\n",
       "      <th></th>\n",
       "      <th>Young Population\n",
       "(Aged under 15 )</th>\n",
       "      <th>Working Age Population\n",
       "(Aged between 15 - 64)</th>\n",
       "      <th>Elderly population\n",
       "(Aged 65 and over)</th>\n",
       "      <th>Population</th>\n",
       "      <th>Population Density \n",
       "(per Km2)</th>\n",
       "      <th>Political Ideology</th>\n",
       "      <th>Death Rate</th>\n",
       "      <th>Social Distancing\n",
       "(days)</th>\n",
       "      <th>Wearing Face mask\n",
       "(days)</th>\n",
       "      <th>14 day Quarantine\n",
       "(days)</th>\n",
       "      <th>Boarders\n",
       "(days)</th>\n",
       "      <th>School closures\n",
       "(days)</th>\n",
       "      <th>Lockdown</th>\n",
       "      <th>Days to Peak</th>\n",
       "      <th>Days to Stability</th>\n",
       "    </tr>\n",
       "    <tr>\n",
       "      <th>Country</th>\n",
       "      <th></th>\n",
       "      <th></th>\n",
       "      <th></th>\n",
       "      <th></th>\n",
       "      <th></th>\n",
       "      <th></th>\n",
       "      <th></th>\n",
       "      <th></th>\n",
       "      <th></th>\n",
       "      <th></th>\n",
       "      <th></th>\n",
       "      <th></th>\n",
       "      <th></th>\n",
       "      <th></th>\n",
       "      <th></th>\n",
       "    </tr>\n",
       "  </thead>\n",
       "  <tbody>\n",
       "    <tr>\n",
       "      <th>Germany</th>\n",
       "      <td>13.50</td>\n",
       "      <td>65.00</td>\n",
       "      <td>21.47</td>\n",
       "      <td>83783942</td>\n",
       "      <td>240</td>\n",
       "      <td>3</td>\n",
       "      <td>4.70</td>\n",
       "      <td>49</td>\n",
       "      <td>44</td>\n",
       "      <td>70</td>\n",
       "      <td>91</td>\n",
       "      <td>52</td>\n",
       "      <td>1</td>\n",
       "      <td>100</td>\n",
       "      <td>80.0</td>\n",
       "    </tr>\n",
       "    <tr>\n",
       "      <th>Russia</th>\n",
       "      <td>17.91</td>\n",
       "      <td>67.41</td>\n",
       "      <td>14.67</td>\n",
       "      <td>145934462</td>\n",
       "      <td>9</td>\n",
       "      <td>1</td>\n",
       "      <td>1.25</td>\n",
       "      <td>45</td>\n",
       "      <td>64</td>\n",
       "      <td>0</td>\n",
       "      <td>104</td>\n",
       "      <td>0</td>\n",
       "      <td>1</td>\n",
       "      <td>85</td>\n",
       "      <td>69.0</td>\n",
       "    </tr>\n",
       "    <tr>\n",
       "      <th>United Kingdom</th>\n",
       "      <td>18.90</td>\n",
       "      <td>63.10</td>\n",
       "      <td>18.00</td>\n",
       "      <td>67886011</td>\n",
       "      <td>281</td>\n",
       "      <td>3</td>\n",
       "      <td>14.20</td>\n",
       "      <td>99</td>\n",
       "      <td>15</td>\n",
       "      <td>60</td>\n",
       "      <td>105</td>\n",
       "      <td>87</td>\n",
       "      <td>1</td>\n",
       "      <td>97</td>\n",
       "      <td>80.0</td>\n",
       "    </tr>\n",
       "    <tr>\n",
       "      <th>France</th>\n",
       "      <td>18.10</td>\n",
       "      <td>62.20</td>\n",
       "      <td>19.70</td>\n",
       "      <td>65273511</td>\n",
       "      <td>119</td>\n",
       "      <td>3</td>\n",
       "      <td>18.97</td>\n",
       "      <td>55</td>\n",
       "      <td>51</td>\n",
       "      <td>50</td>\n",
       "      <td>70</td>\n",
       "      <td>55</td>\n",
       "      <td>1</td>\n",
       "      <td>100</td>\n",
       "      <td>79.0</td>\n",
       "    </tr>\n",
       "    <tr>\n",
       "      <th>Italy</th>\n",
       "      <td>13.50</td>\n",
       "      <td>63.50</td>\n",
       "      <td>23.00</td>\n",
       "      <td>60461826</td>\n",
       "      <td>206</td>\n",
       "      <td>2</td>\n",
       "      <td>14.41</td>\n",
       "      <td>70</td>\n",
       "      <td>63</td>\n",
       "      <td>86</td>\n",
       "      <td>67</td>\n",
       "      <td>118</td>\n",
       "      <td>1</td>\n",
       "      <td>105</td>\n",
       "      <td>88.0</td>\n",
       "    </tr>\n",
       "  </tbody>\n",
       "</table>\n",
       "</div>"
      ],
      "text/plain": [
       "                Young Population\\n(Aged under 15 )  \\\n",
       "Country                                              \n",
       "Germany                                      13.50   \n",
       "Russia                                       17.91   \n",
       "United Kingdom                               18.90   \n",
       "France                                       18.10   \n",
       "Italy                                        13.50   \n",
       "\n",
       "                Working Age Population\\n(Aged between 15 - 64)  \\\n",
       "Country                                                          \n",
       "Germany                                                  65.00   \n",
       "Russia                                                   67.41   \n",
       "United Kingdom                                           63.10   \n",
       "France                                                   62.20   \n",
       "Italy                                                    63.50   \n",
       "\n",
       "                Elderly population\\n(Aged 65 and over)  Population   \\\n",
       "Country                                                               \n",
       "Germany                                          21.47     83783942   \n",
       "Russia                                           14.67    145934462   \n",
       "United Kingdom                                   18.00     67886011   \n",
       "France                                           19.70     65273511   \n",
       "Italy                                            23.00     60461826   \n",
       "\n",
       "                Population Density \\n(per Km2)  Political Ideology   \\\n",
       "Country                                                               \n",
       "Germany                                    240                    3   \n",
       "Russia                                       9                    1   \n",
       "United Kingdom                             281                    3   \n",
       "France                                     119                    3   \n",
       "Italy                                      206                    2   \n",
       "\n",
       "                Death Rate  Social Distancing\\n(days)  \\\n",
       "Country                                                 \n",
       "Germany               4.70                         49   \n",
       "Russia                1.25                         45   \n",
       "United Kingdom       14.20                         99   \n",
       "France               18.97                         55   \n",
       "Italy                14.41                         70   \n",
       "\n",
       "                Wearing Face mask\\n(days)  14 day Quarantine\\n(days)  \\\n",
       "Country                                                                \n",
       "Germany                                44                         70   \n",
       "Russia                                 64                          0   \n",
       "United Kingdom                         15                         60   \n",
       "France                                 51                         50   \n",
       "Italy                                  63                         86   \n",
       "\n",
       "                Boarders\\n(days)  School closures\\n(days)  Lockdown  \\\n",
       "Country                                                               \n",
       "Germany                       91                       52         1   \n",
       "Russia                       104                        0         1   \n",
       "United Kingdom               105                       87         1   \n",
       "France                        70                       55         1   \n",
       "Italy                         67                      118         1   \n",
       "\n",
       "                Days to Peak  Days to Stability  \n",
       "Country                                          \n",
       "Germany                  100               80.0  \n",
       "Russia                    85               69.0  \n",
       "United Kingdom            97               80.0  \n",
       "France                   100               79.0  \n",
       "Italy                    105               88.0  "
      ]
     },
     "execution_count": 64,
     "metadata": {},
     "output_type": "execute_result"
    }
   ],
   "source": [
    "covid_train.head()"
   ]
  },
  {
   "cell_type": "code",
   "execution_count": 65,
   "metadata": {},
   "outputs": [],
   "source": [
    "covid_train[\"Days to Stability\"] = covid_train[\"Days to Stability\"].fillna( covid_train[\"Days to Stability\"].mean())"
   ]
  },
  {
   "cell_type": "markdown",
   "metadata": {},
   "source": [
    "### Deeply look into the training data"
   ]
  },
  {
   "cell_type": "code",
   "execution_count": 66,
   "metadata": {},
   "outputs": [
    {
     "data": {
      "text/html": [
       "<div>\n",
       "<style scoped>\n",
       "    .dataframe tbody tr th:only-of-type {\n",
       "        vertical-align: middle;\n",
       "    }\n",
       "\n",
       "    .dataframe tbody tr th {\n",
       "        vertical-align: top;\n",
       "    }\n",
       "\n",
       "    .dataframe thead th {\n",
       "        text-align: right;\n",
       "    }\n",
       "</style>\n",
       "<table border=\"1\" class=\"dataframe\">\n",
       "  <thead>\n",
       "    <tr style=\"text-align: right;\">\n",
       "      <th></th>\n",
       "      <th>Young Population\n",
       "(Aged under 15 )</th>\n",
       "      <th>Working Age Population\n",
       "(Aged between 15 - 64)</th>\n",
       "      <th>Elderly population\n",
       "(Aged 65 and over)</th>\n",
       "      <th>Population</th>\n",
       "      <th>Population Density \n",
       "(per Km2)</th>\n",
       "      <th>Political Ideology</th>\n",
       "      <th>Death Rate</th>\n",
       "      <th>Social Distancing\n",
       "(days)</th>\n",
       "      <th>Wearing Face mask\n",
       "(days)</th>\n",
       "      <th>14 day Quarantine\n",
       "(days)</th>\n",
       "      <th>Boarders\n",
       "(days)</th>\n",
       "      <th>School closures\n",
       "(days)</th>\n",
       "      <th>Lockdown</th>\n",
       "      <th>Days to Peak</th>\n",
       "      <th>Days to Stability</th>\n",
       "    </tr>\n",
       "  </thead>\n",
       "  <tbody>\n",
       "    <tr>\n",
       "      <th>count</th>\n",
       "      <td>42.000000</td>\n",
       "      <td>42.000000</td>\n",
       "      <td>42.000000</td>\n",
       "      <td>4.200000e+01</td>\n",
       "      <td>42.000000</td>\n",
       "      <td>42.000000</td>\n",
       "      <td>42.000000</td>\n",
       "      <td>42.000000</td>\n",
       "      <td>42.000000</td>\n",
       "      <td>42.000000</td>\n",
       "      <td>42.000000</td>\n",
       "      <td>42.000000</td>\n",
       "      <td>42.000000</td>\n",
       "      <td>42.000000</td>\n",
       "      <td>42.000000</td>\n",
       "    </tr>\n",
       "    <tr>\n",
       "      <th>mean</th>\n",
       "      <td>16.397857</td>\n",
       "      <td>66.138333</td>\n",
       "      <td>17.458095</td>\n",
       "      <td>1.940880e+07</td>\n",
       "      <td>138.880952</td>\n",
       "      <td>2.666667</td>\n",
       "      <td>5.744762</td>\n",
       "      <td>62.333333</td>\n",
       "      <td>37.857143</td>\n",
       "      <td>78.880952</td>\n",
       "      <td>77.047619</td>\n",
       "      <td>86.928571</td>\n",
       "      <td>0.952381</td>\n",
       "      <td>86.928571</td>\n",
       "      <td>64.780488</td>\n",
       "    </tr>\n",
       "    <tr>\n",
       "      <th>std</th>\n",
       "      <td>2.360549</td>\n",
       "      <td>2.230850</td>\n",
       "      <td>3.019150</td>\n",
       "      <td>2.903403e+07</td>\n",
       "      <td>221.471377</td>\n",
       "      <td>0.786057</td>\n",
       "      <td>4.504750</td>\n",
       "      <td>34.017690</td>\n",
       "      <td>35.209873</td>\n",
       "      <td>44.528534</td>\n",
       "      <td>37.398939</td>\n",
       "      <td>31.526522</td>\n",
       "      <td>0.215540</td>\n",
       "      <td>10.416668</td>\n",
       "      <td>12.866125</td>\n",
       "    </tr>\n",
       "    <tr>\n",
       "      <th>min</th>\n",
       "      <td>13.500000</td>\n",
       "      <td>62.200000</td>\n",
       "      <td>8.900000</td>\n",
       "      <td>3.412430e+05</td>\n",
       "      <td>3.000000</td>\n",
       "      <td>1.000000</td>\n",
       "      <td>0.550000</td>\n",
       "      <td>0.000000</td>\n",
       "      <td>0.000000</td>\n",
       "      <td>0.000000</td>\n",
       "      <td>0.000000</td>\n",
       "      <td>0.000000</td>\n",
       "      <td>0.000000</td>\n",
       "      <td>42.000000</td>\n",
       "      <td>31.000000</td>\n",
       "    </tr>\n",
       "    <tr>\n",
       "      <th>25%</th>\n",
       "      <td>14.725000</td>\n",
       "      <td>64.900000</td>\n",
       "      <td>15.150000</td>\n",
       "      <td>3.469105e+06</td>\n",
       "      <td>44.000000</td>\n",
       "      <td>2.000000</td>\n",
       "      <td>2.742500</td>\n",
       "      <td>39.000000</td>\n",
       "      <td>0.000000</td>\n",
       "      <td>52.500000</td>\n",
       "      <td>68.500000</td>\n",
       "      <td>67.250000</td>\n",
       "      <td>1.000000</td>\n",
       "      <td>83.250000</td>\n",
       "      <td>55.500000</td>\n",
       "    </tr>\n",
       "    <tr>\n",
       "      <th>50%</th>\n",
       "      <td>15.850000</td>\n",
       "      <td>65.950000</td>\n",
       "      <td>18.200000</td>\n",
       "      <td>8.695996e+06</td>\n",
       "      <td>89.000000</td>\n",
       "      <td>3.000000</td>\n",
       "      <td>4.515000</td>\n",
       "      <td>55.500000</td>\n",
       "      <td>41.000000</td>\n",
       "      <td>106.000000</td>\n",
       "      <td>91.500000</td>\n",
       "      <td>106.000000</td>\n",
       "      <td>1.000000</td>\n",
       "      <td>87.000000</td>\n",
       "      <td>64.390244</td>\n",
       "    </tr>\n",
       "    <tr>\n",
       "      <th>75%</th>\n",
       "      <td>17.725000</td>\n",
       "      <td>67.100000</td>\n",
       "      <td>19.650000</td>\n",
       "      <td>1.871199e+07</td>\n",
       "      <td>123.750000</td>\n",
       "      <td>3.000000</td>\n",
       "      <td>6.630000</td>\n",
       "      <td>98.750000</td>\n",
       "      <td>66.250000</td>\n",
       "      <td>109.000000</td>\n",
       "      <td>103.750000</td>\n",
       "      <td>110.000000</td>\n",
       "      <td>1.000000</td>\n",
       "      <td>93.750000</td>\n",
       "      <td>74.750000</td>\n",
       "    </tr>\n",
       "    <tr>\n",
       "      <th>max</th>\n",
       "      <td>25.000000</td>\n",
       "      <td>73.400000</td>\n",
       "      <td>23.000000</td>\n",
       "      <td>1.459345e+08</td>\n",
       "      <td>1380.000000</td>\n",
       "      <td>4.000000</td>\n",
       "      <td>18.970000</td>\n",
       "      <td>123.000000</td>\n",
       "      <td>109.000000</td>\n",
       "      <td>123.000000</td>\n",
       "      <td>107.000000</td>\n",
       "      <td>118.000000</td>\n",
       "      <td>1.000000</td>\n",
       "      <td>105.000000</td>\n",
       "      <td>92.000000</td>\n",
       "    </tr>\n",
       "  </tbody>\n",
       "</table>\n",
       "</div>"
      ],
      "text/plain": [
       "       Young Population\\n(Aged under 15 )  \\\n",
       "count                           42.000000   \n",
       "mean                            16.397857   \n",
       "std                              2.360549   \n",
       "min                             13.500000   \n",
       "25%                             14.725000   \n",
       "50%                             15.850000   \n",
       "75%                             17.725000   \n",
       "max                             25.000000   \n",
       "\n",
       "       Working Age Population\\n(Aged between 15 - 64)  \\\n",
       "count                                       42.000000   \n",
       "mean                                        66.138333   \n",
       "std                                          2.230850   \n",
       "min                                         62.200000   \n",
       "25%                                         64.900000   \n",
       "50%                                         65.950000   \n",
       "75%                                         67.100000   \n",
       "max                                         73.400000   \n",
       "\n",
       "       Elderly population\\n(Aged 65 and over)   Population   \\\n",
       "count                               42.000000  4.200000e+01   \n",
       "mean                                17.458095  1.940880e+07   \n",
       "std                                  3.019150  2.903403e+07   \n",
       "min                                  8.900000  3.412430e+05   \n",
       "25%                                 15.150000  3.469105e+06   \n",
       "50%                                 18.200000  8.695996e+06   \n",
       "75%                                 19.650000  1.871199e+07   \n",
       "max                                 23.000000  1.459345e+08   \n",
       "\n",
       "       Population Density \\n(per Km2)  Political Ideology   Death Rate  \\\n",
       "count                       42.000000            42.000000   42.000000   \n",
       "mean                       138.880952             2.666667    5.744762   \n",
       "std                        221.471377             0.786057    4.504750   \n",
       "min                          3.000000             1.000000    0.550000   \n",
       "25%                         44.000000             2.000000    2.742500   \n",
       "50%                         89.000000             3.000000    4.515000   \n",
       "75%                        123.750000             3.000000    6.630000   \n",
       "max                       1380.000000             4.000000   18.970000   \n",
       "\n",
       "       Social Distancing\\n(days)  Wearing Face mask\\n(days)  \\\n",
       "count                  42.000000                  42.000000   \n",
       "mean                   62.333333                  37.857143   \n",
       "std                    34.017690                  35.209873   \n",
       "min                     0.000000                   0.000000   \n",
       "25%                    39.000000                   0.000000   \n",
       "50%                    55.500000                  41.000000   \n",
       "75%                    98.750000                  66.250000   \n",
       "max                   123.000000                 109.000000   \n",
       "\n",
       "       14 day Quarantine\\n(days)  Boarders\\n(days)  School closures\\n(days)  \\\n",
       "count                  42.000000         42.000000                42.000000   \n",
       "mean                   78.880952         77.047619                86.928571   \n",
       "std                    44.528534         37.398939                31.526522   \n",
       "min                     0.000000          0.000000                 0.000000   \n",
       "25%                    52.500000         68.500000                67.250000   \n",
       "50%                   106.000000         91.500000               106.000000   \n",
       "75%                   109.000000        103.750000               110.000000   \n",
       "max                   123.000000        107.000000               118.000000   \n",
       "\n",
       "        Lockdown  Days to Peak  Days to Stability  \n",
       "count  42.000000     42.000000          42.000000  \n",
       "mean    0.952381     86.928571          64.780488  \n",
       "std     0.215540     10.416668          12.866125  \n",
       "min     0.000000     42.000000          31.000000  \n",
       "25%     1.000000     83.250000          55.500000  \n",
       "50%     1.000000     87.000000          64.390244  \n",
       "75%     1.000000     93.750000          74.750000  \n",
       "max     1.000000    105.000000          92.000000  "
      ]
     },
     "execution_count": 66,
     "metadata": {},
     "output_type": "execute_result"
    }
   ],
   "source": [
    "covid_train.describe()"
   ]
  },
  {
   "cell_type": "code",
   "execution_count": 67,
   "metadata": {},
   "outputs": [
    {
     "data": {
      "image/png": "[encoded data removed]",
      "text/plain": [
       "<Figure size 1800x1440 with 16 Axes>"
      ]
     },
     "metadata": {
      "needs_background": "light"
     },
     "output_type": "display_data"
    }
   ],
   "source": [
    "# see the data distribution\n",
    "covid_train.hist(bins=50, figsize=(25,20))\n",
    "plt.show()"
   ]
  },
  {
   "cell_type": "markdown",
   "metadata": {},
   "source": [
    "### Prepare data for machine learning\n",
    "- Feature Scaling: Since all the features have different units and magnitude, I adopted feature scaling."
   ]
  },
  {
   "cell_type": "code",
   "execution_count": 68,
   "metadata": {},
   "outputs": [],
   "source": [
    "from sklearn import preprocessing "
   ]
  },
  {
   "cell_type": "code",
   "execution_count": 69,
   "metadata": {},
   "outputs": [],
   "source": [
    "Standardisation = preprocessing.StandardScaler() "
   ]
  },
  {
   "cell_type": "code",
   "execution_count": 70,
   "metadata": {},
   "outputs": [
    {
     "data": {
      "text/html": [
       "<div>\n",
       "<style scoped>\n",
       "    .dataframe tbody tr th:only-of-type {\n",
       "        vertical-align: middle;\n",
       "    }\n",
       "\n",
       "    .dataframe tbody tr th {\n",
       "        vertical-align: top;\n",
       "    }\n",
       "\n",
       "    .dataframe thead th {\n",
       "        text-align: right;\n",
       "    }\n",
       "</style>\n",
       "<table border=\"1\" class=\"dataframe\">\n",
       "  <thead>\n",
       "    <tr style=\"text-align: right;\">\n",
       "      <th></th>\n",
       "      <th>Young Population\n",
       "(Aged under 15 )</th>\n",
       "      <th>Working Age Population\n",
       "(Aged between 15 - 64)</th>\n",
       "      <th>Elderly population\n",
       "(Aged 65 and over)</th>\n",
       "      <th>Population</th>\n",
       "      <th>Population Density \n",
       "(per Km2)</th>\n",
       "      <th>Political Ideology</th>\n",
       "      <th>Death Rate</th>\n",
       "      <th>Social Distancing\n",
       "(days)</th>\n",
       "      <th>Wearing Face mask\n",
       "(days)</th>\n",
       "      <th>14 day Quarantine\n",
       "(days)</th>\n",
       "      <th>Boarders\n",
       "(days)</th>\n",
       "      <th>School closures\n",
       "(days)</th>\n",
       "      <th>Lockdown</th>\n",
       "      <th>Days to Peak</th>\n",
       "      <th>Days to Stability</th>\n",
       "    </tr>\n",
       "    <tr>\n",
       "      <th>Country</th>\n",
       "      <th></th>\n",
       "      <th></th>\n",
       "      <th></th>\n",
       "      <th></th>\n",
       "      <th></th>\n",
       "      <th></th>\n",
       "      <th></th>\n",
       "      <th></th>\n",
       "      <th></th>\n",
       "      <th></th>\n",
       "      <th></th>\n",
       "      <th></th>\n",
       "      <th></th>\n",
       "      <th></th>\n",
       "      <th></th>\n",
       "    </tr>\n",
       "  </thead>\n",
       "  <tbody>\n",
       "    <tr>\n",
       "      <th>Germany</th>\n",
       "      <td>13.50</td>\n",
       "      <td>65.00</td>\n",
       "      <td>21.47</td>\n",
       "      <td>83783942</td>\n",
       "      <td>240</td>\n",
       "      <td>3</td>\n",
       "      <td>4.70</td>\n",
       "      <td>49</td>\n",
       "      <td>44</td>\n",
       "      <td>70</td>\n",
       "      <td>91</td>\n",
       "      <td>52</td>\n",
       "      <td>1</td>\n",
       "      <td>100</td>\n",
       "      <td>80.0</td>\n",
       "    </tr>\n",
       "    <tr>\n",
       "      <th>Russia</th>\n",
       "      <td>17.91</td>\n",
       "      <td>67.41</td>\n",
       "      <td>14.67</td>\n",
       "      <td>145934462</td>\n",
       "      <td>9</td>\n",
       "      <td>1</td>\n",
       "      <td>1.25</td>\n",
       "      <td>45</td>\n",
       "      <td>64</td>\n",
       "      <td>0</td>\n",
       "      <td>104</td>\n",
       "      <td>0</td>\n",
       "      <td>1</td>\n",
       "      <td>85</td>\n",
       "      <td>69.0</td>\n",
       "    </tr>\n",
       "    <tr>\n",
       "      <th>United Kingdom</th>\n",
       "      <td>18.90</td>\n",
       "      <td>63.10</td>\n",
       "      <td>18.00</td>\n",
       "      <td>67886011</td>\n",
       "      <td>281</td>\n",
       "      <td>3</td>\n",
       "      <td>14.20</td>\n",
       "      <td>99</td>\n",
       "      <td>15</td>\n",
       "      <td>60</td>\n",
       "      <td>105</td>\n",
       "      <td>87</td>\n",
       "      <td>1</td>\n",
       "      <td>97</td>\n",
       "      <td>80.0</td>\n",
       "    </tr>\n",
       "    <tr>\n",
       "      <th>France</th>\n",
       "      <td>18.10</td>\n",
       "      <td>62.20</td>\n",
       "      <td>19.70</td>\n",
       "      <td>65273511</td>\n",
       "      <td>119</td>\n",
       "      <td>3</td>\n",
       "      <td>18.97</td>\n",
       "      <td>55</td>\n",
       "      <td>51</td>\n",
       "      <td>50</td>\n",
       "      <td>70</td>\n",
       "      <td>55</td>\n",
       "      <td>1</td>\n",
       "      <td>100</td>\n",
       "      <td>79.0</td>\n",
       "    </tr>\n",
       "    <tr>\n",
       "      <th>Italy</th>\n",
       "      <td>13.50</td>\n",
       "      <td>63.50</td>\n",
       "      <td>23.00</td>\n",
       "      <td>60461826</td>\n",
       "      <td>206</td>\n",
       "      <td>2</td>\n",
       "      <td>14.41</td>\n",
       "      <td>70</td>\n",
       "      <td>63</td>\n",
       "      <td>86</td>\n",
       "      <td>67</td>\n",
       "      <td>118</td>\n",
       "      <td>1</td>\n",
       "      <td>105</td>\n",
       "      <td>88.0</td>\n",
       "    </tr>\n",
       "  </tbody>\n",
       "</table>\n",
       "</div>"
      ],
      "text/plain": [
       "                Young Population\\n(Aged under 15 )  \\\n",
       "Country                                              \n",
       "Germany                                      13.50   \n",
       "Russia                                       17.91   \n",
       "United Kingdom                               18.90   \n",
       "France                                       18.10   \n",
       "Italy                                        13.50   \n",
       "\n",
       "                Working Age Population\\n(Aged between 15 - 64)  \\\n",
       "Country                                                          \n",
       "Germany                                                  65.00   \n",
       "Russia                                                   67.41   \n",
       "United Kingdom                                           63.10   \n",
       "France                                                   62.20   \n",
       "Italy                                                    63.50   \n",
       "\n",
       "                Elderly population\\n(Aged 65 and over)  Population   \\\n",
       "Country                                                               \n",
       "Germany                                          21.47     83783942   \n",
       "Russia                                           14.67    145934462   \n",
       "United Kingdom                                   18.00     67886011   \n",
       "France                                           19.70     65273511   \n",
       "Italy                                            23.00     60461826   \n",
       "\n",
       "                Population Density \\n(per Km2)  Political Ideology   \\\n",
       "Country                                                               \n",
       "Germany                                    240                    3   \n",
       "Russia                                       9                    1   \n",
       "United Kingdom                             281                    3   \n",
       "France                                     119                    3   \n",
       "Italy                                      206                    2   \n",
       "\n",
       "                Death Rate  Social Distancing\\n(days)  \\\n",
       "Country                                                 \n",
       "Germany               4.70                         49   \n",
       "Russia                1.25                         45   \n",
       "United Kingdom       14.20                         99   \n",
       "France               18.97                         55   \n",
       "Italy                14.41                         70   \n",
       "\n",
       "                Wearing Face mask\\n(days)  14 day Quarantine\\n(days)  \\\n",
       "Country                                                                \n",
       "Germany                                44                         70   \n",
       "Russia                                 64                          0   \n",
       "United Kingdom                         15                         60   \n",
       "France                                 51                         50   \n",
       "Italy                                  63                         86   \n",
       "\n",
       "                Boarders\\n(days)  School closures\\n(days)  Lockdown  \\\n",
       "Country                                                               \n",
       "Germany                       91                       52         1   \n",
       "Russia                       104                        0         1   \n",
       "United Kingdom               105                       87         1   \n",
       "France                        70                       55         1   \n",
       "Italy                         67                      118         1   \n",
       "\n",
       "                Days to Peak  Days to Stability  \n",
       "Country                                          \n",
       "Germany                  100               80.0  \n",
       "Russia                    85               69.0  \n",
       "United Kingdom            97               80.0  \n",
       "France                   100               79.0  \n",
       "Italy                    105               88.0  "
      ]
     },
     "execution_count": 70,
     "metadata": {},
     "output_type": "execute_result"
    }
   ],
   "source": [
    "covid_train.head()"
   ]
  },
  {
   "cell_type": "code",
   "execution_count": 71,
   "metadata": {},
   "outputs": [],
   "source": [
    "fs_data = covid_train.iloc[:,:-1]"
   ]
  },
  {
   "cell_type": "code",
   "execution_count": 72,
   "metadata": {},
   "outputs": [],
   "source": [
    "fs_data_after_standardisation= Standardisation.fit_transform(fs_data) "
   ]
  },
  {
   "cell_type": "markdown",
   "metadata": {},
   "source": [
    "### Select and train the model"
   ]
  },
  {
   "cell_type": "markdown",
   "metadata": {},
   "source": [
    "#### Started from the basic linear regression model"
   ]
  },
  {
   "cell_type": "code",
   "execution_count": 73,
   "metadata": {},
   "outputs": [],
   "source": [
    "from sklearn.linear_model import LinearRegression\n",
    "from sklearn.model_selection import train_test_split"
   ]
  },
  {
   "cell_type": "code",
   "execution_count": 74,
   "metadata": {},
   "outputs": [],
   "source": [
    "X = fs_data_after_standardisation"
   ]
  },
  {
   "cell_type": "code",
   "execution_count": 75,
   "metadata": {},
   "outputs": [],
   "source": [
    "Y = covid_train[\"Days to Stability\"].tolist()"
   ]
  },
  {
   "cell_type": "code",
   "execution_count": 76,
   "metadata": {},
   "outputs": [
    {
     "data": {
      "text/plain": [
       "array([[-1.24250063e+00, -5.16454156e-01,  1.34492658e+00,\n",
       "         2.24410764e+00,  4.62112889e-01,  4.29197538e-01,\n",
       "        -2.34735787e-01, -3.96704047e-01,  1.76578843e-01,\n",
       "        -2.01861669e-01,  3.77591115e-01, -1.12134042e+00,\n",
       "         2.23606798e-01,  1.27006795e+00],\n",
       "       [ 6.48354411e-01,  5.76946590e-01, -9.34664108e-01,\n",
       "         4.41066521e+00, -5.93554464e-01, -2.14598769e+00,\n",
       "        -1.00987744e+00, -5.15715261e-01,  7.51486705e-01,\n",
       "        -1.79294292e+00,  7.29408092e-01, -2.79073883e+00,\n",
       "         2.23606798e-01, -1.87387074e-01],\n",
       "       [ 1.07283207e+00, -1.37847134e+00,  1.81664860e-01,\n",
       "         1.68990822e+00,  6.49482419e-01,  4.29197538e-01,\n",
       "         1.89971223e+00,  1.09093613e+00, -6.57037557e-01,\n",
       "        -4.29158990e-01,  7.56470937e-01,  2.29312968e-03,\n",
       "         2.23606798e-01,  9.78576942e-01],\n",
       "       [ 7.29819821e-01, -1.78679527e+00,  7.51562532e-01,\n",
       "         1.59883687e+00, -9.08557245e-02,  4.29197538e-01,\n",
       "         2.97142982e+00, -2.18187226e-01,  3.77796595e-01,\n",
       "        -6.56456311e-01, -1.90728618e-01, -1.02502897e+00,\n",
       "         2.23606798e-01,  1.27006795e+00],\n",
       "       [-1.24250063e+00, -1.19699404e+00,  1.85783448e+00,\n",
       "         1.43110227e+00,  3.06733278e-01, -8.58395075e-01,\n",
       "         1.94689477e+00,  2.28104827e-01,  7.22741312e-01,\n",
       "         1.61814045e-01, -2.71917151e-01,  9.97511412e-01,\n",
       "         2.23606798e-01,  1.75588629e+00],\n",
       "       [-7.27982255e-01, -1.08130226e-01,  6.50992354e-01,\n",
       "         9.53276685e-01, -2.05105438e-01,  4.29197538e-01,\n",
       "         8.21254286e-01, -1.88434422e-01,  9.03426640e-02,\n",
       "         4.57300563e-01,  7.56470937e-01,  8.36992335e-01,\n",
       "         2.23606798e-01,  1.17290428e+00],\n",
       "       [-3.84970002e-01,  8.44625610e-01, -3.21186027e-01,\n",
       "         8.47964532e-01, -2.91935220e-01,  1.71679015e+00,\n",
       "        -6.34663943e-01, -7.23984885e-01, -1.08821845e+00,\n",
       "         7.30057348e-01,  2.57741375e-02,  7.72784703e-01,\n",
       "         2.23606798e-01, -1.06186009e+00],\n",
       "       [-6.85105723e-01,  1.02610291e+00, -2.20615849e-01,\n",
       "         6.42739354e-01, -6.80057818e-02, -8.58395075e-01,\n",
       "        -3.02139409e-01, -9.91760117e-01,  1.06768603e+00,\n",
       "         6.39138420e-01,  3.50528270e-01,  6.12265626e-01,\n",
       "         2.23606798e-01,  6.94026200e-03],\n",
       "       [-4.70723065e-01,  3.45563029e-01,  1.48141468e-01,\n",
       "        -5.96473381e-03, -2.50805323e-01, -8.58395075e-01,\n",
       "         1.78673092e-01, -4.26456850e-01,  2.34069630e-01,\n",
       "         1.00281413e+00,  6.21156714e-01,  8.04888519e-01,\n",
       "         2.23606798e-01,  6.94026200e-03],\n",
       "       [ 6.44066757e-01,  1.29831887e+00, -1.46098137e+00,\n",
       "        -7.92686806e-02,  1.68686982e+00,  4.29197538e-01,\n",
       "         1.56269413e+00, -6.94232082e-02, -2.54602053e-01,\n",
       "        -6.79186043e-01,  4.04653959e-01, -2.54537395e-01,\n",
       "         2.23606798e-01,  6.87085938e-01],\n",
       "       [ 3.01054504e-01, -8.34039434e-01,  3.82805215e-01,\n",
       "        -2.72575207e-01,  1.11562125e+00, -8.58395075e-01,\n",
       "         2.34906971e+00, -4.56209654e-01,  9.03426640e-02,\n",
       "         7.07327616e-01,  2.69339737e-01,  7.40680888e-01,\n",
       "         2.23606798e-01,  5.89922270e-01],\n",
       "       [-4.27846534e-01, -2.44238202e-01,  5.16898784e-01,\n",
       "        -3.03274252e-01,  5.44046255e-04, -8.58395075e-01,\n",
       "        -5.24571361e-01, -1.05126572e+00,  8.37722885e-01,\n",
       "         8.43706009e-01,  4.31716804e-01, -8.32406075e-01,\n",
       "         2.23606798e-01,  2.98431266e-01],\n",
       "       [-9.42364913e-01, -3.34976853e-01,  9.86226279e-01,\n",
       "        -3.13241623e-01, -2.64515289e-01, -8.58395075e-01,\n",
       "         6.63337230e-02, -6.04973671e-01,  6.93995919e-01,\n",
       "         6.16408688e-01,  4.31716804e-01, -6.71886997e-01,\n",
       "         2.23606798e-01,  5.89922270e-01],\n",
       "       [-1.19962410e+00, -5.61823481e-01,  1.35498360e+00,\n",
       "        -3.21131975e-01, -1.27415633e-01,  4.29197538e-01,\n",
       "        -3.26854070e-01, -1.25953535e+00,  5.79014347e-01,\n",
       "        -1.79294292e+00,  8.10596625e-01, -6.39783182e-01,\n",
       "         2.23606798e-01,  2.01267598e-01],\n",
       "       [ 4.72560631e-01, -1.65068729e+00,  8.18609316e-01,\n",
       "        -3.24528858e-01, -5.20434647e-01,  4.29197538e-01,\n",
       "         1.09311556e+00, -1.85459142e+00, -1.08821845e+00,\n",
       "        -1.79294292e+00, -2.08512773e+00, -2.79073883e+00,\n",
       "         2.23606798e-01,  6.87085938e-01],\n",
       "       [-8.99488382e-01,  4.36301680e-01,  3.82805215e-01,\n",
       "        -3.39829332e-01, -1.45695587e-01, -8.58395075e-01,\n",
       "         1.76939856e+00, -1.46780497e+00,  7.51486705e-01,\n",
       "         3.66381634e-01,  3.50528270e-01, -2.86641210e-01,\n",
       "         2.23606798e-01, -3.81714410e-01],\n",
       "       [ 1.29548378e-01,  1.07147224e+00, -8.91083698e-01,\n",
       "        -3.47185736e-01, -4.19894899e-01, -2.14598769e+00,\n",
       "        -1.16715255e+00, -1.85459142e+00, -1.08821845e+00,\n",
       "         4.11841099e-01, -2.08512773e+00,  2.29312968e-03,\n",
       "        -4.47213595e+00, -4.78878078e-01],\n",
       "       [-9.85241445e-01,  2.54824378e-01,  5.83945569e-01,\n",
       "        -3.62626033e-01, -1.36555610e-01,  4.29197538e-01,\n",
       "        -3.96504479e-01, -1.02151292e+00,  1.35513996e+00,\n",
       "        -1.79294292e+00,  3.77591115e-01,  5.48057994e-01,\n",
       "         2.23606798e-01,  5.89922270e-01],\n",
       "       [ 4.37953145e-02,  2.79777507e-02, -1.94754947e-02,\n",
       "        -3.72004273e-01, -1.77685507e-01, -8.58395075e-01,\n",
       "        -8.16653722e-01, -3.66951243e-01, -1.08821845e+00,\n",
       "         6.39138420e-01, -2.08512773e+00,  6.44369441e-01,\n",
       "         2.23606798e-01, -1.87387074e-01],\n",
       "       [-6.42229192e-01,  2.54824378e-01,  3.15758430e-01,\n",
       "        -3.74888891e-01,  3.66143129e-01,  4.29197538e-01,\n",
       "         1.02282321e-01, -6.04973671e-01, -1.08821845e+00,\n",
       "         6.84597884e-01,  3.50528270e-01, -1.85972817e+00,\n",
       "         2.23606798e-01,  7.84249606e-01],\n",
       "       [-9.42364913e-01, -5.16454156e-01,  1.12031985e+00,\n",
       "        -4.34365958e-01, -3.42205094e-01, -8.58395075e-01,\n",
       "         3.48786995e-02, -9.91760117e-03, -1.08821845e+00,\n",
       "         6.84597884e-01,  7.83533781e-01,  7.72784703e-01,\n",
       "         2.23606798e-01, -1.87387074e-01],\n",
       "       [ 4.37953145e-02, -1.06088606e+00,  7.51562532e-01,\n",
       "        -4.74672411e-01, -8.59593082e-03,  4.29197538e-01,\n",
       "        -1.85306465e-01,  1.38846416e+00, -1.08821845e+00,\n",
       "         6.84597884e-01,  4.31716804e-01,  6.12265626e-01,\n",
       "         2.23606798e-01,  3.95594934e-01],\n",
       "       [ 9.18782821e-04, -1.69605662e+00,  1.25441342e+00,\n",
       "        -4.83439035e-01, -5.52424567e-01,  4.29197538e-01,\n",
       "        -2.50463299e-01, -1.25953535e+00,  1.09643142e+00,\n",
       "         6.16408688e-01,  7.02345248e-01, -8.96613706e-01,\n",
       "         2.23606798e-01,  2.01267598e-01],\n",
       "       [-4.27846534e-01,  1.57053482e+00, -7.90513521e-01,\n",
       "        -4.86265402e-01, -1.13705667e-01, -8.58395075e-01,\n",
       "        -8.79563768e-01, -7.53737689e-01,  1.70008468e+00,\n",
       "         6.84597884e-01, -2.44854307e-01, -1.90329764e-01,\n",
       "         2.23606798e-01, -2.84550742e-01],\n",
       "       [ 6.01190226e-01, -3.34976853e-01, -2.20615849e-01,\n",
       "        -4.87604055e-01, -5.66134533e-01,  4.29197538e-01,\n",
       "        -6.63872179e-01, -6.94232082e-02, -1.08821845e+00,\n",
       "        -1.79294292e+00, -2.08512773e+00, -8.64509891e-01,\n",
       "        -4.47213595e+00,  6.87085938e-01],\n",
       "       [ 2.23049843e+00, -7.88670109e-01, -1.19279423e+00,\n",
       "        -5.04457222e-01, -3.05645186e-01,  4.29197538e-01,\n",
       "         2.05634541e-01,  1.38846416e-01, -1.08821845e+00,\n",
       "        -1.79294292e+00, -2.08512773e+00,  7.40680888e-01,\n",
       "         2.23606798e-01,  1.04103930e-01],\n",
       "       [-7.27982255e-01, -2.44238202e-01,  7.51562532e-01,\n",
       "        -5.33478706e-01, -3.01075197e-01, -8.58395075e-01,\n",
       "        -2.50463299e-01, -9.02501706e-01, -1.08821845e+00,\n",
       "         6.84597884e-01,  7.02345248e-01,  7.40680888e-01,\n",
       "         2.23606798e-01, -3.81714410e-01],\n",
       "       [-2.99216939e-01,  3.29456919e+00, -2.19849600e+00,\n",
       "        -5.35964352e-01, -7.25757704e-02,  1.71679015e+00,\n",
       "        -4.99856699e-01,  1.26945295e+00, -1.08821845e+00,\n",
       "        -1.79294292e+00,  7.56470937e-01,  7.72784703e-01,\n",
       "         2.23606798e-01, -6.73205414e-01],\n",
       "       [-9.85241445e-01,  1.43442684e+00, -2.87662634e-01,\n",
       "        -5.62218836e-01, -3.42205094e-01,  1.71679015e+00,\n",
       "         7.98144473e-02,  3.47116041e-01,  1.58510311e+00,\n",
       "         6.39138420e-01,  4.04653959e-01,  8.04888519e-01,\n",
       "         2.23606798e-01, -7.70369082e-01],\n",
       "       [ 4.29684099e-01,  1.25294954e+00, -1.42745798e+00,\n",
       "        -5.76268121e-01, -1.54835564e-01,  1.71679015e+00,\n",
       "        -6.79599691e-01,  1.38846416e+00, -1.08821845e+00,\n",
       "         6.39138420e-01,  8.10596625e-01,  8.36992335e-01,\n",
       "         2.23606798e-01, -1.87387074e-01],\n",
       "       [-6.85105723e-01,  2.79777507e-02,  5.16898784e-01,\n",
       "        -5.81689106e-01, -4.38174853e-01, -8.58395075e-01,\n",
       "        -3.60555881e-01, -6.04973671e-01, -5.42055984e-01,\n",
       "         6.16408688e-01, -8.67299728e-01, -4.15056473e-01,\n",
       "         2.23606798e-01, -6.73205414e-01],\n",
       "       [ 3.68830050e+00,  2.79777507e-02, -2.86896385e+00,\n",
       "        -6.03961585e-01, -2.55375312e-01,  1.71679015e+00,\n",
       "        -1.26889993e-01,  1.80500341e+00,  8.95213671e-01,\n",
       "         6.16408688e-01,  7.56470937e-01,  8.04888519e-01,\n",
       "         2.23606798e-01,  1.04103930e-01],\n",
       "       [-5.99352660e-01, -6.27609003e-02,  5.50422177e-01,\n",
       "        -6.04116223e-01, -1.63975541e-01, -8.58395075e-01,\n",
       "         3.60662871e-01,  1.29920575e+00,  1.58510311e+00,\n",
       "        -1.79294292e+00, -2.98979995e-01,  7.40680888e-01,\n",
       "         2.23606798e-01, -3.81714410e-01],\n",
       "       [-4.27846534e-01, -6.07192807e-01,  7.85085924e-01,\n",
       "        -6.10835110e-01, -4.97584704e-01, -8.58395075e-01,\n",
       "        -7.73964761e-01,  7.63655290e-01,  3.20305809e-01,\n",
       "         6.61868152e-01,  7.56470937e-01,  7.08577072e-01,\n",
       "         2.23606798e-01, -1.87387074e-01],\n",
       "       [ 9.18782821e-04, -8.79408760e-01,  6.84515747e-01,\n",
       "        -6.30344876e-01, -4.93014716e-01, -8.58395075e-01,\n",
       "        -4.90869550e-01,  1.38846416e+00,  8.66468278e-01,\n",
       "         6.84597884e-01,  7.56470937e-01,  7.08577072e-01,\n",
       "         2.23606798e-01, -1.87387074e-01],\n",
       "       [ 7.29819821e-01,  4.36301680e-01, -8.91083698e-01,\n",
       "        -6.54693398e-01, -4.19894899e-01,  1.71679015e+00,\n",
       "        -6.66118966e-01,  1.06118333e+00,  2.04502939e+00,\n",
       "         6.84597884e-01,  7.98998263e-02,  7.08577072e-01,\n",
       "         2.23606798e-01, -4.36542480e+00],\n",
       "       [ 4.37953145e-02,  1.38905752e+00, -1.05870066e+00,\n",
       "        -6.54766185e-01,  4.71252866e-01,  4.29197538e-01,\n",
       "        -6.77352903e-01,  1.32895856e+00,  9.52704457e-01,\n",
       "        -1.79294292e+00, -2.08512773e+00,  6.12265626e-01,\n",
       "         2.23606798e-01, -1.87387074e-01],\n",
       "       [-8.56611850e-01, -1.73915748e-02,  6.50992354e-01,\n",
       "        -6.61195561e-01,  5.67189982e+00, -8.58395075e-01,\n",
       "        -9.67188477e-01,  1.12068893e+00, -1.08821845e+00,\n",
       "         7.30057348e-01, -2.08512773e+00,  7.40680888e-01,\n",
       "         2.23606798e-01, -7.70369082e-01],\n",
       "       [ 1.58735045e+00, -2.89607528e-01, -1.02517727e+00,\n",
       "        -6.64692003e-01, -6.20974395e-01,  4.29197538e-01,\n",
       "        -1.16715255e+00,  1.06118333e+00, -1.08821845e+00,\n",
       "         5.70949224e-01,  3.23465426e-01,  6.12265626e-01,\n",
       "         2.23606798e-01, -9.02234060e-02],\n",
       "       [-1.70587344e-01,  3.90932355e-01, -1.53569064e-01,\n",
       "         6.39097999e-01, -6.16404406e-01,  4.29197538e-01,\n",
       "         5.47146225e-01,  1.29920575e+00,  9.03426640e-02,\n",
       "         6.16408688e-01,  7.83533781e-01,  3.87538917e-01,\n",
       "         2.23606798e-01,  6.87085938e-01],\n",
       "       [ 1.11570861e+00, -2.89607528e-01, -6.56419951e-01,\n",
       "         2.12334351e-01, -6.20974395e-01,  4.29197538e-01,\n",
       "        -9.73928839e-01,  1.09093613e+00, -1.08821845e+00,\n",
       "         4.11841099e-01,  6.75282403e-01, -6.07679366e-01,\n",
       "         2.23606798e-01,  8.81413274e-01],\n",
       "       [ 1.45872086e+00, -5.61823481e-01, -7.23466736e-01,\n",
       "        -5.08485381e-01, -5.52424567e-01,  4.29197538e-01,\n",
       "        -9.62694902e-01, -3.96704047e-01, -1.08821845e+00,\n",
       "         6.16408688e-01,  7.02345248e-01, -2.02024725e+00,\n",
       "         2.23606798e-01, -2.32498777e+00]])"
      ]
     },
     "execution_count": 76,
     "metadata": {},
     "output_type": "execute_result"
    }
   ],
   "source": [
    "X"
   ]
  },
  {
   "cell_type": "code",
   "execution_count": 77,
   "metadata": {},
   "outputs": [
    {
     "data": {
      "text/plain": [
       "[80.0,\n",
       " 69.0,\n",
       " 80.0,\n",
       " 79.0,\n",
       " 88.0,\n",
       " 80.0,\n",
       " 60.0,\n",
       " 59.0,\n",
       " 69.0,\n",
       " 76.0,\n",
       " 76.0,\n",
       " 57.0,\n",
       " 57.0,\n",
       " 55.0,\n",
       " 60.0,\n",
       " 64.0,\n",
       " 65.0,\n",
       " 63.0,\n",
       " 64.0,\n",
       " 92.0,\n",
       " 59.0,\n",
       " 75.0,\n",
       " 71.0,\n",
       " 67.0,\n",
       " 72.0,\n",
       " 70.0,\n",
       " 74.0,\n",
       " 47.0,\n",
       " 55.0,\n",
       " 50.0,\n",
       " 46.0,\n",
       " 64.78048780487805,\n",
       " 62.0,\n",
       " 55.0,\n",
       " 54.0,\n",
       " 31.0,\n",
       " 70.0,\n",
       " 48.0,\n",
       " 51.0,\n",
       " 77.0,\n",
       " 83.0,\n",
       " 46.0]"
      ]
     },
     "execution_count": 77,
     "metadata": {},
     "output_type": "execute_result"
    }
   ],
   "source": [
    "Y"
   ]
  },
  {
   "cell_type": "code",
   "execution_count": 78,
   "metadata": {},
   "outputs": [],
   "source": [
    "x_train, x_test, y_train, y_test = train_test_split(X,Y, test_size = 0.2, random_state=0)"
   ]
  },
  {
   "cell_type": "code",
   "execution_count": 79,
   "metadata": {},
   "outputs": [
    {
     "data": {
      "text/plain": [
       "(33, 14)"
      ]
     },
     "execution_count": 79,
     "metadata": {},
     "output_type": "execute_result"
    }
   ],
   "source": [
    "x_train.shape"
   ]
  },
  {
   "cell_type": "code",
   "execution_count": 80,
   "metadata": {},
   "outputs": [],
   "source": [
    "regr = LinearRegression()"
   ]
  },
  {
   "cell_type": "code",
   "execution_count": 81,
   "metadata": {},
   "outputs": [
    {
     "data": {
      "text/plain": [
       "LinearRegression(copy_X=True, fit_intercept=True, n_jobs=None, normalize=False)"
      ]
     },
     "execution_count": 81,
     "metadata": {},
     "output_type": "execute_result"
    }
   ],
   "source": [
    "regr.fit(x_train,y_train)"
   ]
  },
  {
   "cell_type": "code",
   "execution_count": 82,
   "metadata": {},
   "outputs": [],
   "source": [
    "y_predict = regr.predict(x_test)"
   ]
  },
  {
   "cell_type": "code",
   "execution_count": 83,
   "metadata": {},
   "outputs": [
    {
     "data": {
      "text/plain": [
       "Text(0, 0.5, 'Predicted days')"
      ]
     },
     "execution_count": 83,
     "metadata": {},
     "output_type": "execute_result"
    },
    {
     "data": {
      "image/png": "[encoded data removed]",
      "text/plain": [
       "<Figure size 432x288 with 1 Axes>"
      ]
     },
     "metadata": {
      "needs_background": "light"
     },
     "output_type": "display_data"
    }
   ],
   "source": [
    "plt.scatter(y_test, y_predict)\n",
    "plt.plot([0,100],[0,100],\"r\")\n",
    "plt.xlabel(\"Actual days\")\n",
    "plt.ylabel(\"Predicted days\")"
   ]
  },
  {
   "cell_type": "markdown",
   "metadata": {},
   "source": [
    "### Checking the model performance"
   ]
  },
  {
   "cell_type": "code",
   "execution_count": 84,
   "metadata": {},
   "outputs": [],
   "source": [
    "from sklearn.metrics import mean_squared_error\n",
    "from sklearn.metrics import r2_score"
   ]
  },
  {
   "cell_type": "code",
   "execution_count": 85,
   "metadata": {},
   "outputs": [],
   "source": [
    "lin_mse = mean_squared_error(y_test, y_predict)\n",
    "lin_rmse = np.sqrt(lin_mse)\n",
    "lin_r2 = r2_score(y_test, y_predict)"
   ]
  },
  {
   "cell_type": "code",
   "execution_count": 86,
   "metadata": {},
   "outputs": [
    {
     "name": "stdout",
     "output_type": "stream",
     "text": [
      "RMSE: 14.37924567879152, R2: -0.06281122030553443\n"
     ]
    }
   ],
   "source": [
    "print(f\"RMSE: {lin_rmse}, R2: {lin_r2}\")"
   ]
  },
  {
   "cell_type": "markdown",
   "metadata": {},
   "source": [
    "#### Model performance isn't good. \n",
    "**Check the correlation between features and output, also try with different models**\n",
    "- Lasso/ Ridge regression\n",
    "- Desicion Tree\n",
    "- RNN"
   ]
  },
  {
   "cell_type": "code",
   "execution_count": 87,
   "metadata": {},
   "outputs": [
    {
     "data": {
      "image/png": "[encoded data removed]",
      "text/plain": [
       "<Figure size 720x864 with 15 Axes>"
      ]
     },
     "metadata": {
      "needs_background": "light"
     },
     "output_type": "display_data"
    }
   ],
   "source": [
    "days_to_stability = covid_data.iloc[1:,-1].to_numpy()\n",
    "plt.figure(figsize=(10,12))\n",
    "for i, feature in enumerate(covid_data.columns):\n",
    "    plt.subplot(5,3,i+1)\n",
    "    features = covid_data.iloc[1:,i].to_numpy()\n",
    "    plt.scatter(features, days_to_stability, s=2)\n",
    "    plt.ylabel(\"Days\")\n",
    "    plt.xlabel(feature)\n",
    "    plt.tight_layout()"
   ]
  },
  {
   "cell_type": "markdown",
   "metadata": {},
   "source": [
    "### Ridge regression"
   ]
  },
  {
   "cell_type": "code",
   "execution_count": 88,
   "metadata": {},
   "outputs": [],
   "source": [
    "from sklearn.linear_model import Ridge\n",
    "from sklearn.model_selection import GridSearchCV"
   ]
  },
  {
   "cell_type": "code",
   "execution_count": 89,
   "metadata": {},
   "outputs": [],
   "source": [
    "ridge=Ridge(normalize=True)\n",
    "parameters={'alpha':[1e-15,1e-10,1e-8,1e-3,1e-2,1,5,10,20,30,35,40,45,50,55,100]}\n",
    "ridge_regressor=GridSearchCV(ridge,parameters,scoring='neg_mean_squared_error',cv=5)"
   ]
  },
  {
   "cell_type": "code",
   "execution_count": 90,
   "metadata": {},
   "outputs": [
    {
     "name": "stderr",
     "output_type": "stream",
     "text": [
      "//anaconda3/lib/python3.7/site-packages/sklearn/model_selection/_search.py:813: DeprecationWarning: The default of the `iid` parameter will change from True to False in version 0.22 and will be removed in 0.24. This will change numeric results when test-set sizes are unequal.\n",
      "  DeprecationWarning)\n"
     ]
    },
    {
     "data": {
      "text/plain": [
       "GridSearchCV(cv=5, error_score='raise-deprecating',\n",
       "             estimator=Ridge(alpha=1.0, copy_X=True, fit_intercept=True,\n",
       "                             max_iter=None, normalize=True, random_state=None,\n",
       "                             solver='auto', tol=0.001),\n",
       "             iid='warn', n_jobs=None,\n",
       "             param_grid={'alpha': [1e-15, 1e-10, 1e-08, 0.001, 0.01, 1, 5, 10,\n",
       "                                   20, 30, 35, 40, 45, 50, 55, 100]},\n",
       "             pre_dispatch='2*n_jobs', refit=True, return_train_score=False,\n",
       "             scoring='neg_mean_squared_error', verbose=0)"
      ]
     },
     "execution_count": 90,
     "metadata": {},
     "output_type": "execute_result"
    }
   ],
   "source": [
    "ridge_regressor.fit(x_train,y_train)"
   ]
  },
  {
   "cell_type": "code",
   "execution_count": 91,
   "metadata": {},
   "outputs": [],
   "source": [
    "y_predict_ridge = ridge_regressor.predict(x_test)"
   ]
  },
  {
   "cell_type": "code",
   "execution_count": 92,
   "metadata": {},
   "outputs": [
    {
     "data": {
      "text/plain": [
       "Text(0, 0.5, 'Predicted days')"
      ]
     },
     "execution_count": 92,
     "metadata": {},
     "output_type": "execute_result"
    },
    {
     "data": {
      "image/png": "[encoded data removed]",
      "text/plain": [
       "<Figure size 432x288 with 1 Axes>"
      ]
     },
     "metadata": {
      "needs_background": "light"
     },
     "output_type": "display_data"
    }
   ],
   "source": [
    "plt.scatter(y_test, y_predict_ridge)\n",
    "plt.plot([0,100],[0,100],\"r\")\n",
    "plt.xlabel(\"Actual days\")\n",
    "plt.ylabel(\"Predicted days\")"
   ]
  },
  {
   "cell_type": "code",
   "execution_count": 93,
   "metadata": {},
   "outputs": [],
   "source": [
    "ridge_mse = mean_squared_error(y_test, y_predict_ridge)\n",
    "ridge_rmse = np.sqrt(ridge_mse)\n",
    "ridge_r2 = r2_score(y_test, y_predict_ridge)"
   ]
  },
  {
   "cell_type": "code",
   "execution_count": 94,
   "metadata": {},
   "outputs": [
    {
     "name": "stdout",
     "output_type": "stream",
     "text": [
      "RMSE: 14.361292184764999, R2: -0.060158888850841974\n"
     ]
    }
   ],
   "source": [
    "print(f\"RMSE: {ridge_rmse}, R2: {ridge_r2}\")"
   ]
  },
  {
   "cell_type": "markdown",
   "metadata": {},
   "source": [
    "### Lasso Regression"
   ]
  },
  {
   "cell_type": "code",
   "execution_count": 95,
   "metadata": {},
   "outputs": [],
   "source": [
    "from sklearn.linear_model import Lasso\n",
    "from sklearn.model_selection import GridSearchCV"
   ]
  },
  {
   "cell_type": "code",
   "execution_count": 96,
   "metadata": {},
   "outputs": [],
   "source": [
    "lasso=Lasso(normalize=True)\n",
    "parameters={'alpha':[1e-15,1e-10,1e-8,1e-3,1e-2,1,5,10,20,30,35,40,45,50,55,100]}\n",
    "lasso_regressor=GridSearchCV(lasso,parameters,scoring='neg_mean_squared_error',cv=5)"
   ]
  },
  {
   "cell_type": "code",
   "execution_count": 97,
   "metadata": {},
   "outputs": [],
   "source": [
    "import warnings\n",
    "warnings.filterwarnings('ignore')"
   ]
  },
  {
   "cell_type": "code",
   "execution_count": 98,
   "metadata": {},
   "outputs": [
    {
     "data": {
      "text/plain": [
       "GridSearchCV(cv=5, error_score='raise-deprecating',\n",
       "             estimator=Lasso(alpha=1.0, copy_X=True, fit_intercept=True,\n",
       "                             max_iter=1000, normalize=True, positive=False,\n",
       "                             precompute=False, random_state=None,\n",
       "                             selection='cyclic', tol=0.0001, warm_start=False),\n",
       "             iid='warn', n_jobs=None,\n",
       "             param_grid={'alpha': [1e-15, 1e-10, 1e-08, 0.001, 0.01, 1, 5, 10,\n",
       "                                   20, 30, 35, 40, 45, 50, 55, 100]},\n",
       "             pre_dispatch='2*n_jobs', refit=True, return_train_score=False,\n",
       "             scoring='neg_mean_squared_error', verbose=0)"
      ]
     },
     "execution_count": 98,
     "metadata": {},
     "output_type": "execute_result"
    }
   ],
   "source": [
    "lasso_regressor.fit(x_train,y_train)"
   ]
  },
  {
   "cell_type": "code",
   "execution_count": 99,
   "metadata": {},
   "outputs": [],
   "source": [
    "y_predict_lasso = lasso_regressor.predict(x_test)"
   ]
  },
  {
   "cell_type": "code",
   "execution_count": 100,
   "metadata": {},
   "outputs": [
    {
     "data": {
      "text/plain": [
       "Text(0, 0.5, 'Predicted days')"
      ]
     },
     "execution_count": 100,
     "metadata": {},
     "output_type": "execute_result"
    },
    {
     "data": {
      "image/png": "[encoded data removed]",
      "text/plain": [
       "<Figure size 432x288 with 1 Axes>"
      ]
     },
     "metadata": {
      "needs_background": "light"
     },
     "output_type": "display_data"
    }
   ],
   "source": [
    "plt.scatter(y_test, y_predict_lasso)\n",
    "plt.plot([0,100],[0,100],\"r\")\n",
    "plt.xlabel(\"Actual days\")\n",
    "plt.ylabel(\"Predicted days\")"
   ]
  },
  {
   "cell_type": "code",
   "execution_count": 101,
   "metadata": {},
   "outputs": [],
   "source": [
    "lasso_mse = mean_squared_error(y_test, y_predict_lasso)\n",
    "lasso_rmse = np.sqrt(lasso_mse)\n",
    "lasso_r2 = r2_score(y_test, y_predict_lasso)"
   ]
  },
  {
   "cell_type": "code",
   "execution_count": 102,
   "metadata": {},
   "outputs": [
    {
     "name": "stdout",
     "output_type": "stream",
     "text": [
      "RMSE: 12.096687915499894, R2: 0.24782849723790512\n"
     ]
    }
   ],
   "source": [
    "print(f\"RMSE: {lasso_rmse}, R2: {lasso_r2}\")"
   ]
  },
  {
   "cell_type": "markdown",
   "metadata": {},
   "source": [
    "### Decision tree"
   ]
  },
  {
   "cell_type": "code",
   "execution_count": 103,
   "metadata": {},
   "outputs": [
    {
     "data": {
      "text/plain": [
       "DecisionTreeRegressor(criterion='mse', max_depth=None, max_features=None,\n",
       "                      max_leaf_nodes=None, min_impurity_decrease=0.0,\n",
       "                      min_impurity_split=None, min_samples_leaf=1,\n",
       "                      min_samples_split=2, min_weight_fraction_leaf=0.0,\n",
       "                      presort=False, random_state=42, splitter='best')"
      ]
     },
     "execution_count": 103,
     "metadata": {},
     "output_type": "execute_result"
    }
   ],
   "source": [
    "from sklearn.tree import DecisionTreeRegressor\n",
    "tree_reg = DecisionTreeRegressor(random_state=42)\n",
    "tree_reg.fit(x_train,y_train)"
   ]
  },
  {
   "cell_type": "code",
   "execution_count": 104,
   "metadata": {},
   "outputs": [],
   "source": [
    "tree_reg_prediction = tree_reg.predict(x_test)"
   ]
  },
  {
   "cell_type": "code",
   "execution_count": 105,
   "metadata": {},
   "outputs": [
    {
     "data": {
      "text/plain": [
       "Text(0, 0.5, 'Predicted days')"
      ]
     },
     "execution_count": 105,
     "metadata": {},
     "output_type": "execute_result"
    },
    {
     "data": {
      "image/png": "[encoded data removed]",
      "text/plain": [
       "<Figure size 432x288 with 1 Axes>"
      ]
     },
     "metadata": {
      "needs_background": "light"
     },
     "output_type": "display_data"
    }
   ],
   "source": [
    "plt.scatter(y_test, tree_reg_prediction)\n",
    "plt.plot([0,100],[0,100],\"r\")\n",
    "plt.xlabel(\"Actual days\")\n",
    "plt.ylabel(\"Predicted days\")"
   ]
  },
  {
   "cell_type": "code",
   "execution_count": 106,
   "metadata": {},
   "outputs": [],
   "source": [
    "tree_mse = mean_squared_error(y_test, tree_reg_prediction)\n",
    "tree_rmse = np.sqrt(tree_mse)\n",
    "tree_r2 = r2_score(y_test, tree_reg_prediction)"
   ]
  },
  {
   "cell_type": "code",
   "execution_count": 107,
   "metadata": {},
   "outputs": [
    {
     "name": "stdout",
     "output_type": "stream",
     "text": [
      "RMSE: 13.848385385227326, R2: 0.014215001903794988\n"
     ]
    }
   ],
   "source": [
    "print(f\"RMSE: {tree_rmse}, R2: {tree_r2}\")"
   ]
  },
  {
   "cell_type": "markdown",
   "metadata": {},
   "source": [
    "#### Result \n",
    "- linear Regression: RMSE: 14.37924567879152, R2: -0.06281122030553443\n",
    "- Ridge Regression: RMSE: 14.361292184765, R2: -0.06015888885084242\n",
    "- Lasso Regression: RMSE: 12.096687915499892, R2: 0.24782849723790523\n",
    "- Decision tree: RMSE: 13.848385385227326, R2: 0.014215001903794988\n",
    "- **Conclusion: Lasso Regression has the best performance in machine learning**"
   ]
  },
  {
   "cell_type": "code",
   "execution_count": 108,
   "metadata": {},
   "outputs": [],
   "source": [
    "import seaborn as sns"
   ]
  },
  {
   "cell_type": "markdown",
   "metadata": {},
   "source": [
    "#### Plotting the performance"
   ]
  },
  {
   "cell_type": "code",
   "execution_count": 109,
   "metadata": {},
   "outputs": [
    {
     "data": {
      "text/plain": [
       "<matplotlib.axes._subplots.AxesSubplot at 0x11fa11780>"
      ]
     },
     "execution_count": 109,
     "metadata": {},
     "output_type": "execute_result"
    },
    {
     "data": {
      "image/png": "[encoded data removed]",
      "text/plain": [
       "<Figure size 720x576 with 4 Axes>"
      ]
     },
     "metadata": {
      "needs_background": "light"
     },
     "output_type": "display_data"
    }
   ],
   "source": [
    "plt.figure(figsize=(10, 8))\n",
    "\n",
    "plt.subplot(2, 2, 1)\n",
    "sns.set_style('dark')\n",
    "plt.title('Simple Linear Regression');\n",
    "sns.distplot(y_test - y_predict, kde=True)\n",
    "\n",
    "plt.subplot(2, 2, 2)\n",
    "sns.set_style('dark')\n",
    "plt.title('Ridge Regression')\n",
    "sns.distplot(y_test-y_predict_ridge, kde = True)\n",
    "\n",
    "plt.subplot(2, 2, 3)\n",
    "sns.set_style('dark')\n",
    "plt.title('Lasso Regression')\n",
    "sns.distplot(y_test-y_predict_lasso, kde = True)\n",
    "\n",
    "plt.subplot(2, 2, 4)\n",
    "sns.set_style('dark')\n",
    "plt.title('Decision Tree')\n",
    "sns.distplot(y_test-tree_reg_prediction, kde = True)"
   ]
  },
  {
   "cell_type": "markdown",
   "metadata": {},
   "source": [
    "#### Use Lasso Regression to predict when will USA control the pandamic"
   ]
  },
  {
   "cell_type": "code",
   "execution_count": 110,
   "metadata": {},
   "outputs": [],
   "source": [
    "# build a Lasso model\n",
    "lasso=Lasso(normalize=True)\n",
    "parameters={'alpha':[1e-15,1e-10,1e-8,1e-3,1e-2,1,5,10,20,30,35,40,45,50,55,100]}\n",
    "lasso_regressor_usa=GridSearchCV(lasso,parameters,scoring='neg_mean_squared_error',cv=5)"
   ]
  },
  {
   "cell_type": "code",
   "execution_count": 111,
   "metadata": {},
   "outputs": [],
   "source": [
    "import warnings\n",
    "warnings.filterwarnings('ignore')"
   ]
  },
  {
   "cell_type": "code",
   "execution_count": 112,
   "metadata": {},
   "outputs": [],
   "source": [
    "usa = covid_data.loc[\"USA\",:\"Days to Peak\"]"
   ]
  },
  {
   "cell_type": "code",
   "execution_count": 113,
   "metadata": {},
   "outputs": [],
   "source": [
    "x_usa = usa.values.reshape(1,14)"
   ]
  },
  {
   "cell_type": "code",
   "execution_count": 114,
   "metadata": {},
   "outputs": [],
   "source": [
    "y_predict_usa = lasso_regressor.predict(x_usa)"
   ]
  },
  {
   "cell_type": "code",
   "execution_count": 115,
   "metadata": {},
   "outputs": [
    {
     "data": {
      "text/plain": [
       "array([431.42153959])"
      ]
     },
     "execution_count": 115,
     "metadata": {},
     "output_type": "execute_result"
    }
   ],
   "source": [
    "y_predict_usa"
   ]
  },
  {
   "cell_type": "code",
   "execution_count": 116,
   "metadata": {},
   "outputs": [],
   "source": [
    "usa_starting_date = covid_original.loc[(covid_original[\"location\"] ==\"United States\")&(covid_original[\"total_cases\"]>=30), [\"date\",\"total_cases\"]]"
   ]
  },
  {
   "cell_type": "code",
   "execution_count": 117,
   "metadata": {},
   "outputs": [],
   "source": [
    "usa_start = usa_starting_date[\"date\"].tolist()"
   ]
  },
  {
   "cell_type": "code",
   "execution_count": 118,
   "metadata": {},
   "outputs": [
    {
     "data": {
      "text/plain": [
       "'2020-02-22'"
      ]
     },
     "execution_count": 118,
     "metadata": {},
     "output_type": "execute_result"
    }
   ],
   "source": [
    "usa_start[0]"
   ]
  },
  {
   "cell_type": "code",
   "execution_count": 119,
   "metadata": {},
   "outputs": [],
   "source": [
    "import datetime"
   ]
  },
  {
   "cell_type": "code",
   "execution_count": 120,
   "metadata": {},
   "outputs": [],
   "source": [
    "lc_case[\"date\"] = pd.to_datetime(lc_case[\"date\"],format=\"%Y-%m-%d\")"
   ]
  },
  {
   "cell_type": "code",
   "execution_count": 121,
   "metadata": {},
   "outputs": [],
   "source": [
    "usa_start[0] = pd.to_datetime(usa_start[0],format=\"%Y-%m-%d\")"
   ]
  },
  {
   "cell_type": "code",
   "execution_count": 122,
   "metadata": {},
   "outputs": [],
   "source": [
    "usa_to_stability = usa_start[0] + datetime.timedelta(days=431)"
   ]
  },
  {
   "cell_type": "code",
   "execution_count": 123,
   "metadata": {},
   "outputs": [
    {
     "data": {
      "text/plain": [
       "Timestamp('2021-04-28 00:00:00')"
      ]
     },
     "execution_count": 123,
     "metadata": {},
     "output_type": "execute_result"
    }
   ],
   "source": [
    "usa_to_stability"
   ]
  },
  {
   "cell_type": "markdown",
   "metadata": {},
   "source": [
    "### USA will reach stability on 2021/04/28"
   ]
  },
  {
   "cell_type": "markdown",
   "metadata": {},
   "source": [
    "#### Check USA total cases changing timeline"
   ]
  },
  {
   "cell_type": "code",
   "execution_count": 124,
   "metadata": {},
   "outputs": [
    {
     "data": {
      "text/plain": [
       "<matplotlib.legend.Legend at 0x11f9c9588>"
      ]
     },
     "execution_count": 124,
     "metadata": {},
     "output_type": "execute_result"
    },
    {
     "data": {
      "image/png": "[encoded data removed]",
      "text/plain": [
       "<Figure size 1296x720 with 1 Axes>"
      ]
     },
     "metadata": {},
     "output_type": "display_data"
    }
   ],
   "source": [
    "plt.figure(figsize = (18,10))\n",
    "plt.plot(usa_starting_date[\"date\"],usa_starting_date[\"total_cases\"], label = \"USA\")\n",
    "plt.xlabel('Date',fontsize=18)\n",
    "plt.ylabel('Cases',fontsize=18)\n",
    "plt.legend(loc='upper right')"
   ]
  },
  {
   "cell_type": "markdown",
   "metadata": {},
   "source": [
    "## Try with Deep Learning"
   ]
  },
  {
   "cell_type": "code",
   "execution_count": 205,
   "metadata": {},
   "outputs": [],
   "source": [
    "import pandas as pd\n",
    "import numpy as np\n",
    "from keras.models import Sequential\n",
    "from keras.layers import Dense, Dropout, Activation, Flatten, LSTM, TimeDistributed, RepeatVector\n",
    "from keras.layers.normalization import BatchNormalization\n",
    "from keras.optimizers import Adam\n",
    "from keras.callbacks import EarlyStopping, ModelCheckpoint\n",
    "import matplotlib.pyplot as plt\n",
    "%matplotlib inline"
   ]
  },
  {
   "cell_type": "code",
   "execution_count": 206,
   "metadata": {},
   "outputs": [],
   "source": [
    "covid_original = pd.read_csv(\"owid-covid-data.csv\")"
   ]
  },
  {
   "cell_type": "code",
   "execution_count": 207,
   "metadata": {
    "scrolled": true
   },
   "outputs": [
    {
     "data": {
      "text/plain": [
       "Index(['iso_code', 'continent', 'location', 'date', 'total_cases', 'new_cases',\n",
       "       'total_deaths', 'new_deaths', 'total_cases_per_million',\n",
       "       'new_cases_per_million', 'total_deaths_per_million',\n",
       "       'new_deaths_per_million', 'total_tests', 'new_tests',\n",
       "       'total_tests_per_thousand', 'new_tests_per_thousand',\n",
       "       'new_tests_smoothed', 'new_tests_smoothed_per_thousand', 'tests_units',\n",
       "       'stringency_index', 'population', 'population_density', 'median_age',\n",
       "       'aged_65_older', 'aged_70_older', 'gdp_per_capita', 'extreme_poverty',\n",
       "       'cvd_death_rate', 'diabetes_prevalence', 'female_smokers',\n",
       "       'male_smokers', 'handwashing_facilities', 'hospital_beds_per_thousand'],\n",
       "      dtype='object')"
      ]
     },
     "execution_count": 207,
     "metadata": {},
     "output_type": "execute_result"
    }
   ],
   "source": [
    "covid_original.columns"
   ]
  },
  {
   "cell_type": "code",
   "execution_count": 208,
   "metadata": {},
   "outputs": [],
   "source": [
    "del covid_original[\"iso_code\"]\n",
    "del covid_original[\"continent\"]"
   ]
  },
  {
   "cell_type": "code",
   "execution_count": 209,
   "metadata": {},
   "outputs": [],
   "source": [
    "covid_original.set_index(\"location\", inplace= True)"
   ]
  },
  {
   "cell_type": "code",
   "execution_count": 210,
   "metadata": {},
   "outputs": [],
   "source": [
    "covid_usa = covid_original.loc[\"United States\"]"
   ]
  },
  {
   "cell_type": "code",
   "execution_count": 211,
   "metadata": {
    "collapsed": true
   },
   "outputs": [
    {
     "data": {
      "text/html": [
       "<div>\n",
       "<style scoped>\n",
       "    .dataframe tbody tr th:only-of-type {\n",
       "        vertical-align: middle;\n",
       "    }\n",
       "\n",
       "    .dataframe tbody tr th {\n",
       "        vertical-align: top;\n",
       "    }\n",
       "\n",
       "    .dataframe thead th {\n",
       "        text-align: right;\n",
       "    }\n",
       "</style>\n",
       "<table border=\"1\" class=\"dataframe\">\n",
       "  <thead>\n",
       "    <tr style=\"text-align: right;\">\n",
       "      <th></th>\n",
       "      <th>total_cases</th>\n",
       "      <th>new_cases</th>\n",
       "      <th>total_deaths</th>\n",
       "      <th>new_deaths</th>\n",
       "      <th>total_cases_per_million</th>\n",
       "      <th>new_cases_per_million</th>\n",
       "      <th>total_deaths_per_million</th>\n",
       "      <th>new_deaths_per_million</th>\n",
       "      <th>total_tests</th>\n",
       "      <th>new_tests</th>\n",
       "      <th>...</th>\n",
       "      <th>aged_65_older</th>\n",
       "      <th>aged_70_older</th>\n",
       "      <th>gdp_per_capita</th>\n",
       "      <th>extreme_poverty</th>\n",
       "      <th>cvd_death_rate</th>\n",
       "      <th>diabetes_prevalence</th>\n",
       "      <th>female_smokers</th>\n",
       "      <th>male_smokers</th>\n",
       "      <th>handwashing_facilities</th>\n",
       "      <th>hospital_beds_per_thousand</th>\n",
       "    </tr>\n",
       "  </thead>\n",
       "  <tbody>\n",
       "    <tr>\n",
       "      <th>count</th>\n",
       "      <td>1.600000e+02</td>\n",
       "      <td>160.000000</td>\n",
       "      <td>160.000000</td>\n",
       "      <td>160.000000</td>\n",
       "      <td>160.000000</td>\n",
       "      <td>160.000000</td>\n",
       "      <td>160.000000</td>\n",
       "      <td>160.000000</td>\n",
       "      <td>1.600000e+01</td>\n",
       "      <td>1.000000e+01</td>\n",
       "      <td>...</td>\n",
       "      <td>1.600000e+02</td>\n",
       "      <td>1.600000e+02</td>\n",
       "      <td>1.600000e+02</td>\n",
       "      <td>1.600000e+02</td>\n",
       "      <td>1.600000e+02</td>\n",
       "      <td>1.600000e+02</td>\n",
       "      <td>1.600000e+02</td>\n",
       "      <td>1.600000e+02</td>\n",
       "      <td>0.0</td>\n",
       "      <td>1.600000e+02</td>\n",
       "    </tr>\n",
       "    <tr>\n",
       "      <th>mean</th>\n",
       "      <td>4.818536e+05</td>\n",
       "      <td>12000.381250</td>\n",
       "      <td>27032.362500</td>\n",
       "      <td>686.262500</td>\n",
       "      <td>1455.739431</td>\n",
       "      <td>36.254631</td>\n",
       "      <td>81.668094</td>\n",
       "      <td>2.073275</td>\n",
       "      <td>1.494961e+07</td>\n",
       "      <td>6.970305e+05</td>\n",
       "      <td>...</td>\n",
       "      <td>1.541300e+01</td>\n",
       "      <td>9.732000e+00</td>\n",
       "      <td>5.422545e+04</td>\n",
       "      <td>1.200000e+00</td>\n",
       "      <td>1.510890e+02</td>\n",
       "      <td>1.079000e+01</td>\n",
       "      <td>1.910000e+01</td>\n",
       "      <td>2.460000e+01</td>\n",
       "      <td>NaN</td>\n",
       "      <td>2.770000e+00</td>\n",
       "    </tr>\n",
       "    <tr>\n",
       "      <th>std</th>\n",
       "      <td>6.433015e+05</td>\n",
       "      <td>12963.617675</td>\n",
       "      <td>38245.464744</td>\n",
       "      <td>905.769054</td>\n",
       "      <td>1943.493459</td>\n",
       "      <td>39.164716</td>\n",
       "      <td>115.544289</td>\n",
       "      <td>2.736452</td>\n",
       "      <td>3.575221e+06</td>\n",
       "      <td>3.766444e+05</td>\n",
       "      <td>...</td>\n",
       "      <td>7.127736e-15</td>\n",
       "      <td>1.603741e-14</td>\n",
       "      <td>2.335617e-10</td>\n",
       "      <td>2.450159e-15</td>\n",
       "      <td>2.851095e-14</td>\n",
       "      <td>2.316514e-14</td>\n",
       "      <td>5.702189e-14</td>\n",
       "      <td>6.414963e-14</td>\n",
       "      <td>NaN</td>\n",
       "      <td>4.900319e-15</td>\n",
       "    </tr>\n",
       "    <tr>\n",
       "      <th>min</th>\n",
       "      <td>0.000000e+00</td>\n",
       "      <td>0.000000</td>\n",
       "      <td>0.000000</td>\n",
       "      <td>0.000000</td>\n",
       "      <td>0.000000</td>\n",
       "      <td>0.000000</td>\n",
       "      <td>0.000000</td>\n",
       "      <td>0.000000</td>\n",
       "      <td>9.724879e+06</td>\n",
       "      <td>3.166840e+05</td>\n",
       "      <td>...</td>\n",
       "      <td>1.541300e+01</td>\n",
       "      <td>9.732000e+00</td>\n",
       "      <td>5.422545e+04</td>\n",
       "      <td>1.200000e+00</td>\n",
       "      <td>1.510890e+02</td>\n",
       "      <td>1.079000e+01</td>\n",
       "      <td>1.910000e+01</td>\n",
       "      <td>2.460000e+01</td>\n",
       "      <td>NaN</td>\n",
       "      <td>2.770000e+00</td>\n",
       "    </tr>\n",
       "    <tr>\n",
       "      <th>25%</th>\n",
       "      <td>1.200000e+01</td>\n",
       "      <td>0.000000</td>\n",
       "      <td>0.000000</td>\n",
       "      <td>0.000000</td>\n",
       "      <td>0.036000</td>\n",
       "      <td>0.000000</td>\n",
       "      <td>0.000000</td>\n",
       "      <td>0.000000</td>\n",
       "      <td>1.227155e+07</td>\n",
       "      <td>4.447192e+05</td>\n",
       "      <td>...</td>\n",
       "      <td>1.541300e+01</td>\n",
       "      <td>9.732000e+00</td>\n",
       "      <td>5.422545e+04</td>\n",
       "      <td>1.200000e+00</td>\n",
       "      <td>1.510890e+02</td>\n",
       "      <td>1.079000e+01</td>\n",
       "      <td>1.910000e+01</td>\n",
       "      <td>2.460000e+01</td>\n",
       "      <td>NaN</td>\n",
       "      <td>2.770000e+00</td>\n",
       "    </tr>\n",
       "    <tr>\n",
       "      <th>50%</th>\n",
       "      <td>1.183250e+04</td>\n",
       "      <td>3911.500000</td>\n",
       "      <td>150.000000</td>\n",
       "      <td>32.500000</td>\n",
       "      <td>35.747500</td>\n",
       "      <td>11.817000</td>\n",
       "      <td>0.453000</td>\n",
       "      <td>0.098000</td>\n",
       "      <td>1.465758e+07</td>\n",
       "      <td>5.331505e+05</td>\n",
       "      <td>...</td>\n",
       "      <td>1.541300e+01</td>\n",
       "      <td>9.732000e+00</td>\n",
       "      <td>5.422545e+04</td>\n",
       "      <td>1.200000e+00</td>\n",
       "      <td>1.510890e+02</td>\n",
       "      <td>1.079000e+01</td>\n",
       "      <td>1.910000e+01</td>\n",
       "      <td>2.460000e+01</td>\n",
       "      <td>NaN</td>\n",
       "      <td>2.770000e+00</td>\n",
       "    </tr>\n",
       "    <tr>\n",
       "      <th>75%</th>\n",
       "      <td>9.944840e+05</td>\n",
       "      <td>24135.750000</td>\n",
       "      <td>56772.500000</td>\n",
       "      <td>1299.000000</td>\n",
       "      <td>3004.459500</td>\n",
       "      <td>72.917250</td>\n",
       "      <td>171.516750</td>\n",
       "      <td>3.924250</td>\n",
       "      <td>1.793620e+07</td>\n",
       "      <td>9.350148e+05</td>\n",
       "      <td>...</td>\n",
       "      <td>1.541300e+01</td>\n",
       "      <td>9.732000e+00</td>\n",
       "      <td>5.422545e+04</td>\n",
       "      <td>1.200000e+00</td>\n",
       "      <td>1.510890e+02</td>\n",
       "      <td>1.079000e+01</td>\n",
       "      <td>1.910000e+01</td>\n",
       "      <td>2.460000e+01</td>\n",
       "      <td>NaN</td>\n",
       "      <td>2.770000e+00</td>\n",
       "    </tr>\n",
       "    <tr>\n",
       "      <th>max</th>\n",
       "      <td>1.920061e+06</td>\n",
       "      <td>48529.000000</td>\n",
       "      <td>109802.000000</td>\n",
       "      <td>4928.000000</td>\n",
       "      <td>5800.742000</td>\n",
       "      <td>146.612000</td>\n",
       "      <td>331.725000</td>\n",
       "      <td>14.888000</td>\n",
       "      <td>2.038485e+07</td>\n",
       "      <td>1.318362e+06</td>\n",
       "      <td>...</td>\n",
       "      <td>1.541300e+01</td>\n",
       "      <td>9.732000e+00</td>\n",
       "      <td>5.422545e+04</td>\n",
       "      <td>1.200000e+00</td>\n",
       "      <td>1.510890e+02</td>\n",
       "      <td>1.079000e+01</td>\n",
       "      <td>1.910000e+01</td>\n",
       "      <td>2.460000e+01</td>\n",
       "      <td>NaN</td>\n",
       "      <td>2.770000e+00</td>\n",
       "    </tr>\n",
       "  </tbody>\n",
       "</table>\n",
       "<p>8 rows × 28 columns</p>\n",
       "</div>"
      ],
      "text/plain": [
       "        total_cases     new_cases   total_deaths   new_deaths  \\\n",
       "count  1.600000e+02    160.000000     160.000000   160.000000   \n",
       "mean   4.818536e+05  12000.381250   27032.362500   686.262500   \n",
       "std    6.433015e+05  12963.617675   38245.464744   905.769054   \n",
       "min    0.000000e+00      0.000000       0.000000     0.000000   \n",
       "25%    1.200000e+01      0.000000       0.000000     0.000000   \n",
       "50%    1.183250e+04   3911.500000     150.000000    32.500000   \n",
       "75%    9.944840e+05  24135.750000   56772.500000  1299.000000   \n",
       "max    1.920061e+06  48529.000000  109802.000000  4928.000000   \n",
       "\n",
       "       total_cases_per_million  new_cases_per_million  \\\n",
       "count               160.000000             160.000000   \n",
       "mean               1455.739431              36.254631   \n",
       "std                1943.493459              39.164716   \n",
       "min                   0.000000               0.000000   \n",
       "25%                   0.036000               0.000000   \n",
       "50%                  35.747500              11.817000   \n",
       "75%                3004.459500              72.917250   \n",
       "max                5800.742000             146.612000   \n",
       "\n",
       "       total_deaths_per_million  new_deaths_per_million   total_tests  \\\n",
       "count                160.000000              160.000000  1.600000e+01   \n",
       "mean                  81.668094                2.073275  1.494961e+07   \n",
       "std                  115.544289                2.736452  3.575221e+06   \n",
       "min                    0.000000                0.000000  9.724879e+06   \n",
       "25%                    0.000000                0.000000  1.227155e+07   \n",
       "50%                    0.453000                0.098000  1.465758e+07   \n",
       "75%                  171.516750                3.924250  1.793620e+07   \n",
       "max                  331.725000               14.888000  2.038485e+07   \n",
       "\n",
       "          new_tests  ...  aged_65_older  aged_70_older  gdp_per_capita  \\\n",
       "count  1.000000e+01  ...   1.600000e+02   1.600000e+02    1.600000e+02   \n",
       "mean   6.970305e+05  ...   1.541300e+01   9.732000e+00    5.422545e+04   \n",
       "std    3.766444e+05  ...   7.127736e-15   1.603741e-14    2.335617e-10   \n",
       "min    3.166840e+05  ...   1.541300e+01   9.732000e+00    5.422545e+04   \n",
       "25%    4.447192e+05  ...   1.541300e+01   9.732000e+00    5.422545e+04   \n",
       "50%    5.331505e+05  ...   1.541300e+01   9.732000e+00    5.422545e+04   \n",
       "75%    9.350148e+05  ...   1.541300e+01   9.732000e+00    5.422545e+04   \n",
       "max    1.318362e+06  ...   1.541300e+01   9.732000e+00    5.422545e+04   \n",
       "\n",
       "       extreme_poverty  cvd_death_rate  diabetes_prevalence  female_smokers  \\\n",
       "count     1.600000e+02    1.600000e+02         1.600000e+02    1.600000e+02   \n",
       "mean      1.200000e+00    1.510890e+02         1.079000e+01    1.910000e+01   \n",
       "std       2.450159e-15    2.851095e-14         2.316514e-14    5.702189e-14   \n",
       "min       1.200000e+00    1.510890e+02         1.079000e+01    1.910000e+01   \n",
       "25%       1.200000e+00    1.510890e+02         1.079000e+01    1.910000e+01   \n",
       "50%       1.200000e+00    1.510890e+02         1.079000e+01    1.910000e+01   \n",
       "75%       1.200000e+00    1.510890e+02         1.079000e+01    1.910000e+01   \n",
       "max       1.200000e+00    1.510890e+02         1.079000e+01    1.910000e+01   \n",
       "\n",
       "       male_smokers  handwashing_facilities  hospital_beds_per_thousand  \n",
       "count  1.600000e+02                     0.0                1.600000e+02  \n",
       "mean   2.460000e+01                     NaN                2.770000e+00  \n",
       "std    6.414963e-14                     NaN                4.900319e-15  \n",
       "min    2.460000e+01                     NaN                2.770000e+00  \n",
       "25%    2.460000e+01                     NaN                2.770000e+00  \n",
       "50%    2.460000e+01                     NaN                2.770000e+00  \n",
       "75%    2.460000e+01                     NaN                2.770000e+00  \n",
       "max    2.460000e+01                     NaN                2.770000e+00  \n",
       "\n",
       "[8 rows x 28 columns]"
      ]
     },
     "execution_count": 211,
     "metadata": {},
     "output_type": "execute_result"
    }
   ],
   "source": [
    "covid_usa.describe()"
   ]
  },
  {
   "cell_type": "code",
   "execution_count": 212,
   "metadata": {
    "collapsed": true
   },
   "outputs": [
    {
     "name": "stdout",
     "output_type": "stream",
     "text": [
      "<class 'pandas.core.frame.DataFrame'>\n",
      "Index: 160 entries, United States to United States\n",
      "Data columns (total 30 columns):\n",
      "date                               160 non-null object\n",
      "total_cases                        160 non-null int64\n",
      "new_cases                          160 non-null int64\n",
      "total_deaths                       160 non-null int64\n",
      "new_deaths                         160 non-null int64\n",
      "total_cases_per_million            160 non-null float64\n",
      "new_cases_per_million              160 non-null float64\n",
      "total_deaths_per_million           160 non-null float64\n",
      "new_deaths_per_million             160 non-null float64\n",
      "total_tests                        16 non-null float64\n",
      "new_tests                          10 non-null float64\n",
      "total_tests_per_thousand           16 non-null float64\n",
      "new_tests_per_thousand             10 non-null float64\n",
      "new_tests_smoothed                 18 non-null float64\n",
      "new_tests_smoothed_per_thousand    18 non-null float64\n",
      "tests_units                        25 non-null object\n",
      "stringency_index                   156 non-null float64\n",
      "population                         160 non-null float64\n",
      "population_density                 160 non-null float64\n",
      "median_age                         160 non-null float64\n",
      "aged_65_older                      160 non-null float64\n",
      "aged_70_older                      160 non-null float64\n",
      "gdp_per_capita                     160 non-null float64\n",
      "extreme_poverty                    160 non-null float64\n",
      "cvd_death_rate                     160 non-null float64\n",
      "diabetes_prevalence                160 non-null float64\n",
      "female_smokers                     160 non-null float64\n",
      "male_smokers                       160 non-null float64\n",
      "handwashing_facilities             0 non-null float64\n",
      "hospital_beds_per_thousand         160 non-null float64\n",
      "dtypes: float64(24), int64(4), object(2)\n",
      "memory usage: 38.8+ KB\n"
     ]
    }
   ],
   "source": [
    "covid_usa.info()"
   ]
  },
  {
   "cell_type": "code",
   "execution_count": 213,
   "metadata": {},
   "outputs": [],
   "source": [
    "covid_usa.dropna(axis =1, inplace = True)"
   ]
  },
  {
   "cell_type": "code",
   "execution_count": 214,
   "metadata": {},
   "outputs": [],
   "source": [
    "covid_usa = covid_usa.drop([\"date\"],axis = 1)"
   ]
  },
  {
   "cell_type": "code",
   "execution_count": 215,
   "metadata": {},
   "outputs": [],
   "source": [
    "covid_usa_test = covid_usa.copy()"
   ]
  },
  {
   "cell_type": "markdown",
   "metadata": {},
   "source": [
    "#### Ignore the columns that store same value, so only take from first column to \"new_deaths_per_million\" "
   ]
  },
  {
   "cell_type": "code",
   "execution_count": 216,
   "metadata": {},
   "outputs": [],
   "source": [
    "covid_usa_test = covid_usa_test.loc[:,:\"new_deaths_per_million\"]"
   ]
  },
  {
   "cell_type": "code",
   "execution_count": 217,
   "metadata": {
    "collapsed": true
   },
   "outputs": [
    {
     "data": {
      "text/html": [
       "<div>\n",
       "<style scoped>\n",
       "    .dataframe tbody tr th:only-of-type {\n",
       "        vertical-align: middle;\n",
       "    }\n",
       "\n",
       "    .dataframe tbody tr th {\n",
       "        vertical-align: top;\n",
       "    }\n",
       "\n",
       "    .dataframe thead th {\n",
       "        text-align: right;\n",
       "    }\n",
       "</style>\n",
       "<table border=\"1\" class=\"dataframe\">\n",
       "  <thead>\n",
       "    <tr style=\"text-align: right;\">\n",
       "      <th></th>\n",
       "      <th>total_cases</th>\n",
       "      <th>new_cases</th>\n",
       "      <th>total_deaths</th>\n",
       "      <th>new_deaths</th>\n",
       "      <th>total_cases_per_million</th>\n",
       "      <th>new_cases_per_million</th>\n",
       "      <th>total_deaths_per_million</th>\n",
       "      <th>new_deaths_per_million</th>\n",
       "    </tr>\n",
       "    <tr>\n",
       "      <th>location</th>\n",
       "      <th></th>\n",
       "      <th></th>\n",
       "      <th></th>\n",
       "      <th></th>\n",
       "      <th></th>\n",
       "      <th></th>\n",
       "      <th></th>\n",
       "      <th></th>\n",
       "    </tr>\n",
       "  </thead>\n",
       "  <tbody>\n",
       "    <tr>\n",
       "      <th>United States</th>\n",
       "      <td>0</td>\n",
       "      <td>0</td>\n",
       "      <td>0</td>\n",
       "      <td>0</td>\n",
       "      <td>0.000</td>\n",
       "      <td>0.000</td>\n",
       "      <td>0.000</td>\n",
       "      <td>0.000</td>\n",
       "    </tr>\n",
       "    <tr>\n",
       "      <th>United States</th>\n",
       "      <td>0</td>\n",
       "      <td>0</td>\n",
       "      <td>0</td>\n",
       "      <td>0</td>\n",
       "      <td>0.000</td>\n",
       "      <td>0.000</td>\n",
       "      <td>0.000</td>\n",
       "      <td>0.000</td>\n",
       "    </tr>\n",
       "    <tr>\n",
       "      <th>United States</th>\n",
       "      <td>0</td>\n",
       "      <td>0</td>\n",
       "      <td>0</td>\n",
       "      <td>0</td>\n",
       "      <td>0.000</td>\n",
       "      <td>0.000</td>\n",
       "      <td>0.000</td>\n",
       "      <td>0.000</td>\n",
       "    </tr>\n",
       "    <tr>\n",
       "      <th>United States</th>\n",
       "      <td>0</td>\n",
       "      <td>0</td>\n",
       "      <td>0</td>\n",
       "      <td>0</td>\n",
       "      <td>0.000</td>\n",
       "      <td>0.000</td>\n",
       "      <td>0.000</td>\n",
       "      <td>0.000</td>\n",
       "    </tr>\n",
       "    <tr>\n",
       "      <th>United States</th>\n",
       "      <td>0</td>\n",
       "      <td>0</td>\n",
       "      <td>0</td>\n",
       "      <td>0</td>\n",
       "      <td>0.000</td>\n",
       "      <td>0.000</td>\n",
       "      <td>0.000</td>\n",
       "      <td>0.000</td>\n",
       "    </tr>\n",
       "    <tr>\n",
       "      <th>United States</th>\n",
       "      <td>0</td>\n",
       "      <td>0</td>\n",
       "      <td>0</td>\n",
       "      <td>0</td>\n",
       "      <td>0.000</td>\n",
       "      <td>0.000</td>\n",
       "      <td>0.000</td>\n",
       "      <td>0.000</td>\n",
       "    </tr>\n",
       "    <tr>\n",
       "      <th>United States</th>\n",
       "      <td>0</td>\n",
       "      <td>0</td>\n",
       "      <td>0</td>\n",
       "      <td>0</td>\n",
       "      <td>0.000</td>\n",
       "      <td>0.000</td>\n",
       "      <td>0.000</td>\n",
       "      <td>0.000</td>\n",
       "    </tr>\n",
       "    <tr>\n",
       "      <th>United States</th>\n",
       "      <td>0</td>\n",
       "      <td>0</td>\n",
       "      <td>0</td>\n",
       "      <td>0</td>\n",
       "      <td>0.000</td>\n",
       "      <td>0.000</td>\n",
       "      <td>0.000</td>\n",
       "      <td>0.000</td>\n",
       "    </tr>\n",
       "    <tr>\n",
       "      <th>United States</th>\n",
       "      <td>0</td>\n",
       "      <td>0</td>\n",
       "      <td>0</td>\n",
       "      <td>0</td>\n",
       "      <td>0.000</td>\n",
       "      <td>0.000</td>\n",
       "      <td>0.000</td>\n",
       "      <td>0.000</td>\n",
       "    </tr>\n",
       "    <tr>\n",
       "      <th>United States</th>\n",
       "      <td>0</td>\n",
       "      <td>0</td>\n",
       "      <td>0</td>\n",
       "      <td>0</td>\n",
       "      <td>0.000</td>\n",
       "      <td>0.000</td>\n",
       "      <td>0.000</td>\n",
       "      <td>0.000</td>\n",
       "    </tr>\n",
       "    <tr>\n",
       "      <th>United States</th>\n",
       "      <td>0</td>\n",
       "      <td>0</td>\n",
       "      <td>0</td>\n",
       "      <td>0</td>\n",
       "      <td>0.000</td>\n",
       "      <td>0.000</td>\n",
       "      <td>0.000</td>\n",
       "      <td>0.000</td>\n",
       "    </tr>\n",
       "    <tr>\n",
       "      <th>United States</th>\n",
       "      <td>0</td>\n",
       "      <td>0</td>\n",
       "      <td>0</td>\n",
       "      <td>0</td>\n",
       "      <td>0.000</td>\n",
       "      <td>0.000</td>\n",
       "      <td>0.000</td>\n",
       "      <td>0.000</td>\n",
       "    </tr>\n",
       "    <tr>\n",
       "      <th>United States</th>\n",
       "      <td>0</td>\n",
       "      <td>0</td>\n",
       "      <td>0</td>\n",
       "      <td>0</td>\n",
       "      <td>0.000</td>\n",
       "      <td>0.000</td>\n",
       "      <td>0.000</td>\n",
       "      <td>0.000</td>\n",
       "    </tr>\n",
       "    <tr>\n",
       "      <th>United States</th>\n",
       "      <td>0</td>\n",
       "      <td>0</td>\n",
       "      <td>0</td>\n",
       "      <td>0</td>\n",
       "      <td>0.000</td>\n",
       "      <td>0.000</td>\n",
       "      <td>0.000</td>\n",
       "      <td>0.000</td>\n",
       "    </tr>\n",
       "    <tr>\n",
       "      <th>United States</th>\n",
       "      <td>0</td>\n",
       "      <td>0</td>\n",
       "      <td>0</td>\n",
       "      <td>0</td>\n",
       "      <td>0.000</td>\n",
       "      <td>0.000</td>\n",
       "      <td>0.000</td>\n",
       "      <td>0.000</td>\n",
       "    </tr>\n",
       "    <tr>\n",
       "      <th>United States</th>\n",
       "      <td>0</td>\n",
       "      <td>0</td>\n",
       "      <td>0</td>\n",
       "      <td>0</td>\n",
       "      <td>0.000</td>\n",
       "      <td>0.000</td>\n",
       "      <td>0.000</td>\n",
       "      <td>0.000</td>\n",
       "    </tr>\n",
       "    <tr>\n",
       "      <th>United States</th>\n",
       "      <td>0</td>\n",
       "      <td>0</td>\n",
       "      <td>0</td>\n",
       "      <td>0</td>\n",
       "      <td>0.000</td>\n",
       "      <td>0.000</td>\n",
       "      <td>0.000</td>\n",
       "      <td>0.000</td>\n",
       "    </tr>\n",
       "    <tr>\n",
       "      <th>United States</th>\n",
       "      <td>0</td>\n",
       "      <td>0</td>\n",
       "      <td>0</td>\n",
       "      <td>0</td>\n",
       "      <td>0.000</td>\n",
       "      <td>0.000</td>\n",
       "      <td>0.000</td>\n",
       "      <td>0.000</td>\n",
       "    </tr>\n",
       "    <tr>\n",
       "      <th>United States</th>\n",
       "      <td>0</td>\n",
       "      <td>0</td>\n",
       "      <td>0</td>\n",
       "      <td>0</td>\n",
       "      <td>0.000</td>\n",
       "      <td>0.000</td>\n",
       "      <td>0.000</td>\n",
       "      <td>0.000</td>\n",
       "    </tr>\n",
       "    <tr>\n",
       "      <th>United States</th>\n",
       "      <td>0</td>\n",
       "      <td>0</td>\n",
       "      <td>0</td>\n",
       "      <td>0</td>\n",
       "      <td>0.000</td>\n",
       "      <td>0.000</td>\n",
       "      <td>0.000</td>\n",
       "      <td>0.000</td>\n",
       "    </tr>\n",
       "    <tr>\n",
       "      <th>United States</th>\n",
       "      <td>0</td>\n",
       "      <td>0</td>\n",
       "      <td>0</td>\n",
       "      <td>0</td>\n",
       "      <td>0.000</td>\n",
       "      <td>0.000</td>\n",
       "      <td>0.000</td>\n",
       "      <td>0.000</td>\n",
       "    </tr>\n",
       "    <tr>\n",
       "      <th>United States</th>\n",
       "      <td>1</td>\n",
       "      <td>1</td>\n",
       "      <td>0</td>\n",
       "      <td>0</td>\n",
       "      <td>0.003</td>\n",
       "      <td>0.003</td>\n",
       "      <td>0.000</td>\n",
       "      <td>0.000</td>\n",
       "    </tr>\n",
       "    <tr>\n",
       "      <th>United States</th>\n",
       "      <td>1</td>\n",
       "      <td>0</td>\n",
       "      <td>0</td>\n",
       "      <td>0</td>\n",
       "      <td>0.003</td>\n",
       "      <td>0.000</td>\n",
       "      <td>0.000</td>\n",
       "      <td>0.000</td>\n",
       "    </tr>\n",
       "    <tr>\n",
       "      <th>United States</th>\n",
       "      <td>1</td>\n",
       "      <td>0</td>\n",
       "      <td>0</td>\n",
       "      <td>0</td>\n",
       "      <td>0.003</td>\n",
       "      <td>0.000</td>\n",
       "      <td>0.000</td>\n",
       "      <td>0.000</td>\n",
       "    </tr>\n",
       "    <tr>\n",
       "      <th>United States</th>\n",
       "      <td>1</td>\n",
       "      <td>0</td>\n",
       "      <td>0</td>\n",
       "      <td>0</td>\n",
       "      <td>0.003</td>\n",
       "      <td>0.000</td>\n",
       "      <td>0.000</td>\n",
       "      <td>0.000</td>\n",
       "    </tr>\n",
       "    <tr>\n",
       "      <th>United States</th>\n",
       "      <td>2</td>\n",
       "      <td>1</td>\n",
       "      <td>0</td>\n",
       "      <td>0</td>\n",
       "      <td>0.006</td>\n",
       "      <td>0.003</td>\n",
       "      <td>0.000</td>\n",
       "      <td>0.000</td>\n",
       "    </tr>\n",
       "    <tr>\n",
       "      <th>United States</th>\n",
       "      <td>2</td>\n",
       "      <td>0</td>\n",
       "      <td>0</td>\n",
       "      <td>0</td>\n",
       "      <td>0.006</td>\n",
       "      <td>0.000</td>\n",
       "      <td>0.000</td>\n",
       "      <td>0.000</td>\n",
       "    </tr>\n",
       "    <tr>\n",
       "      <th>United States</th>\n",
       "      <td>5</td>\n",
       "      <td>3</td>\n",
       "      <td>0</td>\n",
       "      <td>0</td>\n",
       "      <td>0.015</td>\n",
       "      <td>0.009</td>\n",
       "      <td>0.000</td>\n",
       "      <td>0.000</td>\n",
       "    </tr>\n",
       "    <tr>\n",
       "      <th>United States</th>\n",
       "      <td>5</td>\n",
       "      <td>0</td>\n",
       "      <td>0</td>\n",
       "      <td>0</td>\n",
       "      <td>0.015</td>\n",
       "      <td>0.000</td>\n",
       "      <td>0.000</td>\n",
       "      <td>0.000</td>\n",
       "    </tr>\n",
       "    <tr>\n",
       "      <th>United States</th>\n",
       "      <td>5</td>\n",
       "      <td>0</td>\n",
       "      <td>0</td>\n",
       "      <td>0</td>\n",
       "      <td>0.015</td>\n",
       "      <td>0.000</td>\n",
       "      <td>0.000</td>\n",
       "      <td>0.000</td>\n",
       "    </tr>\n",
       "    <tr>\n",
       "      <th>...</th>\n",
       "      <td>...</td>\n",
       "      <td>...</td>\n",
       "      <td>...</td>\n",
       "      <td>...</td>\n",
       "      <td>...</td>\n",
       "      <td>...</td>\n",
       "      <td>...</td>\n",
       "      <td>...</td>\n",
       "    </tr>\n",
       "    <tr>\n",
       "      <th>United States</th>\n",
       "      <td>1283929</td>\n",
       "      <td>26957</td>\n",
       "      <td>77180</td>\n",
       "      <td>1510</td>\n",
       "      <td>3878.909</td>\n",
       "      <td>81.440</td>\n",
       "      <td>233.170</td>\n",
       "      <td>4.562</td>\n",
       "    </tr>\n",
       "    <tr>\n",
       "      <th>United States</th>\n",
       "      <td>1309541</td>\n",
       "      <td>25612</td>\n",
       "      <td>78794</td>\n",
       "      <td>1614</td>\n",
       "      <td>3956.286</td>\n",
       "      <td>77.377</td>\n",
       "      <td>238.046</td>\n",
       "      <td>4.876</td>\n",
       "    </tr>\n",
       "    <tr>\n",
       "      <th>United States</th>\n",
       "      <td>1329799</td>\n",
       "      <td>20258</td>\n",
       "      <td>79528</td>\n",
       "      <td>734</td>\n",
       "      <td>4017.488</td>\n",
       "      <td>61.202</td>\n",
       "      <td>240.264</td>\n",
       "      <td>2.218</td>\n",
       "    </tr>\n",
       "    <tr>\n",
       "      <th>United States</th>\n",
       "      <td>1347916</td>\n",
       "      <td>18117</td>\n",
       "      <td>80684</td>\n",
       "      <td>1156</td>\n",
       "      <td>4072.221</td>\n",
       "      <td>54.734</td>\n",
       "      <td>243.756</td>\n",
       "      <td>3.492</td>\n",
       "    </tr>\n",
       "    <tr>\n",
       "      <th>United States</th>\n",
       "      <td>1369964</td>\n",
       "      <td>22048</td>\n",
       "      <td>82387</td>\n",
       "      <td>1703</td>\n",
       "      <td>4138.831</td>\n",
       "      <td>66.610</td>\n",
       "      <td>248.901</td>\n",
       "      <td>5.145</td>\n",
       "    </tr>\n",
       "    <tr>\n",
       "      <th>United States</th>\n",
       "      <td>1390746</td>\n",
       "      <td>20782</td>\n",
       "      <td>84133</td>\n",
       "      <td>1746</td>\n",
       "      <td>4201.616</td>\n",
       "      <td>62.785</td>\n",
       "      <td>254.176</td>\n",
       "      <td>5.275</td>\n",
       "    </tr>\n",
       "    <tr>\n",
       "      <th>United States</th>\n",
       "      <td>1417889</td>\n",
       "      <td>27143</td>\n",
       "      <td>85906</td>\n",
       "      <td>1773</td>\n",
       "      <td>4283.618</td>\n",
       "      <td>82.002</td>\n",
       "      <td>259.533</td>\n",
       "      <td>5.356</td>\n",
       "    </tr>\n",
       "    <tr>\n",
       "      <th>United States</th>\n",
       "      <td>1443397</td>\n",
       "      <td>25508</td>\n",
       "      <td>87568</td>\n",
       "      <td>1662</td>\n",
       "      <td>4360.681</td>\n",
       "      <td>77.063</td>\n",
       "      <td>264.554</td>\n",
       "      <td>5.021</td>\n",
       "    </tr>\n",
       "    <tr>\n",
       "      <th>United States</th>\n",
       "      <td>1467884</td>\n",
       "      <td>24487</td>\n",
       "      <td>88754</td>\n",
       "      <td>1186</td>\n",
       "      <td>4434.659</td>\n",
       "      <td>73.978</td>\n",
       "      <td>268.137</td>\n",
       "      <td>3.583</td>\n",
       "    </tr>\n",
       "    <tr>\n",
       "      <th>United States</th>\n",
       "      <td>1486757</td>\n",
       "      <td>18873</td>\n",
       "      <td>89562</td>\n",
       "      <td>808</td>\n",
       "      <td>4491.677</td>\n",
       "      <td>57.018</td>\n",
       "      <td>270.578</td>\n",
       "      <td>2.441</td>\n",
       "    </tr>\n",
       "    <tr>\n",
       "      <th>United States</th>\n",
       "      <td>1508598</td>\n",
       "      <td>21841</td>\n",
       "      <td>90353</td>\n",
       "      <td>791</td>\n",
       "      <td>4557.661</td>\n",
       "      <td>65.984</td>\n",
       "      <td>272.968</td>\n",
       "      <td>2.390</td>\n",
       "    </tr>\n",
       "    <tr>\n",
       "      <th>United States</th>\n",
       "      <td>1528568</td>\n",
       "      <td>19970</td>\n",
       "      <td>91921</td>\n",
       "      <td>1568</td>\n",
       "      <td>4617.993</td>\n",
       "      <td>60.332</td>\n",
       "      <td>277.705</td>\n",
       "      <td>4.737</td>\n",
       "    </tr>\n",
       "    <tr>\n",
       "      <th>United States</th>\n",
       "      <td>1551853</td>\n",
       "      <td>23285</td>\n",
       "      <td>93439</td>\n",
       "      <td>1518</td>\n",
       "      <td>4688.340</td>\n",
       "      <td>70.347</td>\n",
       "      <td>282.291</td>\n",
       "      <td>4.586</td>\n",
       "    </tr>\n",
       "    <tr>\n",
       "      <th>United States</th>\n",
       "      <td>1577287</td>\n",
       "      <td>25434</td>\n",
       "      <td>94702</td>\n",
       "      <td>1263</td>\n",
       "      <td>4765.179</td>\n",
       "      <td>76.839</td>\n",
       "      <td>286.106</td>\n",
       "      <td>3.816</td>\n",
       "    </tr>\n",
       "    <tr>\n",
       "      <th>United States</th>\n",
       "      <td>1601434</td>\n",
       "      <td>24147</td>\n",
       "      <td>96007</td>\n",
       "      <td>1305</td>\n",
       "      <td>4838.130</td>\n",
       "      <td>72.951</td>\n",
       "      <td>290.049</td>\n",
       "      <td>3.943</td>\n",
       "    </tr>\n",
       "    <tr>\n",
       "      <th>United States</th>\n",
       "      <td>1622670</td>\n",
       "      <td>21236</td>\n",
       "      <td>97087</td>\n",
       "      <td>1080</td>\n",
       "      <td>4902.287</td>\n",
       "      <td>64.157</td>\n",
       "      <td>293.312</td>\n",
       "      <td>3.263</td>\n",
       "    </tr>\n",
       "    <tr>\n",
       "      <th>United States</th>\n",
       "      <td>1643238</td>\n",
       "      <td>20568</td>\n",
       "      <td>97720</td>\n",
       "      <td>633</td>\n",
       "      <td>4964.426</td>\n",
       "      <td>62.138</td>\n",
       "      <td>295.224</td>\n",
       "      <td>1.912</td>\n",
       "    </tr>\n",
       "    <tr>\n",
       "      <th>United States</th>\n",
       "      <td>1662302</td>\n",
       "      <td>19064</td>\n",
       "      <td>98220</td>\n",
       "      <td>500</td>\n",
       "      <td>5022.020</td>\n",
       "      <td>57.595</td>\n",
       "      <td>296.735</td>\n",
       "      <td>1.511</td>\n",
       "    </tr>\n",
       "    <tr>\n",
       "      <th>United States</th>\n",
       "      <td>1681212</td>\n",
       "      <td>18910</td>\n",
       "      <td>98916</td>\n",
       "      <td>696</td>\n",
       "      <td>5079.150</td>\n",
       "      <td>57.129</td>\n",
       "      <td>298.837</td>\n",
       "      <td>2.103</td>\n",
       "    </tr>\n",
       "    <tr>\n",
       "      <th>United States</th>\n",
       "      <td>1699933</td>\n",
       "      <td>18721</td>\n",
       "      <td>100442</td>\n",
       "      <td>1526</td>\n",
       "      <td>5135.708</td>\n",
       "      <td>56.558</td>\n",
       "      <td>303.448</td>\n",
       "      <td>4.610</td>\n",
       "    </tr>\n",
       "    <tr>\n",
       "      <th>United States</th>\n",
       "      <td>1721750</td>\n",
       "      <td>21817</td>\n",
       "      <td>101617</td>\n",
       "      <td>1175</td>\n",
       "      <td>5201.620</td>\n",
       "      <td>65.912</td>\n",
       "      <td>306.998</td>\n",
       "      <td>3.550</td>\n",
       "    </tr>\n",
       "    <tr>\n",
       "      <th>United States</th>\n",
       "      <td>1747087</td>\n",
       "      <td>25337</td>\n",
       "      <td>102836</td>\n",
       "      <td>1219</td>\n",
       "      <td>5278.166</td>\n",
       "      <td>76.546</td>\n",
       "      <td>310.680</td>\n",
       "      <td>3.683</td>\n",
       "    </tr>\n",
       "    <tr>\n",
       "      <th>United States</th>\n",
       "      <td>1770384</td>\n",
       "      <td>23297</td>\n",
       "      <td>103781</td>\n",
       "      <td>945</td>\n",
       "      <td>5348.549</td>\n",
       "      <td>70.383</td>\n",
       "      <td>313.535</td>\n",
       "      <td>2.855</td>\n",
       "    </tr>\n",
       "    <tr>\n",
       "      <th>United States</th>\n",
       "      <td>1790191</td>\n",
       "      <td>19807</td>\n",
       "      <td>104383</td>\n",
       "      <td>602</td>\n",
       "      <td>5408.389</td>\n",
       "      <td>59.839</td>\n",
       "      <td>315.354</td>\n",
       "      <td>1.819</td>\n",
       "    </tr>\n",
       "    <tr>\n",
       "      <th>United States</th>\n",
       "      <td>1811277</td>\n",
       "      <td>21086</td>\n",
       "      <td>105147</td>\n",
       "      <td>764</td>\n",
       "      <td>5472.092</td>\n",
       "      <td>63.703</td>\n",
       "      <td>317.662</td>\n",
       "      <td>2.308</td>\n",
       "    </tr>\n",
       "    <tr>\n",
       "      <th>United States</th>\n",
       "      <td>1831821</td>\n",
       "      <td>20544</td>\n",
       "      <td>106181</td>\n",
       "      <td>1034</td>\n",
       "      <td>5534.158</td>\n",
       "      <td>62.066</td>\n",
       "      <td>320.786</td>\n",
       "      <td>3.124</td>\n",
       "    </tr>\n",
       "    <tr>\n",
       "      <th>United States</th>\n",
       "      <td>1851520</td>\n",
       "      <td>19699</td>\n",
       "      <td>107175</td>\n",
       "      <td>994</td>\n",
       "      <td>5593.671</td>\n",
       "      <td>59.513</td>\n",
       "      <td>323.789</td>\n",
       "      <td>3.003</td>\n",
       "    </tr>\n",
       "    <tr>\n",
       "      <th>United States</th>\n",
       "      <td>1872660</td>\n",
       "      <td>21140</td>\n",
       "      <td>108211</td>\n",
       "      <td>1036</td>\n",
       "      <td>5657.538</td>\n",
       "      <td>63.867</td>\n",
       "      <td>326.919</td>\n",
       "      <td>3.130</td>\n",
       "    </tr>\n",
       "    <tr>\n",
       "      <th>United States</th>\n",
       "      <td>1897838</td>\n",
       "      <td>25178</td>\n",
       "      <td>109143</td>\n",
       "      <td>932</td>\n",
       "      <td>5733.604</td>\n",
       "      <td>76.066</td>\n",
       "      <td>329.735</td>\n",
       "      <td>2.816</td>\n",
       "    </tr>\n",
       "    <tr>\n",
       "      <th>United States</th>\n",
       "      <td>1920061</td>\n",
       "      <td>22223</td>\n",
       "      <td>109802</td>\n",
       "      <td>659</td>\n",
       "      <td>5800.742</td>\n",
       "      <td>67.138</td>\n",
       "      <td>331.725</td>\n",
       "      <td>1.991</td>\n",
       "    </tr>\n",
       "  </tbody>\n",
       "</table>\n",
       "<p>160 rows × 8 columns</p>\n",
       "</div>"
      ],
      "text/plain": [
       "               total_cases  new_cases  total_deaths  new_deaths  \\\n",
       "location                                                          \n",
       "United States            0          0             0           0   \n",
       "United States            0          0             0           0   \n",
       "United States            0          0             0           0   \n",
       "United States            0          0             0           0   \n",
       "United States            0          0             0           0   \n",
       "United States            0          0             0           0   \n",
       "United States            0          0             0           0   \n",
       "United States            0          0             0           0   \n",
       "United States            0          0             0           0   \n",
       "United States            0          0             0           0   \n",
       "United States            0          0             0           0   \n",
       "United States            0          0             0           0   \n",
       "United States            0          0             0           0   \n",
       "United States            0          0             0           0   \n",
       "United States            0          0             0           0   \n",
       "United States            0          0             0           0   \n",
       "United States            0          0             0           0   \n",
       "United States            0          0             0           0   \n",
       "United States            0          0             0           0   \n",
       "United States            0          0             0           0   \n",
       "United States            0          0             0           0   \n",
       "United States            1          1             0           0   \n",
       "United States            1          0             0           0   \n",
       "United States            1          0             0           0   \n",
       "United States            1          0             0           0   \n",
       "United States            2          1             0           0   \n",
       "United States            2          0             0           0   \n",
       "United States            5          3             0           0   \n",
       "United States            5          0             0           0   \n",
       "United States            5          0             0           0   \n",
       "...                    ...        ...           ...         ...   \n",
       "United States      1283929      26957         77180        1510   \n",
       "United States      1309541      25612         78794        1614   \n",
       "United States      1329799      20258         79528         734   \n",
       "United States      1347916      18117         80684        1156   \n",
       "United States      1369964      22048         82387        1703   \n",
       "United States      1390746      20782         84133        1746   \n",
       "United States      1417889      27143         85906        1773   \n",
       "United States      1443397      25508         87568        1662   \n",
       "United States      1467884      24487         88754        1186   \n",
       "United States      1486757      18873         89562         808   \n",
       "United States      1508598      21841         90353         791   \n",
       "United States      1528568      19970         91921        1568   \n",
       "United States      1551853      23285         93439        1518   \n",
       "United States      1577287      25434         94702        1263   \n",
       "United States      1601434      24147         96007        1305   \n",
       "United States      1622670      21236         97087        1080   \n",
       "United States      1643238      20568         97720         633   \n",
       "United States      1662302      19064         98220         500   \n",
       "United States      1681212      18910         98916         696   \n",
       "United States      1699933      18721        100442        1526   \n",
       "United States      1721750      21817        101617        1175   \n",
       "United States      1747087      25337        102836        1219   \n",
       "United States      1770384      23297        103781         945   \n",
       "United States      1790191      19807        104383         602   \n",
       "United States      1811277      21086        105147         764   \n",
       "United States      1831821      20544        106181        1034   \n",
       "United States      1851520      19699        107175         994   \n",
       "United States      1872660      21140        108211        1036   \n",
       "United States      1897838      25178        109143         932   \n",
       "United States      1920061      22223        109802         659   \n",
       "\n",
       "               total_cases_per_million  new_cases_per_million  \\\n",
       "location                                                        \n",
       "United States                    0.000                  0.000   \n",
       "United States                    0.000                  0.000   \n",
       "United States                    0.000                  0.000   \n",
       "United States                    0.000                  0.000   \n",
       "United States                    0.000                  0.000   \n",
       "United States                    0.000                  0.000   \n",
       "United States                    0.000                  0.000   \n",
       "United States                    0.000                  0.000   \n",
       "United States                    0.000                  0.000   \n",
       "United States                    0.000                  0.000   \n",
       "United States                    0.000                  0.000   \n",
       "United States                    0.000                  0.000   \n",
       "United States                    0.000                  0.000   \n",
       "United States                    0.000                  0.000   \n",
       "United States                    0.000                  0.000   \n",
       "United States                    0.000                  0.000   \n",
       "United States                    0.000                  0.000   \n",
       "United States                    0.000                  0.000   \n",
       "United States                    0.000                  0.000   \n",
       "United States                    0.000                  0.000   \n",
       "United States                    0.000                  0.000   \n",
       "United States                    0.003                  0.003   \n",
       "United States                    0.003                  0.000   \n",
       "United States                    0.003                  0.000   \n",
       "United States                    0.003                  0.000   \n",
       "United States                    0.006                  0.003   \n",
       "United States                    0.006                  0.000   \n",
       "United States                    0.015                  0.009   \n",
       "United States                    0.015                  0.000   \n",
       "United States                    0.015                  0.000   \n",
       "...                                ...                    ...   \n",
       "United States                 3878.909                 81.440   \n",
       "United States                 3956.286                 77.377   \n",
       "United States                 4017.488                 61.202   \n",
       "United States                 4072.221                 54.734   \n",
       "United States                 4138.831                 66.610   \n",
       "United States                 4201.616                 62.785   \n",
       "United States                 4283.618                 82.002   \n",
       "United States                 4360.681                 77.063   \n",
       "United States                 4434.659                 73.978   \n",
       "United States                 4491.677                 57.018   \n",
       "United States                 4557.661                 65.984   \n",
       "United States                 4617.993                 60.332   \n",
       "United States                 4688.340                 70.347   \n",
       "United States                 4765.179                 76.839   \n",
       "United States                 4838.130                 72.951   \n",
       "United States                 4902.287                 64.157   \n",
       "United States                 4964.426                 62.138   \n",
       "United States                 5022.020                 57.595   \n",
       "United States                 5079.150                 57.129   \n",
       "United States                 5135.708                 56.558   \n",
       "United States                 5201.620                 65.912   \n",
       "United States                 5278.166                 76.546   \n",
       "United States                 5348.549                 70.383   \n",
       "United States                 5408.389                 59.839   \n",
       "United States                 5472.092                 63.703   \n",
       "United States                 5534.158                 62.066   \n",
       "United States                 5593.671                 59.513   \n",
       "United States                 5657.538                 63.867   \n",
       "United States                 5733.604                 76.066   \n",
       "United States                 5800.742                 67.138   \n",
       "\n",
       "               total_deaths_per_million  new_deaths_per_million  \n",
       "location                                                         \n",
       "United States                     0.000                   0.000  \n",
       "United States                     0.000                   0.000  \n",
       "United States                     0.000                   0.000  \n",
       "United States                     0.000                   0.000  \n",
       "United States                     0.000                   0.000  \n",
       "United States                     0.000                   0.000  \n",
       "United States                     0.000                   0.000  \n",
       "United States                     0.000                   0.000  \n",
       "United States                     0.000                   0.000  \n",
       "United States                     0.000                   0.000  \n",
       "United States                     0.000                   0.000  \n",
       "United States                     0.000                   0.000  \n",
       "United States                     0.000                   0.000  \n",
       "United States                     0.000                   0.000  \n",
       "United States                     0.000                   0.000  \n",
       "United States                     0.000                   0.000  \n",
       "United States                     0.000                   0.000  \n",
       "United States                     0.000                   0.000  \n",
       "United States                     0.000                   0.000  \n",
       "United States                     0.000                   0.000  \n",
       "United States                     0.000                   0.000  \n",
       "United States                     0.000                   0.000  \n",
       "United States                     0.000                   0.000  \n",
       "United States                     0.000                   0.000  \n",
       "United States                     0.000                   0.000  \n",
       "United States                     0.000                   0.000  \n",
       "United States                     0.000                   0.000  \n",
       "United States                     0.000                   0.000  \n",
       "United States                     0.000                   0.000  \n",
       "United States                     0.000                   0.000  \n",
       "...                                 ...                     ...  \n",
       "United States                   233.170                   4.562  \n",
       "United States                   238.046                   4.876  \n",
       "United States                   240.264                   2.218  \n",
       "United States                   243.756                   3.492  \n",
       "United States                   248.901                   5.145  \n",
       "United States                   254.176                   5.275  \n",
       "United States                   259.533                   5.356  \n",
       "United States                   264.554                   5.021  \n",
       "United States                   268.137                   3.583  \n",
       "United States                   270.578                   2.441  \n",
       "United States                   272.968                   2.390  \n",
       "United States                   277.705                   4.737  \n",
       "United States                   282.291                   4.586  \n",
       "United States                   286.106                   3.816  \n",
       "United States                   290.049                   3.943  \n",
       "United States                   293.312                   3.263  \n",
       "United States                   295.224                   1.912  \n",
       "United States                   296.735                   1.511  \n",
       "United States                   298.837                   2.103  \n",
       "United States                   303.448                   4.610  \n",
       "United States                   306.998                   3.550  \n",
       "United States                   310.680                   3.683  \n",
       "United States                   313.535                   2.855  \n",
       "United States                   315.354                   1.819  \n",
       "United States                   317.662                   2.308  \n",
       "United States                   320.786                   3.124  \n",
       "United States                   323.789                   3.003  \n",
       "United States                   326.919                   3.130  \n",
       "United States                   329.735                   2.816  \n",
       "United States                   331.725                   1.991  \n",
       "\n",
       "[160 rows x 8 columns]"
      ]
     },
     "execution_count": 217,
     "metadata": {},
     "output_type": "execute_result"
    }
   ],
   "source": [
    "covid_usa_test"
   ]
  },
  {
   "cell_type": "code",
   "execution_count": 218,
   "metadata": {
    "scrolled": true
   },
   "outputs": [],
   "source": [
    "#covid_usa_test.replace(\"tests performed\",1, inplace = True)"
   ]
  },
  {
   "cell_type": "markdown",
   "metadata": {},
   "source": [
    "#### Since all the features have different magnitude and unit, implementing normalization to better fit the model. However, after normalizing, several values in covid_usa were transformed to infinite number which the model couldn't calculate upon. I removed the normalization process to make the model work."
   ]
  },
  {
   "cell_type": "code",
   "execution_count": 219,
   "metadata": {},
   "outputs": [],
   "source": [
    "def normalize(df):\n",
    "    #df = df.drop([\"date\"], axis=1)\n",
    "    df_norm = df.apply(lambda x: (x - np.mean(x)) / (np.max(x) - np.min(x)))\n",
    "    return df_norm"
   ]
  },
  {
   "cell_type": "code",
   "execution_count": 220,
   "metadata": {},
   "outputs": [],
   "source": [
    "df_usa = normalize(covid_usa_test)"
   ]
  },
  {
   "cell_type": "code",
   "execution_count": 221,
   "metadata": {
    "collapsed": true
   },
   "outputs": [
    {
     "data": {
      "text/html": [
       "<div>\n",
       "<style scoped>\n",
       "    .dataframe tbody tr th:only-of-type {\n",
       "        vertical-align: middle;\n",
       "    }\n",
       "\n",
       "    .dataframe tbody tr th {\n",
       "        vertical-align: top;\n",
       "    }\n",
       "\n",
       "    .dataframe thead th {\n",
       "        text-align: right;\n",
       "    }\n",
       "</style>\n",
       "<table border=\"1\" class=\"dataframe\">\n",
       "  <thead>\n",
       "    <tr style=\"text-align: right;\">\n",
       "      <th></th>\n",
       "      <th>total_cases</th>\n",
       "      <th>new_cases</th>\n",
       "      <th>total_deaths</th>\n",
       "      <th>new_deaths</th>\n",
       "      <th>total_cases_per_million</th>\n",
       "      <th>new_cases_per_million</th>\n",
       "      <th>total_deaths_per_million</th>\n",
       "      <th>new_deaths_per_million</th>\n",
       "    </tr>\n",
       "    <tr>\n",
       "      <th>location</th>\n",
       "      <th></th>\n",
       "      <th></th>\n",
       "      <th></th>\n",
       "      <th></th>\n",
       "      <th></th>\n",
       "      <th></th>\n",
       "      <th></th>\n",
       "      <th></th>\n",
       "    </tr>\n",
       "  </thead>\n",
       "  <tbody>\n",
       "    <tr>\n",
       "      <th>United States</th>\n",
       "      <td>-0.250957</td>\n",
       "      <td>-0.247283</td>\n",
       "      <td>-0.246192</td>\n",
       "      <td>-0.139258</td>\n",
       "      <td>-0.250957</td>\n",
       "      <td>-0.247283</td>\n",
       "      <td>-0.246192</td>\n",
       "      <td>-0.139258</td>\n",
       "    </tr>\n",
       "    <tr>\n",
       "      <th>United States</th>\n",
       "      <td>-0.250957</td>\n",
       "      <td>-0.247283</td>\n",
       "      <td>-0.246192</td>\n",
       "      <td>-0.139258</td>\n",
       "      <td>-0.250957</td>\n",
       "      <td>-0.247283</td>\n",
       "      <td>-0.246192</td>\n",
       "      <td>-0.139258</td>\n",
       "    </tr>\n",
       "    <tr>\n",
       "      <th>United States</th>\n",
       "      <td>-0.250957</td>\n",
       "      <td>-0.247283</td>\n",
       "      <td>-0.246192</td>\n",
       "      <td>-0.139258</td>\n",
       "      <td>-0.250957</td>\n",
       "      <td>-0.247283</td>\n",
       "      <td>-0.246192</td>\n",
       "      <td>-0.139258</td>\n",
       "    </tr>\n",
       "    <tr>\n",
       "      <th>United States</th>\n",
       "      <td>-0.250957</td>\n",
       "      <td>-0.247283</td>\n",
       "      <td>-0.246192</td>\n",
       "      <td>-0.139258</td>\n",
       "      <td>-0.250957</td>\n",
       "      <td>-0.247283</td>\n",
       "      <td>-0.246192</td>\n",
       "      <td>-0.139258</td>\n",
       "    </tr>\n",
       "    <tr>\n",
       "      <th>United States</th>\n",
       "      <td>-0.250957</td>\n",
       "      <td>-0.247283</td>\n",
       "      <td>-0.246192</td>\n",
       "      <td>-0.139258</td>\n",
       "      <td>-0.250957</td>\n",
       "      <td>-0.247283</td>\n",
       "      <td>-0.246192</td>\n",
       "      <td>-0.139258</td>\n",
       "    </tr>\n",
       "    <tr>\n",
       "      <th>United States</th>\n",
       "      <td>-0.250957</td>\n",
       "      <td>-0.247283</td>\n",
       "      <td>-0.246192</td>\n",
       "      <td>-0.139258</td>\n",
       "      <td>-0.250957</td>\n",
       "      <td>-0.247283</td>\n",
       "      <td>-0.246192</td>\n",
       "      <td>-0.139258</td>\n",
       "    </tr>\n",
       "    <tr>\n",
       "      <th>United States</th>\n",
       "      <td>-0.250957</td>\n",
       "      <td>-0.247283</td>\n",
       "      <td>-0.246192</td>\n",
       "      <td>-0.139258</td>\n",
       "      <td>-0.250957</td>\n",
       "      <td>-0.247283</td>\n",
       "      <td>-0.246192</td>\n",
       "      <td>-0.139258</td>\n",
       "    </tr>\n",
       "    <tr>\n",
       "      <th>United States</th>\n",
       "      <td>-0.250957</td>\n",
       "      <td>-0.247283</td>\n",
       "      <td>-0.246192</td>\n",
       "      <td>-0.139258</td>\n",
       "      <td>-0.250957</td>\n",
       "      <td>-0.247283</td>\n",
       "      <td>-0.246192</td>\n",
       "      <td>-0.139258</td>\n",
       "    </tr>\n",
       "    <tr>\n",
       "      <th>United States</th>\n",
       "      <td>-0.250957</td>\n",
       "      <td>-0.247283</td>\n",
       "      <td>-0.246192</td>\n",
       "      <td>-0.139258</td>\n",
       "      <td>-0.250957</td>\n",
       "      <td>-0.247283</td>\n",
       "      <td>-0.246192</td>\n",
       "      <td>-0.139258</td>\n",
       "    </tr>\n",
       "    <tr>\n",
       "      <th>United States</th>\n",
       "      <td>-0.250957</td>\n",
       "      <td>-0.247283</td>\n",
       "      <td>-0.246192</td>\n",
       "      <td>-0.139258</td>\n",
       "      <td>-0.250957</td>\n",
       "      <td>-0.247283</td>\n",
       "      <td>-0.246192</td>\n",
       "      <td>-0.139258</td>\n",
       "    </tr>\n",
       "    <tr>\n",
       "      <th>United States</th>\n",
       "      <td>-0.250957</td>\n",
       "      <td>-0.247283</td>\n",
       "      <td>-0.246192</td>\n",
       "      <td>-0.139258</td>\n",
       "      <td>-0.250957</td>\n",
       "      <td>-0.247283</td>\n",
       "      <td>-0.246192</td>\n",
       "      <td>-0.139258</td>\n",
       "    </tr>\n",
       "    <tr>\n",
       "      <th>United States</th>\n",
       "      <td>-0.250957</td>\n",
       "      <td>-0.247283</td>\n",
       "      <td>-0.246192</td>\n",
       "      <td>-0.139258</td>\n",
       "      <td>-0.250957</td>\n",
       "      <td>-0.247283</td>\n",
       "      <td>-0.246192</td>\n",
       "      <td>-0.139258</td>\n",
       "    </tr>\n",
       "    <tr>\n",
       "      <th>United States</th>\n",
       "      <td>-0.250957</td>\n",
       "      <td>-0.247283</td>\n",
       "      <td>-0.246192</td>\n",
       "      <td>-0.139258</td>\n",
       "      <td>-0.250957</td>\n",
       "      <td>-0.247283</td>\n",
       "      <td>-0.246192</td>\n",
       "      <td>-0.139258</td>\n",
       "    </tr>\n",
       "    <tr>\n",
       "      <th>United States</th>\n",
       "      <td>-0.250957</td>\n",
       "      <td>-0.247283</td>\n",
       "      <td>-0.246192</td>\n",
       "      <td>-0.139258</td>\n",
       "      <td>-0.250957</td>\n",
       "      <td>-0.247283</td>\n",
       "      <td>-0.246192</td>\n",
       "      <td>-0.139258</td>\n",
       "    </tr>\n",
       "    <tr>\n",
       "      <th>United States</th>\n",
       "      <td>-0.250957</td>\n",
       "      <td>-0.247283</td>\n",
       "      <td>-0.246192</td>\n",
       "      <td>-0.139258</td>\n",
       "      <td>-0.250957</td>\n",
       "      <td>-0.247283</td>\n",
       "      <td>-0.246192</td>\n",
       "      <td>-0.139258</td>\n",
       "    </tr>\n",
       "    <tr>\n",
       "      <th>United States</th>\n",
       "      <td>-0.250957</td>\n",
       "      <td>-0.247283</td>\n",
       "      <td>-0.246192</td>\n",
       "      <td>-0.139258</td>\n",
       "      <td>-0.250957</td>\n",
       "      <td>-0.247283</td>\n",
       "      <td>-0.246192</td>\n",
       "      <td>-0.139258</td>\n",
       "    </tr>\n",
       "    <tr>\n",
       "      <th>United States</th>\n",
       "      <td>-0.250957</td>\n",
       "      <td>-0.247283</td>\n",
       "      <td>-0.246192</td>\n",
       "      <td>-0.139258</td>\n",
       "      <td>-0.250957</td>\n",
       "      <td>-0.247283</td>\n",
       "      <td>-0.246192</td>\n",
       "      <td>-0.139258</td>\n",
       "    </tr>\n",
       "    <tr>\n",
       "      <th>United States</th>\n",
       "      <td>-0.250957</td>\n",
       "      <td>-0.247283</td>\n",
       "      <td>-0.246192</td>\n",
       "      <td>-0.139258</td>\n",
       "      <td>-0.250957</td>\n",
       "      <td>-0.247283</td>\n",
       "      <td>-0.246192</td>\n",
       "      <td>-0.139258</td>\n",
       "    </tr>\n",
       "    <tr>\n",
       "      <th>United States</th>\n",
       "      <td>-0.250957</td>\n",
       "      <td>-0.247283</td>\n",
       "      <td>-0.246192</td>\n",
       "      <td>-0.139258</td>\n",
       "      <td>-0.250957</td>\n",
       "      <td>-0.247283</td>\n",
       "      <td>-0.246192</td>\n",
       "      <td>-0.139258</td>\n",
       "    </tr>\n",
       "    <tr>\n",
       "      <th>United States</th>\n",
       "      <td>-0.250957</td>\n",
       "      <td>-0.247283</td>\n",
       "      <td>-0.246192</td>\n",
       "      <td>-0.139258</td>\n",
       "      <td>-0.250957</td>\n",
       "      <td>-0.247283</td>\n",
       "      <td>-0.246192</td>\n",
       "      <td>-0.139258</td>\n",
       "    </tr>\n",
       "    <tr>\n",
       "      <th>United States</th>\n",
       "      <td>-0.250957</td>\n",
       "      <td>-0.247283</td>\n",
       "      <td>-0.246192</td>\n",
       "      <td>-0.139258</td>\n",
       "      <td>-0.250957</td>\n",
       "      <td>-0.247283</td>\n",
       "      <td>-0.246192</td>\n",
       "      <td>-0.139258</td>\n",
       "    </tr>\n",
       "    <tr>\n",
       "      <th>United States</th>\n",
       "      <td>-0.250957</td>\n",
       "      <td>-0.247262</td>\n",
       "      <td>-0.246192</td>\n",
       "      <td>-0.139258</td>\n",
       "      <td>-0.250957</td>\n",
       "      <td>-0.247262</td>\n",
       "      <td>-0.246192</td>\n",
       "      <td>-0.139258</td>\n",
       "    </tr>\n",
       "    <tr>\n",
       "      <th>United States</th>\n",
       "      <td>-0.250957</td>\n",
       "      <td>-0.247283</td>\n",
       "      <td>-0.246192</td>\n",
       "      <td>-0.139258</td>\n",
       "      <td>-0.250957</td>\n",
       "      <td>-0.247283</td>\n",
       "      <td>-0.246192</td>\n",
       "      <td>-0.139258</td>\n",
       "    </tr>\n",
       "    <tr>\n",
       "      <th>United States</th>\n",
       "      <td>-0.250957</td>\n",
       "      <td>-0.247283</td>\n",
       "      <td>-0.246192</td>\n",
       "      <td>-0.139258</td>\n",
       "      <td>-0.250957</td>\n",
       "      <td>-0.247283</td>\n",
       "      <td>-0.246192</td>\n",
       "      <td>-0.139258</td>\n",
       "    </tr>\n",
       "    <tr>\n",
       "      <th>United States</th>\n",
       "      <td>-0.250957</td>\n",
       "      <td>-0.247283</td>\n",
       "      <td>-0.246192</td>\n",
       "      <td>-0.139258</td>\n",
       "      <td>-0.250957</td>\n",
       "      <td>-0.247283</td>\n",
       "      <td>-0.246192</td>\n",
       "      <td>-0.139258</td>\n",
       "    </tr>\n",
       "    <tr>\n",
       "      <th>United States</th>\n",
       "      <td>-0.250956</td>\n",
       "      <td>-0.247262</td>\n",
       "      <td>-0.246192</td>\n",
       "      <td>-0.139258</td>\n",
       "      <td>-0.250956</td>\n",
       "      <td>-0.247262</td>\n",
       "      <td>-0.246192</td>\n",
       "      <td>-0.139258</td>\n",
       "    </tr>\n",
       "    <tr>\n",
       "      <th>United States</th>\n",
       "      <td>-0.250956</td>\n",
       "      <td>-0.247283</td>\n",
       "      <td>-0.246192</td>\n",
       "      <td>-0.139258</td>\n",
       "      <td>-0.250956</td>\n",
       "      <td>-0.247283</td>\n",
       "      <td>-0.246192</td>\n",
       "      <td>-0.139258</td>\n",
       "    </tr>\n",
       "    <tr>\n",
       "      <th>United States</th>\n",
       "      <td>-0.250955</td>\n",
       "      <td>-0.247221</td>\n",
       "      <td>-0.246192</td>\n",
       "      <td>-0.139258</td>\n",
       "      <td>-0.250955</td>\n",
       "      <td>-0.247221</td>\n",
       "      <td>-0.246192</td>\n",
       "      <td>-0.139258</td>\n",
       "    </tr>\n",
       "    <tr>\n",
       "      <th>United States</th>\n",
       "      <td>-0.250955</td>\n",
       "      <td>-0.247283</td>\n",
       "      <td>-0.246192</td>\n",
       "      <td>-0.139258</td>\n",
       "      <td>-0.250955</td>\n",
       "      <td>-0.247283</td>\n",
       "      <td>-0.246192</td>\n",
       "      <td>-0.139258</td>\n",
       "    </tr>\n",
       "    <tr>\n",
       "      <th>United States</th>\n",
       "      <td>-0.250955</td>\n",
       "      <td>-0.247283</td>\n",
       "      <td>-0.246192</td>\n",
       "      <td>-0.139258</td>\n",
       "      <td>-0.250955</td>\n",
       "      <td>-0.247283</td>\n",
       "      <td>-0.246192</td>\n",
       "      <td>-0.139258</td>\n",
       "    </tr>\n",
       "    <tr>\n",
       "      <th>...</th>\n",
       "      <td>...</td>\n",
       "      <td>...</td>\n",
       "      <td>...</td>\n",
       "      <td>...</td>\n",
       "      <td>...</td>\n",
       "      <td>...</td>\n",
       "      <td>...</td>\n",
       "      <td>...</td>\n",
       "    </tr>\n",
       "    <tr>\n",
       "      <th>United States</th>\n",
       "      <td>0.417734</td>\n",
       "      <td>0.308200</td>\n",
       "      <td>0.456710</td>\n",
       "      <td>0.167155</td>\n",
       "      <td>0.417734</td>\n",
       "      <td>0.308197</td>\n",
       "      <td>0.456709</td>\n",
       "      <td>0.167163</td>\n",
       "    </tr>\n",
       "    <tr>\n",
       "      <th>United States</th>\n",
       "      <td>0.431073</td>\n",
       "      <td>0.280484</td>\n",
       "      <td>0.471409</td>\n",
       "      <td>0.188258</td>\n",
       "      <td>0.431074</td>\n",
       "      <td>0.280484</td>\n",
       "      <td>0.471408</td>\n",
       "      <td>0.188254</td>\n",
       "    </tr>\n",
       "    <tr>\n",
       "      <th>United States</th>\n",
       "      <td>0.441624</td>\n",
       "      <td>0.170158</td>\n",
       "      <td>0.478094</td>\n",
       "      <td>0.009687</td>\n",
       "      <td>0.441624</td>\n",
       "      <td>0.170159</td>\n",
       "      <td>0.478095</td>\n",
       "      <td>0.009721</td>\n",
       "    </tr>\n",
       "    <tr>\n",
       "      <th>United States</th>\n",
       "      <td>0.451060</td>\n",
       "      <td>0.126040</td>\n",
       "      <td>0.488622</td>\n",
       "      <td>0.095320</td>\n",
       "      <td>0.451060</td>\n",
       "      <td>0.126043</td>\n",
       "      <td>0.488621</td>\n",
       "      <td>0.095293</td>\n",
       "    </tr>\n",
       "    <tr>\n",
       "      <th>United States</th>\n",
       "      <td>0.462543</td>\n",
       "      <td>0.207044</td>\n",
       "      <td>0.504131</td>\n",
       "      <td>0.206318</td>\n",
       "      <td>0.462543</td>\n",
       "      <td>0.207046</td>\n",
       "      <td>0.504131</td>\n",
       "      <td>0.206322</td>\n",
       "    </tr>\n",
       "    <tr>\n",
       "      <th>United States</th>\n",
       "      <td>0.473366</td>\n",
       "      <td>0.180956</td>\n",
       "      <td>0.520033</td>\n",
       "      <td>0.215044</td>\n",
       "      <td>0.473366</td>\n",
       "      <td>0.180956</td>\n",
       "      <td>0.520033</td>\n",
       "      <td>0.215054</td>\n",
       "    </tr>\n",
       "    <tr>\n",
       "      <th>United States</th>\n",
       "      <td>0.487503</td>\n",
       "      <td>0.312032</td>\n",
       "      <td>0.536180</td>\n",
       "      <td>0.220523</td>\n",
       "      <td>0.487503</td>\n",
       "      <td>0.312030</td>\n",
       "      <td>0.536182</td>\n",
       "      <td>0.220495</td>\n",
       "    </tr>\n",
       "    <tr>\n",
       "      <th>United States</th>\n",
       "      <td>0.500788</td>\n",
       "      <td>0.278341</td>\n",
       "      <td>0.551316</td>\n",
       "      <td>0.197999</td>\n",
       "      <td>0.500788</td>\n",
       "      <td>0.278343</td>\n",
       "      <td>0.551318</td>\n",
       "      <td>0.197993</td>\n",
       "    </tr>\n",
       "    <tr>\n",
       "      <th>United States</th>\n",
       "      <td>0.513541</td>\n",
       "      <td>0.257302</td>\n",
       "      <td>0.562118</td>\n",
       "      <td>0.101408</td>\n",
       "      <td>0.513541</td>\n",
       "      <td>0.257301</td>\n",
       "      <td>0.562119</td>\n",
       "      <td>0.101405</td>\n",
       "    </tr>\n",
       "    <tr>\n",
       "      <th>United States</th>\n",
       "      <td>0.523371</td>\n",
       "      <td>0.141619</td>\n",
       "      <td>0.569476</td>\n",
       "      <td>0.024703</td>\n",
       "      <td>0.523371</td>\n",
       "      <td>0.141621</td>\n",
       "      <td>0.569477</td>\n",
       "      <td>0.024699</td>\n",
       "    </tr>\n",
       "    <tr>\n",
       "      <th>United States</th>\n",
       "      <td>0.534746</td>\n",
       "      <td>0.202778</td>\n",
       "      <td>0.576680</td>\n",
       "      <td>0.021254</td>\n",
       "      <td>0.534746</td>\n",
       "      <td>0.202776</td>\n",
       "      <td>0.576682</td>\n",
       "      <td>0.021274</td>\n",
       "    </tr>\n",
       "    <tr>\n",
       "      <th>United States</th>\n",
       "      <td>0.545146</td>\n",
       "      <td>0.164224</td>\n",
       "      <td>0.590960</td>\n",
       "      <td>0.178924</td>\n",
       "      <td>0.545146</td>\n",
       "      <td>0.164225</td>\n",
       "      <td>0.590962</td>\n",
       "      <td>0.178918</td>\n",
       "    </tr>\n",
       "    <tr>\n",
       "      <th>United States</th>\n",
       "      <td>0.557274</td>\n",
       "      <td>0.232534</td>\n",
       "      <td>0.604785</td>\n",
       "      <td>0.168778</td>\n",
       "      <td>0.557274</td>\n",
       "      <td>0.232535</td>\n",
       "      <td>0.604787</td>\n",
       "      <td>0.168775</td>\n",
       "    </tr>\n",
       "    <tr>\n",
       "      <th>United States</th>\n",
       "      <td>0.570520</td>\n",
       "      <td>0.276816</td>\n",
       "      <td>0.616288</td>\n",
       "      <td>0.117033</td>\n",
       "      <td>0.570520</td>\n",
       "      <td>0.276815</td>\n",
       "      <td>0.616287</td>\n",
       "      <td>0.117056</td>\n",
       "    </tr>\n",
       "    <tr>\n",
       "      <th>United States</th>\n",
       "      <td>0.583096</td>\n",
       "      <td>0.250296</td>\n",
       "      <td>0.628173</td>\n",
       "      <td>0.125555</td>\n",
       "      <td>0.583096</td>\n",
       "      <td>0.250296</td>\n",
       "      <td>0.628174</td>\n",
       "      <td>0.125586</td>\n",
       "    </tr>\n",
       "    <tr>\n",
       "      <th>United States</th>\n",
       "      <td>0.594156</td>\n",
       "      <td>0.190311</td>\n",
       "      <td>0.638009</td>\n",
       "      <td>0.079898</td>\n",
       "      <td>0.594156</td>\n",
       "      <td>0.190314</td>\n",
       "      <td>0.638010</td>\n",
       "      <td>0.079912</td>\n",
       "    </tr>\n",
       "    <tr>\n",
       "      <th>United States</th>\n",
       "      <td>0.604868</td>\n",
       "      <td>0.176546</td>\n",
       "      <td>0.643774</td>\n",
       "      <td>-0.010808</td>\n",
       "      <td>0.604869</td>\n",
       "      <td>0.176543</td>\n",
       "      <td>0.643774</td>\n",
       "      <td>-0.010833</td>\n",
       "    </tr>\n",
       "    <tr>\n",
       "      <th>United States</th>\n",
       "      <td>0.614797</td>\n",
       "      <td>0.145555</td>\n",
       "      <td>0.648327</td>\n",
       "      <td>-0.037797</td>\n",
       "      <td>0.614797</td>\n",
       "      <td>0.145557</td>\n",
       "      <td>0.648329</td>\n",
       "      <td>-0.037767</td>\n",
       "    </tr>\n",
       "    <tr>\n",
       "      <th>United States</th>\n",
       "      <td>0.624646</td>\n",
       "      <td>0.142381</td>\n",
       "      <td>0.654666</td>\n",
       "      <td>0.001976</td>\n",
       "      <td>0.624646</td>\n",
       "      <td>0.142378</td>\n",
       "      <td>0.654665</td>\n",
       "      <td>0.001997</td>\n",
       "    </tr>\n",
       "    <tr>\n",
       "      <th>United States</th>\n",
       "      <td>0.634396</td>\n",
       "      <td>0.138487</td>\n",
       "      <td>0.668564</td>\n",
       "      <td>0.170401</td>\n",
       "      <td>0.634396</td>\n",
       "      <td>0.138484</td>\n",
       "      <td>0.668566</td>\n",
       "      <td>0.170387</td>\n",
       "    </tr>\n",
       "    <tr>\n",
       "      <th>United States</th>\n",
       "      <td>0.645759</td>\n",
       "      <td>0.202284</td>\n",
       "      <td>0.679265</td>\n",
       "      <td>0.099176</td>\n",
       "      <td>0.645759</td>\n",
       "      <td>0.202285</td>\n",
       "      <td>0.679267</td>\n",
       "      <td>0.099189</td>\n",
       "    </tr>\n",
       "    <tr>\n",
       "      <th>United States</th>\n",
       "      <td>0.658955</td>\n",
       "      <td>0.274818</td>\n",
       "      <td>0.690367</td>\n",
       "      <td>0.108104</td>\n",
       "      <td>0.658955</td>\n",
       "      <td>0.274816</td>\n",
       "      <td>0.690367</td>\n",
       "      <td>0.108122</td>\n",
       "    </tr>\n",
       "    <tr>\n",
       "      <th>United States</th>\n",
       "      <td>0.671088</td>\n",
       "      <td>0.232781</td>\n",
       "      <td>0.698973</td>\n",
       "      <td>0.052504</td>\n",
       "      <td>0.671088</td>\n",
       "      <td>0.232780</td>\n",
       "      <td>0.698973</td>\n",
       "      <td>0.052507</td>\n",
       "    </tr>\n",
       "    <tr>\n",
       "      <th>United States</th>\n",
       "      <td>0.681404</td>\n",
       "      <td>0.160865</td>\n",
       "      <td>0.704456</td>\n",
       "      <td>-0.017099</td>\n",
       "      <td>0.681404</td>\n",
       "      <td>0.160862</td>\n",
       "      <td>0.704457</td>\n",
       "      <td>-0.017079</td>\n",
       "    </tr>\n",
       "    <tr>\n",
       "      <th>United States</th>\n",
       "      <td>0.692386</td>\n",
       "      <td>0.187220</td>\n",
       "      <td>0.711414</td>\n",
       "      <td>0.015775</td>\n",
       "      <td>0.692386</td>\n",
       "      <td>0.187218</td>\n",
       "      <td>0.711414</td>\n",
       "      <td>0.015766</td>\n",
       "    </tr>\n",
       "    <tr>\n",
       "      <th>United States</th>\n",
       "      <td>0.703086</td>\n",
       "      <td>0.176052</td>\n",
       "      <td>0.720831</td>\n",
       "      <td>0.070564</td>\n",
       "      <td>0.703086</td>\n",
       "      <td>0.176052</td>\n",
       "      <td>0.720832</td>\n",
       "      <td>0.070575</td>\n",
       "    </tr>\n",
       "    <tr>\n",
       "      <th>United States</th>\n",
       "      <td>0.713345</td>\n",
       "      <td>0.158640</td>\n",
       "      <td>0.729883</td>\n",
       "      <td>0.062447</td>\n",
       "      <td>0.713345</td>\n",
       "      <td>0.158639</td>\n",
       "      <td>0.729884</td>\n",
       "      <td>0.062448</td>\n",
       "    </tr>\n",
       "    <tr>\n",
       "      <th>United States</th>\n",
       "      <td>0.724355</td>\n",
       "      <td>0.188333</td>\n",
       "      <td>0.739318</td>\n",
       "      <td>0.070969</td>\n",
       "      <td>0.724355</td>\n",
       "      <td>0.188336</td>\n",
       "      <td>0.739320</td>\n",
       "      <td>0.070978</td>\n",
       "    </tr>\n",
       "    <tr>\n",
       "      <th>United States</th>\n",
       "      <td>0.737468</td>\n",
       "      <td>0.271541</td>\n",
       "      <td>0.747806</td>\n",
       "      <td>0.049866</td>\n",
       "      <td>0.737469</td>\n",
       "      <td>0.271542</td>\n",
       "      <td>0.747809</td>\n",
       "      <td>0.049887</td>\n",
       "    </tr>\n",
       "    <tr>\n",
       "      <th>United States</th>\n",
       "      <td>0.749043</td>\n",
       "      <td>0.210650</td>\n",
       "      <td>0.753808</td>\n",
       "      <td>-0.005532</td>\n",
       "      <td>0.749043</td>\n",
       "      <td>0.210647</td>\n",
       "      <td>0.753808</td>\n",
       "      <td>-0.005526</td>\n",
       "    </tr>\n",
       "  </tbody>\n",
       "</table>\n",
       "<p>160 rows × 8 columns</p>\n",
       "</div>"
      ],
      "text/plain": [
       "               total_cases  new_cases  total_deaths  new_deaths  \\\n",
       "location                                                          \n",
       "United States    -0.250957  -0.247283     -0.246192   -0.139258   \n",
       "United States    -0.250957  -0.247283     -0.246192   -0.139258   \n",
       "United States    -0.250957  -0.247283     -0.246192   -0.139258   \n",
       "United States    -0.250957  -0.247283     -0.246192   -0.139258   \n",
       "United States    -0.250957  -0.247283     -0.246192   -0.139258   \n",
       "United States    -0.250957  -0.247283     -0.246192   -0.139258   \n",
       "United States    -0.250957  -0.247283     -0.246192   -0.139258   \n",
       "United States    -0.250957  -0.247283     -0.246192   -0.139258   \n",
       "United States    -0.250957  -0.247283     -0.246192   -0.139258   \n",
       "United States    -0.250957  -0.247283     -0.246192   -0.139258   \n",
       "United States    -0.250957  -0.247283     -0.246192   -0.139258   \n",
       "United States    -0.250957  -0.247283     -0.246192   -0.139258   \n",
       "United States    -0.250957  -0.247283     -0.246192   -0.139258   \n",
       "United States    -0.250957  -0.247283     -0.246192   -0.139258   \n",
       "United States    -0.250957  -0.247283     -0.246192   -0.139258   \n",
       "United States    -0.250957  -0.247283     -0.246192   -0.139258   \n",
       "United States    -0.250957  -0.247283     -0.246192   -0.139258   \n",
       "United States    -0.250957  -0.247283     -0.246192   -0.139258   \n",
       "United States    -0.250957  -0.247283     -0.246192   -0.139258   \n",
       "United States    -0.250957  -0.247283     -0.246192   -0.139258   \n",
       "United States    -0.250957  -0.247283     -0.246192   -0.139258   \n",
       "United States    -0.250957  -0.247262     -0.246192   -0.139258   \n",
       "United States    -0.250957  -0.247283     -0.246192   -0.139258   \n",
       "United States    -0.250957  -0.247283     -0.246192   -0.139258   \n",
       "United States    -0.250957  -0.247283     -0.246192   -0.139258   \n",
       "United States    -0.250956  -0.247262     -0.246192   -0.139258   \n",
       "United States    -0.250956  -0.247283     -0.246192   -0.139258   \n",
       "United States    -0.250955  -0.247221     -0.246192   -0.139258   \n",
       "United States    -0.250955  -0.247283     -0.246192   -0.139258   \n",
       "United States    -0.250955  -0.247283     -0.246192   -0.139258   \n",
       "...                    ...        ...           ...         ...   \n",
       "United States     0.417734   0.308200      0.456710    0.167155   \n",
       "United States     0.431073   0.280484      0.471409    0.188258   \n",
       "United States     0.441624   0.170158      0.478094    0.009687   \n",
       "United States     0.451060   0.126040      0.488622    0.095320   \n",
       "United States     0.462543   0.207044      0.504131    0.206318   \n",
       "United States     0.473366   0.180956      0.520033    0.215044   \n",
       "United States     0.487503   0.312032      0.536180    0.220523   \n",
       "United States     0.500788   0.278341      0.551316    0.197999   \n",
       "United States     0.513541   0.257302      0.562118    0.101408   \n",
       "United States     0.523371   0.141619      0.569476    0.024703   \n",
       "United States     0.534746   0.202778      0.576680    0.021254   \n",
       "United States     0.545146   0.164224      0.590960    0.178924   \n",
       "United States     0.557274   0.232534      0.604785    0.168778   \n",
       "United States     0.570520   0.276816      0.616288    0.117033   \n",
       "United States     0.583096   0.250296      0.628173    0.125555   \n",
       "United States     0.594156   0.190311      0.638009    0.079898   \n",
       "United States     0.604868   0.176546      0.643774   -0.010808   \n",
       "United States     0.614797   0.145555      0.648327   -0.037797   \n",
       "United States     0.624646   0.142381      0.654666    0.001976   \n",
       "United States     0.634396   0.138487      0.668564    0.170401   \n",
       "United States     0.645759   0.202284      0.679265    0.099176   \n",
       "United States     0.658955   0.274818      0.690367    0.108104   \n",
       "United States     0.671088   0.232781      0.698973    0.052504   \n",
       "United States     0.681404   0.160865      0.704456   -0.017099   \n",
       "United States     0.692386   0.187220      0.711414    0.015775   \n",
       "United States     0.703086   0.176052      0.720831    0.070564   \n",
       "United States     0.713345   0.158640      0.729883    0.062447   \n",
       "United States     0.724355   0.188333      0.739318    0.070969   \n",
       "United States     0.737468   0.271541      0.747806    0.049866   \n",
       "United States     0.749043   0.210650      0.753808   -0.005532   \n",
       "\n",
       "               total_cases_per_million  new_cases_per_million  \\\n",
       "location                                                        \n",
       "United States                -0.250957              -0.247283   \n",
       "United States                -0.250957              -0.247283   \n",
       "United States                -0.250957              -0.247283   \n",
       "United States                -0.250957              -0.247283   \n",
       "United States                -0.250957              -0.247283   \n",
       "United States                -0.250957              -0.247283   \n",
       "United States                -0.250957              -0.247283   \n",
       "United States                -0.250957              -0.247283   \n",
       "United States                -0.250957              -0.247283   \n",
       "United States                -0.250957              -0.247283   \n",
       "United States                -0.250957              -0.247283   \n",
       "United States                -0.250957              -0.247283   \n",
       "United States                -0.250957              -0.247283   \n",
       "United States                -0.250957              -0.247283   \n",
       "United States                -0.250957              -0.247283   \n",
       "United States                -0.250957              -0.247283   \n",
       "United States                -0.250957              -0.247283   \n",
       "United States                -0.250957              -0.247283   \n",
       "United States                -0.250957              -0.247283   \n",
       "United States                -0.250957              -0.247283   \n",
       "United States                -0.250957              -0.247283   \n",
       "United States                -0.250957              -0.247262   \n",
       "United States                -0.250957              -0.247283   \n",
       "United States                -0.250957              -0.247283   \n",
       "United States                -0.250957              -0.247283   \n",
       "United States                -0.250956              -0.247262   \n",
       "United States                -0.250956              -0.247283   \n",
       "United States                -0.250955              -0.247221   \n",
       "United States                -0.250955              -0.247283   \n",
       "United States                -0.250955              -0.247283   \n",
       "...                                ...                    ...   \n",
       "United States                 0.417734               0.308197   \n",
       "United States                 0.431074               0.280484   \n",
       "United States                 0.441624               0.170159   \n",
       "United States                 0.451060               0.126043   \n",
       "United States                 0.462543               0.207046   \n",
       "United States                 0.473366               0.180956   \n",
       "United States                 0.487503               0.312030   \n",
       "United States                 0.500788               0.278343   \n",
       "United States                 0.513541               0.257301   \n",
       "United States                 0.523371               0.141621   \n",
       "United States                 0.534746               0.202776   \n",
       "United States                 0.545146               0.164225   \n",
       "United States                 0.557274               0.232535   \n",
       "United States                 0.570520               0.276815   \n",
       "United States                 0.583096               0.250296   \n",
       "United States                 0.594156               0.190314   \n",
       "United States                 0.604869               0.176543   \n",
       "United States                 0.614797               0.145557   \n",
       "United States                 0.624646               0.142378   \n",
       "United States                 0.634396               0.138484   \n",
       "United States                 0.645759               0.202285   \n",
       "United States                 0.658955               0.274816   \n",
       "United States                 0.671088               0.232780   \n",
       "United States                 0.681404               0.160862   \n",
       "United States                 0.692386               0.187218   \n",
       "United States                 0.703086               0.176052   \n",
       "United States                 0.713345               0.158639   \n",
       "United States                 0.724355               0.188336   \n",
       "United States                 0.737469               0.271542   \n",
       "United States                 0.749043               0.210647   \n",
       "\n",
       "               total_deaths_per_million  new_deaths_per_million  \n",
       "location                                                         \n",
       "United States                 -0.246192               -0.139258  \n",
       "United States                 -0.246192               -0.139258  \n",
       "United States                 -0.246192               -0.139258  \n",
       "United States                 -0.246192               -0.139258  \n",
       "United States                 -0.246192               -0.139258  \n",
       "United States                 -0.246192               -0.139258  \n",
       "United States                 -0.246192               -0.139258  \n",
       "United States                 -0.246192               -0.139258  \n",
       "United States                 -0.246192               -0.139258  \n",
       "United States                 -0.246192               -0.139258  \n",
       "United States                 -0.246192               -0.139258  \n",
       "United States                 -0.246192               -0.139258  \n",
       "United States                 -0.246192               -0.139258  \n",
       "United States                 -0.246192               -0.139258  \n",
       "United States                 -0.246192               -0.139258  \n",
       "United States                 -0.246192               -0.139258  \n",
       "United States                 -0.246192               -0.139258  \n",
       "United States                 -0.246192               -0.139258  \n",
       "United States                 -0.246192               -0.139258  \n",
       "United States                 -0.246192               -0.139258  \n",
       "United States                 -0.246192               -0.139258  \n",
       "United States                 -0.246192               -0.139258  \n",
       "United States                 -0.246192               -0.139258  \n",
       "United States                 -0.246192               -0.139258  \n",
       "United States                 -0.246192               -0.139258  \n",
       "United States                 -0.246192               -0.139258  \n",
       "United States                 -0.246192               -0.139258  \n",
       "United States                 -0.246192               -0.139258  \n",
       "United States                 -0.246192               -0.139258  \n",
       "United States                 -0.246192               -0.139258  \n",
       "...                                 ...                     ...  \n",
       "United States                  0.456709                0.167163  \n",
       "United States                  0.471408                0.188254  \n",
       "United States                  0.478095                0.009721  \n",
       "United States                  0.488621                0.095293  \n",
       "United States                  0.504131                0.206322  \n",
       "United States                  0.520033                0.215054  \n",
       "United States                  0.536182                0.220495  \n",
       "United States                  0.551318                0.197993  \n",
       "United States                  0.562119                0.101405  \n",
       "United States                  0.569477                0.024699  \n",
       "United States                  0.576682                0.021274  \n",
       "United States                  0.590962                0.178918  \n",
       "United States                  0.604787                0.168775  \n",
       "United States                  0.616287                0.117056  \n",
       "United States                  0.628174                0.125586  \n",
       "United States                  0.638010                0.079912  \n",
       "United States                  0.643774               -0.010833  \n",
       "United States                  0.648329               -0.037767  \n",
       "United States                  0.654665                0.001997  \n",
       "United States                  0.668566                0.170387  \n",
       "United States                  0.679267                0.099189  \n",
       "United States                  0.690367                0.108122  \n",
       "United States                  0.698973                0.052507  \n",
       "United States                  0.704457               -0.017079  \n",
       "United States                  0.711414                0.015766  \n",
       "United States                  0.720832                0.070575  \n",
       "United States                  0.729884                0.062448  \n",
       "United States                  0.739320                0.070978  \n",
       "United States                  0.747809                0.049887  \n",
       "United States                  0.753808               -0.005526  \n",
       "\n",
       "[160 rows x 8 columns]"
      ]
     },
     "execution_count": 221,
     "metadata": {},
     "output_type": "execute_result"
    }
   ],
   "source": [
    "df_usa"
   ]
  },
  {
   "cell_type": "code",
   "execution_count": 222,
   "metadata": {},
   "outputs": [
    {
     "name": "stdout",
     "output_type": "stream",
     "text": [
      "20\n"
     ]
    }
   ],
   "source": [
    "print(len(covid_usa.columns))"
   ]
  },
  {
   "cell_type": "markdown",
   "metadata": {},
   "source": [
    "#### Input 30 days of data and predict 5 days \n",
    "- take all the data as training data"
   ]
  },
  {
   "cell_type": "code",
   "execution_count": 223,
   "metadata": {},
   "outputs": [],
   "source": [
    "def train_windows(df, ref_day=30, predict_day=5):\n",
    "    X_train, Y_train = [], []\n",
    "    for i in range(ref_day+predict_day+1,df.shape[0]-5):\n",
    "        X_train.append(np.array(df.iloc[i-ref_day:i,1:-1]))\n",
    "        Y_train.append(np.array(df.iloc[i:i+predict_day][\"total_cases\"]))\n",
    "    return np.array(X_train), np.array(Y_train)"
   ]
  },
  {
   "cell_type": "code",
   "execution_count": 224,
   "metadata": {},
   "outputs": [],
   "source": [
    "# Disorganize the time order to prevent overfitting\n",
    "def shuffle(X,Y):\n",
    "    np.random.seed(10)\n",
    "    randomList = np.arange(X.shape[0])\n",
    "    np.random.shuffle(randomList)\n",
    "    return X[randomList], Y[randomList]"
   ]
  },
  {
   "cell_type": "code",
   "execution_count": 225,
   "metadata": {},
   "outputs": [],
   "source": [
    "# def splitData(X,Y,rate):\n",
    "#     X_train = X[int(X.shape[0]*rate):]\n",
    "#     Y_train = Y[int(Y.shape[0]*rate):]\n",
    "#     X_test = X[:int(X.shape[0]*rate)]\n",
    "#     Y_test = Y[:int(Y.shape[0]*rate)]\n",
    "#     return X_train, Y_train, X_test, Y_test"
   ]
  },
  {
   "cell_type": "code",
   "execution_count": 227,
   "metadata": {},
   "outputs": [],
   "source": [
    "X_train, Y_train = train_windows(covid_usa_test, 30,5)"
   ]
  },
  {
   "cell_type": "code",
   "execution_count": 230,
   "metadata": {
    "collapsed": true
   },
   "outputs": [
    {
     "data": {
      "text/plain": [
       "array([[[0.000000e+00, 0.000000e+00, 0.000000e+00, 0.000000e+00,\n",
       "         0.000000e+00, 0.000000e+00],\n",
       "        [0.000000e+00, 0.000000e+00, 0.000000e+00, 0.000000e+00,\n",
       "         0.000000e+00, 0.000000e+00],\n",
       "        [0.000000e+00, 0.000000e+00, 0.000000e+00, 0.000000e+00,\n",
       "         0.000000e+00, 0.000000e+00],\n",
       "        ...,\n",
       "        [1.000000e+00, 0.000000e+00, 0.000000e+00, 2.400000e-02,\n",
       "         3.000000e-03, 0.000000e+00],\n",
       "        [3.000000e+00, 0.000000e+00, 0.000000e+00, 3.300000e-02,\n",
       "         9.000000e-03, 0.000000e+00],\n",
       "        [0.000000e+00, 0.000000e+00, 0.000000e+00, 3.300000e-02,\n",
       "         0.000000e+00, 0.000000e+00]],\n",
       "\n",
       "       [[0.000000e+00, 0.000000e+00, 0.000000e+00, 0.000000e+00,\n",
       "         0.000000e+00, 0.000000e+00],\n",
       "        [0.000000e+00, 0.000000e+00, 0.000000e+00, 0.000000e+00,\n",
       "         0.000000e+00, 0.000000e+00],\n",
       "        [0.000000e+00, 0.000000e+00, 0.000000e+00, 0.000000e+00,\n",
       "         0.000000e+00, 0.000000e+00],\n",
       "        ...,\n",
       "        [3.000000e+00, 0.000000e+00, 0.000000e+00, 3.300000e-02,\n",
       "         9.000000e-03, 0.000000e+00],\n",
       "        [0.000000e+00, 0.000000e+00, 0.000000e+00, 3.300000e-02,\n",
       "         0.000000e+00, 0.000000e+00],\n",
       "        [0.000000e+00, 0.000000e+00, 0.000000e+00, 3.300000e-02,\n",
       "         0.000000e+00, 0.000000e+00]],\n",
       "\n",
       "       [[0.000000e+00, 0.000000e+00, 0.000000e+00, 0.000000e+00,\n",
       "         0.000000e+00, 0.000000e+00],\n",
       "        [0.000000e+00, 0.000000e+00, 0.000000e+00, 0.000000e+00,\n",
       "         0.000000e+00, 0.000000e+00],\n",
       "        [0.000000e+00, 0.000000e+00, 0.000000e+00, 0.000000e+00,\n",
       "         0.000000e+00, 0.000000e+00],\n",
       "        ...,\n",
       "        [0.000000e+00, 0.000000e+00, 0.000000e+00, 3.300000e-02,\n",
       "         0.000000e+00, 0.000000e+00],\n",
       "        [0.000000e+00, 0.000000e+00, 0.000000e+00, 3.300000e-02,\n",
       "         0.000000e+00, 0.000000e+00],\n",
       "        [1.000000e+00, 0.000000e+00, 0.000000e+00, 3.600000e-02,\n",
       "         3.000000e-03, 0.000000e+00]],\n",
       "\n",
       "       ...,\n",
       "\n",
       "       [[2.991700e+04, 6.300600e+04, 2.040000e+03, 3.232077e+03,\n",
       "         9.038300e+01, 1.903490e+02],\n",
       "        [3.395500e+04, 6.506800e+04, 2.062000e+03, 3.334659e+03,\n",
       "         1.025820e+02, 1.965780e+02],\n",
       "        [2.928800e+04, 6.638500e+04, 1.317000e+03, 3.423142e+03,\n",
       "         8.848300e+01, 2.005570e+02],\n",
       "        ...,\n",
       "        [1.872100e+04, 1.004420e+05, 1.526000e+03, 5.135708e+03,\n",
       "         5.655800e+01, 3.034480e+02],\n",
       "        [2.181700e+04, 1.016170e+05, 1.175000e+03, 5.201620e+03,\n",
       "         6.591200e+01, 3.069980e+02],\n",
       "        [2.533700e+04, 1.028360e+05, 1.219000e+03, 5.278166e+03,\n",
       "         7.654600e+01, 3.106800e+02]],\n",
       "\n",
       "       [[3.395500e+04, 6.506800e+04, 2.062000e+03, 3.334659e+03,\n",
       "         1.025820e+02, 1.965780e+02],\n",
       "        [2.928800e+04, 6.638500e+04, 1.317000e+03, 3.423142e+03,\n",
       "         8.848300e+01, 2.005570e+02],\n",
       "        [2.497200e+04, 6.768200e+04, 1.297000e+03, 3.498585e+03,\n",
       "         7.544400e+01, 2.044760e+02],\n",
       "        ...,\n",
       "        [2.181700e+04, 1.016170e+05, 1.175000e+03, 5.201620e+03,\n",
       "         6.591200e+01, 3.069980e+02],\n",
       "        [2.533700e+04, 1.028360e+05, 1.219000e+03, 5.278166e+03,\n",
       "         7.654600e+01, 3.106800e+02],\n",
       "        [2.329700e+04, 1.037810e+05, 9.450000e+02, 5.348549e+03,\n",
       "         7.038300e+01, 3.135350e+02]],\n",
       "\n",
       "       [[2.928800e+04, 6.638500e+04, 1.317000e+03, 3.423142e+03,\n",
       "         8.848300e+01, 2.005570e+02],\n",
       "        [2.497200e+04, 6.768200e+04, 1.297000e+03, 3.498585e+03,\n",
       "         7.544400e+01, 2.044760e+02],\n",
       "        [2.259300e+04, 6.893400e+04, 1.252000e+03, 3.566842e+03,\n",
       "         6.825600e+01, 2.082580e+02],\n",
       "        ...,\n",
       "        [2.533700e+04, 1.028360e+05, 1.219000e+03, 5.278166e+03,\n",
       "         7.654600e+01, 3.106800e+02],\n",
       "        [2.329700e+04, 1.037810e+05, 9.450000e+02, 5.348549e+03,\n",
       "         7.038300e+01, 3.135350e+02],\n",
       "        [1.980700e+04, 1.043830e+05, 6.020000e+02, 5.408389e+03,\n",
       "         5.983900e+01, 3.153540e+02]]])"
      ]
     },
     "execution_count": 230,
     "metadata": {},
     "output_type": "execute_result"
    }
   ],
   "source": [
    "X_train"
   ]
  },
  {
   "cell_type": "code",
   "execution_count": 231,
   "metadata": {},
   "outputs": [],
   "source": [
    "X_test = X_train.copy()"
   ]
  },
  {
   "cell_type": "markdown",
   "metadata": {},
   "source": [
    "#### Only take the recent 15 days as testing data, and use the testing data to make USA prediction"
   ]
  },
  {
   "cell_type": "code",
   "execution_count": 232,
   "metadata": {},
   "outputs": [],
   "source": [
    "X_test = X_test[-15:]"
   ]
  },
  {
   "cell_type": "code",
   "execution_count": 234,
   "metadata": {},
   "outputs": [],
   "source": [
    "Y_test = Y_train.copy()[-15:]"
   ]
  },
  {
   "cell_type": "code",
   "execution_count": 235,
   "metadata": {},
   "outputs": [
    {
     "data": {
      "text/plain": [
       "array([[1508598, 1528568, 1551853, 1577287, 1601434],\n",
       "       [1528568, 1551853, 1577287, 1601434, 1622670],\n",
       "       [1551853, 1577287, 1601434, 1622670, 1643238],\n",
       "       [1577287, 1601434, 1622670, 1643238, 1662302],\n",
       "       [1601434, 1622670, 1643238, 1662302, 1681212],\n",
       "       [1622670, 1643238, 1662302, 1681212, 1699933],\n",
       "       [1643238, 1662302, 1681212, 1699933, 1721750],\n",
       "       [1662302, 1681212, 1699933, 1721750, 1747087],\n",
       "       [1681212, 1699933, 1721750, 1747087, 1770384],\n",
       "       [1699933, 1721750, 1747087, 1770384, 1790191],\n",
       "       [1721750, 1747087, 1770384, 1790191, 1811277],\n",
       "       [1747087, 1770384, 1790191, 1811277, 1831821],\n",
       "       [1770384, 1790191, 1811277, 1831821, 1851520],\n",
       "       [1790191, 1811277, 1831821, 1851520, 1872660],\n",
       "       [1811277, 1831821, 1851520, 1872660, 1897838]])"
      ]
     },
     "execution_count": 235,
     "metadata": {},
     "output_type": "execute_result"
    }
   ],
   "source": [
    "Y_test"
   ]
  },
  {
   "cell_type": "markdown",
   "metadata": {},
   "source": [
    "### Building LSTM model\n",
    "- Input data of LSTM model needs to be constructed into 3 dimensions. \n",
    "X_train has the shape of (113, 30, 28), which mean 113 input records, 30 days as a batch for training, and the data contains 28 features.\n",
    "- The model consists of 2 LSTM layers, and 2 Dense layers\n",
    "- The first hidden layer (Dense) has 5 nodes, and an output layer that predicts 5 numerical value.\n",
    "- The activation function is \"sigmoid\"\n",
    "- The optimizor of this model is \"Adam\", and I adopted \"MAE\" as loss function "
   ]
  },
  {
   "cell_type": "code",
   "execution_count": 236,
   "metadata": {},
   "outputs": [
    {
     "data": {
      "text/plain": [
       "(119, 30, 6)"
      ]
     },
     "execution_count": 236,
     "metadata": {},
     "output_type": "execute_result"
    }
   ],
   "source": [
    "X_train.shape"
   ]
  },
  {
   "cell_type": "code",
   "execution_count": 237,
   "metadata": {},
   "outputs": [
    {
     "data": {
      "text/plain": [
       "(119, 5)"
      ]
     },
     "execution_count": 237,
     "metadata": {},
     "output_type": "execute_result"
    }
   ],
   "source": [
    "Y_train.shape"
   ]
  },
  {
   "cell_type": "code",
   "execution_count": 238,
   "metadata": {},
   "outputs": [
    {
     "data": {
      "text/plain": [
       "119"
      ]
     },
     "execution_count": 238,
     "metadata": {},
     "output_type": "execute_result"
    }
   ],
   "source": [
    "len(Y_train)"
   ]
  },
  {
   "cell_type": "markdown",
   "metadata": {},
   "source": [
    "### Turned off softmax to let model make actual prediction "
   ]
  },
  {
   "cell_type": "code",
   "execution_count": 239,
   "metadata": {},
   "outputs": [],
   "source": [
    "def lstm_covid_model(shape):\n",
    "    model = Sequential()\n",
    "    model.add(LSTM(256, input_length=shape[1], input_dim=shape[2], return_sequences=True))\n",
    "    model.add(LSTM(256, return_sequences=True))\n",
    "    model.add(TimeDistributed(Dense(1)))\n",
    "    model.add(Flatten())\n",
    "    model.add(Dense(5))\n",
    "    #model.add(Dense(5,activation='softmax'))\n",
    "    model.compile(loss='MAE', optimizer=\"adam\",metrics=['mean_absolute_error'])\n",
    "    model.summary()\n",
    "    return model"
   ]
  },
  {
   "cell_type": "code",
   "execution_count": 240,
   "metadata": {},
   "outputs": [
    {
     "name": "stdout",
     "output_type": "stream",
     "text": [
      "Model: \"sequential_3\"\n",
      "_________________________________________________________________\n",
      "Layer (type)                 Output Shape              Param #   \n",
      "=================================================================\n",
      "lstm_5 (LSTM)                (None, 30, 256)           269312    \n",
      "_________________________________________________________________\n",
      "lstm_6 (LSTM)                (None, 30, 256)           525312    \n",
      "_________________________________________________________________\n",
      "time_distributed_3 (TimeDist (None, 30, 1)             257       \n",
      "_________________________________________________________________\n",
      "flatten_3 (Flatten)          (None, 30)                0         \n",
      "_________________________________________________________________\n",
      "dense_6 (Dense)              (None, 5)                 155       \n",
      "=================================================================\n",
      "Total params: 795,036\n",
      "Trainable params: 795,036\n",
      "Non-trainable params: 0\n",
      "_________________________________________________________________\n"
     ]
    }
   ],
   "source": [
    "model = lstm_covid_model(X_train.shape)\n",
    "callback = EarlyStopping(monitor=\"mean_absolute_error\", patience=10, verbose=1, mode=\"auto\")"
   ]
  },
  {
   "cell_type": "markdown",
   "metadata": {},
   "source": [
    "### Training Data"
   ]
  },
  {
   "cell_type": "code",
   "execution_count": 266,
   "metadata": {
    "collapsed": true
   },
   "outputs": [
    {
     "name": "stdout",
     "output_type": "stream",
     "text": [
      "Train on 119 samples, validate on 15 samples\n",
      "Epoch 1/100\n",
      "119/119 [==============================] - 5s 40ms/step - loss: 260836.2775 - mean_absolute_error: 260836.3125 - val_loss: 1022954.8667 - val_mean_absolute_error: 1022954.9375\n",
      "Epoch 2/100\n",
      "119/119 [==============================] - 6s 51ms/step - loss: 257250.9389 - mean_absolute_error: 257251.0312 - val_loss: 1012628.6750 - val_mean_absolute_error: 1012628.7500\n",
      "Epoch 3/100\n",
      "119/119 [==============================] - 6s 53ms/step - loss: 253112.5350 - mean_absolute_error: 253112.5000 - val_loss: 1002736.0875 - val_mean_absolute_error: 1002736.0625\n",
      "Epoch 4/100\n",
      "119/119 [==============================] - 7s 58ms/step - loss: 251028.7472 - mean_absolute_error: 251028.7500 - val_loss: 992580.1708 - val_mean_absolute_error: 992580.1875\n",
      "Epoch 5/100\n",
      "119/119 [==============================] - 7s 60ms/step - loss: 245218.3467 - mean_absolute_error: 245218.3594 - val_loss: 982498.9542 - val_mean_absolute_error: 982499.0000\n",
      "Epoch 6/100\n",
      "119/119 [==============================] - 8s 63ms/step - loss: 241140.4164 - mean_absolute_error: 241140.3750 - val_loss: 972253.8625 - val_mean_absolute_error: 972253.7500\n",
      "Epoch 7/100\n",
      "119/119 [==============================] - 6s 54ms/step - loss: 239270.2535 - mean_absolute_error: 239270.2344 - val_loss: 962747.1292 - val_mean_absolute_error: 962747.1250\n",
      "Epoch 8/100\n",
      "119/119 [==============================] - 5s 45ms/step - loss: 234119.5715 - mean_absolute_error: 234119.5469 - val_loss: 952838.5583 - val_mean_absolute_error: 952838.5625\n",
      "Epoch 9/100\n",
      "119/119 [==============================] - 6s 51ms/step - loss: 231668.8883 - mean_absolute_error: 231668.9062 - val_loss: 943327.8917 - val_mean_absolute_error: 943327.8750\n",
      "Epoch 10/100\n",
      "119/119 [==============================] - 6s 50ms/step - loss: 228844.6498 - mean_absolute_error: 228844.6562 - val_loss: 933820.9333 - val_mean_absolute_error: 933821.0000\n",
      "Epoch 11/100\n",
      "119/119 [==============================] - 6s 55ms/step - loss: 224306.6061 - mean_absolute_error: 224306.6250 - val_loss: 923541.7583 - val_mean_absolute_error: 923541.6875\n",
      "Epoch 12/100\n",
      "119/119 [==============================] - 7s 55ms/step - loss: 222061.9264 - mean_absolute_error: 222061.9219 - val_loss: 913377.8708 - val_mean_absolute_error: 913377.9375\n",
      "Epoch 13/100\n",
      "119/119 [==============================] - 7s 59ms/step - loss: 216815.9249 - mean_absolute_error: 216815.9062 - val_loss: 903354.1792 - val_mean_absolute_error: 903354.1875\n",
      "Epoch 14/100\n",
      "119/119 [==============================] - 8s 70ms/step - loss: 212238.4150 - mean_absolute_error: 212238.4531 - val_loss: 894729.9917 - val_mean_absolute_error: 894730.0000\n",
      "Epoch 15/100\n",
      "119/119 [==============================] - 7s 63ms/step - loss: 211213.9521 - mean_absolute_error: 211213.9844 - val_loss: 885512.3458 - val_mean_absolute_error: 885512.3750\n",
      "Epoch 16/100\n",
      "119/119 [==============================] - 7s 62ms/step - loss: 208516.0695 - mean_absolute_error: 208516.0469 - val_loss: 873384.5083 - val_mean_absolute_error: 873384.5625\n",
      "Epoch 17/100\n",
      "119/119 [==============================] - 7s 57ms/step - loss: 204409.6270 - mean_absolute_error: 204409.6094 - val_loss: 864351.6917 - val_mean_absolute_error: 864351.6875\n",
      "Epoch 18/100\n",
      "119/119 [==============================] - 7s 60ms/step - loss: 202418.3299 - mean_absolute_error: 202418.2812 - val_loss: 854332.4792 - val_mean_absolute_error: 854332.4375\n",
      "Epoch 19/100\n",
      "119/119 [==============================] - 7s 61ms/step - loss: 199923.7071 - mean_absolute_error: 199923.7344 - val_loss: 844567.9875 - val_mean_absolute_error: 844568.0000\n",
      "Epoch 20/100\n",
      "119/119 [==============================] - 7s 63ms/step - loss: 193192.0267 - mean_absolute_error: 193191.9844 - val_loss: 834494.4708 - val_mean_absolute_error: 834494.5625\n",
      "Epoch 21/100\n",
      "119/119 [==============================] - 8s 64ms/step - loss: 188716.1363 - mean_absolute_error: 188716.1719 - val_loss: 824762.7625 - val_mean_absolute_error: 824762.7500\n",
      "Epoch 22/100\n",
      "119/119 [==============================] - 7s 62ms/step - loss: 186207.1458 - mean_absolute_error: 186207.1406 - val_loss: 814582.1125 - val_mean_absolute_error: 814582.1250\n",
      "Epoch 23/100\n",
      "119/119 [==============================] - 6s 52ms/step - loss: 183978.0490 - mean_absolute_error: 183978.0781 - val_loss: 805309.2417 - val_mean_absolute_error: 805309.2500\n",
      "Epoch 24/100\n",
      "119/119 [==============================] - 6s 47ms/step - loss: 182568.4791 - mean_absolute_error: 182568.5000 - val_loss: 794735.1458 - val_mean_absolute_error: 794735.1250\n",
      "Epoch 25/100\n",
      "119/119 [==============================] - 6s 47ms/step - loss: 178515.5214 - mean_absolute_error: 178515.5781 - val_loss: 784447.7500 - val_mean_absolute_error: 784447.7500\n",
      "Epoch 26/100\n",
      "119/119 [==============================] - 6s 48ms/step - loss: 175555.7763 - mean_absolute_error: 175555.7344 - val_loss: 774824.3750 - val_mean_absolute_error: 774824.2500\n",
      "Epoch 27/100\n",
      "119/119 [==============================] - 5s 45ms/step - loss: 172532.8860 - mean_absolute_error: 172532.8906 - val_loss: 764736.1417 - val_mean_absolute_error: 764736.1250\n",
      "Epoch 28/100\n",
      "119/119 [==============================] - 5s 45ms/step - loss: 171200.3806 - mean_absolute_error: 171200.4062 - val_loss: 754151.4750 - val_mean_absolute_error: 754151.4375\n",
      "Epoch 29/100\n",
      "119/119 [==============================] - 6s 48ms/step - loss: 163914.3428 - mean_absolute_error: 163914.3750 - val_loss: 744260.8625 - val_mean_absolute_error: 744260.8750\n",
      "Epoch 30/100\n",
      "119/119 [==============================] - 6s 48ms/step - loss: 164283.8877 - mean_absolute_error: 164283.8750 - val_loss: 735562.0875 - val_mean_absolute_error: 735562.0625\n",
      "Epoch 31/100\n",
      "119/119 [==============================] - 5s 45ms/step - loss: 158553.6729 - mean_absolute_error: 158553.6562 - val_loss: 725494.3458 - val_mean_absolute_error: 725494.3125\n",
      "Epoch 32/100\n",
      "119/119 [==============================] - 6s 47ms/step - loss: 157117.7023 - mean_absolute_error: 157117.6406 - val_loss: 715315.2583 - val_mean_absolute_error: 715315.2500\n",
      "Epoch 33/100\n",
      "119/119 [==============================] - 6s 50ms/step - loss: 154387.5134 - mean_absolute_error: 154387.5312 - val_loss: 705529.0042 - val_mean_absolute_error: 705529.0000\n",
      "Epoch 34/100\n",
      "119/119 [==============================] - 5s 45ms/step - loss: 149166.7200 - mean_absolute_error: 149166.7188 - val_loss: 694976.6917 - val_mean_absolute_error: 694976.7500\n",
      "Epoch 35/100\n",
      "119/119 [==============================] - 7s 57ms/step - loss: 147708.2836 - mean_absolute_error: 147708.2969 - val_loss: 686282.2417 - val_mean_absolute_error: 686282.1875\n",
      "Epoch 36/100\n",
      "119/119 [==============================] - 9s 72ms/step - loss: 142776.4441 - mean_absolute_error: 142776.4375 - val_loss: 675415.3625 - val_mean_absolute_error: 675415.3125\n",
      "Epoch 37/100\n",
      "119/119 [==============================] - 10s 84ms/step - loss: 136560.5648 - mean_absolute_error: 136560.5312 - val_loss: 665215.5938 - val_mean_absolute_error: 665215.5625\n",
      "Epoch 38/100\n",
      "119/119 [==============================] - 10s 82ms/step - loss: 134024.0736 - mean_absolute_error: 134024.0469 - val_loss: 655064.6417 - val_mean_absolute_error: 655064.6250\n",
      "Epoch 39/100\n",
      "119/119 [==============================] - 7s 63ms/step - loss: 131904.0395 - mean_absolute_error: 131904.0156 - val_loss: 644731.5354 - val_mean_absolute_error: 644731.5625\n",
      "Epoch 40/100\n",
      "119/119 [==============================] - 8s 67ms/step - loss: 128351.4993 - mean_absolute_error: 128351.5078 - val_loss: 635421.1521 - val_mean_absolute_error: 635421.1250\n",
      "Epoch 41/100\n",
      "119/119 [==============================] - 7s 58ms/step - loss: 125337.0612 - mean_absolute_error: 125337.0391 - val_loss: 624520.9854 - val_mean_absolute_error: 624521.0000\n",
      "Epoch 42/100\n",
      "119/119 [==============================] - 7s 58ms/step - loss: 121660.5322 - mean_absolute_error: 121660.5391 - val_loss: 615003.6229 - val_mean_absolute_error: 615003.6250\n",
      "Epoch 43/100\n",
      "119/119 [==============================] - 11s 88ms/step - loss: 118807.1465 - mean_absolute_error: 118807.1328 - val_loss: 606369.2708 - val_mean_absolute_error: 606369.2500\n",
      "Epoch 44/100\n"
     ]
    },
    {
     "name": "stdout",
     "output_type": "stream",
     "text": [
      "119/119 [==============================] - 10s 87ms/step - loss: 116266.0845 - mean_absolute_error: 116266.0859 - val_loss: 596389.8667 - val_mean_absolute_error: 596389.8750\n",
      "Epoch 45/100\n",
      "119/119 [==============================] - 7s 57ms/step - loss: 113885.1601 - mean_absolute_error: 113885.1484 - val_loss: 586827.0396 - val_mean_absolute_error: 586827.0625\n",
      "Epoch 46/100\n",
      "119/119 [==============================] - 7s 61ms/step - loss: 111056.6134 - mean_absolute_error: 111056.5938 - val_loss: 576127.5104 - val_mean_absolute_error: 576127.4375\n",
      "Epoch 47/100\n",
      "119/119 [==============================] - 8s 65ms/step - loss: 107847.6000 - mean_absolute_error: 107847.5938 - val_loss: 567235.1792 - val_mean_absolute_error: 567235.1875\n",
      "Epoch 48/100\n",
      "119/119 [==============================] - 7s 59ms/step - loss: 105362.4405 - mean_absolute_error: 105362.4609 - val_loss: 557394.1937 - val_mean_absolute_error: 557394.1875\n",
      "Epoch 49/100\n",
      "119/119 [==============================] - 8s 66ms/step - loss: 103249.4991 - mean_absolute_error: 103249.5312 - val_loss: 547635.2167 - val_mean_absolute_error: 547635.1875\n",
      "Epoch 50/100\n",
      "119/119 [==============================] - 7s 59ms/step - loss: 100491.2372 - mean_absolute_error: 100491.2344 - val_loss: 538537.8104 - val_mean_absolute_error: 538537.8125\n",
      "Epoch 51/100\n",
      "119/119 [==============================] - 8s 65ms/step - loss: 98147.9169 - mean_absolute_error: 98147.9141 - val_loss: 528732.7521 - val_mean_absolute_error: 528732.7500\n",
      "Epoch 52/100\n",
      "119/119 [==============================] - 8s 65ms/step - loss: 94981.4821 - mean_absolute_error: 94981.4609 - val_loss: 519065.7208 - val_mean_absolute_error: 519065.6875\n",
      "Epoch 53/100\n",
      "119/119 [==============================] - 6s 53ms/step - loss: 93464.1780 - mean_absolute_error: 93464.1953 - val_loss: 510588.5042 - val_mean_absolute_error: 510588.5000\n",
      "Epoch 54/100\n",
      "119/119 [==============================] - 10s 83ms/step - loss: 92102.1927 - mean_absolute_error: 92102.1797 - val_loss: 500437.4083 - val_mean_absolute_error: 500437.4062\n",
      "Epoch 55/100\n",
      "119/119 [==============================] - 10s 81ms/step - loss: 88474.5368 - mean_absolute_error: 88474.5391 - val_loss: 491101.9396 - val_mean_absolute_error: 491101.9062\n",
      "Epoch 56/100\n",
      "119/119 [==============================] - 9s 72ms/step - loss: 85792.2359 - mean_absolute_error: 85792.2266 - val_loss: 481058.1479 - val_mean_absolute_error: 481058.1562\n",
      "Epoch 57/100\n",
      "119/119 [==============================] - 8s 66ms/step - loss: 84534.6178 - mean_absolute_error: 84534.6016 - val_loss: 472550.1625 - val_mean_absolute_error: 472550.1250\n",
      "Epoch 58/100\n",
      "119/119 [==============================] - 9s 76ms/step - loss: 81970.3135 - mean_absolute_error: 81970.3359 - val_loss: 464184.7562 - val_mean_absolute_error: 464184.7812\n",
      "Epoch 59/100\n",
      "119/119 [==============================] - 10s 84ms/step - loss: 79661.4728 - mean_absolute_error: 79661.4766 - val_loss: 455281.3896 - val_mean_absolute_error: 455281.4062\n",
      "Epoch 60/100\n",
      "119/119 [==============================] - 13s 108ms/step - loss: 78392.9654 - mean_absolute_error: 78392.9688 - val_loss: 446909.7562 - val_mean_absolute_error: 446909.8125\n",
      "Epoch 61/100\n",
      "119/119 [==============================] - 8s 71ms/step - loss: 76486.9301 - mean_absolute_error: 76486.9141 - val_loss: 438875.8688 - val_mean_absolute_error: 438875.8750\n",
      "Epoch 62/100\n",
      "119/119 [==============================] - 8s 68ms/step - loss: 74180.1229 - mean_absolute_error: 74180.1172 - val_loss: 430757.2917 - val_mean_absolute_error: 430757.3125\n",
      "Epoch 63/100\n",
      "119/119 [==============================] - 8s 71ms/step - loss: 72995.2302 - mean_absolute_error: 72995.2422 - val_loss: 423119.9583 - val_mean_absolute_error: 423120.0000\n",
      "Epoch 64/100\n",
      "119/119 [==============================] - 9s 73ms/step - loss: 71453.9751 - mean_absolute_error: 71453.9766 - val_loss: 414516.9083 - val_mean_absolute_error: 414516.9375\n",
      "Epoch 65/100\n",
      "119/119 [==============================] - 9s 75ms/step - loss: 70625.6661 - mean_absolute_error: 70625.6641 - val_loss: 407255.1323 - val_mean_absolute_error: 407255.0938\n",
      "Epoch 66/100\n",
      "119/119 [==============================] - 7s 62ms/step - loss: 68497.8459 - mean_absolute_error: 68497.8516 - val_loss: 400405.9458 - val_mean_absolute_error: 400405.9375\n",
      "Epoch 67/100\n",
      "119/119 [==============================] - 6s 54ms/step - loss: 68934.9922 - mean_absolute_error: 68934.9844 - val_loss: 392299.6312 - val_mean_absolute_error: 392299.5938\n",
      "Epoch 68/100\n",
      "119/119 [==============================] - 7s 59ms/step - loss: 66261.2818 - mean_absolute_error: 66261.2812 - val_loss: 384887.3010 - val_mean_absolute_error: 384887.3438\n",
      "Epoch 69/100\n",
      "119/119 [==============================] - 12s 104ms/step - loss: 63380.0717 - mean_absolute_error: 63380.0898 - val_loss: 377436.7906 - val_mean_absolute_error: 377436.7812\n",
      "Epoch 70/100\n",
      "119/119 [==============================] - 11s 94ms/step - loss: 61686.3469 - mean_absolute_error: 61686.3477 - val_loss: 369079.1792 - val_mean_absolute_error: 369079.1562\n",
      "Epoch 71/100\n",
      "119/119 [==============================] - 13s 109ms/step - loss: 60418.7200 - mean_absolute_error: 60418.7227 - val_loss: 370704.2469 - val_mean_absolute_error: 370704.2188\n",
      "Epoch 72/100\n",
      "119/119 [==============================] - 13s 108ms/step - loss: 58829.7158 - mean_absolute_error: 58829.7188 - val_loss: 352422.6604 - val_mean_absolute_error: 352422.6250\n",
      "Epoch 73/100\n",
      "119/119 [==============================] - 12s 104ms/step - loss: 56042.9370 - mean_absolute_error: 56042.9609 - val_loss: 344969.3115 - val_mean_absolute_error: 344969.3125\n",
      "Epoch 74/100\n",
      "119/119 [==============================] - 12s 103ms/step - loss: 55316.0420 - mean_absolute_error: 55316.0391 - val_loss: 336634.6729 - val_mean_absolute_error: 336634.6562\n",
      "Epoch 75/100\n",
      "119/119 [==============================] - 9s 80ms/step - loss: 53227.0574 - mean_absolute_error: 53227.0586 - val_loss: 329593.8958 - val_mean_absolute_error: 329593.9062\n",
      "Epoch 76/100\n",
      "119/119 [==============================] - 10s 86ms/step - loss: 52791.7201 - mean_absolute_error: 52791.7344 - val_loss: 321902.1417 - val_mean_absolute_error: 321902.1250\n",
      "Epoch 77/100\n",
      "119/119 [==============================] - 10s 82ms/step - loss: 50933.4485 - mean_absolute_error: 50933.4414 - val_loss: 314743.3802 - val_mean_absolute_error: 314743.4062\n",
      "Epoch 78/100\n",
      "119/119 [==============================] - 10s 85ms/step - loss: 48764.7165 - mean_absolute_error: 48764.7070 - val_loss: 306944.3604 - val_mean_absolute_error: 306944.3438\n",
      "Epoch 79/100\n",
      "119/119 [==============================] - 14s 113ms/step - loss: 48502.1772 - mean_absolute_error: 48502.1875 - val_loss: 300303.1802 - val_mean_absolute_error: 300303.1562\n",
      "Epoch 80/100\n",
      "119/119 [==============================] - 18s 154ms/step - loss: 47010.4098 - mean_absolute_error: 47010.3867 - val_loss: 293409.7344 - val_mean_absolute_error: 293409.7188\n",
      "Epoch 81/100\n",
      "119/119 [==============================] - 21s 175ms/step - loss: 46241.8559 - mean_absolute_error: 46241.8555 - val_loss: 286098.6042 - val_mean_absolute_error: 286098.5938\n",
      "Epoch 82/100\n",
      "119/119 [==============================] - 19s 156ms/step - loss: 44968.6871 - mean_absolute_error: 44968.6875 - val_loss: 279885.3896 - val_mean_absolute_error: 279885.3750\n",
      "Epoch 83/100\n",
      "119/119 [==============================] - 10s 83ms/step - loss: 44172.2208 - mean_absolute_error: 44172.2188 - val_loss: 274242.5635 - val_mean_absolute_error: 274242.5625\n",
      "Epoch 84/100\n",
      "119/119 [==============================] - 10s 81ms/step - loss: 43583.6107 - mean_absolute_error: 43583.6094 - val_loss: 266421.2875 - val_mean_absolute_error: 266421.2812\n",
      "Epoch 85/100\n",
      "119/119 [==============================] - 10s 84ms/step - loss: 41861.5744 - mean_absolute_error: 41861.5703 - val_loss: 259600.8495 - val_mean_absolute_error: 259600.8438\n",
      "Epoch 86/100\n",
      "119/119 [==============================] - 19s 160ms/step - loss: 40528.0496 - mean_absolute_error: 40528.0508 - val_loss: 253124.8625 - val_mean_absolute_error: 253124.8438\n",
      "Epoch 87/100\n",
      "119/119 [==============================] - 14s 119ms/step - loss: 40624.1024 - mean_absolute_error: 40624.1055 - val_loss: 246774.4557 - val_mean_absolute_error: 246774.4688\n",
      "Epoch 88/100\n"
     ]
    },
    {
     "name": "stdout",
     "output_type": "stream",
     "text": [
      "119/119 [==============================] - 15s 123ms/step - loss: 38789.0603 - mean_absolute_error: 38789.0586 - val_loss: 240446.9677 - val_mean_absolute_error: 240446.9531\n",
      "Epoch 89/100\n",
      "119/119 [==============================] - 10s 85ms/step - loss: 36982.2335 - mean_absolute_error: 36982.2344 - val_loss: 234744.5401 - val_mean_absolute_error: 234744.5312\n",
      "Epoch 90/100\n",
      "119/119 [==============================] - 10s 81ms/step - loss: 36697.1275 - mean_absolute_error: 36697.1172 - val_loss: 228502.7083 - val_mean_absolute_error: 228502.7188\n",
      "Epoch 91/100\n",
      "119/119 [==============================] - 17s 139ms/step - loss: 36713.0376 - mean_absolute_error: 36713.0469 - val_loss: 222494.4688 - val_mean_absolute_error: 222494.4844\n",
      "Epoch 92/100\n",
      "119/119 [==============================] - 16s 131ms/step - loss: 35181.0655 - mean_absolute_error: 35181.0703 - val_loss: 217419.3083 - val_mean_absolute_error: 217419.3281\n",
      "Epoch 93/100\n",
      "119/119 [==============================] - 17s 141ms/step - loss: 35739.8708 - mean_absolute_error: 35739.8711 - val_loss: 212871.4935 - val_mean_absolute_error: 212871.4844\n",
      "Epoch 94/100\n",
      "119/119 [==============================] - 17s 146ms/step - loss: 33395.1277 - mean_absolute_error: 33395.1328 - val_loss: 218360.9620 - val_mean_absolute_error: 218360.9531\n",
      "Epoch 95/100\n",
      "119/119 [==============================] - 18s 149ms/step - loss: 34726.4027 - mean_absolute_error: 34726.4062 - val_loss: 211213.3161 - val_mean_absolute_error: 211213.3125\n",
      "Epoch 96/100\n",
      "119/119 [==============================] - 20s 165ms/step - loss: 34243.7868 - mean_absolute_error: 34243.7812 - val_loss: 210157.8602 - val_mean_absolute_error: 210157.8438\n",
      "Epoch 97/100\n",
      "119/119 [==============================] - 18s 154ms/step - loss: 31963.0614 - mean_absolute_error: 31963.0605 - val_loss: 193517.8133 - val_mean_absolute_error: 193517.7969\n",
      "Epoch 98/100\n",
      "119/119 [==============================] - 16s 135ms/step - loss: 31135.1456 - mean_absolute_error: 31135.1465 - val_loss: 190026.7812 - val_mean_absolute_error: 190026.7812\n",
      "Epoch 99/100\n",
      "119/119 [==============================] - 16s 131ms/step - loss: 32523.6415 - mean_absolute_error: 32523.6406 - val_loss: 193483.3630 - val_mean_absolute_error: 193483.3438\n",
      "Epoch 100/100\n",
      "119/119 [==============================] - 15s 129ms/step - loss: 30912.4258 - mean_absolute_error: 30912.4258 - val_loss: 200791.3401 - val_mean_absolute_error: 200791.3281\n"
     ]
    }
   ],
   "source": [
    "history = model.fit(X_train, Y_train, epochs=100, batch_size=1, validation_data=(X_test, Y_test), callbacks=[callback])"
   ]
  },
  {
   "cell_type": "code",
   "execution_count": 267,
   "metadata": {},
   "outputs": [
    {
     "data": {
      "text/plain": [
       "[<matplotlib.lines.Line2D at 0x1a4170b278>]"
      ]
     },
     "execution_count": 267,
     "metadata": {},
     "output_type": "execute_result"
    },
    {
     "data": {
      "image/png": "[encoded data removed]",
      "text/plain": [
       "<Figure size 432x288 with 1 Axes>"
      ]
     },
     "metadata": {
      "needs_background": "light"
     },
     "output_type": "display_data"
    }
   ],
   "source": [
    "plt.plot(history.history['loss'])"
   ]
  },
  {
   "cell_type": "code",
   "execution_count": 268,
   "metadata": {},
   "outputs": [],
   "source": [
    "real_date = Y_test"
   ]
  },
  {
   "cell_type": "code",
   "execution_count": 269,
   "metadata": {},
   "outputs": [
    {
     "data": {
      "text/plain": [
       "array([[1508598, 1528568, 1551853, 1577287, 1601434],\n",
       "       [1528568, 1551853, 1577287, 1601434, 1622670],\n",
       "       [1551853, 1577287, 1601434, 1622670, 1643238],\n",
       "       [1577287, 1601434, 1622670, 1643238, 1662302],\n",
       "       [1601434, 1622670, 1643238, 1662302, 1681212],\n",
       "       [1622670, 1643238, 1662302, 1681212, 1699933],\n",
       "       [1643238, 1662302, 1681212, 1699933, 1721750],\n",
       "       [1662302, 1681212, 1699933, 1721750, 1747087],\n",
       "       [1681212, 1699933, 1721750, 1747087, 1770384],\n",
       "       [1699933, 1721750, 1747087, 1770384, 1790191],\n",
       "       [1721750, 1747087, 1770384, 1790191, 1811277],\n",
       "       [1747087, 1770384, 1790191, 1811277, 1831821],\n",
       "       [1770384, 1790191, 1811277, 1831821, 1851520],\n",
       "       [1790191, 1811277, 1831821, 1851520, 1872660],\n",
       "       [1811277, 1831821, 1851520, 1872660, 1897838]])"
      ]
     },
     "execution_count": 269,
     "metadata": {},
     "output_type": "execute_result"
    }
   ],
   "source": [
    "real_date"
   ]
  },
  {
   "cell_type": "code",
   "execution_count": 270,
   "metadata": {},
   "outputs": [
    {
     "data": {
      "text/plain": [
       "[<matplotlib.lines.Line2D at 0x1a43c019e8>,\n",
       " <matplotlib.lines.Line2D at 0x1a43c01b70>,\n",
       " <matplotlib.lines.Line2D at 0x1a43c01cf8>,\n",
       " <matplotlib.lines.Line2D at 0x1a43c01e80>,\n",
       " <matplotlib.lines.Line2D at 0x1a43d4d048>]"
      ]
     },
     "execution_count": 270,
     "metadata": {},
     "output_type": "execute_result"
    },
    {
     "data": {
      "image/png": "[encoded data removed]",
      "text/plain": [
       "<Figure size 432x288 with 1 Axes>"
      ]
     },
     "metadata": {
      "needs_background": "light"
     },
     "output_type": "display_data"
    }
   ],
   "source": [
    "plt.plot(real_date, color = 'black', label = 'Covid Real Data(USA)')"
   ]
  },
  {
   "cell_type": "code",
   "execution_count": 271,
   "metadata": {},
   "outputs": [],
   "source": [
    "predicted_usa = model.predict(X_test)"
   ]
  },
  {
   "cell_type": "code",
   "execution_count": 272,
   "metadata": {},
   "outputs": [
    {
     "data": {
      "text/plain": [
       "array([[1441249.2, 1472813.6, 1504108.9, 1532007.2, 1562819.2],\n",
       "       [1441809.5, 1473384.5, 1504689.4, 1532598. , 1563421.4],\n",
       "       [1441800.6, 1473376.1, 1504674.5, 1532585.6, 1563405.8],\n",
       "       [1441572.4, 1473136. , 1504419.1, 1532315.5, 1563119.8],\n",
       "       [1442116.4, 1473691.9, 1504995.6, 1532900.9, 1563723.6],\n",
       "       [1442083.8, 1473657.9, 1504962. , 1532867.1, 1563690. ],\n",
       "       [1442002.5, 1473578.2, 1504877.8, 1532784.4, 1563604.9],\n",
       "       [1441403.8, 1472952.2, 1504218.1, 1532094.8, 1562878.6],\n",
       "       [1442203.5, 1473777.8, 1505079.6, 1532983.4, 1563803.9],\n",
       "       [1442250.2, 1473824.9, 1505127. , 1533030.6, 1563851.5],\n",
       "       [1442257.8, 1473832.1, 1505134.5, 1533037.6, 1563858.8],\n",
       "       [1442267.5, 1473841.8, 1505144. , 1533047.1, 1563867.9],\n",
       "       [1442198. , 1473772.5, 1505073.5, 1532977.6, 1563797.8],\n",
       "       [1442247.2, 1473821.1, 1505120. , 1533022.6, 1563841. ],\n",
       "       [1442849.1, 1474420.5, 1505709.2, 1533606.1, 1564414.1]],\n",
       "      dtype=float32)"
      ]
     },
     "execution_count": 272,
     "metadata": {},
     "output_type": "execute_result"
    }
   ],
   "source": [
    "predicted_usa"
   ]
  },
  {
   "cell_type": "code",
   "execution_count": 273,
   "metadata": {},
   "outputs": [
    {
     "data": {
      "text/plain": [
       "[<matplotlib.lines.Line2D at 0x1a4031cb38>]"
      ]
     },
     "execution_count": 273,
     "metadata": {},
     "output_type": "execute_result"
    },
    {
     "data": {
      "image/png": "[encoded data removed]",
      "text/plain": [
       "<Figure size 432x288 with 1 Axes>"
      ]
     },
     "metadata": {
      "needs_background": "light"
     },
     "output_type": "display_data"
    }
   ],
   "source": [
    "plt.plot(predicted_usa[-1], color = 'green', label = 'Predicted Covid Situation')"
   ]
  },
  {
   "cell_type": "code",
   "execution_count": 274,
   "metadata": {},
   "outputs": [
    {
     "data": {
      "image/png": "[encoded data removed]",
      "text/plain": [
       "<Figure size 432x288 with 1 Axes>"
      ]
     },
     "metadata": {
      "needs_background": "light"
     },
     "output_type": "display_data"
    }
   ],
   "source": [
    "plt.plot(real_date, color = 'black', label = 'Covid19 Real Data(USA)')\n",
    "plt.plot(predicted_usa, color = 'green', label = 'Predicted USA Covid19 Situation')\n",
    "plt.title('COVID 19 Prediction in USA')\n",
    "plt.xlabel('Time')\n",
    "plt.ylabel('Total Cases')\n",
    "plt.show()"
   ]
  },
  {
   "cell_type": "markdown",
   "metadata": {},
   "source": [
    "#### The performance was poor, try to scale down the model to input 5 days and output predict "
   ]
  },
  {
   "cell_type": "code",
   "execution_count": 282,
   "metadata": {},
   "outputs": [
    {
     "data": {
      "text/plain": [
       "(160, 20)"
      ]
     },
     "execution_count": 282,
     "metadata": {},
     "output_type": "execute_result"
    }
   ],
   "source": [
    "covid_usa.shape"
   ]
  },
  {
   "cell_type": "code",
   "execution_count": 283,
   "metadata": {},
   "outputs": [],
   "source": [
    "def train_windows(df, ref_day=5, predict_day=1):\n",
    "    X_train, Y_train = [], []\n",
    "    for i in range(ref_day+predict_day+1,df.shape[0]-1):\n",
    "        X_train.append(np.array(df.iloc[i-ref_day:i,1:-5]))\n",
    "        Y_train.append(np.array(df.iloc[i:i+predict_day][\"total_cases\"]))\n",
    "    return np.array(X_train), np.array(Y_train)"
   ]
  },
  {
   "cell_type": "code",
   "execution_count": 276,
   "metadata": {},
   "outputs": [],
   "source": [
    "def lstm_covid_model(shape):\n",
    "    model = Sequential()\n",
    "    model.add(LSTM(256, input_length=shape[1], input_dim=shape[2], return_sequences=True))\n",
    "    model.add(LSTM(256, return_sequences=True))\n",
    "    model.add(TimeDistributed(Dense(1)))\n",
    "    model.add(Flatten())\n",
    "    model.add(Dense(5))\n",
    "    model.add(Dense(1))\n",
    "    model.compile(loss='MAE', optimizer=\"adam\",metrics=['mean_absolute_error'])\n",
    "    model.summary()\n",
    "    return model"
   ]
  },
  {
   "cell_type": "code",
   "execution_count": 284,
   "metadata": {},
   "outputs": [],
   "source": [
    "X_train, Y_train = train_windows(covid_usa_test, 5,1)"
   ]
  },
  {
   "cell_type": "code",
   "execution_count": 285,
   "metadata": {},
   "outputs": [],
   "source": [
    "X_test = X_train.copy()\n",
    "X_test = X_test[-10:]"
   ]
  },
  {
   "cell_type": "code",
   "execution_count": 286,
   "metadata": {},
   "outputs": [],
   "source": [
    "Y_test = Y_train.copy()\n",
    "Y_test = Y_test[-10:]"
   ]
  },
  {
   "cell_type": "code",
   "execution_count": 287,
   "metadata": {},
   "outputs": [
    {
     "data": {
      "text/plain": [
       "(10, 5, 2)"
      ]
     },
     "execution_count": 287,
     "metadata": {},
     "output_type": "execute_result"
    }
   ],
   "source": [
    "X_test.shape"
   ]
  },
  {
   "cell_type": "code",
   "execution_count": 288,
   "metadata": {},
   "outputs": [
    {
     "data": {
      "text/plain": [
       "(10, 1)"
      ]
     },
     "execution_count": 288,
     "metadata": {},
     "output_type": "execute_result"
    }
   ],
   "source": [
    "Y_test.shape"
   ]
  },
  {
   "cell_type": "code",
   "execution_count": 292,
   "metadata": {},
   "outputs": [
    {
     "name": "stdout",
     "output_type": "stream",
     "text": [
      "Model: \"sequential_4\"\n",
      "_________________________________________________________________\n",
      "Layer (type)                 Output Shape              Param #   \n",
      "=================================================================\n",
      "lstm_7 (LSTM)                (None, 5, 256)            265216    \n",
      "_________________________________________________________________\n",
      "lstm_8 (LSTM)                (None, 5, 256)            525312    \n",
      "_________________________________________________________________\n",
      "time_distributed_4 (TimeDist (None, 5, 1)              257       \n",
      "_________________________________________________________________\n",
      "flatten_4 (Flatten)          (None, 5)                 0         \n",
      "_________________________________________________________________\n",
      "dense_8 (Dense)              (None, 5)                 30        \n",
      "_________________________________________________________________\n",
      "dense_9 (Dense)              (None, 1)                 6         \n",
      "=================================================================\n",
      "Total params: 790,821\n",
      "Trainable params: 790,821\n",
      "Non-trainable params: 0\n",
      "_________________________________________________________________\n"
     ]
    }
   ],
   "source": [
    "model = lstm_covid_model(X_train.shape)\n",
    "callback = EarlyStopping(monitor=\"mean_absolute_error\", patience=10, verbose=1, mode=\"auto\")"
   ]
  },
  {
   "cell_type": "code",
   "execution_count": 294,
   "metadata": {
    "collapsed": true
   },
   "outputs": [
    {
     "name": "stdout",
     "output_type": "stream",
     "text": [
      "Train on 152 samples, validate on 10 samples\n",
      "Epoch 1/160\n",
      "152/152 [==============================] - 2s 14ms/step - loss: 474956.4344 - mean_absolute_error: 474956.3125 - val_loss: 1745916.4750 - val_mean_absolute_error: 1745916.3750\n",
      "Epoch 2/160\n",
      "152/152 [==============================] - 2s 15ms/step - loss: 470390.6243 - mean_absolute_error: 470390.6875 - val_loss: 1733791.9000 - val_mean_absolute_error: 1733792.0000\n",
      "Epoch 3/160\n",
      "152/152 [==============================] - 2s 14ms/step - loss: 465981.5725 - mean_absolute_error: 465981.6250 - val_loss: 1720465.1375 - val_mean_absolute_error: 1720465.2500\n",
      "Epoch 4/160\n",
      "152/152 [==============================] - 2s 13ms/step - loss: 459015.7242 - mean_absolute_error: 459015.6250 - val_loss: 1704701.5250 - val_mean_absolute_error: 1704701.3750\n",
      "Epoch 5/160\n",
      "152/152 [==============================] - 2s 14ms/step - loss: 452687.8332 - mean_absolute_error: 452687.8438 - val_loss: 1687001.9250 - val_mean_absolute_error: 1687002.0000\n",
      "Epoch 6/160\n",
      "152/152 [==============================] - 2s 15ms/step - loss: 445290.3006 - mean_absolute_error: 445290.4062 - val_loss: 1668215.0750 - val_mean_absolute_error: 1668215.1250\n",
      "Epoch 7/160\n",
      "152/152 [==============================] - 2s 15ms/step - loss: 441046.0664 - mean_absolute_error: 441046.0938 - val_loss: 1649508.2375 - val_mean_absolute_error: 1649508.2500\n",
      "Epoch 8/160\n",
      "152/152 [==============================] - 2s 15ms/step - loss: 430558.5943 - mean_absolute_error: 430558.5938 - val_loss: 1626916.6000 - val_mean_absolute_error: 1626916.7500\n",
      "Epoch 9/160\n",
      "152/152 [==============================] - 2s 15ms/step - loss: 424994.2596 - mean_absolute_error: 424994.2500 - val_loss: 1603019.6875 - val_mean_absolute_error: 1603019.7500\n",
      "Epoch 10/160\n",
      "152/152 [==============================] - 3s 16ms/step - loss: 417235.5339 - mean_absolute_error: 417235.5312 - val_loss: 1578299.3750 - val_mean_absolute_error: 1578299.5000\n",
      "Epoch 11/160\n",
      "152/152 [==============================] - 2s 15ms/step - loss: 400651.3078 - mean_absolute_error: 400651.3750 - val_loss: 1549966.3875 - val_mean_absolute_error: 1549966.2500\n",
      "Epoch 12/160\n",
      "152/152 [==============================] - 2s 14ms/step - loss: 393386.0473 - mean_absolute_error: 393386.0938 - val_loss: 1520229.2250 - val_mean_absolute_error: 1520229.2500\n",
      "Epoch 13/160\n",
      "152/152 [==============================] - 2s 14ms/step - loss: 390291.6885 - mean_absolute_error: 390291.5625 - val_loss: 1492768.5375 - val_mean_absolute_error: 1492768.5000\n",
      "Epoch 14/160\n",
      "152/152 [==============================] - 3s 18ms/step - loss: 372365.9522 - mean_absolute_error: 372365.8438 - val_loss: 1460647.5500 - val_mean_absolute_error: 1460647.5000\n",
      "Epoch 15/160\n",
      "152/152 [==============================] - 2s 15ms/step - loss: 356741.8889 - mean_absolute_error: 356741.9375 - val_loss: 1424728.4375 - val_mean_absolute_error: 1424728.3750\n",
      "Epoch 16/160\n",
      "152/152 [==============================] - 2s 15ms/step - loss: 340544.8379 - mean_absolute_error: 340544.7500 - val_loss: 1386238.9250 - val_mean_absolute_error: 1386238.7500\n",
      "Epoch 17/160\n",
      "152/152 [==============================] - 2s 15ms/step - loss: 322151.0757 - mean_absolute_error: 322151.1562 - val_loss: 1347164.7250 - val_mean_absolute_error: 1347164.6250\n",
      "Epoch 18/160\n",
      "152/152 [==============================] - 2s 16ms/step - loss: 305551.8470 - mean_absolute_error: 305551.8750 - val_loss: 1304386.4375 - val_mean_absolute_error: 1304386.2500\n",
      "Epoch 19/160\n",
      "152/152 [==============================] - 2s 15ms/step - loss: 289109.9821 - mean_absolute_error: 289109.9062 - val_loss: 1260822.3375 - val_mean_absolute_error: 1260822.2500\n",
      "Epoch 20/160\n",
      "152/152 [==============================] - 2s 14ms/step - loss: 273066.0425 - mean_absolute_error: 273066.0312 - val_loss: 1216218.3500 - val_mean_absolute_error: 1216218.2500\n",
      "Epoch 21/160\n",
      "152/152 [==============================] - 2s 15ms/step - loss: 255842.3393 - mean_absolute_error: 255842.3125 - val_loss: 1170386.6000 - val_mean_absolute_error: 1170386.6250\n",
      "Epoch 22/160\n",
      "152/152 [==============================] - 2s 16ms/step - loss: 242054.8828 - mean_absolute_error: 242054.8438 - val_loss: 1127856.0750 - val_mean_absolute_error: 1127856.0000\n",
      "Epoch 23/160\n",
      "152/152 [==============================] - 2s 15ms/step - loss: 229802.6424 - mean_absolute_error: 229802.7031 - val_loss: 1085092.8375 - val_mean_absolute_error: 1085092.7500\n",
      "Epoch 24/160\n",
      "152/152 [==============================] - 2s 15ms/step - loss: 214673.8637 - mean_absolute_error: 214673.8438 - val_loss: 1045380.9938 - val_mean_absolute_error: 1045380.8750\n",
      "Epoch 25/160\n",
      "152/152 [==============================] - 2s 15ms/step - loss: 204546.4658 - mean_absolute_error: 204546.4844 - val_loss: 1005045.1937 - val_mean_absolute_error: 1005045.1875\n",
      "Epoch 26/160\n",
      "152/152 [==============================] - 2s 14ms/step - loss: 190754.3164 - mean_absolute_error: 190754.2969 - val_loss: 961224.9125 - val_mean_absolute_error: 961224.8750\n",
      "Epoch 27/160\n",
      "152/152 [==============================] - 2s 16ms/step - loss: 179166.9587 - mean_absolute_error: 179166.9844 - val_loss: 924220.6937 - val_mean_absolute_error: 924220.6250\n",
      "Epoch 28/160\n",
      "152/152 [==============================] - 2s 16ms/step - loss: 168265.5541 - mean_absolute_error: 168265.5625 - val_loss: 884473.8688 - val_mean_absolute_error: 884473.8125\n",
      "Epoch 29/160\n",
      "152/152 [==============================] - 2s 14ms/step - loss: 158980.2398 - mean_absolute_error: 158980.2656 - val_loss: 847538.9625 - val_mean_absolute_error: 847539.0000\n",
      "Epoch 30/160\n",
      "152/152 [==============================] - 2s 14ms/step - loss: 153780.7483 - mean_absolute_error: 153780.7969 - val_loss: 807444.5687 - val_mean_absolute_error: 807444.6250\n",
      "Epoch 31/160\n",
      "152/152 [==============================] - 2s 15ms/step - loss: 137978.5797 - mean_absolute_error: 137978.5625 - val_loss: 772858.3125 - val_mean_absolute_error: 772858.3750\n",
      "Epoch 32/160\n",
      "152/152 [==============================] - 2s 16ms/step - loss: 129785.6524 - mean_absolute_error: 129785.6484 - val_loss: 735818.9875 - val_mean_absolute_error: 735818.9375\n",
      "Epoch 33/160\n",
      "152/152 [==============================] - 2s 15ms/step - loss: 123452.9152 - mean_absolute_error: 123452.9219 - val_loss: 699747.8375 - val_mean_absolute_error: 699747.8750\n",
      "Epoch 34/160\n",
      "152/152 [==============================] - 2s 15ms/step - loss: 112835.5734 - mean_absolute_error: 112835.5938 - val_loss: 662064.4625 - val_mean_absolute_error: 662064.4375\n",
      "Epoch 35/160\n",
      "152/152 [==============================] - 2s 15ms/step - loss: 104803.3095 - mean_absolute_error: 104803.2969 - val_loss: 632182.2125 - val_mean_absolute_error: 632182.1250\n",
      "Epoch 36/160\n",
      "152/152 [==============================] - 2s 16ms/step - loss: 110801.0485 - mean_absolute_error: 110801.0391 - val_loss: 600753.4750 - val_mean_absolute_error: 600753.5000\n",
      "Epoch 37/160\n",
      "152/152 [==============================] - 2s 15ms/step - loss: 98311.9722 - mean_absolute_error: 98311.9766 - val_loss: 566772.4250 - val_mean_absolute_error: 566772.3750\n",
      "Epoch 38/160\n",
      "152/152 [==============================] - 2s 14ms/step - loss: 97807.5297 - mean_absolute_error: 97807.5234 - val_loss: 570486.9125 - val_mean_absolute_error: 570486.8750\n",
      "Epoch 39/160\n",
      "152/152 [==============================] - 2s 15ms/step - loss: 89578.6488 - mean_absolute_error: 89578.6250 - val_loss: 506473.5000 - val_mean_absolute_error: 506473.4375\n",
      "Epoch 40/160\n",
      "152/152 [==============================] - 2s 16ms/step - loss: 86177.0150 - mean_absolute_error: 86177.0312 - val_loss: 484589.8750 - val_mean_absolute_error: 484589.9062\n",
      "Epoch 41/160\n",
      "152/152 [==============================] - 2s 15ms/step - loss: 78235.7598 - mean_absolute_error: 78235.7656 - val_loss: 450427.3250 - val_mean_absolute_error: 450427.3125\n",
      "Epoch 42/160\n",
      "152/152 [==============================] - 2s 15ms/step - loss: 75251.4377 - mean_absolute_error: 75251.4375 - val_loss: 421779.3125 - val_mean_absolute_error: 421779.3438\n",
      "Epoch 43/160\n",
      "152/152 [==============================] - 2s 15ms/step - loss: 73158.3099 - mean_absolute_error: 73158.3125 - val_loss: 429308.0000 - val_mean_absolute_error: 429308.0000\n",
      "Epoch 44/160\n"
     ]
    },
    {
     "name": "stdout",
     "output_type": "stream",
     "text": [
      "152/152 [==============================] - 2s 13ms/step - loss: 71203.1572 - mean_absolute_error: 71203.1562 - val_loss: 410675.7750 - val_mean_absolute_error: 410675.7500\n",
      "Epoch 45/160\n",
      "152/152 [==============================] - 2s 12ms/step - loss: 74865.3295 - mean_absolute_error: 74865.3438 - val_loss: 371576.2125 - val_mean_absolute_error: 371576.2188\n",
      "Epoch 46/160\n",
      "152/152 [==============================] - 2s 12ms/step - loss: 64647.8479 - mean_absolute_error: 64647.8555 - val_loss: 338955.1250 - val_mean_absolute_error: 338955.1562\n",
      "Epoch 47/160\n",
      "152/152 [==============================] - 2s 12ms/step - loss: 62708.0585 - mean_absolute_error: 62708.0742 - val_loss: 323478.6500 - val_mean_absolute_error: 323478.6562\n",
      "Epoch 48/160\n",
      "152/152 [==============================] - 2s 12ms/step - loss: 51803.4156 - mean_absolute_error: 51803.4258 - val_loss: 295733.8125 - val_mean_absolute_error: 295733.8125\n",
      "Epoch 49/160\n",
      "152/152 [==============================] - 2s 12ms/step - loss: 52248.2468 - mean_absolute_error: 52248.2617 - val_loss: 290536.0000 - val_mean_absolute_error: 290536.0000\n",
      "Epoch 50/160\n",
      "152/152 [==============================] - 2s 12ms/step - loss: 53450.0250 - mean_absolute_error: 53450.0273 - val_loss: 258119.1750 - val_mean_absolute_error: 258119.1719\n",
      "Epoch 51/160\n",
      "152/152 [==============================] - 2s 12ms/step - loss: 48978.0223 - mean_absolute_error: 48978.0312 - val_loss: 265968.5750 - val_mean_absolute_error: 265968.5625\n",
      "Epoch 52/160\n",
      "152/152 [==============================] - 2s 13ms/step - loss: 47613.7095 - mean_absolute_error: 47613.6914 - val_loss: 241770.3750 - val_mean_absolute_error: 241770.3750\n",
      "Epoch 53/160\n",
      "152/152 [==============================] - 2s 13ms/step - loss: 47447.4144 - mean_absolute_error: 47447.4102 - val_loss: 272241.7875 - val_mean_absolute_error: 272241.8125\n",
      "Epoch 54/160\n",
      "152/152 [==============================] - 2s 12ms/step - loss: 46434.9130 - mean_absolute_error: 46434.9180 - val_loss: 245256.1000 - val_mean_absolute_error: 245256.0938\n",
      "Epoch 55/160\n",
      "152/152 [==============================] - 2s 12ms/step - loss: 43308.7097 - mean_absolute_error: 43308.7188 - val_loss: 206567.8125 - val_mean_absolute_error: 206567.8125\n",
      "Epoch 56/160\n",
      "152/152 [==============================] - 2s 14ms/step - loss: 46164.7798 - mean_absolute_error: 46164.8008 - val_loss: 277227.6375 - val_mean_absolute_error: 277227.6562\n",
      "Epoch 57/160\n",
      "152/152 [==============================] - 2s 14ms/step - loss: 44382.7440 - mean_absolute_error: 44382.7461 - val_loss: 178736.0500 - val_mean_absolute_error: 178736.0469\n",
      "Epoch 58/160\n",
      "152/152 [==============================] - 2s 14ms/step - loss: 46341.5681 - mean_absolute_error: 46341.5703 - val_loss: 210780.7000 - val_mean_absolute_error: 210780.7031\n",
      "Epoch 59/160\n",
      "152/152 [==============================] - 2s 14ms/step - loss: 46097.4898 - mean_absolute_error: 46097.4922 - val_loss: 170341.7125 - val_mean_absolute_error: 170341.7188\n",
      "Epoch 60/160\n",
      "152/152 [==============================] - 2s 14ms/step - loss: 44144.1565 - mean_absolute_error: 44144.1680 - val_loss: 167039.8625 - val_mean_absolute_error: 167039.8594\n",
      "Epoch 61/160\n",
      "152/152 [==============================] - 2s 14ms/step - loss: 46777.6145 - mean_absolute_error: 46777.6133 - val_loss: 146998.1250 - val_mean_absolute_error: 146998.1250\n",
      "Epoch 62/160\n",
      "152/152 [==============================] - 2s 14ms/step - loss: 47284.0298 - mean_absolute_error: 47284.0312 - val_loss: 129805.4625 - val_mean_absolute_error: 129805.4609\n",
      "Epoch 63/160\n",
      "152/152 [==============================] - 2s 14ms/step - loss: 47267.4041 - mean_absolute_error: 47267.3984 - val_loss: 127647.6375 - val_mean_absolute_error: 127647.6406\n",
      "Epoch 64/160\n",
      "152/152 [==============================] - 2s 14ms/step - loss: 43059.7691 - mean_absolute_error: 43059.7656 - val_loss: 127561.5125 - val_mean_absolute_error: 127561.5156\n",
      "Epoch 65/160\n",
      "152/152 [==============================] - 2s 14ms/step - loss: 37759.5043 - mean_absolute_error: 37759.5000 - val_loss: 154544.6375 - val_mean_absolute_error: 154544.6406\n",
      "Epoch 66/160\n",
      "152/152 [==============================] - 2s 14ms/step - loss: 37308.4460 - mean_absolute_error: 37308.4492 - val_loss: 119030.8000 - val_mean_absolute_error: 119030.7969\n",
      "Epoch 67/160\n",
      "152/152 [==============================] - 2s 14ms/step - loss: 51215.0679 - mean_absolute_error: 51215.0625 - val_loss: 155483.1000 - val_mean_absolute_error: 155483.0938\n",
      "Epoch 68/160\n",
      "152/152 [==============================] - 2s 14ms/step - loss: 43104.7008 - mean_absolute_error: 43104.6992 - val_loss: 101414.6750 - val_mean_absolute_error: 101414.6719\n",
      "Epoch 69/160\n",
      "152/152 [==============================] - 2s 14ms/step - loss: 37911.6311 - mean_absolute_error: 37911.6367 - val_loss: 209143.9125 - val_mean_absolute_error: 209143.9062\n",
      "Epoch 70/160\n",
      "152/152 [==============================] - 2s 14ms/step - loss: 45287.5683 - mean_absolute_error: 45287.5664 - val_loss: 162182.1625 - val_mean_absolute_error: 162182.1562\n",
      "Epoch 71/160\n",
      "152/152 [==============================] - 2s 15ms/step - loss: 42317.4351 - mean_absolute_error: 42317.4219 - val_loss: 120420.1125 - val_mean_absolute_error: 120420.1094\n",
      "Epoch 72/160\n",
      "152/152 [==============================] - 2s 15ms/step - loss: 41340.2579 - mean_absolute_error: 41340.2617 - val_loss: 135237.6000 - val_mean_absolute_error: 135237.5938\n",
      "Epoch 73/160\n",
      "152/152 [==============================] - 2s 15ms/step - loss: 44061.0457 - mean_absolute_error: 44061.0391 - val_loss: 133360.6625 - val_mean_absolute_error: 133360.6562\n",
      "Epoch 74/160\n",
      "152/152 [==============================] - 2s 14ms/step - loss: 41208.8942 - mean_absolute_error: 41208.8867 - val_loss: 137370.8500 - val_mean_absolute_error: 137370.8438\n",
      "Epoch 75/160\n",
      "152/152 [==============================] - 2s 14ms/step - loss: 38416.6895 - mean_absolute_error: 38416.6836 - val_loss: 115308.0250 - val_mean_absolute_error: 115308.0234\n",
      "Epoch 76/160\n",
      "152/152 [==============================] - 2s 12ms/step - loss: 36302.4177 - mean_absolute_error: 36302.4219 - val_loss: 117110.8875 - val_mean_absolute_error: 117110.8906\n",
      "Epoch 77/160\n",
      "152/152 [==============================] - 2s 11ms/step - loss: 39329.6136 - mean_absolute_error: 39329.5938 - val_loss: 115837.9750 - val_mean_absolute_error: 115837.9766\n",
      "Epoch 78/160\n",
      "152/152 [==============================] - 2s 11ms/step - loss: 37886.9472 - mean_absolute_error: 37886.9492 - val_loss: 133758.2875 - val_mean_absolute_error: 133758.2812\n",
      "Epoch 79/160\n",
      "152/152 [==============================] - 2s 10ms/step - loss: 42046.3136 - mean_absolute_error: 42046.3047 - val_loss: 212153.9125 - val_mean_absolute_error: 212153.9062\n",
      "Epoch 80/160\n",
      "152/152 [==============================] - 2s 11ms/step - loss: 40884.8655 - mean_absolute_error: 40884.8750 - val_loss: 117320.3375 - val_mean_absolute_error: 117320.3359\n",
      "Epoch 81/160\n",
      "152/152 [==============================] - 2s 11ms/step - loss: 34802.6004 - mean_absolute_error: 34802.5938 - val_loss: 95129.4875 - val_mean_absolute_error: 95129.4844\n",
      "Epoch 82/160\n",
      "152/152 [==============================] - 2s 11ms/step - loss: 43412.3907 - mean_absolute_error: 43412.3945 - val_loss: 132482.0375 - val_mean_absolute_error: 132482.0312\n",
      "Epoch 83/160\n",
      "152/152 [==============================] - 2s 12ms/step - loss: 37697.1607 - mean_absolute_error: 37697.1602 - val_loss: 120244.4250 - val_mean_absolute_error: 120244.4219\n",
      "Epoch 84/160\n",
      "152/152 [==============================] - 2s 11ms/step - loss: 40435.1710 - mean_absolute_error: 40435.1562 - val_loss: 106601.1750 - val_mean_absolute_error: 106601.1719\n",
      "Epoch 85/160\n",
      "152/152 [==============================] - 2s 11ms/step - loss: 40508.5828 - mean_absolute_error: 40508.5781 - val_loss: 125019.5500 - val_mean_absolute_error: 125019.5469\n",
      "Epoch 86/160\n",
      "152/152 [==============================] - 2s 11ms/step - loss: 31541.7278 - mean_absolute_error: 31541.7246 - val_loss: 123634.1375 - val_mean_absolute_error: 123634.1406\n",
      "Epoch 87/160\n",
      "152/152 [==============================] - 2s 11ms/step - loss: 33446.0557 - mean_absolute_error: 33446.0625 - val_loss: 97721.6000 - val_mean_absolute_error: 97721.6016\n",
      "Epoch 88/160\n"
     ]
    },
    {
     "name": "stdout",
     "output_type": "stream",
     "text": [
      "152/152 [==============================] - 2s 11ms/step - loss: 31004.2325 - mean_absolute_error: 31004.2246 - val_loss: 96510.9250 - val_mean_absolute_error: 96510.9219\n",
      "Epoch 89/160\n",
      "152/152 [==============================] - 2s 11ms/step - loss: 35054.0749 - mean_absolute_error: 35054.0781 - val_loss: 84619.7500 - val_mean_absolute_error: 84619.7500\n",
      "Epoch 90/160\n",
      "152/152 [==============================] - 2s 10ms/step - loss: 31027.0738 - mean_absolute_error: 31027.0684 - val_loss: 72728.3750 - val_mean_absolute_error: 72728.3750\n",
      "Epoch 91/160\n",
      "152/152 [==============================] - 2s 11ms/step - loss: 32958.4390 - mean_absolute_error: 32958.4336 - val_loss: 193090.3750 - val_mean_absolute_error: 193090.3750\n",
      "Epoch 92/160\n",
      "152/152 [==============================] - 2s 13ms/step - loss: 35297.8714 - mean_absolute_error: 35297.8672 - val_loss: 105308.8500 - val_mean_absolute_error: 105308.8516\n",
      "Epoch 93/160\n",
      "152/152 [==============================] - 2s 13ms/step - loss: 30967.3391 - mean_absolute_error: 30967.3379 - val_loss: 70686.1250 - val_mean_absolute_error: 70686.1250\n",
      "Epoch 94/160\n",
      "152/152 [==============================] - 2s 13ms/step - loss: 34642.8543 - mean_absolute_error: 34642.8516 - val_loss: 182292.7875 - val_mean_absolute_error: 182292.7812\n",
      "Epoch 95/160\n",
      "152/152 [==============================] - 2s 13ms/step - loss: 34311.8672 - mean_absolute_error: 34311.8672 - val_loss: 65247.1875 - val_mean_absolute_error: 65247.1875\n",
      "Epoch 96/160\n",
      "152/152 [==============================] - 2s 13ms/step - loss: 35011.3852 - mean_absolute_error: 35011.3906 - val_loss: 94441.5500 - val_mean_absolute_error: 94441.5469\n",
      "Epoch 97/160\n",
      "152/152 [==============================] - 2s 13ms/step - loss: 34242.9650 - mean_absolute_error: 34242.9531 - val_loss: 63774.7875 - val_mean_absolute_error: 63774.7891\n",
      "Epoch 98/160\n",
      "152/152 [==============================] - 2s 14ms/step - loss: 30802.1923 - mean_absolute_error: 30802.2070 - val_loss: 62988.0250 - val_mean_absolute_error: 62988.0234\n",
      "Epoch 99/160\n",
      "152/152 [==============================] - 2s 13ms/step - loss: 36251.5873 - mean_absolute_error: 36251.5898 - val_loss: 77023.3875 - val_mean_absolute_error: 77023.3906\n",
      "Epoch 100/160\n",
      "152/152 [==============================] - 2s 14ms/step - loss: 30506.2771 - mean_absolute_error: 30506.2891 - val_loss: 112957.6500 - val_mean_absolute_error: 112957.6484\n",
      "Epoch 101/160\n",
      "152/152 [==============================] - 2s 15ms/step - loss: 27427.4323 - mean_absolute_error: 27427.4316 - val_loss: 60158.2750 - val_mean_absolute_error: 60158.2734\n",
      "Epoch 102/160\n",
      "152/152 [==============================] - 2s 14ms/step - loss: 30989.1399 - mean_absolute_error: 30989.1387 - val_loss: 100411.4500 - val_mean_absolute_error: 100411.4531\n",
      "Epoch 103/160\n",
      "152/152 [==============================] - 2s 14ms/step - loss: 29054.2243 - mean_absolute_error: 29054.2305 - val_loss: 81700.4875 - val_mean_absolute_error: 81700.4844\n",
      "Epoch 104/160\n",
      "152/152 [==============================] - 2s 14ms/step - loss: 28535.8028 - mean_absolute_error: 28535.7988 - val_loss: 97817.6500 - val_mean_absolute_error: 97817.6484\n",
      "Epoch 105/160\n",
      "152/152 [==============================] - 2s 14ms/step - loss: 29147.1100 - mean_absolute_error: 29147.1016 - val_loss: 122197.1875 - val_mean_absolute_error: 122197.1875\n",
      "Epoch 106/160\n",
      "152/152 [==============================] - 2s 14ms/step - loss: 30788.2294 - mean_absolute_error: 30788.2305 - val_loss: 58138.8000 - val_mean_absolute_error: 58138.8008\n",
      "Epoch 107/160\n",
      "152/152 [==============================] - 2s 15ms/step - loss: 29575.4049 - mean_absolute_error: 29575.4043 - val_loss: 61532.7375 - val_mean_absolute_error: 61532.7383\n",
      "Epoch 108/160\n",
      "152/152 [==============================] - 2s 14ms/step - loss: 32591.6722 - mean_absolute_error: 32591.6738 - val_loss: 101287.4625 - val_mean_absolute_error: 101287.4609\n",
      "Epoch 109/160\n",
      "152/152 [==============================] - 2s 15ms/step - loss: 33562.8689 - mean_absolute_error: 33562.8477 - val_loss: 56804.0750 - val_mean_absolute_error: 56804.0742\n",
      "Epoch 110/160\n",
      "152/152 [==============================] - 2s 15ms/step - loss: 30865.8452 - mean_absolute_error: 30865.8418 - val_loss: 61161.8750 - val_mean_absolute_error: 61161.8750\n",
      "Epoch 111/160\n",
      "152/152 [==============================] - 2s 15ms/step - loss: 30717.5979 - mean_absolute_error: 30717.6055 - val_loss: 61769.4375 - val_mean_absolute_error: 61769.4375\n",
      "Epoch 00111: early stopping\n"
     ]
    }
   ],
   "source": [
    "history= model.fit(X_train, Y_train, epochs=160, batch_size=1, validation_data=(X_test, Y_test), callbacks=[callback])"
   ]
  },
  {
   "cell_type": "code",
   "execution_count": 295,
   "metadata": {},
   "outputs": [
    {
     "data": {
      "text/plain": [
       "[<matplotlib.lines.Line2D at 0x1a42e25320>]"
      ]
     },
     "execution_count": 295,
     "metadata": {},
     "output_type": "execute_result"
    },
    {
     "data": {
      "image/png": "[encoded data removed]",
      "text/plain": [
       "<Figure size 432x288 with 1 Axes>"
      ]
     },
     "metadata": {
      "needs_background": "light"
     },
     "output_type": "display_data"
    }
   ],
   "source": [
    "plt.plot(history.history['loss'])"
   ]
  },
  {
   "cell_type": "code",
   "execution_count": 296,
   "metadata": {},
   "outputs": [],
   "source": [
    "real_date = Y_test"
   ]
  },
  {
   "cell_type": "code",
   "execution_count": 297,
   "metadata": {},
   "outputs": [
    {
     "data": {
      "text/plain": [
       "array([[1699933],\n",
       "       [1721750],\n",
       "       [1747087],\n",
       "       [1770384],\n",
       "       [1790191],\n",
       "       [1811277],\n",
       "       [1831821],\n",
       "       [1851520],\n",
       "       [1872660],\n",
       "       [1897838]])"
      ]
     },
     "execution_count": 297,
     "metadata": {},
     "output_type": "execute_result"
    }
   ],
   "source": [
    "real_date"
   ]
  },
  {
   "cell_type": "code",
   "execution_count": 298,
   "metadata": {},
   "outputs": [
    {
     "data": {
      "text/plain": [
       "[<matplotlib.lines.Line2D at 0x1a4209ca90>]"
      ]
     },
     "execution_count": 298,
     "metadata": {},
     "output_type": "execute_result"
    },
    {
     "data": {
      "image/png": "[encoded data removed]",
      "text/plain": [
       "<Figure size 432x288 with 1 Axes>"
      ]
     },
     "metadata": {
      "needs_background": "light"
     },
     "output_type": "display_data"
    }
   ],
   "source": [
    "plt.plot(real_date, color = 'black', label = 'Covid Real Data(USA)')"
   ]
  },
  {
   "cell_type": "code",
   "execution_count": 299,
   "metadata": {},
   "outputs": [
    {
     "data": {
      "text/plain": [
       "[<matplotlib.lines.Line2D at 0x1a3e7cd9b0>,\n",
       " <matplotlib.lines.Line2D at 0x1a3e7cdb38>,\n",
       " <matplotlib.lines.Line2D at 0x1a3e7cdcc0>,\n",
       " <matplotlib.lines.Line2D at 0x1a3e7cde48>,\n",
       " <matplotlib.lines.Line2D at 0x1a3e7cdfd0>]"
      ]
     },
     "execution_count": 299,
     "metadata": {},
     "output_type": "execute_result"
    },
    {
     "data": {
      "image/png": "[encoded data removed]",
      "text/plain": [
       "<Figure size 432x288 with 1 Axes>"
      ]
     },
     "metadata": {
      "needs_background": "light"
     },
     "output_type": "display_data"
    }
   ],
   "source": [
    "plt.plot(predicted_usa, color = 'green', label = 'Predicted Covid Situation')"
   ]
  },
  {
   "cell_type": "code",
   "execution_count": 300,
   "metadata": {},
   "outputs": [
    {
     "data": {
      "image/png": "[encoded data removed]",
      "text/plain": [
       "<Figure size 432x288 with 1 Axes>"
      ]
     },
     "metadata": {
      "needs_background": "light"
     },
     "output_type": "display_data"
    }
   ],
   "source": [
    "plt.plot(real_date, color = 'black', label = 'Covid19 Real Data(USA)')\n",
    "plt.plot(predicted_usa, color = 'green', label = 'Predicted USA Covid19 Situation')\n",
    "plt.title('COVID 19 Prediction in USA')\n",
    "plt.xlabel('Time')\n",
    "plt.ylabel('DOW Stock Price')\n",
    "plt.show()"
   ]
  },
  {
   "cell_type": "code",
   "execution_count": null,
   "metadata": {},
   "outputs": [],
   "source": []
  }
 ],
 "metadata": {
  "kernelspec": {
   "display_name": "Python 3",
   "language": "python",
   "name": "python3"
  },
  "language_info": {
   "codemirror_mode": {
    "name": "ipython",
    "version": 3
   },
   "file_extension": ".py",
   "mimetype": "text/x-python",
   "name": "python",
   "nbconvert_exporter": "python",
   "pygments_lexer": "ipython3",
   "version": "3.7.3"
  }
 },
 "nbformat": 4,
 "nbformat_minor": 2
}

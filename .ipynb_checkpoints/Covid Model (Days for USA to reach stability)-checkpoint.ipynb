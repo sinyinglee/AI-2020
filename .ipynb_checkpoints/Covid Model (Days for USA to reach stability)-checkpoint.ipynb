{
 "cells": [
  {
   "cell_type": "markdown",
   "metadata": {},
   "source": [
    "### Data Preparation"
   ]
  },
  {
   "cell_type": "code",
   "execution_count": 1,
   "metadata": {},
   "outputs": [],
   "source": [
    "%matplotlib inline\n",
    "import numpy as np\n",
    "import pandas as pd\n",
    "import matplotlib.pyplot as plt"
   ]
  },
  {
   "cell_type": "code",
   "execution_count": 2,
   "metadata": {},
   "outputs": [],
   "source": [
    "covid_original = pd.read_csv(\"owid-covid-data.csv\")"
   ]
  },
  {
   "cell_type": "code",
   "execution_count": 3,
   "metadata": {},
   "outputs": [
    {
     "data": {
      "text/html": [
       "<div>\n",
       "<style scoped>\n",
       "    .dataframe tbody tr th:only-of-type {\n",
       "        vertical-align: middle;\n",
       "    }\n",
       "\n",
       "    .dataframe tbody tr th {\n",
       "        vertical-align: top;\n",
       "    }\n",
       "\n",
       "    .dataframe thead th {\n",
       "        text-align: right;\n",
       "    }\n",
       "</style>\n",
       "<table border=\"1\" class=\"dataframe\">\n",
       "  <thead>\n",
       "    <tr style=\"text-align: right;\">\n",
       "      <th></th>\n",
       "      <th>iso_code</th>\n",
       "      <th>continent</th>\n",
       "      <th>location</th>\n",
       "      <th>date</th>\n",
       "      <th>total_cases</th>\n",
       "      <th>new_cases</th>\n",
       "      <th>total_deaths</th>\n",
       "      <th>new_deaths</th>\n",
       "      <th>total_cases_per_million</th>\n",
       "      <th>new_cases_per_million</th>\n",
       "      <th>...</th>\n",
       "      <th>aged_65_older</th>\n",
       "      <th>aged_70_older</th>\n",
       "      <th>gdp_per_capita</th>\n",
       "      <th>extreme_poverty</th>\n",
       "      <th>cvd_death_rate</th>\n",
       "      <th>diabetes_prevalence</th>\n",
       "      <th>female_smokers</th>\n",
       "      <th>male_smokers</th>\n",
       "      <th>handwashing_facilities</th>\n",
       "      <th>hospital_beds_per_thousand</th>\n",
       "    </tr>\n",
       "  </thead>\n",
       "  <tbody>\n",
       "    <tr>\n",
       "      <th>0</th>\n",
       "      <td>AFG</td>\n",
       "      <td>Asia</td>\n",
       "      <td>Afghanistan</td>\n",
       "      <td>2019-12-31</td>\n",
       "      <td>0</td>\n",
       "      <td>0</td>\n",
       "      <td>0</td>\n",
       "      <td>0</td>\n",
       "      <td>0.0</td>\n",
       "      <td>0.0</td>\n",
       "      <td>...</td>\n",
       "      <td>2.581</td>\n",
       "      <td>1.337</td>\n",
       "      <td>1803.987</td>\n",
       "      <td>NaN</td>\n",
       "      <td>597.029</td>\n",
       "      <td>9.59</td>\n",
       "      <td>NaN</td>\n",
       "      <td>NaN</td>\n",
       "      <td>37.746</td>\n",
       "      <td>0.5</td>\n",
       "    </tr>\n",
       "    <tr>\n",
       "      <th>1</th>\n",
       "      <td>AFG</td>\n",
       "      <td>Asia</td>\n",
       "      <td>Afghanistan</td>\n",
       "      <td>2020-01-01</td>\n",
       "      <td>0</td>\n",
       "      <td>0</td>\n",
       "      <td>0</td>\n",
       "      <td>0</td>\n",
       "      <td>0.0</td>\n",
       "      <td>0.0</td>\n",
       "      <td>...</td>\n",
       "      <td>2.581</td>\n",
       "      <td>1.337</td>\n",
       "      <td>1803.987</td>\n",
       "      <td>NaN</td>\n",
       "      <td>597.029</td>\n",
       "      <td>9.59</td>\n",
       "      <td>NaN</td>\n",
       "      <td>NaN</td>\n",
       "      <td>37.746</td>\n",
       "      <td>0.5</td>\n",
       "    </tr>\n",
       "    <tr>\n",
       "      <th>2</th>\n",
       "      <td>AFG</td>\n",
       "      <td>Asia</td>\n",
       "      <td>Afghanistan</td>\n",
       "      <td>2020-01-02</td>\n",
       "      <td>0</td>\n",
       "      <td>0</td>\n",
       "      <td>0</td>\n",
       "      <td>0</td>\n",
       "      <td>0.0</td>\n",
       "      <td>0.0</td>\n",
       "      <td>...</td>\n",
       "      <td>2.581</td>\n",
       "      <td>1.337</td>\n",
       "      <td>1803.987</td>\n",
       "      <td>NaN</td>\n",
       "      <td>597.029</td>\n",
       "      <td>9.59</td>\n",
       "      <td>NaN</td>\n",
       "      <td>NaN</td>\n",
       "      <td>37.746</td>\n",
       "      <td>0.5</td>\n",
       "    </tr>\n",
       "    <tr>\n",
       "      <th>3</th>\n",
       "      <td>AFG</td>\n",
       "      <td>Asia</td>\n",
       "      <td>Afghanistan</td>\n",
       "      <td>2020-01-03</td>\n",
       "      <td>0</td>\n",
       "      <td>0</td>\n",
       "      <td>0</td>\n",
       "      <td>0</td>\n",
       "      <td>0.0</td>\n",
       "      <td>0.0</td>\n",
       "      <td>...</td>\n",
       "      <td>2.581</td>\n",
       "      <td>1.337</td>\n",
       "      <td>1803.987</td>\n",
       "      <td>NaN</td>\n",
       "      <td>597.029</td>\n",
       "      <td>9.59</td>\n",
       "      <td>NaN</td>\n",
       "      <td>NaN</td>\n",
       "      <td>37.746</td>\n",
       "      <td>0.5</td>\n",
       "    </tr>\n",
       "    <tr>\n",
       "      <th>4</th>\n",
       "      <td>AFG</td>\n",
       "      <td>Asia</td>\n",
       "      <td>Afghanistan</td>\n",
       "      <td>2020-01-04</td>\n",
       "      <td>0</td>\n",
       "      <td>0</td>\n",
       "      <td>0</td>\n",
       "      <td>0</td>\n",
       "      <td>0.0</td>\n",
       "      <td>0.0</td>\n",
       "      <td>...</td>\n",
       "      <td>2.581</td>\n",
       "      <td>1.337</td>\n",
       "      <td>1803.987</td>\n",
       "      <td>NaN</td>\n",
       "      <td>597.029</td>\n",
       "      <td>9.59</td>\n",
       "      <td>NaN</td>\n",
       "      <td>NaN</td>\n",
       "      <td>37.746</td>\n",
       "      <td>0.5</td>\n",
       "    </tr>\n",
       "  </tbody>\n",
       "</table>\n",
       "<p>5 rows × 33 columns</p>\n",
       "</div>"
      ],
      "text/plain": [
       "  iso_code continent     location        date  total_cases  new_cases  \\\n",
       "0      AFG      Asia  Afghanistan  2019-12-31            0          0   \n",
       "1      AFG      Asia  Afghanistan  2020-01-01            0          0   \n",
       "2      AFG      Asia  Afghanistan  2020-01-02            0          0   \n",
       "3      AFG      Asia  Afghanistan  2020-01-03            0          0   \n",
       "4      AFG      Asia  Afghanistan  2020-01-04            0          0   \n",
       "\n",
       "   total_deaths  new_deaths  total_cases_per_million  new_cases_per_million  \\\n",
       "0             0           0                      0.0                    0.0   \n",
       "1             0           0                      0.0                    0.0   \n",
       "2             0           0                      0.0                    0.0   \n",
       "3             0           0                      0.0                    0.0   \n",
       "4             0           0                      0.0                    0.0   \n",
       "\n",
       "   ...  aged_65_older  aged_70_older  gdp_per_capita  extreme_poverty  \\\n",
       "0  ...          2.581          1.337        1803.987              NaN   \n",
       "1  ...          2.581          1.337        1803.987              NaN   \n",
       "2  ...          2.581          1.337        1803.987              NaN   \n",
       "3  ...          2.581          1.337        1803.987              NaN   \n",
       "4  ...          2.581          1.337        1803.987              NaN   \n",
       "\n",
       "   cvd_death_rate  diabetes_prevalence  female_smokers  male_smokers  \\\n",
       "0         597.029                 9.59             NaN           NaN   \n",
       "1         597.029                 9.59             NaN           NaN   \n",
       "2         597.029                 9.59             NaN           NaN   \n",
       "3         597.029                 9.59             NaN           NaN   \n",
       "4         597.029                 9.59             NaN           NaN   \n",
       "\n",
       "  handwashing_facilities  hospital_beds_per_thousand  \n",
       "0                 37.746                         0.5  \n",
       "1                 37.746                         0.5  \n",
       "2                 37.746                         0.5  \n",
       "3                 37.746                         0.5  \n",
       "4                 37.746                         0.5  \n",
       "\n",
       "[5 rows x 33 columns]"
      ]
     },
     "execution_count": 3,
     "metadata": {},
     "output_type": "execute_result"
    }
   ],
   "source": [
    "covid_original.head()"
   ]
  },
  {
   "cell_type": "markdown",
   "metadata": {},
   "source": [
    "#### Goal: How long did European countries/USA/Canada/Australia/New Zealand take to control the virus?\n",
    "Method: Stable date - Starting date, yielding number of days\n",
    "\n",
    "Starting date: the first date when the confirmed cases reached over 30\n",
    "Stable date: \n",
    "1. Find the median of total confirmed case, locate the date when confirmed case reached \"median\". I named it as \"median_date\"\n",
    "2. Calculate the moving average. [Algorithm: (Today total case - Yesterday total case) / Yesterday total case]\n",
    "3. Focus only on the dates after the median date, and collect the dates in a list which is named as \"moving_date_list\"\n",
    "4. The median of \"moving_date_list\" is set as the \"Stable date\"."
   ]
  },
  {
   "cell_type": "markdown",
   "metadata": {},
   "source": [
    "#### Step 1. "
   ]
  },
  {
   "cell_type": "code",
   "execution_count": 4,
   "metadata": {},
   "outputs": [],
   "source": [
    "country=[\"Germany\"\n",
    "         ,\"Russia\"\n",
    "         ,\"United Kingdom\",\"France\",\"Italy\",\"Spain\",\"Ukraine\",\"Poland\",\"Romania\",\"Netherlands\",\"Belgium\",\"Czech Republic\",\"Greece\",\"Portugal\"\n",
    ",\"Sweden\"\n",
    ",\"Hungary\"\n",
    ",\"Belarus\"\n",
    ",\"Austria\"\n",
    ",\"Serbia\"\n",
    ",\"Switzerland\"\n",
    ",\"Bulgaria\"\n",
    ",\"Denmark\"\n",
    ",\"Finland\"\n",
    ",\"Slovakia\"\n",
    ",\"Norway\"\n",
    ",\"Ireland\"\n",
    ",\"Croatia\"\n",
    ",\"Moldova\"\n",
    ",\"Bosnia and Herzegovina\"\n",
    ",\"Albania\"\n",
    ",\"Lithuania\"\n",
    ",\"North Macedonia\"\n",
    ",\"Slovenia\"\n",
    ",\"Latvia\"\n",
    ",\"Estonia\"\n",
    ",\"Montenegro\"\n",
    ",\"Luxembourg\"\n",
    ",\"Malta\"\n",
    ",\"Iceland\"\n",
    ",\"Canada\"\n",
    ",\"Australia\"\n",
    ",\"New Zealand\"]"
   ]
  },
  {
   "cell_type": "code",
   "execution_count": 5,
   "metadata": {},
   "outputs": [],
   "source": [
    "def median_date(i):\n",
    "    country_case = covid_original.loc[(covid_original[\"location\"] ==i)&(covid_original[\"total_cases\"]>=30), [\"date\",\"total_cases\"]]\n",
    "    country_case[\"date\"] = pd.to_datetime(country_case[\"date\"],format=\"%Y-%m-%d\")\n",
    "    median_num = country_case.total_cases.median()\n",
    "    date_over_median = covid_original.loc[(covid_original[\"location\"] ==i)&(covid_original[\"total_cases\"]>=median_num), [\"date\",\"total_cases\"]]\n",
    "    date_over_median_list = date_over_median[\"date\"].tolist()\n",
    "    date = date_over_median_list[0]\n",
    "    return date"
   ]
  },
  {
   "cell_type": "markdown",
   "metadata": {},
   "source": [
    "#### Step 2."
   ]
  },
  {
   "cell_type": "code",
   "execution_count": 6,
   "metadata": {},
   "outputs": [],
   "source": [
    "def moving_rate_table(country):\n",
    "    date = []\n",
    "    case = []\n",
    "    country_case = covid_original.loc[(covid_original[\"location\"] ==country)&(covid_original[\"total_cases\"]>=30), [\"date\",\"total_cases\"]]\n",
    "    for i in country_case[\"date\"]:\n",
    "        date.append(i)\n",
    "    for i in country_case[\"total_cases\"]:\n",
    "        case.append(i)\n",
    "    change_rate = []\n",
    "    for index, value in enumerate(case):\n",
    "        try:\n",
    "            rate = ((case[index+1] - value)/value)*100\n",
    "            change_rate.append(rate)\n",
    "        except:\n",
    "            pass\n",
    "    change_rate = np.asarray(change_rate)\n",
    "    data = {\"Date\":date[1:], \"Change Rate\":change_rate}\n",
    "    df = pd.DataFrame(data)\n",
    "    df[\"Date\"] = pd.to_datetime(df[\"Date\"],format=\"%Y-%m-%d\")\n",
    "    return df"
   ]
  },
  {
   "cell_type": "markdown",
   "metadata": {},
   "source": [
    "#### Step 3. "
   ]
  },
  {
   "cell_type": "code",
   "execution_count": 7,
   "metadata": {},
   "outputs": [],
   "source": [
    "def calculate_quarlitle(df,median_date):\n",
    "    new_df = df.loc[df[\"Date\"]>median_date,:]\n",
    "    new_df_quantile = new_df.quantile([0.25,0.5,0.75])\n",
    "    new_df_average = new_df_quantile[\"Change Rate\"].tolist()\n",
    "    get_average = new_df_average[1]\n",
    "    return get_average"
   ]
  },
  {
   "cell_type": "markdown",
   "metadata": {},
   "source": [
    "#### Step 4."
   ]
  },
  {
   "cell_type": "code",
   "execution_count": 8,
   "metadata": {},
   "outputs": [],
   "source": [
    "def days_to_stable(i,df,date,mean):\n",
    "    new_df = df.loc[df[\"Date\"]>date,:]\n",
    "    mean = mean-0.1\n",
    "    stable_date = new_df.loc[df[\"Change Rate\"]<=mean,:\"Date\"]\n",
    "    stable_date_list = stable_date[\"Date\"].tolist()\n",
    "    country_case = covid_original.loc[(covid_original[\"location\"] ==i)&(covid_original[\"total_cases\"]>=30), [\"date\",\"total_cases\"]]\n",
    "    country_case[\"date\"] = pd.to_datetime(country_case[\"date\"],format=\"%Y-%m-%d\")\n",
    "    day_to_stable = stable_date_list[2] - country_case[\"date\"].min()\n",
    "    day_to_stable = day_to_stable.days\n",
    "    return day_to_stable"
   ]
  },
  {
   "cell_type": "code",
   "execution_count": 9,
   "metadata": {},
   "outputs": [],
   "source": [
    "dic = {}"
   ]
  },
  {
   "cell_type": "markdown",
   "metadata": {},
   "source": [
    "#### Compile all the functions"
   ]
  },
  {
   "cell_type": "code",
   "execution_count": 10,
   "metadata": {},
   "outputs": [
    {
     "name": "stdout",
     "output_type": "stream",
     "text": [
      "North Macedonia occured error\n",
      "Slovenia occured error\n",
      "Montenegro occured error\n",
      "Iceland occured error\n",
      "New Zealand occured error\n"
     ]
    }
   ],
   "source": [
    "for i in country:\n",
    "    try:\n",
    "        median = median_date(i)\n",
    "        change_df = moving_rate_table(i)\n",
    "        average = calculate_quarlitle(change_df,median)\n",
    "        to_stable = days_to_stable(i,change_df,median,average)\n",
    "        dic[i] = to_stable\n",
    "    except:\n",
    "        print(f\"{i} occured error\")"
   ]
  },
  {
   "cell_type": "code",
   "execution_count": 11,
   "metadata": {
    "collapsed": true
   },
   "outputs": [
    {
     "data": {
      "text/plain": [
       "{'Germany': 80,\n",
       " 'Russia': 69,\n",
       " 'United Kingdom': 80,\n",
       " 'France': 79,\n",
       " 'Italy': 88,\n",
       " 'Spain': 80,\n",
       " 'Ukraine': 60,\n",
       " 'Poland': 59,\n",
       " 'Romania': 69,\n",
       " 'Netherlands': 76,\n",
       " 'Belgium': 76,\n",
       " 'Czech Republic': 57,\n",
       " 'Greece': 57,\n",
       " 'Portugal': 55,\n",
       " 'Sweden': 60,\n",
       " 'Hungary': 64,\n",
       " 'Belarus': 65,\n",
       " 'Austria': 63,\n",
       " 'Serbia': 64,\n",
       " 'Switzerland': 92,\n",
       " 'Bulgaria': 59,\n",
       " 'Denmark': 75,\n",
       " 'Finland': 71,\n",
       " 'Slovakia': 67,\n",
       " 'Norway': 72,\n",
       " 'Ireland': 70,\n",
       " 'Croatia': 74,\n",
       " 'Moldova': 47,\n",
       " 'Bosnia and Herzegovina': 55,\n",
       " 'Albania': 50,\n",
       " 'Lithuania': 46,\n",
       " 'Latvia': 55,\n",
       " 'Estonia': 54,\n",
       " 'Luxembourg': 70,\n",
       " 'Malta': 48,\n",
       " 'Canada': 77,\n",
       " 'Australia': 83}"
      ]
     },
     "execution_count": 11,
     "metadata": {},
     "output_type": "execute_result"
    }
   ],
   "source": [
    "dic"
   ]
  },
  {
   "cell_type": "markdown",
   "metadata": {},
   "source": [
    "### * Fixing error "
   ]
  },
  {
   "cell_type": "code",
   "execution_count": 12,
   "metadata": {},
   "outputs": [],
   "source": [
    "country_case_NM = covid_original.loc[(covid_original[\"location\"] ==\"North Macedonia\")&(covid_original[\"total_cases\"]>=30), [\"date\",\"total_cases\"]]"
   ]
  },
  {
   "cell_type": "markdown",
   "metadata": {},
   "source": [
    "#### Can't find North Macedonia resources in the database, will remove it"
   ]
  },
  {
   "cell_type": "code",
   "execution_count": 13,
   "metadata": {},
   "outputs": [
    {
     "data": {
      "text/html": [
       "<div>\n",
       "<style scoped>\n",
       "    .dataframe tbody tr th:only-of-type {\n",
       "        vertical-align: middle;\n",
       "    }\n",
       "\n",
       "    .dataframe tbody tr th {\n",
       "        vertical-align: top;\n",
       "    }\n",
       "\n",
       "    .dataframe thead th {\n",
       "        text-align: right;\n",
       "    }\n",
       "</style>\n",
       "<table border=\"1\" class=\"dataframe\">\n",
       "  <thead>\n",
       "    <tr style=\"text-align: right;\">\n",
       "      <th></th>\n",
       "      <th>date</th>\n",
       "      <th>total_cases</th>\n",
       "    </tr>\n",
       "  </thead>\n",
       "  <tbody>\n",
       "  </tbody>\n",
       "</table>\n",
       "</div>"
      ],
      "text/plain": [
       "Empty DataFrame\n",
       "Columns: [date, total_cases]\n",
       "Index: []"
      ]
     },
     "execution_count": 13,
     "metadata": {},
     "output_type": "execute_result"
    }
   ],
   "source": [
    "country_case_NM"
   ]
  },
  {
   "cell_type": "markdown",
   "metadata": {},
   "source": [
    "#### Slovenia will take 62 days to control the virus"
   ]
  },
  {
   "cell_type": "code",
   "execution_count": 14,
   "metadata": {},
   "outputs": [],
   "source": [
    "median_slv = median_date(\"Slovenia\")"
   ]
  },
  {
   "cell_type": "code",
   "execution_count": 15,
   "metadata": {},
   "outputs": [],
   "source": [
    "df_slv = moving_rate_table(\"Slovenia\")"
   ]
  },
  {
   "cell_type": "code",
   "execution_count": 16,
   "metadata": {},
   "outputs": [],
   "source": [
    "cq_slv = calculate_quarlitle(df_slv,median_slv)"
   ]
  },
  {
   "cell_type": "code",
   "execution_count": 17,
   "metadata": {},
   "outputs": [],
   "source": [
    "new_df_slv = df_slv.loc[df_slv[\"Date\"]>median_slv,:]\n",
    "stable_date = new_df_slv.loc[df_slv[\"Change Rate\"]<cq_slv,:\"Date\"]\n",
    "stable_date_list = stable_date[\"Date\"].tolist()\n",
    "country_case = covid_original.loc[(covid_original[\"location\"] ==\"Slovenia\")&(covid_original[\"total_cases\"]>=30), [\"date\",\"total_cases\"]]\n",
    "country_case[\"date\"] = pd.to_datetime(country_case[\"date\"],format=\"%Y-%m-%d\")\n",
    "day_to_stable_slv = stable_date_list[2] - country_case[\"date\"].min()"
   ]
  },
  {
   "cell_type": "code",
   "execution_count": 18,
   "metadata": {},
   "outputs": [
    {
     "data": {
      "text/plain": [
       "Timedelta('62 days 00:00:00')"
      ]
     },
     "execution_count": 18,
     "metadata": {},
     "output_type": "execute_result"
    }
   ],
   "source": [
    "day_to_stable_slv"
   ]
  },
  {
   "cell_type": "markdown",
   "metadata": {},
   "source": [
    "### Montenegro"
   ]
  },
  {
   "cell_type": "code",
   "execution_count": 19,
   "metadata": {},
   "outputs": [],
   "source": [
    "median_mtg = median_date(\"Montenegro\")"
   ]
  },
  {
   "cell_type": "code",
   "execution_count": 20,
   "metadata": {},
   "outputs": [],
   "source": [
    "df_mtg = moving_rate_table(\"Montenegro\")"
   ]
  },
  {
   "cell_type": "code",
   "execution_count": 21,
   "metadata": {},
   "outputs": [],
   "source": [
    "new_df_mtg = df_mtg.loc[df_mtg[\"Date\"]>median_mtg,:]\n",
    "mtg_stable_list = new_df_mtg.loc[df_mtg[\"Change Rate\"]== 0.0,:\"Date\"]\n",
    "mtg_stable_list = stable_date[\"Date\"].tolist()"
   ]
  },
  {
   "cell_type": "code",
   "execution_count": 22,
   "metadata": {},
   "outputs": [],
   "source": [
    "mtg_date = mtg_stable_list[0]"
   ]
  },
  {
   "cell_type": "code",
   "execution_count": 23,
   "metadata": {},
   "outputs": [
    {
     "data": {
      "text/plain": [
       "Timestamp('2020-04-28 00:00:00')"
      ]
     },
     "execution_count": 23,
     "metadata": {},
     "output_type": "execute_result"
    }
   ],
   "source": [
    "mtg_date"
   ]
  },
  {
   "cell_type": "code",
   "execution_count": 24,
   "metadata": {},
   "outputs": [],
   "source": [
    "mtg_case = covid_original.loc[(covid_original[\"location\"] ==\"Montenegro\")&(covid_original[\"total_cases\"]>=30), [\"date\",\"total_cases\"]]\n",
    "mtg_case[\"date\"] = pd.to_datetime(mtg_case[\"date\"],format=\"%Y-%m-%d\")"
   ]
  },
  {
   "cell_type": "code",
   "execution_count": 25,
   "metadata": {},
   "outputs": [],
   "source": [
    "day_to_stable_mtg = mtg_date - mtg_case[\"date\"].min()"
   ]
  },
  {
   "cell_type": "markdown",
   "metadata": {},
   "source": [
    "#### Montenegro will take 34 days to control the virus"
   ]
  },
  {
   "cell_type": "code",
   "execution_count": 27,
   "metadata": {},
   "outputs": [
    {
     "data": {
      "text/plain": [
       "Timedelta('34 days 00:00:00')"
      ]
     },
     "execution_count": 27,
     "metadata": {},
     "output_type": "execute_result"
    }
   ],
   "source": [
    "day_to_stable_mtg"
   ]
  },
  {
   "cell_type": "markdown",
   "metadata": {},
   "source": [
    "### Iceland"
   ]
  },
  {
   "cell_type": "code",
   "execution_count": 28,
   "metadata": {},
   "outputs": [],
   "source": [
    "median_lc = median_date(\"Iceland\")"
   ]
  },
  {
   "cell_type": "code",
   "execution_count": 29,
   "metadata": {},
   "outputs": [],
   "source": [
    "df_lc = moving_rate_table(\"Iceland\")"
   ]
  },
  {
   "cell_type": "code",
   "execution_count": 30,
   "metadata": {},
   "outputs": [],
   "source": [
    "cq_lc = calculate_quarlitle(df_lc,median_lc)"
   ]
  },
  {
   "cell_type": "code",
   "execution_count": 31,
   "metadata": {},
   "outputs": [],
   "source": [
    "new_df_lc = df_lc.loc[df_lc[\"Date\"]>median_lc,:]\n",
    "lc_stable_list = new_df_lc.loc[df_lc[\"Change Rate\"]<= cq_lc,:\"Date\"]\n",
    "lc_stable_list = lc_stable_list[\"Date\"].tolist()"
   ]
  },
  {
   "cell_type": "code",
   "execution_count": 32,
   "metadata": {},
   "outputs": [],
   "source": [
    "lc_date = lc_stable_list[0]"
   ]
  },
  {
   "cell_type": "code",
   "execution_count": 33,
   "metadata": {},
   "outputs": [
    {
     "data": {
      "text/plain": [
       "Timestamp('2020-04-25 00:00:00')"
      ]
     },
     "execution_count": 33,
     "metadata": {},
     "output_type": "execute_result"
    }
   ],
   "source": [
    "lc_date"
   ]
  },
  {
   "cell_type": "code",
   "execution_count": 34,
   "metadata": {},
   "outputs": [],
   "source": [
    "lc_case = covid_original.loc[(covid_original[\"location\"] ==\"Iceland\")&(covid_original[\"total_cases\"]>=30),[\"date\",\"total_cases\"]]\n",
    "lc_case[\"date\"] = pd.to_datetime(lc_case[\"date\"],format=\"%Y-%m-%d\")"
   ]
  },
  {
   "cell_type": "code",
   "execution_count": 35,
   "metadata": {},
   "outputs": [],
   "source": [
    "day_to_stable_lc = lc_date - lc_case[\"date\"].min()"
   ]
  },
  {
   "cell_type": "markdown",
   "metadata": {},
   "source": [
    "#### Iceland will take 50 days to control the virus"
   ]
  },
  {
   "cell_type": "code",
   "execution_count": 36,
   "metadata": {},
   "outputs": [
    {
     "data": {
      "text/plain": [
       "Timedelta('50 days 00:00:00')"
      ]
     },
     "execution_count": 36,
     "metadata": {},
     "output_type": "execute_result"
    }
   ],
   "source": [
    "day_to_stable_lc"
   ]
  },
  {
   "cell_type": "markdown",
   "metadata": {},
   "source": [
    "### New Zealand"
   ]
  },
  {
   "cell_type": "code",
   "execution_count": 37,
   "metadata": {},
   "outputs": [],
   "source": [
    "median_nz =  median_date(\"New Zealand\")"
   ]
  },
  {
   "cell_type": "code",
   "execution_count": 38,
   "metadata": {},
   "outputs": [],
   "source": [
    "df_nz = moving_rate_table(\"New Zealand\")"
   ]
  },
  {
   "cell_type": "code",
   "execution_count": 39,
   "metadata": {},
   "outputs": [],
   "source": [
    "cq_nz = calculate_quarlitle(df_nz,median_nz)"
   ]
  },
  {
   "cell_type": "code",
   "execution_count": 40,
   "metadata": {},
   "outputs": [],
   "source": [
    "new_df_nz = df_nz.loc[df_nz[\"Date\"]>median_nz,:]\n",
    "nz_stable_list = new_df_nz.loc[df_nz[\"Change Rate\"]<= cq_nz,:\"Date\"]\n",
    "nz_stable_list = nz_stable_list[\"Date\"].tolist()"
   ]
  },
  {
   "cell_type": "code",
   "execution_count": 41,
   "metadata": {},
   "outputs": [],
   "source": [
    "nz_date = nz_stable_list[0]"
   ]
  },
  {
   "cell_type": "code",
   "execution_count": 42,
   "metadata": {},
   "outputs": [],
   "source": [
    "nz_case = covid_original.loc[(covid_original[\"location\"] ==\"New Zealand\")&(covid_original[\"total_cases\"]>=30),[\"date\",\"total_cases\"]]\n",
    "nz_case[\"date\"] = pd.to_datetime(nz_case[\"date\"],format=\"%Y-%m-%d\")"
   ]
  },
  {
   "cell_type": "code",
   "execution_count": 43,
   "metadata": {},
   "outputs": [],
   "source": [
    "day_to_stable_nz = nz_date - nz_case[\"date\"].min()"
   ]
  },
  {
   "cell_type": "markdown",
   "metadata": {},
   "source": [
    "##### New Zealand will take 46 days to control the virus"
   ]
  },
  {
   "cell_type": "code",
   "execution_count": 44,
   "metadata": {},
   "outputs": [
    {
     "data": {
      "text/plain": [
       "Timedelta('46 days 00:00:00')"
      ]
     },
     "execution_count": 44,
     "metadata": {},
     "output_type": "execute_result"
    }
   ],
   "source": [
    "day_to_stable_nz"
   ]
  },
  {
   "cell_type": "markdown",
   "metadata": {},
   "source": [
    "#### Result of error countries\n",
    "- North Macedonia: NA\n",
    "- Montenegro: 31 days\n",
    "- Iceland: 51 days\n",
    "- New Zealand: 46 days\n",
    "- Slovenia: 62 days"
   ]
  },
  {
   "cell_type": "code",
   "execution_count": 45,
   "metadata": {},
   "outputs": [],
   "source": [
    "dic[\"Slovenia\"] = 62\n",
    "dic[\"Montenegro\"] = 31\n",
    "dic[\"Iceland\"] =51\n",
    "dic[\"New Zealand\"] = 46\n",
    "dic[\"Slovenia\"] = 62"
   ]
  },
  {
   "cell_type": "code",
   "execution_count": 46,
   "metadata": {
    "collapsed": true
   },
   "outputs": [
    {
     "data": {
      "text/plain": [
       "{'Germany': 80,\n",
       " 'Russia': 69,\n",
       " 'United Kingdom': 80,\n",
       " 'France': 79,\n",
       " 'Italy': 88,\n",
       " 'Spain': 80,\n",
       " 'Ukraine': 60,\n",
       " 'Poland': 59,\n",
       " 'Romania': 69,\n",
       " 'Netherlands': 76,\n",
       " 'Belgium': 76,\n",
       " 'Czech Republic': 57,\n",
       " 'Greece': 57,\n",
       " 'Portugal': 55,\n",
       " 'Sweden': 60,\n",
       " 'Hungary': 64,\n",
       " 'Belarus': 65,\n",
       " 'Austria': 63,\n",
       " 'Serbia': 64,\n",
       " 'Switzerland': 92,\n",
       " 'Bulgaria': 59,\n",
       " 'Denmark': 75,\n",
       " 'Finland': 71,\n",
       " 'Slovakia': 67,\n",
       " 'Norway': 72,\n",
       " 'Ireland': 70,\n",
       " 'Croatia': 74,\n",
       " 'Moldova': 47,\n",
       " 'Bosnia and Herzegovina': 55,\n",
       " 'Albania': 50,\n",
       " 'Lithuania': 46,\n",
       " 'Latvia': 55,\n",
       " 'Estonia': 54,\n",
       " 'Luxembourg': 70,\n",
       " 'Malta': 48,\n",
       " 'Canada': 77,\n",
       " 'Australia': 83,\n",
       " 'Slovenia': 62,\n",
       " 'Montenegro': 31,\n",
       " 'Iceland': 51,\n",
       " 'New Zealand': 46}"
      ]
     },
     "execution_count": 46,
     "metadata": {},
     "output_type": "execute_result"
    }
   ],
   "source": [
    "dic"
   ]
  },
  {
   "cell_type": "markdown",
   "metadata": {},
   "source": [
    "## Build/Convert Training Dataset"
   ]
  },
  {
   "cell_type": "code",
   "execution_count": 47,
   "metadata": {},
   "outputs": [],
   "source": [
    "covid_data = pd.read_csv(\"COVID Data Collection _ copy.csv\")"
   ]
  },
  {
   "cell_type": "code",
   "execution_count": 48,
   "metadata": {},
   "outputs": [],
   "source": [
    "covid_data[\"Days to Stability\"] = covid_data[\"Country\"].map(dic)"
   ]
  },
  {
   "cell_type": "code",
   "execution_count": 49,
   "metadata": {},
   "outputs": [
    {
     "data": {
      "text/plain": [
       "Index(['Country', 'Young Population\\n(Aged under 15 )',\n",
       "       'Working Age Population\\n(Aged between 15 - 64)',\n",
       "       'Elderly population\\n(Aged 65 and over)', 'Population ',\n",
       "       'Population Density \\n(per Km2)', 'Political Ideology ', 'Death Rate',\n",
       "       'Social Distancing\\n(days)', 'Wearing Face mask\\n(days)',\n",
       "       '14 day Quarantine\\n(days)', 'Boarders\\n(days)',\n",
       "       'School closures\\n(days)', 'Lockdown', 'Days to Peak',\n",
       "       'Days to Stability'],\n",
       "      dtype='object')"
      ]
     },
     "execution_count": 49,
     "metadata": {},
     "output_type": "execute_result"
    }
   ],
   "source": [
    "covid_data.columns"
   ]
  },
  {
   "cell_type": "markdown",
   "metadata": {},
   "source": [
    "### Processing data\n",
    "1. Set country as index\n",
    "2. Convert Young population/Working Age population/Elderly population/Death Rate to int\n",
    "3. Covert Political Ideology/Lockdown to int indicators\n",
    "4. \"Days to Stability\" has 2 missing value"
   ]
  },
  {
   "cell_type": "code",
   "execution_count": 50,
   "metadata": {},
   "outputs": [
    {
     "name": "stdout",
     "output_type": "stream",
     "text": [
      "<class 'pandas.core.frame.DataFrame'>\n",
      "RangeIndex: 43 entries, 0 to 42\n",
      "Data columns (total 16 columns):\n",
      "Country                                          43 non-null object\n",
      "Young Population\n",
      "(Aged under 15 )                43 non-null object\n",
      "Working Age Population\n",
      "(Aged between 15 - 64)    43 non-null object\n",
      "Elderly population\n",
      "(Aged 65 and over)            43 non-null object\n",
      "Population                                       43 non-null int64\n",
      "Population Density \n",
      "(per Km2)                    43 non-null int64\n",
      "Political Ideology                               43 non-null object\n",
      "Death Rate                                       43 non-null object\n",
      "Social Distancing\n",
      "(days)                         43 non-null int64\n",
      "Wearing Face mask\n",
      "(days)                         43 non-null int64\n",
      "14 day Quarantine\n",
      "(days)                         43 non-null int64\n",
      "Boarders\n",
      "(days)                                  43 non-null int64\n",
      "School closures\n",
      "(days)                           43 non-null int64\n",
      "Lockdown                                         43 non-null object\n",
      "Days to Peak                                     43 non-null int64\n",
      "Days to Stability                                41 non-null float64\n",
      "dtypes: float64(1), int64(8), object(7)\n",
      "memory usage: 5.5+ KB\n"
     ]
    }
   ],
   "source": [
    "covid_data.info()"
   ]
  },
  {
   "cell_type": "code",
   "execution_count": 51,
   "metadata": {},
   "outputs": [],
   "source": [
    "covid_data.set_index(\"Country\",inplace = True)"
   ]
  },
  {
   "cell_type": "code",
   "execution_count": 52,
   "metadata": {},
   "outputs": [
    {
     "data": {
      "text/plain": [
       "Index(['Young Population\\n(Aged under 15 )',\n",
       "       'Working Age Population\\n(Aged between 15 - 64)',\n",
       "       'Elderly population\\n(Aged 65 and over)', 'Population ',\n",
       "       'Population Density \\n(per Km2)', 'Political Ideology ', 'Death Rate',\n",
       "       'Social Distancing\\n(days)', 'Wearing Face mask\\n(days)',\n",
       "       '14 day Quarantine\\n(days)', 'Boarders\\n(days)',\n",
       "       'School closures\\n(days)', 'Lockdown', 'Days to Peak',\n",
       "       'Days to Stability'],\n",
       "      dtype='object')"
      ]
     },
     "execution_count": 52,
     "metadata": {},
     "output_type": "execute_result"
    }
   ],
   "source": [
    "covid_data.columns"
   ]
  },
  {
   "cell_type": "code",
   "execution_count": 53,
   "metadata": {},
   "outputs": [
    {
     "data": {
      "text/plain": [
       "Young Population\\n(Aged under 15 )                 object\n",
       "Working Age Population\\n(Aged between 15 - 64)     object\n",
       "Elderly population\\n(Aged 65 and over)             object\n",
       "Population                                          int64\n",
       "Population Density \\n(per Km2)                      int64\n",
       "Political Ideology                                 object\n",
       "Death Rate                                         object\n",
       "Social Distancing\\n(days)                           int64\n",
       "Wearing Face mask\\n(days)                           int64\n",
       "14 day Quarantine\\n(days)                           int64\n",
       "Boarders\\n(days)                                    int64\n",
       "School closures\\n(days)                             int64\n",
       "Lockdown                                           object\n",
       "Days to Peak                                        int64\n",
       "Days to Stability                                 float64\n",
       "dtype: object"
      ]
     },
     "execution_count": 53,
     "metadata": {},
     "output_type": "execute_result"
    }
   ],
   "source": [
    "covid_data.dtypes"
   ]
  },
  {
   "cell_type": "code",
   "execution_count": 54,
   "metadata": {},
   "outputs": [],
   "source": [
    "# Convert all the population / Death rate into float\n",
    "covid_data[\"Young Population\\n(Aged under 15 )\"] = covid_data[\"Young Population\\n(Aged under 15 )\"].astype(str).str.rstrip(\"%\").astype(float)\n",
    "covid_data[\"Working Age Population\\n(Aged between 15 - 64)\"] = covid_data[\"Working Age Population\\n(Aged between 15 - 64)\"].astype(str).str.rstrip(\"%\").astype(float)\n",
    "covid_data[\"Elderly population\\n(Aged 65 and over)\"] = covid_data[\"Elderly population\\n(Aged 65 and over)\"].astype(str).str.rstrip(\"%\").astype(float)\n",
    "covid_data[\"Death Rate\"] = covid_data[\"Death Rate\"].astype(str).str.rstrip(\"%\").astype(float)"
   ]
  },
  {
   "cell_type": "code",
   "execution_count": 55,
   "metadata": {},
   "outputs": [],
   "source": [
    "# Convert columns to int indicator\n",
    "covid_data.replace(\"Y\",1,inplace = True)\n",
    "covid_data.replace(\"N\",0,inplace=True)"
   ]
  },
  {
   "cell_type": "code",
   "execution_count": 56,
   "metadata": {},
   "outputs": [
    {
     "data": {
      "text/plain": [
       "Political Ideology \n",
       "Authoritarian        2\n",
       "Flawed Democracy    17\n",
       "Full Democracy      18\n",
       "Hybrid Regime        6\n",
       "dtype: int64"
      ]
     },
     "execution_count": 56,
     "metadata": {},
     "output_type": "execute_result"
    }
   ],
   "source": [
    "covid_data.groupby(\"Political Ideology \").size()"
   ]
  },
  {
   "cell_type": "markdown",
   "metadata": {},
   "source": [
    "### Reset indicator as following\n",
    "- Authoritarian: 1\n",
    "- Flawed Democracy: 2\n",
    "- Full Democracy: 3\n",
    "- Hybrid Regime: 4"
   ]
  },
  {
   "cell_type": "code",
   "execution_count": 57,
   "metadata": {},
   "outputs": [],
   "source": [
    "covid_data.replace(\"Authoritarian\",1,inplace = True)\n",
    "covid_data.replace(\"Flawed Democracy\",2,inplace = True)\n",
    "covid_data.replace(\"Full Democracy\",3,inplace = True)\n",
    "covid_data.replace(\"Hybrid Regime\",4,inplace = True)"
   ]
  },
  {
   "cell_type": "code",
   "execution_count": 58,
   "metadata": {},
   "outputs": [
    {
     "data": {
      "text/html": [
       "<div>\n",
       "<style scoped>\n",
       "    .dataframe tbody tr th:only-of-type {\n",
       "        vertical-align: middle;\n",
       "    }\n",
       "\n",
       "    .dataframe tbody tr th {\n",
       "        vertical-align: top;\n",
       "    }\n",
       "\n",
       "    .dataframe thead th {\n",
       "        text-align: right;\n",
       "    }\n",
       "</style>\n",
       "<table border=\"1\" class=\"dataframe\">\n",
       "  <thead>\n",
       "    <tr style=\"text-align: right;\">\n",
       "      <th></th>\n",
       "      <th>Young Population\n",
       "(Aged under 15 )</th>\n",
       "      <th>Working Age Population\n",
       "(Aged between 15 - 64)</th>\n",
       "      <th>Elderly population\n",
       "(Aged 65 and over)</th>\n",
       "      <th>Population</th>\n",
       "      <th>Population Density \n",
       "(per Km2)</th>\n",
       "      <th>Political Ideology</th>\n",
       "      <th>Death Rate</th>\n",
       "      <th>Social Distancing\n",
       "(days)</th>\n",
       "      <th>Wearing Face mask\n",
       "(days)</th>\n",
       "      <th>14 day Quarantine\n",
       "(days)</th>\n",
       "      <th>Boarders\n",
       "(days)</th>\n",
       "      <th>School closures\n",
       "(days)</th>\n",
       "      <th>Lockdown</th>\n",
       "      <th>Days to Peak</th>\n",
       "      <th>Days to Stability</th>\n",
       "    </tr>\n",
       "    <tr>\n",
       "      <th>Country</th>\n",
       "      <th></th>\n",
       "      <th></th>\n",
       "      <th></th>\n",
       "      <th></th>\n",
       "      <th></th>\n",
       "      <th></th>\n",
       "      <th></th>\n",
       "      <th></th>\n",
       "      <th></th>\n",
       "      <th></th>\n",
       "      <th></th>\n",
       "      <th></th>\n",
       "      <th></th>\n",
       "      <th></th>\n",
       "      <th></th>\n",
       "    </tr>\n",
       "  </thead>\n",
       "  <tbody>\n",
       "    <tr>\n",
       "      <th>USA</th>\n",
       "      <td>18.62</td>\n",
       "      <td>65.35</td>\n",
       "      <td>16.03</td>\n",
       "      <td>32823952</td>\n",
       "      <td>34</td>\n",
       "      <td>2</td>\n",
       "      <td>5.60</td>\n",
       "      <td>103</td>\n",
       "      <td>0</td>\n",
       "      <td>149</td>\n",
       "      <td>109</td>\n",
       "      <td>106</td>\n",
       "      <td>1</td>\n",
       "      <td>106</td>\n",
       "      <td>NaN</td>\n",
       "    </tr>\n",
       "    <tr>\n",
       "      <th>Germany</th>\n",
       "      <td>13.50</td>\n",
       "      <td>65.00</td>\n",
       "      <td>21.47</td>\n",
       "      <td>83783942</td>\n",
       "      <td>240</td>\n",
       "      <td>3</td>\n",
       "      <td>4.70</td>\n",
       "      <td>49</td>\n",
       "      <td>44</td>\n",
       "      <td>70</td>\n",
       "      <td>91</td>\n",
       "      <td>52</td>\n",
       "      <td>1</td>\n",
       "      <td>100</td>\n",
       "      <td>80.0</td>\n",
       "    </tr>\n",
       "    <tr>\n",
       "      <th>Russia</th>\n",
       "      <td>17.91</td>\n",
       "      <td>67.41</td>\n",
       "      <td>14.67</td>\n",
       "      <td>145934462</td>\n",
       "      <td>9</td>\n",
       "      <td>1</td>\n",
       "      <td>1.25</td>\n",
       "      <td>45</td>\n",
       "      <td>64</td>\n",
       "      <td>0</td>\n",
       "      <td>104</td>\n",
       "      <td>0</td>\n",
       "      <td>1</td>\n",
       "      <td>85</td>\n",
       "      <td>69.0</td>\n",
       "    </tr>\n",
       "    <tr>\n",
       "      <th>United Kingdom</th>\n",
       "      <td>18.90</td>\n",
       "      <td>63.10</td>\n",
       "      <td>18.00</td>\n",
       "      <td>67886011</td>\n",
       "      <td>281</td>\n",
       "      <td>3</td>\n",
       "      <td>14.20</td>\n",
       "      <td>99</td>\n",
       "      <td>15</td>\n",
       "      <td>60</td>\n",
       "      <td>105</td>\n",
       "      <td>87</td>\n",
       "      <td>1</td>\n",
       "      <td>97</td>\n",
       "      <td>80.0</td>\n",
       "    </tr>\n",
       "    <tr>\n",
       "      <th>France</th>\n",
       "      <td>18.10</td>\n",
       "      <td>62.20</td>\n",
       "      <td>19.70</td>\n",
       "      <td>65273511</td>\n",
       "      <td>119</td>\n",
       "      <td>3</td>\n",
       "      <td>18.97</td>\n",
       "      <td>55</td>\n",
       "      <td>51</td>\n",
       "      <td>50</td>\n",
       "      <td>70</td>\n",
       "      <td>55</td>\n",
       "      <td>1</td>\n",
       "      <td>100</td>\n",
       "      <td>79.0</td>\n",
       "    </tr>\n",
       "  </tbody>\n",
       "</table>\n",
       "</div>"
      ],
      "text/plain": [
       "                Young Population\\n(Aged under 15 )  \\\n",
       "Country                                              \n",
       "USA                                          18.62   \n",
       "Germany                                      13.50   \n",
       "Russia                                       17.91   \n",
       "United Kingdom                               18.90   \n",
       "France                                       18.10   \n",
       "\n",
       "                Working Age Population\\n(Aged between 15 - 64)  \\\n",
       "Country                                                          \n",
       "USA                                                      65.35   \n",
       "Germany                                                  65.00   \n",
       "Russia                                                   67.41   \n",
       "United Kingdom                                           63.10   \n",
       "France                                                   62.20   \n",
       "\n",
       "                Elderly population\\n(Aged 65 and over)  Population   \\\n",
       "Country                                                               \n",
       "USA                                              16.03     32823952   \n",
       "Germany                                          21.47     83783942   \n",
       "Russia                                           14.67    145934462   \n",
       "United Kingdom                                   18.00     67886011   \n",
       "France                                           19.70     65273511   \n",
       "\n",
       "                Population Density \\n(per Km2)  Political Ideology   \\\n",
       "Country                                                               \n",
       "USA                                         34                    2   \n",
       "Germany                                    240                    3   \n",
       "Russia                                       9                    1   \n",
       "United Kingdom                             281                    3   \n",
       "France                                     119                    3   \n",
       "\n",
       "                Death Rate  Social Distancing\\n(days)  \\\n",
       "Country                                                 \n",
       "USA                   5.60                        103   \n",
       "Germany               4.70                         49   \n",
       "Russia                1.25                         45   \n",
       "United Kingdom       14.20                         99   \n",
       "France               18.97                         55   \n",
       "\n",
       "                Wearing Face mask\\n(days)  14 day Quarantine\\n(days)  \\\n",
       "Country                                                                \n",
       "USA                                     0                        149   \n",
       "Germany                                44                         70   \n",
       "Russia                                 64                          0   \n",
       "United Kingdom                         15                         60   \n",
       "France                                 51                         50   \n",
       "\n",
       "                Boarders\\n(days)  School closures\\n(days)  Lockdown  \\\n",
       "Country                                                               \n",
       "USA                          109                      106         1   \n",
       "Germany                       91                       52         1   \n",
       "Russia                       104                        0         1   \n",
       "United Kingdom               105                       87         1   \n",
       "France                        70                       55         1   \n",
       "\n",
       "                Days to Peak  Days to Stability  \n",
       "Country                                          \n",
       "USA                      106                NaN  \n",
       "Germany                  100               80.0  \n",
       "Russia                    85               69.0  \n",
       "United Kingdom            97               80.0  \n",
       "France                   100               79.0  "
      ]
     },
     "execution_count": 58,
     "metadata": {},
     "output_type": "execute_result"
    }
   ],
   "source": [
    "covid_data.head()"
   ]
  },
  {
   "cell_type": "markdown",
   "metadata": {},
   "source": [
    "### Cleaning the NA value"
   ]
  },
  {
   "cell_type": "code",
   "execution_count": 59,
   "metadata": {},
   "outputs": [],
   "source": [
    "covid_train = covid_data.copy()"
   ]
  },
  {
   "cell_type": "code",
   "execution_count": 60,
   "metadata": {},
   "outputs": [],
   "source": [
    "covid_train.drop([\"USA\"],inplace = True)"
   ]
  },
  {
   "cell_type": "code",
   "execution_count": 61,
   "metadata": {},
   "outputs": [
    {
     "data": {
      "text/html": [
       "<div>\n",
       "<style scoped>\n",
       "    .dataframe tbody tr th:only-of-type {\n",
       "        vertical-align: middle;\n",
       "    }\n",
       "\n",
       "    .dataframe tbody tr th {\n",
       "        vertical-align: top;\n",
       "    }\n",
       "\n",
       "    .dataframe thead th {\n",
       "        text-align: right;\n",
       "    }\n",
       "</style>\n",
       "<table border=\"1\" class=\"dataframe\">\n",
       "  <thead>\n",
       "    <tr style=\"text-align: right;\">\n",
       "      <th></th>\n",
       "      <th>Young Population\n",
       "(Aged under 15 )</th>\n",
       "      <th>Working Age Population\n",
       "(Aged between 15 - 64)</th>\n",
       "      <th>Elderly population\n",
       "(Aged 65 and over)</th>\n",
       "      <th>Population</th>\n",
       "      <th>Population Density \n",
       "(per Km2)</th>\n",
       "      <th>Political Ideology</th>\n",
       "      <th>Death Rate</th>\n",
       "      <th>Social Distancing\n",
       "(days)</th>\n",
       "      <th>Wearing Face mask\n",
       "(days)</th>\n",
       "      <th>14 day Quarantine\n",
       "(days)</th>\n",
       "      <th>Boarders\n",
       "(days)</th>\n",
       "      <th>School closures\n",
       "(days)</th>\n",
       "      <th>Lockdown</th>\n",
       "      <th>Days to Peak</th>\n",
       "      <th>Days to Stability</th>\n",
       "    </tr>\n",
       "    <tr>\n",
       "      <th>Country</th>\n",
       "      <th></th>\n",
       "      <th></th>\n",
       "      <th></th>\n",
       "      <th></th>\n",
       "      <th></th>\n",
       "      <th></th>\n",
       "      <th></th>\n",
       "      <th></th>\n",
       "      <th></th>\n",
       "      <th></th>\n",
       "      <th></th>\n",
       "      <th></th>\n",
       "      <th></th>\n",
       "      <th></th>\n",
       "      <th></th>\n",
       "    </tr>\n",
       "  </thead>\n",
       "  <tbody>\n",
       "    <tr>\n",
       "      <th>Germany</th>\n",
       "      <td>13.50</td>\n",
       "      <td>65.00</td>\n",
       "      <td>21.47</td>\n",
       "      <td>83783942</td>\n",
       "      <td>240</td>\n",
       "      <td>3</td>\n",
       "      <td>4.70</td>\n",
       "      <td>49</td>\n",
       "      <td>44</td>\n",
       "      <td>70</td>\n",
       "      <td>91</td>\n",
       "      <td>52</td>\n",
       "      <td>1</td>\n",
       "      <td>100</td>\n",
       "      <td>80.0</td>\n",
       "    </tr>\n",
       "    <tr>\n",
       "      <th>Russia</th>\n",
       "      <td>17.91</td>\n",
       "      <td>67.41</td>\n",
       "      <td>14.67</td>\n",
       "      <td>145934462</td>\n",
       "      <td>9</td>\n",
       "      <td>1</td>\n",
       "      <td>1.25</td>\n",
       "      <td>45</td>\n",
       "      <td>64</td>\n",
       "      <td>0</td>\n",
       "      <td>104</td>\n",
       "      <td>0</td>\n",
       "      <td>1</td>\n",
       "      <td>85</td>\n",
       "      <td>69.0</td>\n",
       "    </tr>\n",
       "    <tr>\n",
       "      <th>United Kingdom</th>\n",
       "      <td>18.90</td>\n",
       "      <td>63.10</td>\n",
       "      <td>18.00</td>\n",
       "      <td>67886011</td>\n",
       "      <td>281</td>\n",
       "      <td>3</td>\n",
       "      <td>14.20</td>\n",
       "      <td>99</td>\n",
       "      <td>15</td>\n",
       "      <td>60</td>\n",
       "      <td>105</td>\n",
       "      <td>87</td>\n",
       "      <td>1</td>\n",
       "      <td>97</td>\n",
       "      <td>80.0</td>\n",
       "    </tr>\n",
       "    <tr>\n",
       "      <th>France</th>\n",
       "      <td>18.10</td>\n",
       "      <td>62.20</td>\n",
       "      <td>19.70</td>\n",
       "      <td>65273511</td>\n",
       "      <td>119</td>\n",
       "      <td>3</td>\n",
       "      <td>18.97</td>\n",
       "      <td>55</td>\n",
       "      <td>51</td>\n",
       "      <td>50</td>\n",
       "      <td>70</td>\n",
       "      <td>55</td>\n",
       "      <td>1</td>\n",
       "      <td>100</td>\n",
       "      <td>79.0</td>\n",
       "    </tr>\n",
       "    <tr>\n",
       "      <th>Italy</th>\n",
       "      <td>13.50</td>\n",
       "      <td>63.50</td>\n",
       "      <td>23.00</td>\n",
       "      <td>60461826</td>\n",
       "      <td>206</td>\n",
       "      <td>2</td>\n",
       "      <td>14.41</td>\n",
       "      <td>70</td>\n",
       "      <td>63</td>\n",
       "      <td>86</td>\n",
       "      <td>67</td>\n",
       "      <td>118</td>\n",
       "      <td>1</td>\n",
       "      <td>105</td>\n",
       "      <td>88.0</td>\n",
       "    </tr>\n",
       "  </tbody>\n",
       "</table>\n",
       "</div>"
      ],
      "text/plain": [
       "                Young Population\\n(Aged under 15 )  \\\n",
       "Country                                              \n",
       "Germany                                      13.50   \n",
       "Russia                                       17.91   \n",
       "United Kingdom                               18.90   \n",
       "France                                       18.10   \n",
       "Italy                                        13.50   \n",
       "\n",
       "                Working Age Population\\n(Aged between 15 - 64)  \\\n",
       "Country                                                          \n",
       "Germany                                                  65.00   \n",
       "Russia                                                   67.41   \n",
       "United Kingdom                                           63.10   \n",
       "France                                                   62.20   \n",
       "Italy                                                    63.50   \n",
       "\n",
       "                Elderly population\\n(Aged 65 and over)  Population   \\\n",
       "Country                                                               \n",
       "Germany                                          21.47     83783942   \n",
       "Russia                                           14.67    145934462   \n",
       "United Kingdom                                   18.00     67886011   \n",
       "France                                           19.70     65273511   \n",
       "Italy                                            23.00     60461826   \n",
       "\n",
       "                Population Density \\n(per Km2)  Political Ideology   \\\n",
       "Country                                                               \n",
       "Germany                                    240                    3   \n",
       "Russia                                       9                    1   \n",
       "United Kingdom                             281                    3   \n",
       "France                                     119                    3   \n",
       "Italy                                      206                    2   \n",
       "\n",
       "                Death Rate  Social Distancing\\n(days)  \\\n",
       "Country                                                 \n",
       "Germany               4.70                         49   \n",
       "Russia                1.25                         45   \n",
       "United Kingdom       14.20                         99   \n",
       "France               18.97                         55   \n",
       "Italy                14.41                         70   \n",
       "\n",
       "                Wearing Face mask\\n(days)  14 day Quarantine\\n(days)  \\\n",
       "Country                                                                \n",
       "Germany                                44                         70   \n",
       "Russia                                 64                          0   \n",
       "United Kingdom                         15                         60   \n",
       "France                                 51                         50   \n",
       "Italy                                  63                         86   \n",
       "\n",
       "                Boarders\\n(days)  School closures\\n(days)  Lockdown  \\\n",
       "Country                                                               \n",
       "Germany                       91                       52         1   \n",
       "Russia                       104                        0         1   \n",
       "United Kingdom               105                       87         1   \n",
       "France                        70                       55         1   \n",
       "Italy                         67                      118         1   \n",
       "\n",
       "                Days to Peak  Days to Stability  \n",
       "Country                                          \n",
       "Germany                  100               80.0  \n",
       "Russia                    85               69.0  \n",
       "United Kingdom            97               80.0  \n",
       "France                   100               79.0  \n",
       "Italy                    105               88.0  "
      ]
     },
     "execution_count": 61,
     "metadata": {},
     "output_type": "execute_result"
    }
   ],
   "source": [
    "covid_train.head()"
   ]
  },
  {
   "cell_type": "code",
   "execution_count": 62,
   "metadata": {},
   "outputs": [],
   "source": [
    "covid_train[\"Days to Stability\"] = covid_train[\"Days to Stability\"].fillna( covid_train[\"Days to Stability\"].mean())"
   ]
  },
  {
   "cell_type": "markdown",
   "metadata": {},
   "source": [
    "### Deeply look into the training data"
   ]
  },
  {
   "cell_type": "code",
   "execution_count": 63,
   "metadata": {},
   "outputs": [
    {
     "data": {
      "text/html": [
       "<div>\n",
       "<style scoped>\n",
       "    .dataframe tbody tr th:only-of-type {\n",
       "        vertical-align: middle;\n",
       "    }\n",
       "\n",
       "    .dataframe tbody tr th {\n",
       "        vertical-align: top;\n",
       "    }\n",
       "\n",
       "    .dataframe thead th {\n",
       "        text-align: right;\n",
       "    }\n",
       "</style>\n",
       "<table border=\"1\" class=\"dataframe\">\n",
       "  <thead>\n",
       "    <tr style=\"text-align: right;\">\n",
       "      <th></th>\n",
       "      <th>Young Population\n",
       "(Aged under 15 )</th>\n",
       "      <th>Working Age Population\n",
       "(Aged between 15 - 64)</th>\n",
       "      <th>Elderly population\n",
       "(Aged 65 and over)</th>\n",
       "      <th>Population</th>\n",
       "      <th>Population Density \n",
       "(per Km2)</th>\n",
       "      <th>Political Ideology</th>\n",
       "      <th>Death Rate</th>\n",
       "      <th>Social Distancing\n",
       "(days)</th>\n",
       "      <th>Wearing Face mask\n",
       "(days)</th>\n",
       "      <th>14 day Quarantine\n",
       "(days)</th>\n",
       "      <th>Boarders\n",
       "(days)</th>\n",
       "      <th>School closures\n",
       "(days)</th>\n",
       "      <th>Lockdown</th>\n",
       "      <th>Days to Peak</th>\n",
       "      <th>Days to Stability</th>\n",
       "    </tr>\n",
       "  </thead>\n",
       "  <tbody>\n",
       "    <tr>\n",
       "      <th>count</th>\n",
       "      <td>42.000000</td>\n",
       "      <td>42.000000</td>\n",
       "      <td>42.000000</td>\n",
       "      <td>4.200000e+01</td>\n",
       "      <td>42.000000</td>\n",
       "      <td>42.000000</td>\n",
       "      <td>42.000000</td>\n",
       "      <td>42.000000</td>\n",
       "      <td>42.000000</td>\n",
       "      <td>42.000000</td>\n",
       "      <td>42.000000</td>\n",
       "      <td>42.000000</td>\n",
       "      <td>42.000000</td>\n",
       "      <td>42.000000</td>\n",
       "      <td>42.000000</td>\n",
       "    </tr>\n",
       "    <tr>\n",
       "      <th>mean</th>\n",
       "      <td>16.397857</td>\n",
       "      <td>66.138333</td>\n",
       "      <td>17.458095</td>\n",
       "      <td>1.940880e+07</td>\n",
       "      <td>138.880952</td>\n",
       "      <td>2.666667</td>\n",
       "      <td>5.744762</td>\n",
       "      <td>62.333333</td>\n",
       "      <td>37.857143</td>\n",
       "      <td>78.880952</td>\n",
       "      <td>77.047619</td>\n",
       "      <td>86.928571</td>\n",
       "      <td>0.952381</td>\n",
       "      <td>86.928571</td>\n",
       "      <td>64.780488</td>\n",
       "    </tr>\n",
       "    <tr>\n",
       "      <th>std</th>\n",
       "      <td>2.360549</td>\n",
       "      <td>2.230850</td>\n",
       "      <td>3.019150</td>\n",
       "      <td>2.903403e+07</td>\n",
       "      <td>221.471377</td>\n",
       "      <td>0.786057</td>\n",
       "      <td>4.504750</td>\n",
       "      <td>34.017690</td>\n",
       "      <td>35.209873</td>\n",
       "      <td>44.528534</td>\n",
       "      <td>37.398939</td>\n",
       "      <td>31.526522</td>\n",
       "      <td>0.215540</td>\n",
       "      <td>10.416668</td>\n",
       "      <td>12.866125</td>\n",
       "    </tr>\n",
       "    <tr>\n",
       "      <th>min</th>\n",
       "      <td>13.500000</td>\n",
       "      <td>62.200000</td>\n",
       "      <td>8.900000</td>\n",
       "      <td>3.412430e+05</td>\n",
       "      <td>3.000000</td>\n",
       "      <td>1.000000</td>\n",
       "      <td>0.550000</td>\n",
       "      <td>0.000000</td>\n",
       "      <td>0.000000</td>\n",
       "      <td>0.000000</td>\n",
       "      <td>0.000000</td>\n",
       "      <td>0.000000</td>\n",
       "      <td>0.000000</td>\n",
       "      <td>42.000000</td>\n",
       "      <td>31.000000</td>\n",
       "    </tr>\n",
       "    <tr>\n",
       "      <th>25%</th>\n",
       "      <td>14.725000</td>\n",
       "      <td>64.900000</td>\n",
       "      <td>15.150000</td>\n",
       "      <td>3.469105e+06</td>\n",
       "      <td>44.000000</td>\n",
       "      <td>2.000000</td>\n",
       "      <td>2.742500</td>\n",
       "      <td>39.000000</td>\n",
       "      <td>0.000000</td>\n",
       "      <td>52.500000</td>\n",
       "      <td>68.500000</td>\n",
       "      <td>67.250000</td>\n",
       "      <td>1.000000</td>\n",
       "      <td>83.250000</td>\n",
       "      <td>55.500000</td>\n",
       "    </tr>\n",
       "    <tr>\n",
       "      <th>50%</th>\n",
       "      <td>15.850000</td>\n",
       "      <td>65.950000</td>\n",
       "      <td>18.200000</td>\n",
       "      <td>8.695996e+06</td>\n",
       "      <td>89.000000</td>\n",
       "      <td>3.000000</td>\n",
       "      <td>4.515000</td>\n",
       "      <td>55.500000</td>\n",
       "      <td>41.000000</td>\n",
       "      <td>106.000000</td>\n",
       "      <td>91.500000</td>\n",
       "      <td>106.000000</td>\n",
       "      <td>1.000000</td>\n",
       "      <td>87.000000</td>\n",
       "      <td>64.390244</td>\n",
       "    </tr>\n",
       "    <tr>\n",
       "      <th>75%</th>\n",
       "      <td>17.725000</td>\n",
       "      <td>67.100000</td>\n",
       "      <td>19.650000</td>\n",
       "      <td>1.871199e+07</td>\n",
       "      <td>123.750000</td>\n",
       "      <td>3.000000</td>\n",
       "      <td>6.630000</td>\n",
       "      <td>98.750000</td>\n",
       "      <td>66.250000</td>\n",
       "      <td>109.000000</td>\n",
       "      <td>103.750000</td>\n",
       "      <td>110.000000</td>\n",
       "      <td>1.000000</td>\n",
       "      <td>93.750000</td>\n",
       "      <td>74.750000</td>\n",
       "    </tr>\n",
       "    <tr>\n",
       "      <th>max</th>\n",
       "      <td>25.000000</td>\n",
       "      <td>73.400000</td>\n",
       "      <td>23.000000</td>\n",
       "      <td>1.459345e+08</td>\n",
       "      <td>1380.000000</td>\n",
       "      <td>4.000000</td>\n",
       "      <td>18.970000</td>\n",
       "      <td>123.000000</td>\n",
       "      <td>109.000000</td>\n",
       "      <td>123.000000</td>\n",
       "      <td>107.000000</td>\n",
       "      <td>118.000000</td>\n",
       "      <td>1.000000</td>\n",
       "      <td>105.000000</td>\n",
       "      <td>92.000000</td>\n",
       "    </tr>\n",
       "  </tbody>\n",
       "</table>\n",
       "</div>"
      ],
      "text/plain": [
       "       Young Population\\n(Aged under 15 )  \\\n",
       "count                           42.000000   \n",
       "mean                            16.397857   \n",
       "std                              2.360549   \n",
       "min                             13.500000   \n",
       "25%                             14.725000   \n",
       "50%                             15.850000   \n",
       "75%                             17.725000   \n",
       "max                             25.000000   \n",
       "\n",
       "       Working Age Population\\n(Aged between 15 - 64)  \\\n",
       "count                                       42.000000   \n",
       "mean                                        66.138333   \n",
       "std                                          2.230850   \n",
       "min                                         62.200000   \n",
       "25%                                         64.900000   \n",
       "50%                                         65.950000   \n",
       "75%                                         67.100000   \n",
       "max                                         73.400000   \n",
       "\n",
       "       Elderly population\\n(Aged 65 and over)   Population   \\\n",
       "count                               42.000000  4.200000e+01   \n",
       "mean                                17.458095  1.940880e+07   \n",
       "std                                  3.019150  2.903403e+07   \n",
       "min                                  8.900000  3.412430e+05   \n",
       "25%                                 15.150000  3.469105e+06   \n",
       "50%                                 18.200000  8.695996e+06   \n",
       "75%                                 19.650000  1.871199e+07   \n",
       "max                                 23.000000  1.459345e+08   \n",
       "\n",
       "       Population Density \\n(per Km2)  Political Ideology   Death Rate  \\\n",
       "count                       42.000000            42.000000   42.000000   \n",
       "mean                       138.880952             2.666667    5.744762   \n",
       "std                        221.471377             0.786057    4.504750   \n",
       "min                          3.000000             1.000000    0.550000   \n",
       "25%                         44.000000             2.000000    2.742500   \n",
       "50%                         89.000000             3.000000    4.515000   \n",
       "75%                        123.750000             3.000000    6.630000   \n",
       "max                       1380.000000             4.000000   18.970000   \n",
       "\n",
       "       Social Distancing\\n(days)  Wearing Face mask\\n(days)  \\\n",
       "count                  42.000000                  42.000000   \n",
       "mean                   62.333333                  37.857143   \n",
       "std                    34.017690                  35.209873   \n",
       "min                     0.000000                   0.000000   \n",
       "25%                    39.000000                   0.000000   \n",
       "50%                    55.500000                  41.000000   \n",
       "75%                    98.750000                  66.250000   \n",
       "max                   123.000000                 109.000000   \n",
       "\n",
       "       14 day Quarantine\\n(days)  Boarders\\n(days)  School closures\\n(days)  \\\n",
       "count                  42.000000         42.000000                42.000000   \n",
       "mean                   78.880952         77.047619                86.928571   \n",
       "std                    44.528534         37.398939                31.526522   \n",
       "min                     0.000000          0.000000                 0.000000   \n",
       "25%                    52.500000         68.500000                67.250000   \n",
       "50%                   106.000000         91.500000               106.000000   \n",
       "75%                   109.000000        103.750000               110.000000   \n",
       "max                   123.000000        107.000000               118.000000   \n",
       "\n",
       "        Lockdown  Days to Peak  Days to Stability  \n",
       "count  42.000000     42.000000          42.000000  \n",
       "mean    0.952381     86.928571          64.780488  \n",
       "std     0.215540     10.416668          12.866125  \n",
       "min     0.000000     42.000000          31.000000  \n",
       "25%     1.000000     83.250000          55.500000  \n",
       "50%     1.000000     87.000000          64.390244  \n",
       "75%     1.000000     93.750000          74.750000  \n",
       "max     1.000000    105.000000          92.000000  "
      ]
     },
     "execution_count": 63,
     "metadata": {},
     "output_type": "execute_result"
    }
   ],
   "source": [
    "covid_train.describe()"
   ]
  },
  {
   "cell_type": "code",
   "execution_count": 68,
   "metadata": {},
   "outputs": [
    {
     "data": {
      "image/png": "[encoded data removed]",
      "text/plain": [
       "<Figure size 1800x1440 with 16 Axes>"
      ]
     },
     "metadata": {
      "needs_background": "light"
     },
     "output_type": "display_data"
    }
   ],
   "source": [
    "# see the data distribution\n",
    "covid_train.hist(bins=50, figsize=(25,20))\n",
    "plt.show()"
   ]
  },
  {
   "cell_type": "markdown",
   "metadata": {},
   "source": [
    "### Prepare data for machine learning\n",
    "- Feature Scaling: Since all the features have different units and magnitude, I adopted feature scaling."
   ]
  },
  {
   "cell_type": "code",
   "execution_count": 69,
   "metadata": {},
   "outputs": [],
   "source": [
    "from sklearn import preprocessing "
   ]
  },
  {
   "cell_type": "code",
   "execution_count": 70,
   "metadata": {},
   "outputs": [],
   "source": [
    "Standardisation = preprocessing.StandardScaler() "
   ]
  },
  {
   "cell_type": "code",
   "execution_count": 71,
   "metadata": {},
   "outputs": [
    {
     "data": {
      "text/html": [
       "<div>\n",
       "<style scoped>\n",
       "    .dataframe tbody tr th:only-of-type {\n",
       "        vertical-align: middle;\n",
       "    }\n",
       "\n",
       "    .dataframe tbody tr th {\n",
       "        vertical-align: top;\n",
       "    }\n",
       "\n",
       "    .dataframe thead th {\n",
       "        text-align: right;\n",
       "    }\n",
       "</style>\n",
       "<table border=\"1\" class=\"dataframe\">\n",
       "  <thead>\n",
       "    <tr style=\"text-align: right;\">\n",
       "      <th></th>\n",
       "      <th>Young Population\n",
       "(Aged under 15 )</th>\n",
       "      <th>Working Age Population\n",
       "(Aged between 15 - 64)</th>\n",
       "      <th>Elderly population\n",
       "(Aged 65 and over)</th>\n",
       "      <th>Population</th>\n",
       "      <th>Population Density \n",
       "(per Km2)</th>\n",
       "      <th>Political Ideology</th>\n",
       "      <th>Death Rate</th>\n",
       "      <th>Social Distancing\n",
       "(days)</th>\n",
       "      <th>Wearing Face mask\n",
       "(days)</th>\n",
       "      <th>14 day Quarantine\n",
       "(days)</th>\n",
       "      <th>Boarders\n",
       "(days)</th>\n",
       "      <th>School closures\n",
       "(days)</th>\n",
       "      <th>Lockdown</th>\n",
       "      <th>Days to Peak</th>\n",
       "      <th>Days to Stability</th>\n",
       "    </tr>\n",
       "    <tr>\n",
       "      <th>Country</th>\n",
       "      <th></th>\n",
       "      <th></th>\n",
       "      <th></th>\n",
       "      <th></th>\n",
       "      <th></th>\n",
       "      <th></th>\n",
       "      <th></th>\n",
       "      <th></th>\n",
       "      <th></th>\n",
       "      <th></th>\n",
       "      <th></th>\n",
       "      <th></th>\n",
       "      <th></th>\n",
       "      <th></th>\n",
       "      <th></th>\n",
       "    </tr>\n",
       "  </thead>\n",
       "  <tbody>\n",
       "    <tr>\n",
       "      <th>Germany</th>\n",
       "      <td>13.50</td>\n",
       "      <td>65.00</td>\n",
       "      <td>21.47</td>\n",
       "      <td>83783942</td>\n",
       "      <td>240</td>\n",
       "      <td>3</td>\n",
       "      <td>4.70</td>\n",
       "      <td>49</td>\n",
       "      <td>44</td>\n",
       "      <td>70</td>\n",
       "      <td>91</td>\n",
       "      <td>52</td>\n",
       "      <td>1</td>\n",
       "      <td>100</td>\n",
       "      <td>80.0</td>\n",
       "    </tr>\n",
       "    <tr>\n",
       "      <th>Russia</th>\n",
       "      <td>17.91</td>\n",
       "      <td>67.41</td>\n",
       "      <td>14.67</td>\n",
       "      <td>145934462</td>\n",
       "      <td>9</td>\n",
       "      <td>1</td>\n",
       "      <td>1.25</td>\n",
       "      <td>45</td>\n",
       "      <td>64</td>\n",
       "      <td>0</td>\n",
       "      <td>104</td>\n",
       "      <td>0</td>\n",
       "      <td>1</td>\n",
       "      <td>85</td>\n",
       "      <td>69.0</td>\n",
       "    </tr>\n",
       "    <tr>\n",
       "      <th>United Kingdom</th>\n",
       "      <td>18.90</td>\n",
       "      <td>63.10</td>\n",
       "      <td>18.00</td>\n",
       "      <td>67886011</td>\n",
       "      <td>281</td>\n",
       "      <td>3</td>\n",
       "      <td>14.20</td>\n",
       "      <td>99</td>\n",
       "      <td>15</td>\n",
       "      <td>60</td>\n",
       "      <td>105</td>\n",
       "      <td>87</td>\n",
       "      <td>1</td>\n",
       "      <td>97</td>\n",
       "      <td>80.0</td>\n",
       "    </tr>\n",
       "    <tr>\n",
       "      <th>France</th>\n",
       "      <td>18.10</td>\n",
       "      <td>62.20</td>\n",
       "      <td>19.70</td>\n",
       "      <td>65273511</td>\n",
       "      <td>119</td>\n",
       "      <td>3</td>\n",
       "      <td>18.97</td>\n",
       "      <td>55</td>\n",
       "      <td>51</td>\n",
       "      <td>50</td>\n",
       "      <td>70</td>\n",
       "      <td>55</td>\n",
       "      <td>1</td>\n",
       "      <td>100</td>\n",
       "      <td>79.0</td>\n",
       "    </tr>\n",
       "    <tr>\n",
       "      <th>Italy</th>\n",
       "      <td>13.50</td>\n",
       "      <td>63.50</td>\n",
       "      <td>23.00</td>\n",
       "      <td>60461826</td>\n",
       "      <td>206</td>\n",
       "      <td>2</td>\n",
       "      <td>14.41</td>\n",
       "      <td>70</td>\n",
       "      <td>63</td>\n",
       "      <td>86</td>\n",
       "      <td>67</td>\n",
       "      <td>118</td>\n",
       "      <td>1</td>\n",
       "      <td>105</td>\n",
       "      <td>88.0</td>\n",
       "    </tr>\n",
       "  </tbody>\n",
       "</table>\n",
       "</div>"
      ],
      "text/plain": [
       "                Young Population\\n(Aged under 15 )  \\\n",
       "Country                                              \n",
       "Germany                                      13.50   \n",
       "Russia                                       17.91   \n",
       "United Kingdom                               18.90   \n",
       "France                                       18.10   \n",
       "Italy                                        13.50   \n",
       "\n",
       "                Working Age Population\\n(Aged between 15 - 64)  \\\n",
       "Country                                                          \n",
       "Germany                                                  65.00   \n",
       "Russia                                                   67.41   \n",
       "United Kingdom                                           63.10   \n",
       "France                                                   62.20   \n",
       "Italy                                                    63.50   \n",
       "\n",
       "                Elderly population\\n(Aged 65 and over)  Population   \\\n",
       "Country                                                               \n",
       "Germany                                          21.47     83783942   \n",
       "Russia                                           14.67    145934462   \n",
       "United Kingdom                                   18.00     67886011   \n",
       "France                                           19.70     65273511   \n",
       "Italy                                            23.00     60461826   \n",
       "\n",
       "                Population Density \\n(per Km2)  Political Ideology   \\\n",
       "Country                                                               \n",
       "Germany                                    240                    3   \n",
       "Russia                                       9                    1   \n",
       "United Kingdom                             281                    3   \n",
       "France                                     119                    3   \n",
       "Italy                                      206                    2   \n",
       "\n",
       "                Death Rate  Social Distancing\\n(days)  \\\n",
       "Country                                                 \n",
       "Germany               4.70                         49   \n",
       "Russia                1.25                         45   \n",
       "United Kingdom       14.20                         99   \n",
       "France               18.97                         55   \n",
       "Italy                14.41                         70   \n",
       "\n",
       "                Wearing Face mask\\n(days)  14 day Quarantine\\n(days)  \\\n",
       "Country                                                                \n",
       "Germany                                44                         70   \n",
       "Russia                                 64                          0   \n",
       "United Kingdom                         15                         60   \n",
       "France                                 51                         50   \n",
       "Italy                                  63                         86   \n",
       "\n",
       "                Boarders\\n(days)  School closures\\n(days)  Lockdown  \\\n",
       "Country                                                               \n",
       "Germany                       91                       52         1   \n",
       "Russia                       104                        0         1   \n",
       "United Kingdom               105                       87         1   \n",
       "France                        70                       55         1   \n",
       "Italy                         67                      118         1   \n",
       "\n",
       "                Days to Peak  Days to Stability  \n",
       "Country                                          \n",
       "Germany                  100               80.0  \n",
       "Russia                    85               69.0  \n",
       "United Kingdom            97               80.0  \n",
       "France                   100               79.0  \n",
       "Italy                    105               88.0  "
      ]
     },
     "execution_count": 71,
     "metadata": {},
     "output_type": "execute_result"
    }
   ],
   "source": [
    "covid_train.head()"
   ]
  },
  {
   "cell_type": "code",
   "execution_count": 72,
   "metadata": {},
   "outputs": [],
   "source": [
    "fs_data = covid_train.iloc[:,:-1]"
   ]
  },
  {
   "cell_type": "code",
   "execution_count": 73,
   "metadata": {},
   "outputs": [],
   "source": [
    "fs_data_after_standardisation= Standardisation.fit_transform(fs_data) "
   ]
  },
  {
   "cell_type": "markdown",
   "metadata": {},
   "source": [
    "### Select and train the model"
   ]
  },
  {
   "cell_type": "markdown",
   "metadata": {},
   "source": [
    "#### Started from the basic linear regression model"
   ]
  },
  {
   "cell_type": "code",
   "execution_count": 74,
   "metadata": {},
   "outputs": [],
   "source": [
    "from sklearn.linear_model import LinearRegression\n",
    "from sklearn.model_selection import train_test_split"
   ]
  },
  {
   "cell_type": "code",
   "execution_count": 75,
   "metadata": {},
   "outputs": [],
   "source": [
    "X = fs_data_after_standardisation"
   ]
  },
  {
   "cell_type": "code",
   "execution_count": 76,
   "metadata": {},
   "outputs": [],
   "source": [
    "Y = covid_train[\"Days to Stability\"].tolist()"
   ]
  },
  {
   "cell_type": "code",
   "execution_count": 77,
   "metadata": {
    "collapsed": true
   },
   "outputs": [
    {
     "data": {
      "text/plain": [
       "array([[-1.24250063e+00, -5.16454156e-01,  1.34492658e+00,\n",
       "         2.24410764e+00,  4.62112889e-01,  4.29197538e-01,\n",
       "        -2.34735787e-01, -3.96704047e-01,  1.76578843e-01,\n",
       "        -2.01861669e-01,  3.77591115e-01, -1.12134042e+00,\n",
       "         2.23606798e-01,  1.27006795e+00],\n",
       "       [ 6.48354411e-01,  5.76946590e-01, -9.34664108e-01,\n",
       "         4.41066521e+00, -5.93554464e-01, -2.14598769e+00,\n",
       "        -1.00987744e+00, -5.15715261e-01,  7.51486705e-01,\n",
       "        -1.79294292e+00,  7.29408092e-01, -2.79073883e+00,\n",
       "         2.23606798e-01, -1.87387074e-01],\n",
       "       [ 1.07283207e+00, -1.37847134e+00,  1.81664860e-01,\n",
       "         1.68990822e+00,  6.49482419e-01,  4.29197538e-01,\n",
       "         1.89971223e+00,  1.09093613e+00, -6.57037557e-01,\n",
       "        -4.29158990e-01,  7.56470937e-01,  2.29312968e-03,\n",
       "         2.23606798e-01,  9.78576942e-01],\n",
       "       [ 7.29819821e-01, -1.78679527e+00,  7.51562532e-01,\n",
       "         1.59883687e+00, -9.08557245e-02,  4.29197538e-01,\n",
       "         2.97142982e+00, -2.18187226e-01,  3.77796595e-01,\n",
       "        -6.56456311e-01, -1.90728618e-01, -1.02502897e+00,\n",
       "         2.23606798e-01,  1.27006795e+00],\n",
       "       [-1.24250063e+00, -1.19699404e+00,  1.85783448e+00,\n",
       "         1.43110227e+00,  3.06733278e-01, -8.58395075e-01,\n",
       "         1.94689477e+00,  2.28104827e-01,  7.22741312e-01,\n",
       "         1.61814045e-01, -2.71917151e-01,  9.97511412e-01,\n",
       "         2.23606798e-01,  1.75588629e+00],\n",
       "       [-7.27982255e-01, -1.08130226e-01,  6.50992354e-01,\n",
       "         9.53276685e-01, -2.05105438e-01,  4.29197538e-01,\n",
       "         8.21254286e-01, -1.88434422e-01,  9.03426640e-02,\n",
       "         4.57300563e-01,  7.56470937e-01,  8.36992335e-01,\n",
       "         2.23606798e-01,  1.17290428e+00],\n",
       "       [-3.84970002e-01,  8.44625610e-01, -3.21186027e-01,\n",
       "         8.47964532e-01, -2.91935220e-01,  1.71679015e+00,\n",
       "        -6.34663943e-01, -7.23984885e-01, -1.08821845e+00,\n",
       "         7.30057348e-01,  2.57741375e-02,  7.72784703e-01,\n",
       "         2.23606798e-01, -1.06186009e+00],\n",
       "       [-6.85105723e-01,  1.02610291e+00, -2.20615849e-01,\n",
       "         6.42739354e-01, -6.80057818e-02, -8.58395075e-01,\n",
       "        -3.02139409e-01, -9.91760117e-01,  1.06768603e+00,\n",
       "         6.39138420e-01,  3.50528270e-01,  6.12265626e-01,\n",
       "         2.23606798e-01,  6.94026200e-03],\n",
       "       [-4.70723065e-01,  3.45563029e-01,  1.48141468e-01,\n",
       "        -5.96473381e-03, -2.50805323e-01, -8.58395075e-01,\n",
       "         1.78673092e-01, -4.26456850e-01,  2.34069630e-01,\n",
       "         1.00281413e+00,  6.21156714e-01,  8.04888519e-01,\n",
       "         2.23606798e-01,  6.94026200e-03],\n",
       "       [ 6.44066757e-01,  1.29831887e+00, -1.46098137e+00,\n",
       "        -7.92686806e-02,  1.68686982e+00,  4.29197538e-01,\n",
       "         1.56269413e+00, -6.94232082e-02, -2.54602053e-01,\n",
       "        -6.79186043e-01,  4.04653959e-01, -2.54537395e-01,\n",
       "         2.23606798e-01,  6.87085938e-01],\n",
       "       [ 3.01054504e-01, -8.34039434e-01,  3.82805215e-01,\n",
       "        -2.72575207e-01,  1.11562125e+00, -8.58395075e-01,\n",
       "         2.34906971e+00, -4.56209654e-01,  9.03426640e-02,\n",
       "         7.07327616e-01,  2.69339737e-01,  7.40680888e-01,\n",
       "         2.23606798e-01,  5.89922270e-01],\n",
       "       [-4.27846534e-01, -2.44238202e-01,  5.16898784e-01,\n",
       "        -3.03274252e-01,  5.44046255e-04, -8.58395075e-01,\n",
       "        -5.24571361e-01, -1.05126572e+00,  8.37722885e-01,\n",
       "         8.43706009e-01,  4.31716804e-01, -8.32406075e-01,\n",
       "         2.23606798e-01,  2.98431266e-01],\n",
       "       [-9.42364913e-01, -3.34976853e-01,  9.86226279e-01,\n",
       "        -3.13241623e-01, -2.64515289e-01, -8.58395075e-01,\n",
       "         6.63337230e-02, -6.04973671e-01,  6.93995919e-01,\n",
       "         6.16408688e-01,  4.31716804e-01, -6.71886997e-01,\n",
       "         2.23606798e-01,  5.89922270e-01],\n",
       "       [-1.19962410e+00, -5.61823481e-01,  1.35498360e+00,\n",
       "        -3.21131975e-01, -1.27415633e-01,  4.29197538e-01,\n",
       "        -3.26854070e-01, -1.25953535e+00,  5.79014347e-01,\n",
       "        -1.79294292e+00,  8.10596625e-01, -6.39783182e-01,\n",
       "         2.23606798e-01,  2.01267598e-01],\n",
       "       [ 4.72560631e-01, -1.65068729e+00,  8.18609316e-01,\n",
       "        -3.24528858e-01, -5.20434647e-01,  4.29197538e-01,\n",
       "         1.09311556e+00, -1.85459142e+00, -1.08821845e+00,\n",
       "        -1.79294292e+00, -2.08512773e+00, -2.79073883e+00,\n",
       "         2.23606798e-01,  6.87085938e-01],\n",
       "       [-8.99488382e-01,  4.36301680e-01,  3.82805215e-01,\n",
       "        -3.39829332e-01, -1.45695587e-01, -8.58395075e-01,\n",
       "         1.76939856e+00, -1.46780497e+00,  7.51486705e-01,\n",
       "         3.66381634e-01,  3.50528270e-01, -2.86641210e-01,\n",
       "         2.23606798e-01, -3.81714410e-01],\n",
       "       [ 1.29548378e-01,  1.07147224e+00, -8.91083698e-01,\n",
       "        -3.47185736e-01, -4.19894899e-01, -2.14598769e+00,\n",
       "        -1.16715255e+00, -1.85459142e+00, -1.08821845e+00,\n",
       "         4.11841099e-01, -2.08512773e+00,  2.29312968e-03,\n",
       "        -4.47213595e+00, -4.78878078e-01],\n",
       "       [-9.85241445e-01,  2.54824378e-01,  5.83945569e-01,\n",
       "        -3.62626033e-01, -1.36555610e-01,  4.29197538e-01,\n",
       "        -3.96504479e-01, -1.02151292e+00,  1.35513996e+00,\n",
       "        -1.79294292e+00,  3.77591115e-01,  5.48057994e-01,\n",
       "         2.23606798e-01,  5.89922270e-01],\n",
       "       [ 4.37953145e-02,  2.79777507e-02, -1.94754947e-02,\n",
       "        -3.72004273e-01, -1.77685507e-01, -8.58395075e-01,\n",
       "        -8.16653722e-01, -3.66951243e-01, -1.08821845e+00,\n",
       "         6.39138420e-01, -2.08512773e+00,  6.44369441e-01,\n",
       "         2.23606798e-01, -1.87387074e-01],\n",
       "       [-6.42229192e-01,  2.54824378e-01,  3.15758430e-01,\n",
       "        -3.74888891e-01,  3.66143129e-01,  4.29197538e-01,\n",
       "         1.02282321e-01, -6.04973671e-01, -1.08821845e+00,\n",
       "         6.84597884e-01,  3.50528270e-01, -1.85972817e+00,\n",
       "         2.23606798e-01,  7.84249606e-01],\n",
       "       [-9.42364913e-01, -5.16454156e-01,  1.12031985e+00,\n",
       "        -4.34365958e-01, -3.42205094e-01, -8.58395075e-01,\n",
       "         3.48786995e-02, -9.91760117e-03, -1.08821845e+00,\n",
       "         6.84597884e-01,  7.83533781e-01,  7.72784703e-01,\n",
       "         2.23606798e-01, -1.87387074e-01],\n",
       "       [ 4.37953145e-02, -1.06088606e+00,  7.51562532e-01,\n",
       "        -4.74672411e-01, -8.59593082e-03,  4.29197538e-01,\n",
       "        -1.85306465e-01,  1.38846416e+00, -1.08821845e+00,\n",
       "         6.84597884e-01,  4.31716804e-01,  6.12265626e-01,\n",
       "         2.23606798e-01,  3.95594934e-01],\n",
       "       [ 9.18782821e-04, -1.69605662e+00,  1.25441342e+00,\n",
       "        -4.83439035e-01, -5.52424567e-01,  4.29197538e-01,\n",
       "        -2.50463299e-01, -1.25953535e+00,  1.09643142e+00,\n",
       "         6.16408688e-01,  7.02345248e-01, -8.96613706e-01,\n",
       "         2.23606798e-01,  2.01267598e-01],\n",
       "       [-4.27846534e-01,  1.57053482e+00, -7.90513521e-01,\n",
       "        -4.86265402e-01, -1.13705667e-01, -8.58395075e-01,\n",
       "        -8.79563768e-01, -7.53737689e-01,  1.70008468e+00,\n",
       "         6.84597884e-01, -2.44854307e-01, -1.90329764e-01,\n",
       "         2.23606798e-01, -2.84550742e-01],\n",
       "       [ 6.01190226e-01, -3.34976853e-01, -2.20615849e-01,\n",
       "        -4.87604055e-01, -5.66134533e-01,  4.29197538e-01,\n",
       "        -6.63872179e-01, -6.94232082e-02, -1.08821845e+00,\n",
       "        -1.79294292e+00, -2.08512773e+00, -8.64509891e-01,\n",
       "        -4.47213595e+00,  6.87085938e-01],\n",
       "       [ 2.23049843e+00, -7.88670109e-01, -1.19279423e+00,\n",
       "        -5.04457222e-01, -3.05645186e-01,  4.29197538e-01,\n",
       "         2.05634541e-01,  1.38846416e-01, -1.08821845e+00,\n",
       "        -1.79294292e+00, -2.08512773e+00,  7.40680888e-01,\n",
       "         2.23606798e-01,  1.04103930e-01],\n",
       "       [-7.27982255e-01, -2.44238202e-01,  7.51562532e-01,\n",
       "        -5.33478706e-01, -3.01075197e-01, -8.58395075e-01,\n",
       "        -2.50463299e-01, -9.02501706e-01, -1.08821845e+00,\n",
       "         6.84597884e-01,  7.02345248e-01,  7.40680888e-01,\n",
       "         2.23606798e-01, -3.81714410e-01],\n",
       "       [-2.99216939e-01,  3.29456919e+00, -2.19849600e+00,\n",
       "        -5.35964352e-01, -7.25757704e-02,  1.71679015e+00,\n",
       "        -4.99856699e-01,  1.26945295e+00, -1.08821845e+00,\n",
       "        -1.79294292e+00,  7.56470937e-01,  7.72784703e-01,\n",
       "         2.23606798e-01, -6.73205414e-01],\n",
       "       [-9.85241445e-01,  1.43442684e+00, -2.87662634e-01,\n",
       "        -5.62218836e-01, -3.42205094e-01,  1.71679015e+00,\n",
       "         7.98144473e-02,  3.47116041e-01,  1.58510311e+00,\n",
       "         6.39138420e-01,  4.04653959e-01,  8.04888519e-01,\n",
       "         2.23606798e-01, -7.70369082e-01],\n",
       "       [ 4.29684099e-01,  1.25294954e+00, -1.42745798e+00,\n",
       "        -5.76268121e-01, -1.54835564e-01,  1.71679015e+00,\n",
       "        -6.79599691e-01,  1.38846416e+00, -1.08821845e+00,\n",
       "         6.39138420e-01,  8.10596625e-01,  8.36992335e-01,\n",
       "         2.23606798e-01, -1.87387074e-01],\n",
       "       [-6.85105723e-01,  2.79777507e-02,  5.16898784e-01,\n",
       "        -5.81689106e-01, -4.38174853e-01, -8.58395075e-01,\n",
       "        -3.60555881e-01, -6.04973671e-01, -5.42055984e-01,\n",
       "         6.16408688e-01, -8.67299728e-01, -4.15056473e-01,\n",
       "         2.23606798e-01, -6.73205414e-01],\n",
       "       [ 3.68830050e+00,  2.79777507e-02, -2.86896385e+00,\n",
       "        -6.03961585e-01, -2.55375312e-01,  1.71679015e+00,\n",
       "        -1.26889993e-01,  1.80500341e+00,  8.95213671e-01,\n",
       "         6.16408688e-01,  7.56470937e-01,  8.04888519e-01,\n",
       "         2.23606798e-01,  1.04103930e-01],\n",
       "       [-5.99352660e-01, -6.27609003e-02,  5.50422177e-01,\n",
       "        -6.04116223e-01, -1.63975541e-01, -8.58395075e-01,\n",
       "         3.60662871e-01,  1.29920575e+00,  1.58510311e+00,\n",
       "        -1.79294292e+00, -2.98979995e-01,  7.40680888e-01,\n",
       "         2.23606798e-01, -3.81714410e-01],\n",
       "       [-4.27846534e-01, -6.07192807e-01,  7.85085924e-01,\n",
       "        -6.10835110e-01, -4.97584704e-01, -8.58395075e-01,\n",
       "        -7.73964761e-01,  7.63655290e-01,  3.20305809e-01,\n",
       "         6.61868152e-01,  7.56470937e-01,  7.08577072e-01,\n",
       "         2.23606798e-01, -1.87387074e-01],\n",
       "       [ 9.18782821e-04, -8.79408760e-01,  6.84515747e-01,\n",
       "        -6.30344876e-01, -4.93014716e-01, -8.58395075e-01,\n",
       "        -4.90869550e-01,  1.38846416e+00,  8.66468278e-01,\n",
       "         6.84597884e-01,  7.56470937e-01,  7.08577072e-01,\n",
       "         2.23606798e-01, -1.87387074e-01],\n",
       "       [ 7.29819821e-01,  4.36301680e-01, -8.91083698e-01,\n",
       "        -6.54693398e-01, -4.19894899e-01,  1.71679015e+00,\n",
       "        -6.66118966e-01,  1.06118333e+00,  2.04502939e+00,\n",
       "         6.84597884e-01,  7.98998263e-02,  7.08577072e-01,\n",
       "         2.23606798e-01, -4.36542480e+00],\n",
       "       [ 4.37953145e-02,  1.38905752e+00, -1.05870066e+00,\n",
       "        -6.54766185e-01,  4.71252866e-01,  4.29197538e-01,\n",
       "        -6.77352903e-01,  1.32895856e+00,  9.52704457e-01,\n",
       "        -1.79294292e+00, -2.08512773e+00,  6.12265626e-01,\n",
       "         2.23606798e-01, -1.87387074e-01],\n",
       "       [-8.56611850e-01, -1.73915748e-02,  6.50992354e-01,\n",
       "        -6.61195561e-01,  5.67189982e+00, -8.58395075e-01,\n",
       "        -9.67188477e-01,  1.12068893e+00, -1.08821845e+00,\n",
       "         7.30057348e-01, -2.08512773e+00,  7.40680888e-01,\n",
       "         2.23606798e-01, -7.70369082e-01],\n",
       "       [ 1.58735045e+00, -2.89607528e-01, -1.02517727e+00,\n",
       "        -6.64692003e-01, -6.20974395e-01,  4.29197538e-01,\n",
       "        -1.16715255e+00,  1.06118333e+00, -1.08821845e+00,\n",
       "         5.70949224e-01,  3.23465426e-01,  6.12265626e-01,\n",
       "         2.23606798e-01, -9.02234060e-02],\n",
       "       [-1.70587344e-01,  3.90932355e-01, -1.53569064e-01,\n",
       "         6.39097999e-01, -6.16404406e-01,  4.29197538e-01,\n",
       "         5.47146225e-01,  1.29920575e+00,  9.03426640e-02,\n",
       "         6.16408688e-01,  7.83533781e-01,  3.87538917e-01,\n",
       "         2.23606798e-01,  6.87085938e-01],\n",
       "       [ 1.11570861e+00, -2.89607528e-01, -6.56419951e-01,\n",
       "         2.12334351e-01, -6.20974395e-01,  4.29197538e-01,\n",
       "        -9.73928839e-01,  1.09093613e+00, -1.08821845e+00,\n",
       "         4.11841099e-01,  6.75282403e-01, -6.07679366e-01,\n",
       "         2.23606798e-01,  8.81413274e-01],\n",
       "       [ 1.45872086e+00, -5.61823481e-01, -7.23466736e-01,\n",
       "        -5.08485381e-01, -5.52424567e-01,  4.29197538e-01,\n",
       "        -9.62694902e-01, -3.96704047e-01, -1.08821845e+00,\n",
       "         6.16408688e-01,  7.02345248e-01, -2.02024725e+00,\n",
       "         2.23606798e-01, -2.32498777e+00]])"
      ]
     },
     "execution_count": 77,
     "metadata": {},
     "output_type": "execute_result"
    }
   ],
   "source": [
    "X"
   ]
  },
  {
   "cell_type": "code",
   "execution_count": 78,
   "metadata": {
    "collapsed": true
   },
   "outputs": [
    {
     "data": {
      "text/plain": [
       "[80.0,\n",
       " 69.0,\n",
       " 80.0,\n",
       " 79.0,\n",
       " 88.0,\n",
       " 80.0,\n",
       " 60.0,\n",
       " 59.0,\n",
       " 69.0,\n",
       " 76.0,\n",
       " 76.0,\n",
       " 57.0,\n",
       " 57.0,\n",
       " 55.0,\n",
       " 60.0,\n",
       " 64.0,\n",
       " 65.0,\n",
       " 63.0,\n",
       " 64.0,\n",
       " 92.0,\n",
       " 59.0,\n",
       " 75.0,\n",
       " 71.0,\n",
       " 67.0,\n",
       " 72.0,\n",
       " 70.0,\n",
       " 74.0,\n",
       " 47.0,\n",
       " 55.0,\n",
       " 50.0,\n",
       " 46.0,\n",
       " 64.78048780487805,\n",
       " 62.0,\n",
       " 55.0,\n",
       " 54.0,\n",
       " 31.0,\n",
       " 70.0,\n",
       " 48.0,\n",
       " 51.0,\n",
       " 77.0,\n",
       " 83.0,\n",
       " 46.0]"
      ]
     },
     "execution_count": 78,
     "metadata": {},
     "output_type": "execute_result"
    }
   ],
   "source": [
    "Y"
   ]
  },
  {
   "cell_type": "code",
   "execution_count": 79,
   "metadata": {},
   "outputs": [],
   "source": [
    "x_train, x_test, y_train, y_test = train_test_split(X,Y, test_size = 0.2, random_state=0)"
   ]
  },
  {
   "cell_type": "code",
   "execution_count": 80,
   "metadata": {},
   "outputs": [
    {
     "data": {
      "text/plain": [
       "(33, 14)"
      ]
     },
     "execution_count": 80,
     "metadata": {},
     "output_type": "execute_result"
    }
   ],
   "source": [
    "x_train.shape"
   ]
  },
  {
   "cell_type": "code",
   "execution_count": 81,
   "metadata": {},
   "outputs": [],
   "source": [
    "regr = LinearRegression()"
   ]
  },
  {
   "cell_type": "code",
   "execution_count": 82,
   "metadata": {},
   "outputs": [
    {
     "data": {
      "text/plain": [
       "LinearRegression(copy_X=True, fit_intercept=True, n_jobs=None, normalize=False)"
      ]
     },
     "execution_count": 82,
     "metadata": {},
     "output_type": "execute_result"
    }
   ],
   "source": [
    "regr.fit(x_train,y_train)"
   ]
  },
  {
   "cell_type": "code",
   "execution_count": 83,
   "metadata": {},
   "outputs": [],
   "source": [
    "y_predict = regr.predict(x_test)"
   ]
  },
  {
   "cell_type": "code",
   "execution_count": 84,
   "metadata": {},
   "outputs": [
    {
     "data": {
      "text/plain": [
       "Text(0, 0.5, 'Predicted days')"
      ]
     },
     "execution_count": 84,
     "metadata": {},
     "output_type": "execute_result"
    },
    {
     "data": {
      "image/png": "[encoded data removed]",
      "text/plain": [
       "<Figure size 432x288 with 1 Axes>"
      ]
     },
     "metadata": {
      "needs_background": "light"
     },
     "output_type": "display_data"
    }
   ],
   "source": [
    "plt.scatter(y_test, y_predict)\n",
    "plt.plot([0,100],[0,100],\"r\")\n",
    "plt.xlabel(\"Actual days\")\n",
    "plt.ylabel(\"Predicted days\")"
   ]
  },
  {
   "cell_type": "markdown",
   "metadata": {},
   "source": [
    "### Checking the model performance"
   ]
  },
  {
   "cell_type": "code",
   "execution_count": 85,
   "metadata": {},
   "outputs": [],
   "source": [
    "from sklearn.metrics import mean_squared_error\n",
    "from sklearn.metrics import r2_score"
   ]
  },
  {
   "cell_type": "code",
   "execution_count": 86,
   "metadata": {},
   "outputs": [],
   "source": [
    "lin_mse = mean_squared_error(y_test, y_predict)\n",
    "lin_rmse = np.sqrt(lin_mse)\n",
    "lin_r2 = r2_score(y_test, y_predict)"
   ]
  },
  {
   "cell_type": "code",
   "execution_count": 87,
   "metadata": {},
   "outputs": [
    {
     "name": "stdout",
     "output_type": "stream",
     "text": [
      "RMSE: 14.37924567879152, R2: -0.06281122030553443\n"
     ]
    }
   ],
   "source": [
    "print(f\"RMSE: {lin_rmse}, R2: {lin_r2}\")"
   ]
  },
  {
   "cell_type": "markdown",
   "metadata": {},
   "source": [
    "#### Model performance isn't good. \n",
    "**Check the correlation between features and output, also try with different models**\n",
    "- Lasso/ Ridge regression\n",
    "- Desicion Tree\n",
    "- RNN"
   ]
  },
  {
   "cell_type": "code",
   "execution_count": 88,
   "metadata": {},
   "outputs": [
    {
     "data": {
      "image/png": "[encoded data removed]",
      "text/plain": [
       "<Figure size 720x864 with 15 Axes>"
      ]
     },
     "metadata": {
      "needs_background": "light"
     },
     "output_type": "display_data"
    }
   ],
   "source": [
    "days_to_stability = covid_data.iloc[1:,-1].to_numpy()\n",
    "plt.figure(figsize=(10,12))\n",
    "for i, feature in enumerate(covid_data.columns):\n",
    "    plt.subplot(5,3,i+1)\n",
    "    features = covid_data.iloc[1:,i].to_numpy()\n",
    "    plt.scatter(features, days_to_stability, s=2)\n",
    "    plt.ylabel(\"Days\")\n",
    "    plt.xlabel(feature)\n",
    "    plt.tight_layout()"
   ]
  },
  {
   "cell_type": "markdown",
   "metadata": {},
   "source": [
    "### Ridge regression"
   ]
  },
  {
   "cell_type": "code",
   "execution_count": 89,
   "metadata": {},
   "outputs": [],
   "source": [
    "from sklearn.linear_model import Ridge\n",
    "from sklearn.model_selection import GridSearchCV"
   ]
  },
  {
   "cell_type": "code",
   "execution_count": 90,
   "metadata": {},
   "outputs": [],
   "source": [
    "ridge=Ridge(normalize=True)\n",
    "parameters={'alpha':[1e-15,1e-10,1e-8,1e-3,1e-2,1,5,10,20,30,35,40,45,50,55,100]}\n",
    "ridge_regressor=GridSearchCV(ridge,parameters,scoring='neg_mean_squared_error',cv=5)"
   ]
  },
  {
   "cell_type": "code",
   "execution_count": 91,
   "metadata": {},
   "outputs": [
    {
     "name": "stderr",
     "output_type": "stream",
     "text": [
      "//anaconda3/lib/python3.7/site-packages/sklearn/model_selection/_search.py:813: DeprecationWarning: The default of the `iid` parameter will change from True to False in version 0.22 and will be removed in 0.24. This will change numeric results when test-set sizes are unequal.\n",
      "  DeprecationWarning)\n"
     ]
    },
    {
     "data": {
      "text/plain": [
       "GridSearchCV(cv=5, error_score='raise-deprecating',\n",
       "             estimator=Ridge(alpha=1.0, copy_X=True, fit_intercept=True,\n",
       "                             max_iter=None, normalize=True, random_state=None,\n",
       "                             solver='auto', tol=0.001),\n",
       "             iid='warn', n_jobs=None,\n",
       "             param_grid={'alpha': [1e-15, 1e-10, 1e-08, 0.001, 0.01, 1, 5, 10,\n",
       "                                   20, 30, 35, 40, 45, 50, 55, 100]},\n",
       "             pre_dispatch='2*n_jobs', refit=True, return_train_score=False,\n",
       "             scoring='neg_mean_squared_error', verbose=0)"
      ]
     },
     "execution_count": 91,
     "metadata": {},
     "output_type": "execute_result"
    }
   ],
   "source": [
    "ridge_regressor.fit(x_train,y_train)"
   ]
  },
  {
   "cell_type": "code",
   "execution_count": 92,
   "metadata": {},
   "outputs": [],
   "source": [
    "y_predict_ridge = ridge_regressor.predict(x_test)"
   ]
  },
  {
   "cell_type": "code",
   "execution_count": 93,
   "metadata": {},
   "outputs": [
    {
     "data": {
      "text/plain": [
       "Text(0, 0.5, 'Predicted days')"
      ]
     },
     "execution_count": 93,
     "metadata": {},
     "output_type": "execute_result"
    },
    {
     "data": {
      "image/png": "[encoded data removed]",
      "text/plain": [
       "<Figure size 432x288 with 1 Axes>"
      ]
     },
     "metadata": {
      "needs_background": "light"
     },
     "output_type": "display_data"
    }
   ],
   "source": [
    "plt.scatter(y_test, y_predict_ridge)\n",
    "plt.plot([0,100],[0,100],\"r\")\n",
    "plt.xlabel(\"Actual days\")\n",
    "plt.ylabel(\"Predicted days\")"
   ]
  },
  {
   "cell_type": "code",
   "execution_count": 94,
   "metadata": {},
   "outputs": [],
   "source": [
    "ridge_mse = mean_squared_error(y_test, y_predict_ridge)\n",
    "ridge_rmse = np.sqrt(ridge_mse)\n",
    "ridge_r2 = r2_score(y_test, y_predict_ridge)"
   ]
  },
  {
   "cell_type": "code",
   "execution_count": 95,
   "metadata": {},
   "outputs": [
    {
     "name": "stdout",
     "output_type": "stream",
     "text": [
      "RMSE: 14.361292184764999, R2: -0.060158888850841974\n"
     ]
    }
   ],
   "source": [
    "print(f\"RMSE: {ridge_rmse}, R2: {ridge_r2}\")"
   ]
  },
  {
   "cell_type": "markdown",
   "metadata": {},
   "source": [
    "### Lasso Regression"
   ]
  },
  {
   "cell_type": "code",
   "execution_count": 96,
   "metadata": {},
   "outputs": [],
   "source": [
    "from sklearn.linear_model import Lasso\n",
    "from sklearn.model_selection import GridSearchCV"
   ]
  },
  {
   "cell_type": "code",
   "execution_count": 97,
   "metadata": {},
   "outputs": [],
   "source": [
    "lasso=Lasso(normalize=True)\n",
    "parameters={'alpha':[1e-15,1e-10,1e-8,1e-3,1e-2,1,5,10,20,30,35,40,45,50,55,100]}\n",
    "lasso_regressor=GridSearchCV(lasso,parameters,scoring='neg_mean_squared_error',cv=5)"
   ]
  },
  {
   "cell_type": "code",
   "execution_count": 98,
   "metadata": {},
   "outputs": [],
   "source": [
    "import warnings\n",
    "warnings.filterwarnings('ignore')"
   ]
  },
  {
   "cell_type": "code",
   "execution_count": 99,
   "metadata": {},
   "outputs": [
    {
     "data": {
      "text/plain": [
       "GridSearchCV(cv=5, error_score='raise-deprecating',\n",
       "             estimator=Lasso(alpha=1.0, copy_X=True, fit_intercept=True,\n",
       "                             max_iter=1000, normalize=True, positive=False,\n",
       "                             precompute=False, random_state=None,\n",
       "                             selection='cyclic', tol=0.0001, warm_start=False),\n",
       "             iid='warn', n_jobs=None,\n",
       "             param_grid={'alpha': [1e-15, 1e-10, 1e-08, 0.001, 0.01, 1, 5, 10,\n",
       "                                   20, 30, 35, 40, 45, 50, 55, 100]},\n",
       "             pre_dispatch='2*n_jobs', refit=True, return_train_score=False,\n",
       "             scoring='neg_mean_squared_error', verbose=0)"
      ]
     },
     "execution_count": 99,
     "metadata": {},
     "output_type": "execute_result"
    }
   ],
   "source": [
    "lasso_regressor.fit(x_train,y_train)"
   ]
  },
  {
   "cell_type": "code",
   "execution_count": 100,
   "metadata": {},
   "outputs": [],
   "source": [
    "y_predict_lasso = lasso_regressor.predict(x_test)"
   ]
  },
  {
   "cell_type": "code",
   "execution_count": 101,
   "metadata": {},
   "outputs": [
    {
     "data": {
      "text/plain": [
       "Text(0, 0.5, 'Predicted days')"
      ]
     },
     "execution_count": 101,
     "metadata": {},
     "output_type": "execute_result"
    },
    {
     "data": {
      "image/png": "[encoded data removed]",
      "text/plain": [
       "<Figure size 432x288 with 1 Axes>"
      ]
     },
     "metadata": {
      "needs_background": "light"
     },
     "output_type": "display_data"
    }
   ],
   "source": [
    "plt.scatter(y_test, y_predict_lasso)\n",
    "plt.plot([0,100],[0,100],\"r\")\n",
    "plt.xlabel(\"Actual days\")\n",
    "plt.ylabel(\"Predicted days\")"
   ]
  },
  {
   "cell_type": "code",
   "execution_count": 102,
   "metadata": {},
   "outputs": [],
   "source": [
    "lasso_mse = mean_squared_error(y_test, y_predict_lasso)\n",
    "lasso_rmse = np.sqrt(lasso_mse)\n",
    "lasso_r2 = r2_score(y_test, y_predict_lasso)"
   ]
  },
  {
   "cell_type": "code",
   "execution_count": 103,
   "metadata": {},
   "outputs": [
    {
     "name": "stdout",
     "output_type": "stream",
     "text": [
      "RMSE: 12.096687915499894, R2: 0.24782849723790512\n"
     ]
    }
   ],
   "source": [
    "print(f\"RMSE: {lasso_rmse}, R2: {lasso_r2}\")"
   ]
  },
  {
   "cell_type": "markdown",
   "metadata": {},
   "source": [
    "### Decision tree"
   ]
  },
  {
   "cell_type": "code",
   "execution_count": 104,
   "metadata": {},
   "outputs": [
    {
     "data": {
      "text/plain": [
       "DecisionTreeRegressor(criterion='mse', max_depth=None, max_features=None,\n",
       "                      max_leaf_nodes=None, min_impurity_decrease=0.0,\n",
       "                      min_impurity_split=None, min_samples_leaf=1,\n",
       "                      min_samples_split=2, min_weight_fraction_leaf=0.0,\n",
       "                      presort=False, random_state=42, splitter='best')"
      ]
     },
     "execution_count": 104,
     "metadata": {},
     "output_type": "execute_result"
    }
   ],
   "source": [
    "from sklearn.tree import DecisionTreeRegressor\n",
    "tree_reg = DecisionTreeRegressor(random_state=42)\n",
    "tree_reg.fit(x_train,y_train)"
   ]
  },
  {
   "cell_type": "code",
   "execution_count": 105,
   "metadata": {},
   "outputs": [],
   "source": [
    "tree_reg_prediction = tree_reg.predict(x_test)"
   ]
  },
  {
   "cell_type": "code",
   "execution_count": 106,
   "metadata": {},
   "outputs": [
    {
     "data": {
      "text/plain": [
       "Text(0, 0.5, 'Predicted days')"
      ]
     },
     "execution_count": 106,
     "metadata": {},
     "output_type": "execute_result"
    },
    {
     "data": {
      "image/png": "[encoded data removed]",
      "text/plain": [
       "<Figure size 432x288 with 1 Axes>"
      ]
     },
     "metadata": {
      "needs_background": "light"
     },
     "output_type": "display_data"
    }
   ],
   "source": [
    "plt.scatter(y_test, tree_reg_prediction)\n",
    "plt.plot([0,100],[0,100],\"r\")\n",
    "plt.xlabel(\"Actual days\")\n",
    "plt.ylabel(\"Predicted days\")"
   ]
  },
  {
   "cell_type": "code",
   "execution_count": 107,
   "metadata": {},
   "outputs": [],
   "source": [
    "tree_mse = mean_squared_error(y_test, tree_reg_prediction)\n",
    "tree_rmse = np.sqrt(tree_mse)\n",
    "tree_r2 = r2_score(y_test, tree_reg_prediction)"
   ]
  },
  {
   "cell_type": "code",
   "execution_count": 108,
   "metadata": {},
   "outputs": [
    {
     "name": "stdout",
     "output_type": "stream",
     "text": [
      "RMSE: 13.848385385227326, R2: 0.014215001903794988\n"
     ]
    }
   ],
   "source": [
    "print(f\"RMSE: {tree_rmse}, R2: {tree_r2}\")"
   ]
  },
  {
   "cell_type": "markdown",
   "metadata": {},
   "source": [
    "#### Result \n",
    "- linear Regression: RMSE: 14.37924567879152, R2: -0.06281122030553443\n",
    "- Ridge Regression: RMSE: 14.361292184765, R2: -0.06015888885084242\n",
    "- Lasso Regression: RMSE: 12.096687915499892, R2: 0.24782849723790523\n",
    "- Decision tree: RMSE: 13.848385385227326, R2: 0.014215001903794988\n",
    "- **Conclusion: Lasso Regression has the best performance in machine learning**"
   ]
  },
  {
   "cell_type": "code",
   "execution_count": 109,
   "metadata": {},
   "outputs": [],
   "source": [
    "import seaborn as sns"
   ]
  },
  {
   "cell_type": "markdown",
   "metadata": {},
   "source": [
    "#### Plotting the performance"
   ]
  },
  {
   "cell_type": "code",
   "execution_count": 110,
   "metadata": {},
   "outputs": [
    {
     "data": {
      "text/plain": [
       "<matplotlib.axes._subplots.AxesSubplot at 0x11e99c9b0>"
      ]
     },
     "execution_count": 110,
     "metadata": {},
     "output_type": "execute_result"
    },
    {
     "data": {
      "image/png": "[encoded data removed]",
      "text/plain": [
       "<Figure size 720x576 with 4 Axes>"
      ]
     },
     "metadata": {
      "needs_background": "light"
     },
     "output_type": "display_data"
    }
   ],
   "source": [
    "plt.figure(figsize=(10, 8))\n",
    "\n",
    "plt.subplot(2, 2, 1)\n",
    "sns.set_style('dark')\n",
    "plt.title('Simple Linear Regression');\n",
    "sns.distplot(y_test - y_predict, kde=True)\n",
    "\n",
    "plt.subplot(2, 2, 2)\n",
    "sns.set_style('dark')\n",
    "plt.title('Ridge Regression')\n",
    "sns.distplot(y_test-y_predict_ridge, kde = True)\n",
    "\n",
    "plt.subplot(2, 2, 3)\n",
    "sns.set_style('dark')\n",
    "plt.title('Lasso Regression')\n",
    "sns.distplot(y_test-y_predict_lasso, kde = True)\n",
    "\n",
    "plt.subplot(2, 2, 4)\n",
    "sns.set_style('dark')\n",
    "plt.title('Decision Tree')\n",
    "sns.distplot(y_test-tree_reg_prediction, kde = True)"
   ]
  },
  {
   "cell_type": "markdown",
   "metadata": {},
   "source": [
    "#### Use Lasso Regression to predict when will USA control the pandamic"
   ]
  },
  {
   "cell_type": "code",
   "execution_count": 111,
   "metadata": {},
   "outputs": [],
   "source": [
    "# build a Lasso model\n",
    "lasso=Lasso(normalize=True)\n",
    "parameters={'alpha':[1e-15,1e-10,1e-8,1e-3,1e-2,1,5,10,20,30,35,40,45,50,55,100]}\n",
    "lasso_regressor_usa=GridSearchCV(lasso,parameters,scoring='neg_mean_squared_error',cv=5)"
   ]
  },
  {
   "cell_type": "code",
   "execution_count": 112,
   "metadata": {},
   "outputs": [],
   "source": [
    "import warnings\n",
    "warnings.filterwarnings('ignore')"
   ]
  },
  {
   "cell_type": "code",
   "execution_count": 126,
   "metadata": {},
   "outputs": [],
   "source": [
    "usa = covid_data.loc[\"USA\",:\"Days to Peak\"]"
   ]
  },
  {
   "cell_type": "code",
   "execution_count": 128,
   "metadata": {},
   "outputs": [],
   "source": [
    "x_usa = usa.values.reshape(1,14)"
   ]
  },
  {
   "cell_type": "code",
   "execution_count": 129,
   "metadata": {},
   "outputs": [],
   "source": [
    "y_predict_usa = lasso_regressor.predict(x_usa)"
   ]
  },
  {
   "cell_type": "code",
   "execution_count": 130,
   "metadata": {},
   "outputs": [
    {
     "data": {
      "text/plain": [
       "array([431.42153959])"
      ]
     },
     "execution_count": 130,
     "metadata": {},
     "output_type": "execute_result"
    }
   ],
   "source": [
    "y_predict_usa"
   ]
  },
  {
   "cell_type": "code",
   "execution_count": 131,
   "metadata": {},
   "outputs": [],
   "source": [
    "usa_starting_date = covid_original.loc[(covid_original[\"location\"] ==\"United States\")&(covid_original[\"total_cases\"]>=30), [\"date\",\"total_cases\"]]"
   ]
  },
  {
   "cell_type": "code",
   "execution_count": 136,
   "metadata": {},
   "outputs": [],
   "source": [
    "usa_start = usa_starting_date[\"date\"].tolist()"
   ]
  },
  {
   "cell_type": "code",
   "execution_count": 137,
   "metadata": {},
   "outputs": [
    {
     "data": {
      "text/plain": [
       "'2020-02-22'"
      ]
     },
     "execution_count": 137,
     "metadata": {},
     "output_type": "execute_result"
    }
   ],
   "source": [
    "usa_start[0]"
   ]
  },
  {
   "cell_type": "code",
   "execution_count": 139,
   "metadata": {},
   "outputs": [],
   "source": [
    "import datetime"
   ]
  },
  {
   "cell_type": "code",
   "execution_count": null,
   "metadata": {},
   "outputs": [],
   "source": [
    "lc_case[\"date\"] = pd.to_datetime(lc_case[\"date\"],format=\"%Y-%m-%d\")"
   ]
  },
  {
   "cell_type": "code",
   "execution_count": 141,
   "metadata": {},
   "outputs": [],
   "source": [
    "usa_start[0] = pd.to_datetime(usa_start[0],format=\"%Y-%m-%d\")"
   ]
  },
  {
   "cell_type": "code",
   "execution_count": 144,
   "metadata": {},
   "outputs": [],
   "source": [
    "usa_to_stability = usa_start[0] + datetime.timedelta(days=431)"
   ]
  },
  {
   "cell_type": "code",
   "execution_count": 145,
   "metadata": {},
   "outputs": [
    {
     "data": {
      "text/plain": [
       "Timestamp('2021-04-28 00:00:00')"
      ]
     },
     "execution_count": 145,
     "metadata": {},
     "output_type": "execute_result"
    }
   ],
   "source": [
    "usa_to_stability"
   ]
  },
  {
   "cell_type": "markdown",
   "metadata": {},
   "source": [
    "### USA will reach stability on 2021/04/28"
   ]
  },
  {
   "cell_type": "markdown",
   "metadata": {},
   "source": [
    "#### Check USA total cases changing timeline"
   ]
  },
  {
   "cell_type": "code",
   "execution_count": 146,
   "metadata": {},
   "outputs": [
    {
     "data": {
      "text/plain": [
       "<matplotlib.legend.Legend at 0x1a21878e80>"
      ]
     },
     "execution_count": 146,
     "metadata": {},
     "output_type": "execute_result"
    },
    {
     "data": {
      "image/png": "[encoded data removed]",
      "text/plain": [
       "<Figure size 1296x720 with 1 Axes>"
      ]
     },
     "metadata": {},
     "output_type": "display_data"
    }
   ],
   "source": [
    "plt.figure(figsize = (18,10))\n",
    "plt.plot(usa_starting_date[\"date\"],usa_starting_date[\"total_cases\"], label = \"USA\")\n",
    "plt.xlabel('Date',fontsize=18)\n",
    "plt.ylabel('Cases',fontsize=18)\n",
    "plt.legend(loc='upper right')"
   ]
  },
  {
   "cell_type": "markdown",
   "metadata": {},
   "source": [
    "## Try with Deep Learning"
   ]
  },
  {
   "cell_type": "code",
   "execution_count": 1,
   "metadata": {},
   "outputs": [
    {
     "name": "stderr",
     "output_type": "stream",
     "text": [
      "Using TensorFlow backend.\n"
     ]
    }
   ],
   "source": [
    "import pandas as pd\n",
    "import numpy as np\n",
    "from keras.models import Sequential\n",
    "from keras.layers import Dense, Dropout, Activation, Flatten, LSTM, TimeDistributed, RepeatVector\n",
    "from keras.layers.normalization import BatchNormalization\n",
    "from keras.optimizers import Adam\n",
    "from keras.callbacks import EarlyStopping, ModelCheckpoint\n",
    "import matplotlib.pyplot as plt\n",
    "%matplotlib inline"
   ]
  },
  {
   "cell_type": "code",
   "execution_count": 2,
   "metadata": {},
   "outputs": [],
   "source": [
    "covid_original = pd.read_csv(\"owid-covid-data.csv\")"
   ]
  },
  {
   "cell_type": "code",
   "execution_count": 3,
   "metadata": {
    "scrolled": true
   },
   "outputs": [
    {
     "data": {
      "text/plain": [
       "Index(['iso_code', 'continent', 'location', 'date', 'total_cases', 'new_cases',\n",
       "       'total_deaths', 'new_deaths', 'total_cases_per_million',\n",
       "       'new_cases_per_million', 'total_deaths_per_million',\n",
       "       'new_deaths_per_million', 'total_tests', 'new_tests',\n",
       "       'total_tests_per_thousand', 'new_tests_per_thousand',\n",
       "       'new_tests_smoothed', 'new_tests_smoothed_per_thousand', 'tests_units',\n",
       "       'stringency_index', 'population', 'population_density', 'median_age',\n",
       "       'aged_65_older', 'aged_70_older', 'gdp_per_capita', 'extreme_poverty',\n",
       "       'cvd_death_rate', 'diabetes_prevalence', 'female_smokers',\n",
       "       'male_smokers', 'handwashing_facilities', 'hospital_beds_per_thousand'],\n",
       "      dtype='object')"
      ]
     },
     "execution_count": 3,
     "metadata": {},
     "output_type": "execute_result"
    }
   ],
   "source": [
    "covid_original.columns"
   ]
  },
  {
   "cell_type": "code",
   "execution_count": 4,
   "metadata": {},
   "outputs": [],
   "source": [
    "del covid_original[\"iso_code\"]\n",
    "del covid_original[\"continent\"]"
   ]
  },
  {
   "cell_type": "code",
   "execution_count": null,
   "metadata": {},
   "outputs": [],
   "source": [
    "covid_original.set_index(\"location\", inplace= True)"
   ]
  },
  {
   "cell_type": "code",
   "execution_count": null,
   "metadata": {},
   "outputs": [],
   "source": [
    "covid_usa = covid_original.loc[\"United States\"]"
   ]
  },
  {
   "cell_type": "code",
   "execution_count": null,
   "metadata": {},
   "outputs": [],
   "source": [
    "covid_usa.dropna(axis =1, inplace = True)"
   ]
  },
  {
   "cell_type": "code",
   "execution_count": null,
   "metadata": {},
   "outputs": [],
   "source": []
  },
  {
   "cell_type": "code",
   "execution_count": null,
   "metadata": {},
   "outputs": [],
   "source": [
    "covid_usa = covid_usa.loc[covid_usa[\"date\"] >= \"2020-02-22\",:]"
   ]
  },
  {
   "cell_type": "markdown",
   "metadata": {},
   "source": [
    "#### Since all the features have different magnitude and unit, implementing normalization to better fit the model"
   ]
  },
  {
   "cell_type": "code",
   "execution_count": 5,
   "metadata": {},
   "outputs": [],
   "source": [
    "covid_original.set_index(\"location\", inplace= True)"
   ]
  },
  {
   "cell_type": "code",
   "execution_count": 6,
   "metadata": {},
   "outputs": [],
   "source": [
    "covid_usa = covid_original.loc[\"United States\"]"
   ]
  },
  {
   "cell_type": "code",
   "execution_count": 7,
   "metadata": {},
   "outputs": [
    {
     "name": "stdout",
     "output_type": "stream",
     "text": [
      "<class 'pandas.core.frame.DataFrame'>\n",
      "Index: 160 entries, United States to United States\n",
      "Data columns (total 30 columns):\n",
      "date                               160 non-null object\n",
      "total_cases                        160 non-null int64\n",
      "new_cases                          160 non-null int64\n",
      "total_deaths                       160 non-null int64\n",
      "new_deaths                         160 non-null int64\n",
      "total_cases_per_million            160 non-null float64\n",
      "new_cases_per_million              160 non-null float64\n",
      "total_deaths_per_million           160 non-null float64\n",
      "new_deaths_per_million             160 non-null float64\n",
      "total_tests                        16 non-null float64\n",
      "new_tests                          10 non-null float64\n",
      "total_tests_per_thousand           16 non-null float64\n",
      "new_tests_per_thousand             10 non-null float64\n",
      "new_tests_smoothed                 18 non-null float64\n",
      "new_tests_smoothed_per_thousand    18 non-null float64\n",
      "tests_units                        25 non-null object\n",
      "stringency_index                   156 non-null float64\n",
      "population                         160 non-null float64\n",
      "population_density                 160 non-null float64\n",
      "median_age                         160 non-null float64\n",
      "aged_65_older                      160 non-null float64\n",
      "aged_70_older                      160 non-null float64\n",
      "gdp_per_capita                     160 non-null float64\n",
      "extreme_poverty                    160 non-null float64\n",
      "cvd_death_rate                     160 non-null float64\n",
      "diabetes_prevalence                160 non-null float64\n",
      "female_smokers                     160 non-null float64\n",
      "male_smokers                       160 non-null float64\n",
      "handwashing_facilities             0 non-null float64\n",
      "hospital_beds_per_thousand         160 non-null float64\n",
      "dtypes: float64(24), int64(4), object(2)\n",
      "memory usage: 38.8+ KB\n"
     ]
    }
   ],
   "source": [
    "covid_usa.info()"
   ]
  },
  {
   "cell_type": "code",
   "execution_count": 8,
   "metadata": {
    "scrolled": true
   },
   "outputs": [
    {
     "name": "stderr",
     "output_type": "stream",
     "text": [
      "//anaconda3/lib/python3.7/site-packages/pandas/core/frame.py:4034: SettingWithCopyWarning: \n",
      "A value is trying to be set on a copy of a slice from a DataFrame\n",
      "\n",
      "See the caveats in the documentation: http://pandas.pydata.org/pandas-docs/stable/indexing.html#indexing-view-versus-copy\n",
      "  downcast=downcast, **kwargs)\n"
     ]
    }
   ],
   "source": [
    "covid_usa.fillna(0,inplace = True)"
   ]
  },
  {
   "cell_type": "code",
   "execution_count": 406,
   "metadata": {
    "scrolled": true
   },
   "outputs": [],
   "source": [
    "covid_usa.dropna(axis='columns',inplace = True)"
   ]
  },
  {
   "cell_type": "code",
   "execution_count": 9,
   "metadata": {
    "collapsed": true
   },
   "outputs": [
    {
     "name": "stdout",
     "output_type": "stream",
     "text": [
      "<class 'pandas.core.frame.DataFrame'>\n",
      "Index: 160 entries, United States to United States\n",
      "Data columns (total 30 columns):\n",
      "date                               160 non-null object\n",
      "total_cases                        160 non-null int64\n",
      "new_cases                          160 non-null int64\n",
      "total_deaths                       160 non-null int64\n",
      "new_deaths                         160 non-null int64\n",
      "total_cases_per_million            160 non-null float64\n",
      "new_cases_per_million              160 non-null float64\n",
      "total_deaths_per_million           160 non-null float64\n",
      "new_deaths_per_million             160 non-null float64\n",
      "total_tests                        160 non-null float64\n",
      "new_tests                          160 non-null float64\n",
      "total_tests_per_thousand           160 non-null float64\n",
      "new_tests_per_thousand             160 non-null float64\n",
      "new_tests_smoothed                 160 non-null float64\n",
      "new_tests_smoothed_per_thousand    160 non-null float64\n",
      "tests_units                        160 non-null object\n",
      "stringency_index                   160 non-null float64\n",
      "population                         160 non-null float64\n",
      "population_density                 160 non-null float64\n",
      "median_age                         160 non-null float64\n",
      "aged_65_older                      160 non-null float64\n",
      "aged_70_older                      160 non-null float64\n",
      "gdp_per_capita                     160 non-null float64\n",
      "extreme_poverty                    160 non-null float64\n",
      "cvd_death_rate                     160 non-null float64\n",
      "diabetes_prevalence                160 non-null float64\n",
      "female_smokers                     160 non-null float64\n",
      "male_smokers                       160 non-null float64\n",
      "handwashing_facilities             160 non-null float64\n",
      "hospital_beds_per_thousand         160 non-null float64\n",
      "dtypes: float64(24), int64(4), object(2)\n",
      "memory usage: 38.8+ KB\n"
     ]
    }
   ],
   "source": [
    "covid_usa.info()"
   ]
  },
  {
   "cell_type": "code",
   "execution_count": 10,
   "metadata": {},
   "outputs": [
    {
     "name": "stderr",
     "output_type": "stream",
     "text": [
      "//anaconda3/lib/python3.7/site-packages/ipykernel_launcher.py:1: SettingWithCopyWarning: \n",
      "A value is trying to be set on a copy of a slice from a DataFrame.\n",
      "Try using .loc[row_indexer,col_indexer] = value instead\n",
      "\n",
      "See the caveats in the documentation: http://pandas.pydata.org/pandas-docs/stable/indexing.html#indexing-view-versus-copy\n",
      "  \"\"\"Entry point for launching an IPython kernel.\n"
     ]
    }
   ],
   "source": [
    "covid_usa[\"date\"] = pd.to_datetime(covid_usa[\"date\"],format=\"%Y-%m-%d\")"
   ]
  },
  {
   "cell_type": "code",
   "execution_count": 11,
   "metadata": {},
   "outputs": [
    {
     "name": "stderr",
     "output_type": "stream",
     "text": [
      "//anaconda3/lib/python3.7/site-packages/pandas/core/frame.py:4042: SettingWithCopyWarning: \n",
      "A value is trying to be set on a copy of a slice from a DataFrame\n",
      "\n",
      "See the caveats in the documentation: http://pandas.pydata.org/pandas-docs/stable/indexing.html#indexing-view-versus-copy\n",
      "  method=method)\n"
     ]
    }
   ],
   "source": [
    "covid_usa.replace(\"tests performed\",1, inplace = True)"
   ]
  },
  {
   "cell_type": "code",
   "execution_count": 12,
   "metadata": {},
   "outputs": [],
   "source": [
    "def normalize(df):\n",
    "    df = df.drop([\"date\"], axis=1)\n",
    "    df_norm = df.apply(lambda x: (x - np.mean(x)) / (np.max(x) - np.min(x)))\n",
    "    return df_norm"
   ]
  },
  {
   "cell_type": "code",
   "execution_count": 13,
   "metadata": {},
   "outputs": [],
   "source": [
    "df_usa = normalize(covid_usa)"
   ]
  },
  {
   "cell_type": "code",
   "execution_count": 14,
   "metadata": {},
   "outputs": [
    {
     "name": "stdout",
     "output_type": "stream",
     "text": [
      "29\n"
     ]
    }
   ],
   "source": [
    "print(len(df_usa.columns))"
   ]
  },
  {
   "cell_type": "code",
   "execution_count": 15,
   "metadata": {
    "collapsed": true
   },
   "outputs": [
    {
     "data": {
      "text/html": [
       "<div>\n",
       "<style scoped>\n",
       "    .dataframe tbody tr th:only-of-type {\n",
       "        vertical-align: middle;\n",
       "    }\n",
       "\n",
       "    .dataframe tbody tr th {\n",
       "        vertical-align: top;\n",
       "    }\n",
       "\n",
       "    .dataframe thead th {\n",
       "        text-align: right;\n",
       "    }\n",
       "</style>\n",
       "<table border=\"1\" class=\"dataframe\">\n",
       "  <thead>\n",
       "    <tr style=\"text-align: right;\">\n",
       "      <th></th>\n",
       "      <th>total_cases</th>\n",
       "      <th>new_cases</th>\n",
       "      <th>total_deaths</th>\n",
       "      <th>new_deaths</th>\n",
       "      <th>total_cases_per_million</th>\n",
       "      <th>new_cases_per_million</th>\n",
       "      <th>total_deaths_per_million</th>\n",
       "      <th>new_deaths_per_million</th>\n",
       "      <th>total_tests</th>\n",
       "      <th>new_tests</th>\n",
       "      <th>...</th>\n",
       "      <th>aged_65_older</th>\n",
       "      <th>aged_70_older</th>\n",
       "      <th>gdp_per_capita</th>\n",
       "      <th>extreme_poverty</th>\n",
       "      <th>cvd_death_rate</th>\n",
       "      <th>diabetes_prevalence</th>\n",
       "      <th>female_smokers</th>\n",
       "      <th>male_smokers</th>\n",
       "      <th>handwashing_facilities</th>\n",
       "      <th>hospital_beds_per_thousand</th>\n",
       "    </tr>\n",
       "    <tr>\n",
       "      <th>location</th>\n",
       "      <th></th>\n",
       "      <th></th>\n",
       "      <th></th>\n",
       "      <th></th>\n",
       "      <th></th>\n",
       "      <th></th>\n",
       "      <th></th>\n",
       "      <th></th>\n",
       "      <th></th>\n",
       "      <th></th>\n",
       "      <th></th>\n",
       "      <th></th>\n",
       "      <th></th>\n",
       "      <th></th>\n",
       "      <th></th>\n",
       "      <th></th>\n",
       "      <th></th>\n",
       "      <th></th>\n",
       "      <th></th>\n",
       "      <th></th>\n",
       "      <th></th>\n",
       "    </tr>\n",
       "  </thead>\n",
       "  <tbody>\n",
       "    <tr>\n",
       "      <th>United States</th>\n",
       "      <td>-0.250957</td>\n",
       "      <td>-0.247283</td>\n",
       "      <td>-0.246192</td>\n",
       "      <td>-0.139258</td>\n",
       "      <td>-0.250957</td>\n",
       "      <td>-0.247283</td>\n",
       "      <td>-0.246192</td>\n",
       "      <td>-0.139258</td>\n",
       "      <td>-0.073337</td>\n",
       "      <td>-0.033044</td>\n",
       "      <td>...</td>\n",
       "      <td>-inf</td>\n",
       "      <td>inf</td>\n",
       "      <td>-inf</td>\n",
       "      <td>inf</td>\n",
       "      <td>inf</td>\n",
       "      <td>inf</td>\n",
       "      <td>inf</td>\n",
       "      <td>inf</td>\n",
       "      <td>NaN</td>\n",
       "      <td>inf</td>\n",
       "    </tr>\n",
       "    <tr>\n",
       "      <th>United States</th>\n",
       "      <td>-0.250957</td>\n",
       "      <td>-0.247283</td>\n",
       "      <td>-0.246192</td>\n",
       "      <td>-0.139258</td>\n",
       "      <td>-0.250957</td>\n",
       "      <td>-0.247283</td>\n",
       "      <td>-0.246192</td>\n",
       "      <td>-0.139258</td>\n",
       "      <td>-0.073337</td>\n",
       "      <td>-0.033044</td>\n",
       "      <td>...</td>\n",
       "      <td>-inf</td>\n",
       "      <td>inf</td>\n",
       "      <td>-inf</td>\n",
       "      <td>inf</td>\n",
       "      <td>inf</td>\n",
       "      <td>inf</td>\n",
       "      <td>inf</td>\n",
       "      <td>inf</td>\n",
       "      <td>NaN</td>\n",
       "      <td>inf</td>\n",
       "    </tr>\n",
       "    <tr>\n",
       "      <th>United States</th>\n",
       "      <td>-0.250957</td>\n",
       "      <td>-0.247283</td>\n",
       "      <td>-0.246192</td>\n",
       "      <td>-0.139258</td>\n",
       "      <td>-0.250957</td>\n",
       "      <td>-0.247283</td>\n",
       "      <td>-0.246192</td>\n",
       "      <td>-0.139258</td>\n",
       "      <td>-0.073337</td>\n",
       "      <td>-0.033044</td>\n",
       "      <td>...</td>\n",
       "      <td>-inf</td>\n",
       "      <td>inf</td>\n",
       "      <td>-inf</td>\n",
       "      <td>inf</td>\n",
       "      <td>inf</td>\n",
       "      <td>inf</td>\n",
       "      <td>inf</td>\n",
       "      <td>inf</td>\n",
       "      <td>NaN</td>\n",
       "      <td>inf</td>\n",
       "    </tr>\n",
       "    <tr>\n",
       "      <th>United States</th>\n",
       "      <td>-0.250957</td>\n",
       "      <td>-0.247283</td>\n",
       "      <td>-0.246192</td>\n",
       "      <td>-0.139258</td>\n",
       "      <td>-0.250957</td>\n",
       "      <td>-0.247283</td>\n",
       "      <td>-0.246192</td>\n",
       "      <td>-0.139258</td>\n",
       "      <td>-0.073337</td>\n",
       "      <td>-0.033044</td>\n",
       "      <td>...</td>\n",
       "      <td>-inf</td>\n",
       "      <td>inf</td>\n",
       "      <td>-inf</td>\n",
       "      <td>inf</td>\n",
       "      <td>inf</td>\n",
       "      <td>inf</td>\n",
       "      <td>inf</td>\n",
       "      <td>inf</td>\n",
       "      <td>NaN</td>\n",
       "      <td>inf</td>\n",
       "    </tr>\n",
       "    <tr>\n",
       "      <th>United States</th>\n",
       "      <td>-0.250957</td>\n",
       "      <td>-0.247283</td>\n",
       "      <td>-0.246192</td>\n",
       "      <td>-0.139258</td>\n",
       "      <td>-0.250957</td>\n",
       "      <td>-0.247283</td>\n",
       "      <td>-0.246192</td>\n",
       "      <td>-0.139258</td>\n",
       "      <td>-0.073337</td>\n",
       "      <td>-0.033044</td>\n",
       "      <td>...</td>\n",
       "      <td>-inf</td>\n",
       "      <td>inf</td>\n",
       "      <td>-inf</td>\n",
       "      <td>inf</td>\n",
       "      <td>inf</td>\n",
       "      <td>inf</td>\n",
       "      <td>inf</td>\n",
       "      <td>inf</td>\n",
       "      <td>NaN</td>\n",
       "      <td>inf</td>\n",
       "    </tr>\n",
       "    <tr>\n",
       "      <th>United States</th>\n",
       "      <td>-0.250957</td>\n",
       "      <td>-0.247283</td>\n",
       "      <td>-0.246192</td>\n",
       "      <td>-0.139258</td>\n",
       "      <td>-0.250957</td>\n",
       "      <td>-0.247283</td>\n",
       "      <td>-0.246192</td>\n",
       "      <td>-0.139258</td>\n",
       "      <td>-0.073337</td>\n",
       "      <td>-0.033044</td>\n",
       "      <td>...</td>\n",
       "      <td>-inf</td>\n",
       "      <td>inf</td>\n",
       "      <td>-inf</td>\n",
       "      <td>inf</td>\n",
       "      <td>inf</td>\n",
       "      <td>inf</td>\n",
       "      <td>inf</td>\n",
       "      <td>inf</td>\n",
       "      <td>NaN</td>\n",
       "      <td>inf</td>\n",
       "    </tr>\n",
       "    <tr>\n",
       "      <th>United States</th>\n",
       "      <td>-0.250957</td>\n",
       "      <td>-0.247283</td>\n",
       "      <td>-0.246192</td>\n",
       "      <td>-0.139258</td>\n",
       "      <td>-0.250957</td>\n",
       "      <td>-0.247283</td>\n",
       "      <td>-0.246192</td>\n",
       "      <td>-0.139258</td>\n",
       "      <td>-0.073337</td>\n",
       "      <td>-0.033044</td>\n",
       "      <td>...</td>\n",
       "      <td>-inf</td>\n",
       "      <td>inf</td>\n",
       "      <td>-inf</td>\n",
       "      <td>inf</td>\n",
       "      <td>inf</td>\n",
       "      <td>inf</td>\n",
       "      <td>inf</td>\n",
       "      <td>inf</td>\n",
       "      <td>NaN</td>\n",
       "      <td>inf</td>\n",
       "    </tr>\n",
       "    <tr>\n",
       "      <th>United States</th>\n",
       "      <td>-0.250957</td>\n",
       "      <td>-0.247283</td>\n",
       "      <td>-0.246192</td>\n",
       "      <td>-0.139258</td>\n",
       "      <td>-0.250957</td>\n",
       "      <td>-0.247283</td>\n",
       "      <td>-0.246192</td>\n",
       "      <td>-0.139258</td>\n",
       "      <td>-0.073337</td>\n",
       "      <td>-0.033044</td>\n",
       "      <td>...</td>\n",
       "      <td>-inf</td>\n",
       "      <td>inf</td>\n",
       "      <td>-inf</td>\n",
       "      <td>inf</td>\n",
       "      <td>inf</td>\n",
       "      <td>inf</td>\n",
       "      <td>inf</td>\n",
       "      <td>inf</td>\n",
       "      <td>NaN</td>\n",
       "      <td>inf</td>\n",
       "    </tr>\n",
       "    <tr>\n",
       "      <th>United States</th>\n",
       "      <td>-0.250957</td>\n",
       "      <td>-0.247283</td>\n",
       "      <td>-0.246192</td>\n",
       "      <td>-0.139258</td>\n",
       "      <td>-0.250957</td>\n",
       "      <td>-0.247283</td>\n",
       "      <td>-0.246192</td>\n",
       "      <td>-0.139258</td>\n",
       "      <td>-0.073337</td>\n",
       "      <td>-0.033044</td>\n",
       "      <td>...</td>\n",
       "      <td>-inf</td>\n",
       "      <td>inf</td>\n",
       "      <td>-inf</td>\n",
       "      <td>inf</td>\n",
       "      <td>inf</td>\n",
       "      <td>inf</td>\n",
       "      <td>inf</td>\n",
       "      <td>inf</td>\n",
       "      <td>NaN</td>\n",
       "      <td>inf</td>\n",
       "    </tr>\n",
       "    <tr>\n",
       "      <th>United States</th>\n",
       "      <td>-0.250957</td>\n",
       "      <td>-0.247283</td>\n",
       "      <td>-0.246192</td>\n",
       "      <td>-0.139258</td>\n",
       "      <td>-0.250957</td>\n",
       "      <td>-0.247283</td>\n",
       "      <td>-0.246192</td>\n",
       "      <td>-0.139258</td>\n",
       "      <td>-0.073337</td>\n",
       "      <td>-0.033044</td>\n",
       "      <td>...</td>\n",
       "      <td>-inf</td>\n",
       "      <td>inf</td>\n",
       "      <td>-inf</td>\n",
       "      <td>inf</td>\n",
       "      <td>inf</td>\n",
       "      <td>inf</td>\n",
       "      <td>inf</td>\n",
       "      <td>inf</td>\n",
       "      <td>NaN</td>\n",
       "      <td>inf</td>\n",
       "    </tr>\n",
       "    <tr>\n",
       "      <th>United States</th>\n",
       "      <td>-0.250957</td>\n",
       "      <td>-0.247283</td>\n",
       "      <td>-0.246192</td>\n",
       "      <td>-0.139258</td>\n",
       "      <td>-0.250957</td>\n",
       "      <td>-0.247283</td>\n",
       "      <td>-0.246192</td>\n",
       "      <td>-0.139258</td>\n",
       "      <td>-0.073337</td>\n",
       "      <td>-0.033044</td>\n",
       "      <td>...</td>\n",
       "      <td>-inf</td>\n",
       "      <td>inf</td>\n",
       "      <td>-inf</td>\n",
       "      <td>inf</td>\n",
       "      <td>inf</td>\n",
       "      <td>inf</td>\n",
       "      <td>inf</td>\n",
       "      <td>inf</td>\n",
       "      <td>NaN</td>\n",
       "      <td>inf</td>\n",
       "    </tr>\n",
       "    <tr>\n",
       "      <th>United States</th>\n",
       "      <td>-0.250957</td>\n",
       "      <td>-0.247283</td>\n",
       "      <td>-0.246192</td>\n",
       "      <td>-0.139258</td>\n",
       "      <td>-0.250957</td>\n",
       "      <td>-0.247283</td>\n",
       "      <td>-0.246192</td>\n",
       "      <td>-0.139258</td>\n",
       "      <td>-0.073337</td>\n",
       "      <td>-0.033044</td>\n",
       "      <td>...</td>\n",
       "      <td>-inf</td>\n",
       "      <td>inf</td>\n",
       "      <td>-inf</td>\n",
       "      <td>inf</td>\n",
       "      <td>inf</td>\n",
       "      <td>inf</td>\n",
       "      <td>inf</td>\n",
       "      <td>inf</td>\n",
       "      <td>NaN</td>\n",
       "      <td>inf</td>\n",
       "    </tr>\n",
       "    <tr>\n",
       "      <th>United States</th>\n",
       "      <td>-0.250957</td>\n",
       "      <td>-0.247283</td>\n",
       "      <td>-0.246192</td>\n",
       "      <td>-0.139258</td>\n",
       "      <td>-0.250957</td>\n",
       "      <td>-0.247283</td>\n",
       "      <td>-0.246192</td>\n",
       "      <td>-0.139258</td>\n",
       "      <td>-0.073337</td>\n",
       "      <td>-0.033044</td>\n",
       "      <td>...</td>\n",
       "      <td>-inf</td>\n",
       "      <td>inf</td>\n",
       "      <td>-inf</td>\n",
       "      <td>inf</td>\n",
       "      <td>inf</td>\n",
       "      <td>inf</td>\n",
       "      <td>inf</td>\n",
       "      <td>inf</td>\n",
       "      <td>NaN</td>\n",
       "      <td>inf</td>\n",
       "    </tr>\n",
       "    <tr>\n",
       "      <th>United States</th>\n",
       "      <td>-0.250957</td>\n",
       "      <td>-0.247283</td>\n",
       "      <td>-0.246192</td>\n",
       "      <td>-0.139258</td>\n",
       "      <td>-0.250957</td>\n",
       "      <td>-0.247283</td>\n",
       "      <td>-0.246192</td>\n",
       "      <td>-0.139258</td>\n",
       "      <td>-0.073337</td>\n",
       "      <td>-0.033044</td>\n",
       "      <td>...</td>\n",
       "      <td>-inf</td>\n",
       "      <td>inf</td>\n",
       "      <td>-inf</td>\n",
       "      <td>inf</td>\n",
       "      <td>inf</td>\n",
       "      <td>inf</td>\n",
       "      <td>inf</td>\n",
       "      <td>inf</td>\n",
       "      <td>NaN</td>\n",
       "      <td>inf</td>\n",
       "    </tr>\n",
       "    <tr>\n",
       "      <th>United States</th>\n",
       "      <td>-0.250957</td>\n",
       "      <td>-0.247283</td>\n",
       "      <td>-0.246192</td>\n",
       "      <td>-0.139258</td>\n",
       "      <td>-0.250957</td>\n",
       "      <td>-0.247283</td>\n",
       "      <td>-0.246192</td>\n",
       "      <td>-0.139258</td>\n",
       "      <td>-0.073337</td>\n",
       "      <td>-0.033044</td>\n",
       "      <td>...</td>\n",
       "      <td>-inf</td>\n",
       "      <td>inf</td>\n",
       "      <td>-inf</td>\n",
       "      <td>inf</td>\n",
       "      <td>inf</td>\n",
       "      <td>inf</td>\n",
       "      <td>inf</td>\n",
       "      <td>inf</td>\n",
       "      <td>NaN</td>\n",
       "      <td>inf</td>\n",
       "    </tr>\n",
       "    <tr>\n",
       "      <th>United States</th>\n",
       "      <td>-0.250957</td>\n",
       "      <td>-0.247283</td>\n",
       "      <td>-0.246192</td>\n",
       "      <td>-0.139258</td>\n",
       "      <td>-0.250957</td>\n",
       "      <td>-0.247283</td>\n",
       "      <td>-0.246192</td>\n",
       "      <td>-0.139258</td>\n",
       "      <td>-0.073337</td>\n",
       "      <td>-0.033044</td>\n",
       "      <td>...</td>\n",
       "      <td>-inf</td>\n",
       "      <td>inf</td>\n",
       "      <td>-inf</td>\n",
       "      <td>inf</td>\n",
       "      <td>inf</td>\n",
       "      <td>inf</td>\n",
       "      <td>inf</td>\n",
       "      <td>inf</td>\n",
       "      <td>NaN</td>\n",
       "      <td>inf</td>\n",
       "    </tr>\n",
       "    <tr>\n",
       "      <th>United States</th>\n",
       "      <td>-0.250957</td>\n",
       "      <td>-0.247283</td>\n",
       "      <td>-0.246192</td>\n",
       "      <td>-0.139258</td>\n",
       "      <td>-0.250957</td>\n",
       "      <td>-0.247283</td>\n",
       "      <td>-0.246192</td>\n",
       "      <td>-0.139258</td>\n",
       "      <td>-0.073337</td>\n",
       "      <td>-0.033044</td>\n",
       "      <td>...</td>\n",
       "      <td>-inf</td>\n",
       "      <td>inf</td>\n",
       "      <td>-inf</td>\n",
       "      <td>inf</td>\n",
       "      <td>inf</td>\n",
       "      <td>inf</td>\n",
       "      <td>inf</td>\n",
       "      <td>inf</td>\n",
       "      <td>NaN</td>\n",
       "      <td>inf</td>\n",
       "    </tr>\n",
       "    <tr>\n",
       "      <th>United States</th>\n",
       "      <td>-0.250957</td>\n",
       "      <td>-0.247283</td>\n",
       "      <td>-0.246192</td>\n",
       "      <td>-0.139258</td>\n",
       "      <td>-0.250957</td>\n",
       "      <td>-0.247283</td>\n",
       "      <td>-0.246192</td>\n",
       "      <td>-0.139258</td>\n",
       "      <td>-0.073337</td>\n",
       "      <td>-0.033044</td>\n",
       "      <td>...</td>\n",
       "      <td>-inf</td>\n",
       "      <td>inf</td>\n",
       "      <td>-inf</td>\n",
       "      <td>inf</td>\n",
       "      <td>inf</td>\n",
       "      <td>inf</td>\n",
       "      <td>inf</td>\n",
       "      <td>inf</td>\n",
       "      <td>NaN</td>\n",
       "      <td>inf</td>\n",
       "    </tr>\n",
       "    <tr>\n",
       "      <th>United States</th>\n",
       "      <td>-0.250957</td>\n",
       "      <td>-0.247283</td>\n",
       "      <td>-0.246192</td>\n",
       "      <td>-0.139258</td>\n",
       "      <td>-0.250957</td>\n",
       "      <td>-0.247283</td>\n",
       "      <td>-0.246192</td>\n",
       "      <td>-0.139258</td>\n",
       "      <td>-0.073337</td>\n",
       "      <td>-0.033044</td>\n",
       "      <td>...</td>\n",
       "      <td>-inf</td>\n",
       "      <td>inf</td>\n",
       "      <td>-inf</td>\n",
       "      <td>inf</td>\n",
       "      <td>inf</td>\n",
       "      <td>inf</td>\n",
       "      <td>inf</td>\n",
       "      <td>inf</td>\n",
       "      <td>NaN</td>\n",
       "      <td>inf</td>\n",
       "    </tr>\n",
       "    <tr>\n",
       "      <th>United States</th>\n",
       "      <td>-0.250957</td>\n",
       "      <td>-0.247283</td>\n",
       "      <td>-0.246192</td>\n",
       "      <td>-0.139258</td>\n",
       "      <td>-0.250957</td>\n",
       "      <td>-0.247283</td>\n",
       "      <td>-0.246192</td>\n",
       "      <td>-0.139258</td>\n",
       "      <td>-0.073337</td>\n",
       "      <td>-0.033044</td>\n",
       "      <td>...</td>\n",
       "      <td>-inf</td>\n",
       "      <td>inf</td>\n",
       "      <td>-inf</td>\n",
       "      <td>inf</td>\n",
       "      <td>inf</td>\n",
       "      <td>inf</td>\n",
       "      <td>inf</td>\n",
       "      <td>inf</td>\n",
       "      <td>NaN</td>\n",
       "      <td>inf</td>\n",
       "    </tr>\n",
       "    <tr>\n",
       "      <th>United States</th>\n",
       "      <td>-0.250957</td>\n",
       "      <td>-0.247283</td>\n",
       "      <td>-0.246192</td>\n",
       "      <td>-0.139258</td>\n",
       "      <td>-0.250957</td>\n",
       "      <td>-0.247283</td>\n",
       "      <td>-0.246192</td>\n",
       "      <td>-0.139258</td>\n",
       "      <td>-0.073337</td>\n",
       "      <td>-0.033044</td>\n",
       "      <td>...</td>\n",
       "      <td>-inf</td>\n",
       "      <td>inf</td>\n",
       "      <td>-inf</td>\n",
       "      <td>inf</td>\n",
       "      <td>inf</td>\n",
       "      <td>inf</td>\n",
       "      <td>inf</td>\n",
       "      <td>inf</td>\n",
       "      <td>NaN</td>\n",
       "      <td>inf</td>\n",
       "    </tr>\n",
       "    <tr>\n",
       "      <th>United States</th>\n",
       "      <td>-0.250957</td>\n",
       "      <td>-0.247262</td>\n",
       "      <td>-0.246192</td>\n",
       "      <td>-0.139258</td>\n",
       "      <td>-0.250957</td>\n",
       "      <td>-0.247262</td>\n",
       "      <td>-0.246192</td>\n",
       "      <td>-0.139258</td>\n",
       "      <td>-0.073337</td>\n",
       "      <td>-0.033044</td>\n",
       "      <td>...</td>\n",
       "      <td>-inf</td>\n",
       "      <td>inf</td>\n",
       "      <td>-inf</td>\n",
       "      <td>inf</td>\n",
       "      <td>inf</td>\n",
       "      <td>inf</td>\n",
       "      <td>inf</td>\n",
       "      <td>inf</td>\n",
       "      <td>NaN</td>\n",
       "      <td>inf</td>\n",
       "    </tr>\n",
       "    <tr>\n",
       "      <th>United States</th>\n",
       "      <td>-0.250957</td>\n",
       "      <td>-0.247283</td>\n",
       "      <td>-0.246192</td>\n",
       "      <td>-0.139258</td>\n",
       "      <td>-0.250957</td>\n",
       "      <td>-0.247283</td>\n",
       "      <td>-0.246192</td>\n",
       "      <td>-0.139258</td>\n",
       "      <td>-0.073337</td>\n",
       "      <td>-0.033044</td>\n",
       "      <td>...</td>\n",
       "      <td>-inf</td>\n",
       "      <td>inf</td>\n",
       "      <td>-inf</td>\n",
       "      <td>inf</td>\n",
       "      <td>inf</td>\n",
       "      <td>inf</td>\n",
       "      <td>inf</td>\n",
       "      <td>inf</td>\n",
       "      <td>NaN</td>\n",
       "      <td>inf</td>\n",
       "    </tr>\n",
       "    <tr>\n",
       "      <th>United States</th>\n",
       "      <td>-0.250957</td>\n",
       "      <td>-0.247283</td>\n",
       "      <td>-0.246192</td>\n",
       "      <td>-0.139258</td>\n",
       "      <td>-0.250957</td>\n",
       "      <td>-0.247283</td>\n",
       "      <td>-0.246192</td>\n",
       "      <td>-0.139258</td>\n",
       "      <td>-0.073337</td>\n",
       "      <td>-0.033044</td>\n",
       "      <td>...</td>\n",
       "      <td>-inf</td>\n",
       "      <td>inf</td>\n",
       "      <td>-inf</td>\n",
       "      <td>inf</td>\n",
       "      <td>inf</td>\n",
       "      <td>inf</td>\n",
       "      <td>inf</td>\n",
       "      <td>inf</td>\n",
       "      <td>NaN</td>\n",
       "      <td>inf</td>\n",
       "    </tr>\n",
       "    <tr>\n",
       "      <th>United States</th>\n",
       "      <td>-0.250957</td>\n",
       "      <td>-0.247283</td>\n",
       "      <td>-0.246192</td>\n",
       "      <td>-0.139258</td>\n",
       "      <td>-0.250957</td>\n",
       "      <td>-0.247283</td>\n",
       "      <td>-0.246192</td>\n",
       "      <td>-0.139258</td>\n",
       "      <td>-0.073337</td>\n",
       "      <td>-0.033044</td>\n",
       "      <td>...</td>\n",
       "      <td>-inf</td>\n",
       "      <td>inf</td>\n",
       "      <td>-inf</td>\n",
       "      <td>inf</td>\n",
       "      <td>inf</td>\n",
       "      <td>inf</td>\n",
       "      <td>inf</td>\n",
       "      <td>inf</td>\n",
       "      <td>NaN</td>\n",
       "      <td>inf</td>\n",
       "    </tr>\n",
       "    <tr>\n",
       "      <th>United States</th>\n",
       "      <td>-0.250956</td>\n",
       "      <td>-0.247262</td>\n",
       "      <td>-0.246192</td>\n",
       "      <td>-0.139258</td>\n",
       "      <td>-0.250956</td>\n",
       "      <td>-0.247262</td>\n",
       "      <td>-0.246192</td>\n",
       "      <td>-0.139258</td>\n",
       "      <td>-0.073337</td>\n",
       "      <td>-0.033044</td>\n",
       "      <td>...</td>\n",
       "      <td>-inf</td>\n",
       "      <td>inf</td>\n",
       "      <td>-inf</td>\n",
       "      <td>inf</td>\n",
       "      <td>inf</td>\n",
       "      <td>inf</td>\n",
       "      <td>inf</td>\n",
       "      <td>inf</td>\n",
       "      <td>NaN</td>\n",
       "      <td>inf</td>\n",
       "    </tr>\n",
       "    <tr>\n",
       "      <th>United States</th>\n",
       "      <td>-0.250956</td>\n",
       "      <td>-0.247283</td>\n",
       "      <td>-0.246192</td>\n",
       "      <td>-0.139258</td>\n",
       "      <td>-0.250956</td>\n",
       "      <td>-0.247283</td>\n",
       "      <td>-0.246192</td>\n",
       "      <td>-0.139258</td>\n",
       "      <td>-0.073337</td>\n",
       "      <td>-0.033044</td>\n",
       "      <td>...</td>\n",
       "      <td>-inf</td>\n",
       "      <td>inf</td>\n",
       "      <td>-inf</td>\n",
       "      <td>inf</td>\n",
       "      <td>inf</td>\n",
       "      <td>inf</td>\n",
       "      <td>inf</td>\n",
       "      <td>inf</td>\n",
       "      <td>NaN</td>\n",
       "      <td>inf</td>\n",
       "    </tr>\n",
       "    <tr>\n",
       "      <th>United States</th>\n",
       "      <td>-0.250955</td>\n",
       "      <td>-0.247221</td>\n",
       "      <td>-0.246192</td>\n",
       "      <td>-0.139258</td>\n",
       "      <td>-0.250955</td>\n",
       "      <td>-0.247221</td>\n",
       "      <td>-0.246192</td>\n",
       "      <td>-0.139258</td>\n",
       "      <td>-0.073337</td>\n",
       "      <td>-0.033044</td>\n",
       "      <td>...</td>\n",
       "      <td>-inf</td>\n",
       "      <td>inf</td>\n",
       "      <td>-inf</td>\n",
       "      <td>inf</td>\n",
       "      <td>inf</td>\n",
       "      <td>inf</td>\n",
       "      <td>inf</td>\n",
       "      <td>inf</td>\n",
       "      <td>NaN</td>\n",
       "      <td>inf</td>\n",
       "    </tr>\n",
       "    <tr>\n",
       "      <th>United States</th>\n",
       "      <td>-0.250955</td>\n",
       "      <td>-0.247283</td>\n",
       "      <td>-0.246192</td>\n",
       "      <td>-0.139258</td>\n",
       "      <td>-0.250955</td>\n",
       "      <td>-0.247283</td>\n",
       "      <td>-0.246192</td>\n",
       "      <td>-0.139258</td>\n",
       "      <td>-0.073337</td>\n",
       "      <td>-0.033044</td>\n",
       "      <td>...</td>\n",
       "      <td>-inf</td>\n",
       "      <td>inf</td>\n",
       "      <td>-inf</td>\n",
       "      <td>inf</td>\n",
       "      <td>inf</td>\n",
       "      <td>inf</td>\n",
       "      <td>inf</td>\n",
       "      <td>inf</td>\n",
       "      <td>NaN</td>\n",
       "      <td>inf</td>\n",
       "    </tr>\n",
       "    <tr>\n",
       "      <th>United States</th>\n",
       "      <td>-0.250955</td>\n",
       "      <td>-0.247283</td>\n",
       "      <td>-0.246192</td>\n",
       "      <td>-0.139258</td>\n",
       "      <td>-0.250955</td>\n",
       "      <td>-0.247283</td>\n",
       "      <td>-0.246192</td>\n",
       "      <td>-0.139258</td>\n",
       "      <td>-0.073337</td>\n",
       "      <td>-0.033044</td>\n",
       "      <td>...</td>\n",
       "      <td>-inf</td>\n",
       "      <td>inf</td>\n",
       "      <td>-inf</td>\n",
       "      <td>inf</td>\n",
       "      <td>inf</td>\n",
       "      <td>inf</td>\n",
       "      <td>inf</td>\n",
       "      <td>inf</td>\n",
       "      <td>NaN</td>\n",
       "      <td>inf</td>\n",
       "    </tr>\n",
       "    <tr>\n",
       "      <th>...</th>\n",
       "      <td>...</td>\n",
       "      <td>...</td>\n",
       "      <td>...</td>\n",
       "      <td>...</td>\n",
       "      <td>...</td>\n",
       "      <td>...</td>\n",
       "      <td>...</td>\n",
       "      <td>...</td>\n",
       "      <td>...</td>\n",
       "      <td>...</td>\n",
       "      <td>...</td>\n",
       "      <td>...</td>\n",
       "      <td>...</td>\n",
       "      <td>...</td>\n",
       "      <td>...</td>\n",
       "      <td>...</td>\n",
       "      <td>...</td>\n",
       "      <td>...</td>\n",
       "      <td>...</td>\n",
       "      <td>...</td>\n",
       "      <td>...</td>\n",
       "    </tr>\n",
       "    <tr>\n",
       "      <th>United States</th>\n",
       "      <td>0.417734</td>\n",
       "      <td>0.308200</td>\n",
       "      <td>0.456710</td>\n",
       "      <td>0.167155</td>\n",
       "      <td>0.417734</td>\n",
       "      <td>0.308197</td>\n",
       "      <td>0.456709</td>\n",
       "      <td>0.167163</td>\n",
       "      <td>-0.073337</td>\n",
       "      <td>-0.033044</td>\n",
       "      <td>...</td>\n",
       "      <td>-inf</td>\n",
       "      <td>inf</td>\n",
       "      <td>-inf</td>\n",
       "      <td>inf</td>\n",
       "      <td>inf</td>\n",
       "      <td>inf</td>\n",
       "      <td>inf</td>\n",
       "      <td>inf</td>\n",
       "      <td>NaN</td>\n",
       "      <td>inf</td>\n",
       "    </tr>\n",
       "    <tr>\n",
       "      <th>United States</th>\n",
       "      <td>0.431073</td>\n",
       "      <td>0.280484</td>\n",
       "      <td>0.471409</td>\n",
       "      <td>0.188258</td>\n",
       "      <td>0.431074</td>\n",
       "      <td>0.280484</td>\n",
       "      <td>0.471408</td>\n",
       "      <td>0.188254</td>\n",
       "      <td>-0.073337</td>\n",
       "      <td>-0.033044</td>\n",
       "      <td>...</td>\n",
       "      <td>-inf</td>\n",
       "      <td>inf</td>\n",
       "      <td>-inf</td>\n",
       "      <td>inf</td>\n",
       "      <td>inf</td>\n",
       "      <td>inf</td>\n",
       "      <td>inf</td>\n",
       "      <td>inf</td>\n",
       "      <td>NaN</td>\n",
       "      <td>inf</td>\n",
       "    </tr>\n",
       "    <tr>\n",
       "      <th>United States</th>\n",
       "      <td>0.441624</td>\n",
       "      <td>0.170158</td>\n",
       "      <td>0.478094</td>\n",
       "      <td>0.009687</td>\n",
       "      <td>0.441624</td>\n",
       "      <td>0.170159</td>\n",
       "      <td>0.478095</td>\n",
       "      <td>0.009721</td>\n",
       "      <td>-0.073337</td>\n",
       "      <td>-0.033044</td>\n",
       "      <td>...</td>\n",
       "      <td>-inf</td>\n",
       "      <td>inf</td>\n",
       "      <td>-inf</td>\n",
       "      <td>inf</td>\n",
       "      <td>inf</td>\n",
       "      <td>inf</td>\n",
       "      <td>inf</td>\n",
       "      <td>inf</td>\n",
       "      <td>NaN</td>\n",
       "      <td>inf</td>\n",
       "    </tr>\n",
       "    <tr>\n",
       "      <th>United States</th>\n",
       "      <td>0.451060</td>\n",
       "      <td>0.126040</td>\n",
       "      <td>0.488622</td>\n",
       "      <td>0.095320</td>\n",
       "      <td>0.451060</td>\n",
       "      <td>0.126043</td>\n",
       "      <td>0.488621</td>\n",
       "      <td>0.095293</td>\n",
       "      <td>0.403727</td>\n",
       "      <td>-0.033044</td>\n",
       "      <td>...</td>\n",
       "      <td>-inf</td>\n",
       "      <td>inf</td>\n",
       "      <td>-inf</td>\n",
       "      <td>inf</td>\n",
       "      <td>inf</td>\n",
       "      <td>inf</td>\n",
       "      <td>inf</td>\n",
       "      <td>inf</td>\n",
       "      <td>NaN</td>\n",
       "      <td>inf</td>\n",
       "    </tr>\n",
       "    <tr>\n",
       "      <th>United States</th>\n",
       "      <td>0.462543</td>\n",
       "      <td>0.207044</td>\n",
       "      <td>0.504131</td>\n",
       "      <td>0.206318</td>\n",
       "      <td>0.462543</td>\n",
       "      <td>0.207046</td>\n",
       "      <td>0.504131</td>\n",
       "      <td>0.206322</td>\n",
       "      <td>0.427897</td>\n",
       "      <td>0.340672</td>\n",
       "      <td>...</td>\n",
       "      <td>-inf</td>\n",
       "      <td>inf</td>\n",
       "      <td>-inf</td>\n",
       "      <td>inf</td>\n",
       "      <td>inf</td>\n",
       "      <td>inf</td>\n",
       "      <td>inf</td>\n",
       "      <td>inf</td>\n",
       "      <td>NaN</td>\n",
       "      <td>inf</td>\n",
       "    </tr>\n",
       "    <tr>\n",
       "      <th>United States</th>\n",
       "      <td>0.473366</td>\n",
       "      <td>0.180956</td>\n",
       "      <td>0.520033</td>\n",
       "      <td>0.215044</td>\n",
       "      <td>0.473366</td>\n",
       "      <td>0.180956</td>\n",
       "      <td>0.520033</td>\n",
       "      <td>0.215054</td>\n",
       "      <td>-0.073337</td>\n",
       "      <td>-0.033044</td>\n",
       "      <td>...</td>\n",
       "      <td>-inf</td>\n",
       "      <td>inf</td>\n",
       "      <td>-inf</td>\n",
       "      <td>inf</td>\n",
       "      <td>inf</td>\n",
       "      <td>inf</td>\n",
       "      <td>inf</td>\n",
       "      <td>inf</td>\n",
       "      <td>NaN</td>\n",
       "      <td>inf</td>\n",
       "    </tr>\n",
       "    <tr>\n",
       "      <th>United States</th>\n",
       "      <td>0.487503</td>\n",
       "      <td>0.312032</td>\n",
       "      <td>0.536180</td>\n",
       "      <td>0.220523</td>\n",
       "      <td>0.487503</td>\n",
       "      <td>0.312030</td>\n",
       "      <td>0.536182</td>\n",
       "      <td>0.220495</td>\n",
       "      <td>-0.073337</td>\n",
       "      <td>-0.033044</td>\n",
       "      <td>...</td>\n",
       "      <td>-inf</td>\n",
       "      <td>inf</td>\n",
       "      <td>-inf</td>\n",
       "      <td>inf</td>\n",
       "      <td>inf</td>\n",
       "      <td>inf</td>\n",
       "      <td>inf</td>\n",
       "      <td>inf</td>\n",
       "      <td>NaN</td>\n",
       "      <td>inf</td>\n",
       "    </tr>\n",
       "    <tr>\n",
       "      <th>United States</th>\n",
       "      <td>0.500788</td>\n",
       "      <td>0.278341</td>\n",
       "      <td>0.551316</td>\n",
       "      <td>0.197999</td>\n",
       "      <td>0.500788</td>\n",
       "      <td>0.278343</td>\n",
       "      <td>0.551318</td>\n",
       "      <td>0.197993</td>\n",
       "      <td>-0.073337</td>\n",
       "      <td>-0.033044</td>\n",
       "      <td>...</td>\n",
       "      <td>-inf</td>\n",
       "      <td>inf</td>\n",
       "      <td>-inf</td>\n",
       "      <td>inf</td>\n",
       "      <td>inf</td>\n",
       "      <td>inf</td>\n",
       "      <td>inf</td>\n",
       "      <td>inf</td>\n",
       "      <td>NaN</td>\n",
       "      <td>inf</td>\n",
       "    </tr>\n",
       "    <tr>\n",
       "      <th>United States</th>\n",
       "      <td>0.513541</td>\n",
       "      <td>0.257302</td>\n",
       "      <td>0.562118</td>\n",
       "      <td>0.101408</td>\n",
       "      <td>0.513541</td>\n",
       "      <td>0.257301</td>\n",
       "      <td>0.562119</td>\n",
       "      <td>0.101405</td>\n",
       "      <td>0.458812</td>\n",
       "      <td>-0.033044</td>\n",
       "      <td>...</td>\n",
       "      <td>-inf</td>\n",
       "      <td>inf</td>\n",
       "      <td>-inf</td>\n",
       "      <td>inf</td>\n",
       "      <td>inf</td>\n",
       "      <td>inf</td>\n",
       "      <td>inf</td>\n",
       "      <td>inf</td>\n",
       "      <td>NaN</td>\n",
       "      <td>inf</td>\n",
       "    </tr>\n",
       "    <tr>\n",
       "      <th>United States</th>\n",
       "      <td>0.523371</td>\n",
       "      <td>0.141619</td>\n",
       "      <td>0.569476</td>\n",
       "      <td>0.024703</td>\n",
       "      <td>0.523371</td>\n",
       "      <td>0.141621</td>\n",
       "      <td>0.569477</td>\n",
       "      <td>0.024699</td>\n",
       "      <td>0.480152</td>\n",
       "      <td>0.296913</td>\n",
       "      <td>...</td>\n",
       "      <td>-inf</td>\n",
       "      <td>inf</td>\n",
       "      <td>-inf</td>\n",
       "      <td>inf</td>\n",
       "      <td>inf</td>\n",
       "      <td>inf</td>\n",
       "      <td>inf</td>\n",
       "      <td>inf</td>\n",
       "      <td>NaN</td>\n",
       "      <td>inf</td>\n",
       "    </tr>\n",
       "    <tr>\n",
       "      <th>United States</th>\n",
       "      <td>0.534746</td>\n",
       "      <td>0.202778</td>\n",
       "      <td>0.576680</td>\n",
       "      <td>0.021254</td>\n",
       "      <td>0.534746</td>\n",
       "      <td>0.202776</td>\n",
       "      <td>0.576682</td>\n",
       "      <td>0.021274</td>\n",
       "      <td>0.544825</td>\n",
       "      <td>0.966956</td>\n",
       "      <td>...</td>\n",
       "      <td>-inf</td>\n",
       "      <td>inf</td>\n",
       "      <td>-inf</td>\n",
       "      <td>inf</td>\n",
       "      <td>inf</td>\n",
       "      <td>inf</td>\n",
       "      <td>inf</td>\n",
       "      <td>inf</td>\n",
       "      <td>NaN</td>\n",
       "      <td>inf</td>\n",
       "    </tr>\n",
       "    <tr>\n",
       "      <th>United States</th>\n",
       "      <td>0.545146</td>\n",
       "      <td>0.164224</td>\n",
       "      <td>0.590960</td>\n",
       "      <td>0.178924</td>\n",
       "      <td>0.545146</td>\n",
       "      <td>0.164225</td>\n",
       "      <td>0.590962</td>\n",
       "      <td>0.178918</td>\n",
       "      <td>0.560361</td>\n",
       "      <td>0.207166</td>\n",
       "      <td>...</td>\n",
       "      <td>-inf</td>\n",
       "      <td>inf</td>\n",
       "      <td>-inf</td>\n",
       "      <td>inf</td>\n",
       "      <td>inf</td>\n",
       "      <td>inf</td>\n",
       "      <td>inf</td>\n",
       "      <td>inf</td>\n",
       "      <td>NaN</td>\n",
       "      <td>inf</td>\n",
       "    </tr>\n",
       "    <tr>\n",
       "      <th>United States</th>\n",
       "      <td>0.557274</td>\n",
       "      <td>0.232534</td>\n",
       "      <td>0.604785</td>\n",
       "      <td>0.168778</td>\n",
       "      <td>0.557274</td>\n",
       "      <td>0.232535</td>\n",
       "      <td>0.604787</td>\n",
       "      <td>0.168775</td>\n",
       "      <td>-0.073337</td>\n",
       "      <td>-0.033044</td>\n",
       "      <td>...</td>\n",
       "      <td>-inf</td>\n",
       "      <td>inf</td>\n",
       "      <td>-inf</td>\n",
       "      <td>inf</td>\n",
       "      <td>inf</td>\n",
       "      <td>inf</td>\n",
       "      <td>inf</td>\n",
       "      <td>inf</td>\n",
       "      <td>NaN</td>\n",
       "      <td>inf</td>\n",
       "    </tr>\n",
       "    <tr>\n",
       "      <th>United States</th>\n",
       "      <td>0.570520</td>\n",
       "      <td>0.276816</td>\n",
       "      <td>0.616288</td>\n",
       "      <td>0.117033</td>\n",
       "      <td>0.570520</td>\n",
       "      <td>0.276815</td>\n",
       "      <td>0.616287</td>\n",
       "      <td>0.117056</td>\n",
       "      <td>0.595168</td>\n",
       "      <td>-0.033044</td>\n",
       "      <td>...</td>\n",
       "      <td>-inf</td>\n",
       "      <td>inf</td>\n",
       "      <td>-inf</td>\n",
       "      <td>inf</td>\n",
       "      <td>inf</td>\n",
       "      <td>inf</td>\n",
       "      <td>inf</td>\n",
       "      <td>inf</td>\n",
       "      <td>NaN</td>\n",
       "      <td>inf</td>\n",
       "    </tr>\n",
       "    <tr>\n",
       "      <th>United States</th>\n",
       "      <td>0.583096</td>\n",
       "      <td>0.250296</td>\n",
       "      <td>0.628173</td>\n",
       "      <td>0.125555</td>\n",
       "      <td>0.583096</td>\n",
       "      <td>0.250296</td>\n",
       "      <td>0.628174</td>\n",
       "      <td>0.125586</td>\n",
       "      <td>-0.073337</td>\n",
       "      <td>-0.033044</td>\n",
       "      <td>...</td>\n",
       "      <td>-inf</td>\n",
       "      <td>inf</td>\n",
       "      <td>-inf</td>\n",
       "      <td>inf</td>\n",
       "      <td>inf</td>\n",
       "      <td>inf</td>\n",
       "      <td>inf</td>\n",
       "      <td>inf</td>\n",
       "      <td>NaN</td>\n",
       "      <td>inf</td>\n",
       "    </tr>\n",
       "    <tr>\n",
       "      <th>United States</th>\n",
       "      <td>0.594156</td>\n",
       "      <td>0.190311</td>\n",
       "      <td>0.638009</td>\n",
       "      <td>0.079898</td>\n",
       "      <td>0.594156</td>\n",
       "      <td>0.190314</td>\n",
       "      <td>0.638010</td>\n",
       "      <td>0.079912</td>\n",
       "      <td>-0.073337</td>\n",
       "      <td>-0.033044</td>\n",
       "      <td>...</td>\n",
       "      <td>-inf</td>\n",
       "      <td>inf</td>\n",
       "      <td>-inf</td>\n",
       "      <td>inf</td>\n",
       "      <td>inf</td>\n",
       "      <td>inf</td>\n",
       "      <td>inf</td>\n",
       "      <td>inf</td>\n",
       "      <td>NaN</td>\n",
       "      <td>inf</td>\n",
       "    </tr>\n",
       "    <tr>\n",
       "      <th>United States</th>\n",
       "      <td>0.604868</td>\n",
       "      <td>0.176546</td>\n",
       "      <td>0.643774</td>\n",
       "      <td>-0.010808</td>\n",
       "      <td>0.604869</td>\n",
       "      <td>0.176543</td>\n",
       "      <td>0.643774</td>\n",
       "      <td>-0.010833</td>\n",
       "      <td>0.619888</td>\n",
       "      <td>-0.033044</td>\n",
       "      <td>...</td>\n",
       "      <td>-inf</td>\n",
       "      <td>inf</td>\n",
       "      <td>-inf</td>\n",
       "      <td>inf</td>\n",
       "      <td>inf</td>\n",
       "      <td>inf</td>\n",
       "      <td>inf</td>\n",
       "      <td>inf</td>\n",
       "      <td>NaN</td>\n",
       "      <td>inf</td>\n",
       "    </tr>\n",
       "    <tr>\n",
       "      <th>United States</th>\n",
       "      <td>0.614797</td>\n",
       "      <td>0.145555</td>\n",
       "      <td>0.648327</td>\n",
       "      <td>-0.037797</td>\n",
       "      <td>0.614797</td>\n",
       "      <td>0.145557</td>\n",
       "      <td>0.648329</td>\n",
       "      <td>-0.037767</td>\n",
       "      <td>0.671525</td>\n",
       "      <td>0.765379</td>\n",
       "      <td>...</td>\n",
       "      <td>-inf</td>\n",
       "      <td>inf</td>\n",
       "      <td>-inf</td>\n",
       "      <td>inf</td>\n",
       "      <td>inf</td>\n",
       "      <td>inf</td>\n",
       "      <td>inf</td>\n",
       "      <td>inf</td>\n",
       "      <td>NaN</td>\n",
       "      <td>inf</td>\n",
       "    </tr>\n",
       "    <tr>\n",
       "      <th>United States</th>\n",
       "      <td>0.624646</td>\n",
       "      <td>0.142381</td>\n",
       "      <td>0.654666</td>\n",
       "      <td>0.001976</td>\n",
       "      <td>0.624646</td>\n",
       "      <td>0.142378</td>\n",
       "      <td>0.654665</td>\n",
       "      <td>0.001997</td>\n",
       "      <td>0.700086</td>\n",
       "      <td>0.408584</td>\n",
       "      <td>...</td>\n",
       "      <td>-inf</td>\n",
       "      <td>inf</td>\n",
       "      <td>-inf</td>\n",
       "      <td>inf</td>\n",
       "      <td>inf</td>\n",
       "      <td>inf</td>\n",
       "      <td>inf</td>\n",
       "      <td>inf</td>\n",
       "      <td>NaN</td>\n",
       "      <td>inf</td>\n",
       "    </tr>\n",
       "    <tr>\n",
       "      <th>United States</th>\n",
       "      <td>0.634396</td>\n",
       "      <td>0.138487</td>\n",
       "      <td>0.668564</td>\n",
       "      <td>0.170401</td>\n",
       "      <td>0.634396</td>\n",
       "      <td>0.138484</td>\n",
       "      <td>0.668566</td>\n",
       "      <td>0.170387</td>\n",
       "      <td>-0.073337</td>\n",
       "      <td>-0.033044</td>\n",
       "      <td>...</td>\n",
       "      <td>-inf</td>\n",
       "      <td>inf</td>\n",
       "      <td>-inf</td>\n",
       "      <td>inf</td>\n",
       "      <td>inf</td>\n",
       "      <td>inf</td>\n",
       "      <td>inf</td>\n",
       "      <td>inf</td>\n",
       "      <td>NaN</td>\n",
       "      <td>inf</td>\n",
       "    </tr>\n",
       "    <tr>\n",
       "      <th>United States</th>\n",
       "      <td>0.645759</td>\n",
       "      <td>0.202284</td>\n",
       "      <td>0.679265</td>\n",
       "      <td>0.099176</td>\n",
       "      <td>0.645759</td>\n",
       "      <td>0.202285</td>\n",
       "      <td>0.679267</td>\n",
       "      <td>0.099189</td>\n",
       "      <td>0.750519</td>\n",
       "      <td>-0.033044</td>\n",
       "      <td>...</td>\n",
       "      <td>-inf</td>\n",
       "      <td>inf</td>\n",
       "      <td>-inf</td>\n",
       "      <td>inf</td>\n",
       "      <td>inf</td>\n",
       "      <td>inf</td>\n",
       "      <td>inf</td>\n",
       "      <td>inf</td>\n",
       "      <td>NaN</td>\n",
       "      <td>inf</td>\n",
       "    </tr>\n",
       "    <tr>\n",
       "      <th>United States</th>\n",
       "      <td>0.658955</td>\n",
       "      <td>0.274818</td>\n",
       "      <td>0.690367</td>\n",
       "      <td>0.108104</td>\n",
       "      <td>0.658955</td>\n",
       "      <td>0.274816</td>\n",
       "      <td>0.690367</td>\n",
       "      <td>0.108122</td>\n",
       "      <td>-0.073337</td>\n",
       "      <td>-0.033044</td>\n",
       "      <td>...</td>\n",
       "      <td>-inf</td>\n",
       "      <td>inf</td>\n",
       "      <td>-inf</td>\n",
       "      <td>inf</td>\n",
       "      <td>inf</td>\n",
       "      <td>inf</td>\n",
       "      <td>inf</td>\n",
       "      <td>inf</td>\n",
       "      <td>NaN</td>\n",
       "      <td>inf</td>\n",
       "    </tr>\n",
       "    <tr>\n",
       "      <th>United States</th>\n",
       "      <td>0.671088</td>\n",
       "      <td>0.232781</td>\n",
       "      <td>0.698973</td>\n",
       "      <td>0.052504</td>\n",
       "      <td>0.671088</td>\n",
       "      <td>0.232780</td>\n",
       "      <td>0.698973</td>\n",
       "      <td>0.052507</td>\n",
       "      <td>-0.073337</td>\n",
       "      <td>-0.033044</td>\n",
       "      <td>...</td>\n",
       "      <td>-inf</td>\n",
       "      <td>inf</td>\n",
       "      <td>-inf</td>\n",
       "      <td>inf</td>\n",
       "      <td>inf</td>\n",
       "      <td>inf</td>\n",
       "      <td>inf</td>\n",
       "      <td>inf</td>\n",
       "      <td>NaN</td>\n",
       "      <td>inf</td>\n",
       "    </tr>\n",
       "    <tr>\n",
       "      <th>United States</th>\n",
       "      <td>0.681404</td>\n",
       "      <td>0.160865</td>\n",
       "      <td>0.704456</td>\n",
       "      <td>-0.017099</td>\n",
       "      <td>0.681404</td>\n",
       "      <td>0.160862</td>\n",
       "      <td>0.704457</td>\n",
       "      <td>-0.017079</td>\n",
       "      <td>0.790644</td>\n",
       "      <td>-0.033044</td>\n",
       "      <td>...</td>\n",
       "      <td>-inf</td>\n",
       "      <td>inf</td>\n",
       "      <td>-inf</td>\n",
       "      <td>inf</td>\n",
       "      <td>inf</td>\n",
       "      <td>inf</td>\n",
       "      <td>inf</td>\n",
       "      <td>inf</td>\n",
       "      <td>NaN</td>\n",
       "      <td>inf</td>\n",
       "    </tr>\n",
       "    <tr>\n",
       "      <th>United States</th>\n",
       "      <td>0.692386</td>\n",
       "      <td>0.187220</td>\n",
       "      <td>0.711414</td>\n",
       "      <td>0.015775</td>\n",
       "      <td>0.692386</td>\n",
       "      <td>0.187218</td>\n",
       "      <td>0.711414</td>\n",
       "      <td>0.015766</td>\n",
       "      <td>0.854235</td>\n",
       "      <td>0.950211</td>\n",
       "      <td>...</td>\n",
       "      <td>-inf</td>\n",
       "      <td>inf</td>\n",
       "      <td>-inf</td>\n",
       "      <td>inf</td>\n",
       "      <td>inf</td>\n",
       "      <td>inf</td>\n",
       "      <td>inf</td>\n",
       "      <td>inf</td>\n",
       "      <td>NaN</td>\n",
       "      <td>inf</td>\n",
       "    </tr>\n",
       "    <tr>\n",
       "      <th>United States</th>\n",
       "      <td>0.703086</td>\n",
       "      <td>0.176052</td>\n",
       "      <td>0.720831</td>\n",
       "      <td>0.070564</td>\n",
       "      <td>0.703086</td>\n",
       "      <td>0.176052</td>\n",
       "      <td>0.720832</td>\n",
       "      <td>0.070575</td>\n",
       "      <td>0.877481</td>\n",
       "      <td>0.326393</td>\n",
       "      <td>...</td>\n",
       "      <td>-inf</td>\n",
       "      <td>inf</td>\n",
       "      <td>-inf</td>\n",
       "      <td>inf</td>\n",
       "      <td>inf</td>\n",
       "      <td>inf</td>\n",
       "      <td>inf</td>\n",
       "      <td>inf</td>\n",
       "      <td>NaN</td>\n",
       "      <td>inf</td>\n",
       "    </tr>\n",
       "    <tr>\n",
       "      <th>United States</th>\n",
       "      <td>0.713345</td>\n",
       "      <td>0.158640</td>\n",
       "      <td>0.729883</td>\n",
       "      <td>0.062447</td>\n",
       "      <td>0.713345</td>\n",
       "      <td>0.158639</td>\n",
       "      <td>0.729884</td>\n",
       "      <td>0.062448</td>\n",
       "      <td>0.898524</td>\n",
       "      <td>0.292331</td>\n",
       "      <td>...</td>\n",
       "      <td>-inf</td>\n",
       "      <td>inf</td>\n",
       "      <td>-inf</td>\n",
       "      <td>inf</td>\n",
       "      <td>inf</td>\n",
       "      <td>inf</td>\n",
       "      <td>inf</td>\n",
       "      <td>inf</td>\n",
       "      <td>NaN</td>\n",
       "      <td>inf</td>\n",
       "    </tr>\n",
       "    <tr>\n",
       "      <th>United States</th>\n",
       "      <td>0.724355</td>\n",
       "      <td>0.188333</td>\n",
       "      <td>0.739318</td>\n",
       "      <td>0.070969</td>\n",
       "      <td>0.724355</td>\n",
       "      <td>0.188336</td>\n",
       "      <td>0.739320</td>\n",
       "      <td>0.070978</td>\n",
       "      <td>0.926663</td>\n",
       "      <td>0.402046</td>\n",
       "      <td>...</td>\n",
       "      <td>-inf</td>\n",
       "      <td>inf</td>\n",
       "      <td>-inf</td>\n",
       "      <td>inf</td>\n",
       "      <td>inf</td>\n",
       "      <td>inf</td>\n",
       "      <td>inf</td>\n",
       "      <td>inf</td>\n",
       "      <td>NaN</td>\n",
       "      <td>inf</td>\n",
       "    </tr>\n",
       "    <tr>\n",
       "      <th>United States</th>\n",
       "      <td>0.737468</td>\n",
       "      <td>0.271541</td>\n",
       "      <td>0.747806</td>\n",
       "      <td>0.049866</td>\n",
       "      <td>0.737469</td>\n",
       "      <td>0.271542</td>\n",
       "      <td>0.747809</td>\n",
       "      <td>0.049887</td>\n",
       "      <td>-0.073337</td>\n",
       "      <td>-0.033044</td>\n",
       "      <td>...</td>\n",
       "      <td>-inf</td>\n",
       "      <td>inf</td>\n",
       "      <td>-inf</td>\n",
       "      <td>inf</td>\n",
       "      <td>inf</td>\n",
       "      <td>inf</td>\n",
       "      <td>inf</td>\n",
       "      <td>inf</td>\n",
       "      <td>NaN</td>\n",
       "      <td>inf</td>\n",
       "    </tr>\n",
       "    <tr>\n",
       "      <th>United States</th>\n",
       "      <td>0.749043</td>\n",
       "      <td>0.210650</td>\n",
       "      <td>0.753808</td>\n",
       "      <td>-0.005532</td>\n",
       "      <td>0.749043</td>\n",
       "      <td>0.210647</td>\n",
       "      <td>0.753808</td>\n",
       "      <td>-0.005526</td>\n",
       "      <td>-0.073337</td>\n",
       "      <td>-0.033044</td>\n",
       "      <td>...</td>\n",
       "      <td>-inf</td>\n",
       "      <td>inf</td>\n",
       "      <td>-inf</td>\n",
       "      <td>inf</td>\n",
       "      <td>inf</td>\n",
       "      <td>inf</td>\n",
       "      <td>inf</td>\n",
       "      <td>inf</td>\n",
       "      <td>NaN</td>\n",
       "      <td>inf</td>\n",
       "    </tr>\n",
       "  </tbody>\n",
       "</table>\n",
       "<p>160 rows × 29 columns</p>\n",
       "</div>"
      ],
      "text/plain": [
       "               total_cases  new_cases  total_deaths  new_deaths  \\\n",
       "location                                                          \n",
       "United States    -0.250957  -0.247283     -0.246192   -0.139258   \n",
       "United States    -0.250957  -0.247283     -0.246192   -0.139258   \n",
       "United States    -0.250957  -0.247283     -0.246192   -0.139258   \n",
       "United States    -0.250957  -0.247283     -0.246192   -0.139258   \n",
       "United States    -0.250957  -0.247283     -0.246192   -0.139258   \n",
       "United States    -0.250957  -0.247283     -0.246192   -0.139258   \n",
       "United States    -0.250957  -0.247283     -0.246192   -0.139258   \n",
       "United States    -0.250957  -0.247283     -0.246192   -0.139258   \n",
       "United States    -0.250957  -0.247283     -0.246192   -0.139258   \n",
       "United States    -0.250957  -0.247283     -0.246192   -0.139258   \n",
       "United States    -0.250957  -0.247283     -0.246192   -0.139258   \n",
       "United States    -0.250957  -0.247283     -0.246192   -0.139258   \n",
       "United States    -0.250957  -0.247283     -0.246192   -0.139258   \n",
       "United States    -0.250957  -0.247283     -0.246192   -0.139258   \n",
       "United States    -0.250957  -0.247283     -0.246192   -0.139258   \n",
       "United States    -0.250957  -0.247283     -0.246192   -0.139258   \n",
       "United States    -0.250957  -0.247283     -0.246192   -0.139258   \n",
       "United States    -0.250957  -0.247283     -0.246192   -0.139258   \n",
       "United States    -0.250957  -0.247283     -0.246192   -0.139258   \n",
       "United States    -0.250957  -0.247283     -0.246192   -0.139258   \n",
       "United States    -0.250957  -0.247283     -0.246192   -0.139258   \n",
       "United States    -0.250957  -0.247262     -0.246192   -0.139258   \n",
       "United States    -0.250957  -0.247283     -0.246192   -0.139258   \n",
       "United States    -0.250957  -0.247283     -0.246192   -0.139258   \n",
       "United States    -0.250957  -0.247283     -0.246192   -0.139258   \n",
       "United States    -0.250956  -0.247262     -0.246192   -0.139258   \n",
       "United States    -0.250956  -0.247283     -0.246192   -0.139258   \n",
       "United States    -0.250955  -0.247221     -0.246192   -0.139258   \n",
       "United States    -0.250955  -0.247283     -0.246192   -0.139258   \n",
       "United States    -0.250955  -0.247283     -0.246192   -0.139258   \n",
       "...                    ...        ...           ...         ...   \n",
       "United States     0.417734   0.308200      0.456710    0.167155   \n",
       "United States     0.431073   0.280484      0.471409    0.188258   \n",
       "United States     0.441624   0.170158      0.478094    0.009687   \n",
       "United States     0.451060   0.126040      0.488622    0.095320   \n",
       "United States     0.462543   0.207044      0.504131    0.206318   \n",
       "United States     0.473366   0.180956      0.520033    0.215044   \n",
       "United States     0.487503   0.312032      0.536180    0.220523   \n",
       "United States     0.500788   0.278341      0.551316    0.197999   \n",
       "United States     0.513541   0.257302      0.562118    0.101408   \n",
       "United States     0.523371   0.141619      0.569476    0.024703   \n",
       "United States     0.534746   0.202778      0.576680    0.021254   \n",
       "United States     0.545146   0.164224      0.590960    0.178924   \n",
       "United States     0.557274   0.232534      0.604785    0.168778   \n",
       "United States     0.570520   0.276816      0.616288    0.117033   \n",
       "United States     0.583096   0.250296      0.628173    0.125555   \n",
       "United States     0.594156   0.190311      0.638009    0.079898   \n",
       "United States     0.604868   0.176546      0.643774   -0.010808   \n",
       "United States     0.614797   0.145555      0.648327   -0.037797   \n",
       "United States     0.624646   0.142381      0.654666    0.001976   \n",
       "United States     0.634396   0.138487      0.668564    0.170401   \n",
       "United States     0.645759   0.202284      0.679265    0.099176   \n",
       "United States     0.658955   0.274818      0.690367    0.108104   \n",
       "United States     0.671088   0.232781      0.698973    0.052504   \n",
       "United States     0.681404   0.160865      0.704456   -0.017099   \n",
       "United States     0.692386   0.187220      0.711414    0.015775   \n",
       "United States     0.703086   0.176052      0.720831    0.070564   \n",
       "United States     0.713345   0.158640      0.729883    0.062447   \n",
       "United States     0.724355   0.188333      0.739318    0.070969   \n",
       "United States     0.737468   0.271541      0.747806    0.049866   \n",
       "United States     0.749043   0.210650      0.753808   -0.005532   \n",
       "\n",
       "               total_cases_per_million  new_cases_per_million  \\\n",
       "location                                                        \n",
       "United States                -0.250957              -0.247283   \n",
       "United States                -0.250957              -0.247283   \n",
       "United States                -0.250957              -0.247283   \n",
       "United States                -0.250957              -0.247283   \n",
       "United States                -0.250957              -0.247283   \n",
       "United States                -0.250957              -0.247283   \n",
       "United States                -0.250957              -0.247283   \n",
       "United States                -0.250957              -0.247283   \n",
       "United States                -0.250957              -0.247283   \n",
       "United States                -0.250957              -0.247283   \n",
       "United States                -0.250957              -0.247283   \n",
       "United States                -0.250957              -0.247283   \n",
       "United States                -0.250957              -0.247283   \n",
       "United States                -0.250957              -0.247283   \n",
       "United States                -0.250957              -0.247283   \n",
       "United States                -0.250957              -0.247283   \n",
       "United States                -0.250957              -0.247283   \n",
       "United States                -0.250957              -0.247283   \n",
       "United States                -0.250957              -0.247283   \n",
       "United States                -0.250957              -0.247283   \n",
       "United States                -0.250957              -0.247283   \n",
       "United States                -0.250957              -0.247262   \n",
       "United States                -0.250957              -0.247283   \n",
       "United States                -0.250957              -0.247283   \n",
       "United States                -0.250957              -0.247283   \n",
       "United States                -0.250956              -0.247262   \n",
       "United States                -0.250956              -0.247283   \n",
       "United States                -0.250955              -0.247221   \n",
       "United States                -0.250955              -0.247283   \n",
       "United States                -0.250955              -0.247283   \n",
       "...                                ...                    ...   \n",
       "United States                 0.417734               0.308197   \n",
       "United States                 0.431074               0.280484   \n",
       "United States                 0.441624               0.170159   \n",
       "United States                 0.451060               0.126043   \n",
       "United States                 0.462543               0.207046   \n",
       "United States                 0.473366               0.180956   \n",
       "United States                 0.487503               0.312030   \n",
       "United States                 0.500788               0.278343   \n",
       "United States                 0.513541               0.257301   \n",
       "United States                 0.523371               0.141621   \n",
       "United States                 0.534746               0.202776   \n",
       "United States                 0.545146               0.164225   \n",
       "United States                 0.557274               0.232535   \n",
       "United States                 0.570520               0.276815   \n",
       "United States                 0.583096               0.250296   \n",
       "United States                 0.594156               0.190314   \n",
       "United States                 0.604869               0.176543   \n",
       "United States                 0.614797               0.145557   \n",
       "United States                 0.624646               0.142378   \n",
       "United States                 0.634396               0.138484   \n",
       "United States                 0.645759               0.202285   \n",
       "United States                 0.658955               0.274816   \n",
       "United States                 0.671088               0.232780   \n",
       "United States                 0.681404               0.160862   \n",
       "United States                 0.692386               0.187218   \n",
       "United States                 0.703086               0.176052   \n",
       "United States                 0.713345               0.158639   \n",
       "United States                 0.724355               0.188336   \n",
       "United States                 0.737469               0.271542   \n",
       "United States                 0.749043               0.210647   \n",
       "\n",
       "               total_deaths_per_million  new_deaths_per_million  total_tests  \\\n",
       "location                                                                       \n",
       "United States                 -0.246192               -0.139258    -0.073337   \n",
       "United States                 -0.246192               -0.139258    -0.073337   \n",
       "United States                 -0.246192               -0.139258    -0.073337   \n",
       "United States                 -0.246192               -0.139258    -0.073337   \n",
       "United States                 -0.246192               -0.139258    -0.073337   \n",
       "United States                 -0.246192               -0.139258    -0.073337   \n",
       "United States                 -0.246192               -0.139258    -0.073337   \n",
       "United States                 -0.246192               -0.139258    -0.073337   \n",
       "United States                 -0.246192               -0.139258    -0.073337   \n",
       "United States                 -0.246192               -0.139258    -0.073337   \n",
       "United States                 -0.246192               -0.139258    -0.073337   \n",
       "United States                 -0.246192               -0.139258    -0.073337   \n",
       "United States                 -0.246192               -0.139258    -0.073337   \n",
       "United States                 -0.246192               -0.139258    -0.073337   \n",
       "United States                 -0.246192               -0.139258    -0.073337   \n",
       "United States                 -0.246192               -0.139258    -0.073337   \n",
       "United States                 -0.246192               -0.139258    -0.073337   \n",
       "United States                 -0.246192               -0.139258    -0.073337   \n",
       "United States                 -0.246192               -0.139258    -0.073337   \n",
       "United States                 -0.246192               -0.139258    -0.073337   \n",
       "United States                 -0.246192               -0.139258    -0.073337   \n",
       "United States                 -0.246192               -0.139258    -0.073337   \n",
       "United States                 -0.246192               -0.139258    -0.073337   \n",
       "United States                 -0.246192               -0.139258    -0.073337   \n",
       "United States                 -0.246192               -0.139258    -0.073337   \n",
       "United States                 -0.246192               -0.139258    -0.073337   \n",
       "United States                 -0.246192               -0.139258    -0.073337   \n",
       "United States                 -0.246192               -0.139258    -0.073337   \n",
       "United States                 -0.246192               -0.139258    -0.073337   \n",
       "United States                 -0.246192               -0.139258    -0.073337   \n",
       "...                                 ...                     ...          ...   \n",
       "United States                  0.456709                0.167163    -0.073337   \n",
       "United States                  0.471408                0.188254    -0.073337   \n",
       "United States                  0.478095                0.009721    -0.073337   \n",
       "United States                  0.488621                0.095293     0.403727   \n",
       "United States                  0.504131                0.206322     0.427897   \n",
       "United States                  0.520033                0.215054    -0.073337   \n",
       "United States                  0.536182                0.220495    -0.073337   \n",
       "United States                  0.551318                0.197993    -0.073337   \n",
       "United States                  0.562119                0.101405     0.458812   \n",
       "United States                  0.569477                0.024699     0.480152   \n",
       "United States                  0.576682                0.021274     0.544825   \n",
       "United States                  0.590962                0.178918     0.560361   \n",
       "United States                  0.604787                0.168775    -0.073337   \n",
       "United States                  0.616287                0.117056     0.595168   \n",
       "United States                  0.628174                0.125586    -0.073337   \n",
       "United States                  0.638010                0.079912    -0.073337   \n",
       "United States                  0.643774               -0.010833     0.619888   \n",
       "United States                  0.648329               -0.037767     0.671525   \n",
       "United States                  0.654665                0.001997     0.700086   \n",
       "United States                  0.668566                0.170387    -0.073337   \n",
       "United States                  0.679267                0.099189     0.750519   \n",
       "United States                  0.690367                0.108122    -0.073337   \n",
       "United States                  0.698973                0.052507    -0.073337   \n",
       "United States                  0.704457               -0.017079     0.790644   \n",
       "United States                  0.711414                0.015766     0.854235   \n",
       "United States                  0.720832                0.070575     0.877481   \n",
       "United States                  0.729884                0.062448     0.898524   \n",
       "United States                  0.739320                0.070978     0.926663   \n",
       "United States                  0.747809                0.049887    -0.073337   \n",
       "United States                  0.753808               -0.005526    -0.073337   \n",
       "\n",
       "               new_tests  ...  aged_65_older  aged_70_older  gdp_per_capita  \\\n",
       "location                  ...                                                 \n",
       "United States  -0.033044  ...           -inf            inf            -inf   \n",
       "United States  -0.033044  ...           -inf            inf            -inf   \n",
       "United States  -0.033044  ...           -inf            inf            -inf   \n",
       "United States  -0.033044  ...           -inf            inf            -inf   \n",
       "United States  -0.033044  ...           -inf            inf            -inf   \n",
       "United States  -0.033044  ...           -inf            inf            -inf   \n",
       "United States  -0.033044  ...           -inf            inf            -inf   \n",
       "United States  -0.033044  ...           -inf            inf            -inf   \n",
       "United States  -0.033044  ...           -inf            inf            -inf   \n",
       "United States  -0.033044  ...           -inf            inf            -inf   \n",
       "United States  -0.033044  ...           -inf            inf            -inf   \n",
       "United States  -0.033044  ...           -inf            inf            -inf   \n",
       "United States  -0.033044  ...           -inf            inf            -inf   \n",
       "United States  -0.033044  ...           -inf            inf            -inf   \n",
       "United States  -0.033044  ...           -inf            inf            -inf   \n",
       "United States  -0.033044  ...           -inf            inf            -inf   \n",
       "United States  -0.033044  ...           -inf            inf            -inf   \n",
       "United States  -0.033044  ...           -inf            inf            -inf   \n",
       "United States  -0.033044  ...           -inf            inf            -inf   \n",
       "United States  -0.033044  ...           -inf            inf            -inf   \n",
       "United States  -0.033044  ...           -inf            inf            -inf   \n",
       "United States  -0.033044  ...           -inf            inf            -inf   \n",
       "United States  -0.033044  ...           -inf            inf            -inf   \n",
       "United States  -0.033044  ...           -inf            inf            -inf   \n",
       "United States  -0.033044  ...           -inf            inf            -inf   \n",
       "United States  -0.033044  ...           -inf            inf            -inf   \n",
       "United States  -0.033044  ...           -inf            inf            -inf   \n",
       "United States  -0.033044  ...           -inf            inf            -inf   \n",
       "United States  -0.033044  ...           -inf            inf            -inf   \n",
       "United States  -0.033044  ...           -inf            inf            -inf   \n",
       "...                  ...  ...            ...            ...             ...   \n",
       "United States  -0.033044  ...           -inf            inf            -inf   \n",
       "United States  -0.033044  ...           -inf            inf            -inf   \n",
       "United States  -0.033044  ...           -inf            inf            -inf   \n",
       "United States  -0.033044  ...           -inf            inf            -inf   \n",
       "United States   0.340672  ...           -inf            inf            -inf   \n",
       "United States  -0.033044  ...           -inf            inf            -inf   \n",
       "United States  -0.033044  ...           -inf            inf            -inf   \n",
       "United States  -0.033044  ...           -inf            inf            -inf   \n",
       "United States  -0.033044  ...           -inf            inf            -inf   \n",
       "United States   0.296913  ...           -inf            inf            -inf   \n",
       "United States   0.966956  ...           -inf            inf            -inf   \n",
       "United States   0.207166  ...           -inf            inf            -inf   \n",
       "United States  -0.033044  ...           -inf            inf            -inf   \n",
       "United States  -0.033044  ...           -inf            inf            -inf   \n",
       "United States  -0.033044  ...           -inf            inf            -inf   \n",
       "United States  -0.033044  ...           -inf            inf            -inf   \n",
       "United States  -0.033044  ...           -inf            inf            -inf   \n",
       "United States   0.765379  ...           -inf            inf            -inf   \n",
       "United States   0.408584  ...           -inf            inf            -inf   \n",
       "United States  -0.033044  ...           -inf            inf            -inf   \n",
       "United States  -0.033044  ...           -inf            inf            -inf   \n",
       "United States  -0.033044  ...           -inf            inf            -inf   \n",
       "United States  -0.033044  ...           -inf            inf            -inf   \n",
       "United States  -0.033044  ...           -inf            inf            -inf   \n",
       "United States   0.950211  ...           -inf            inf            -inf   \n",
       "United States   0.326393  ...           -inf            inf            -inf   \n",
       "United States   0.292331  ...           -inf            inf            -inf   \n",
       "United States   0.402046  ...           -inf            inf            -inf   \n",
       "United States  -0.033044  ...           -inf            inf            -inf   \n",
       "United States  -0.033044  ...           -inf            inf            -inf   \n",
       "\n",
       "               extreme_poverty  cvd_death_rate  diabetes_prevalence  \\\n",
       "location                                                              \n",
       "United States              inf             inf                  inf   \n",
       "United States              inf             inf                  inf   \n",
       "United States              inf             inf                  inf   \n",
       "United States              inf             inf                  inf   \n",
       "United States              inf             inf                  inf   \n",
       "United States              inf             inf                  inf   \n",
       "United States              inf             inf                  inf   \n",
       "United States              inf             inf                  inf   \n",
       "United States              inf             inf                  inf   \n",
       "United States              inf             inf                  inf   \n",
       "United States              inf             inf                  inf   \n",
       "United States              inf             inf                  inf   \n",
       "United States              inf             inf                  inf   \n",
       "United States              inf             inf                  inf   \n",
       "United States              inf             inf                  inf   \n",
       "United States              inf             inf                  inf   \n",
       "United States              inf             inf                  inf   \n",
       "United States              inf             inf                  inf   \n",
       "United States              inf             inf                  inf   \n",
       "United States              inf             inf                  inf   \n",
       "United States              inf             inf                  inf   \n",
       "United States              inf             inf                  inf   \n",
       "United States              inf             inf                  inf   \n",
       "United States              inf             inf                  inf   \n",
       "United States              inf             inf                  inf   \n",
       "United States              inf             inf                  inf   \n",
       "United States              inf             inf                  inf   \n",
       "United States              inf             inf                  inf   \n",
       "United States              inf             inf                  inf   \n",
       "United States              inf             inf                  inf   \n",
       "...                        ...             ...                  ...   \n",
       "United States              inf             inf                  inf   \n",
       "United States              inf             inf                  inf   \n",
       "United States              inf             inf                  inf   \n",
       "United States              inf             inf                  inf   \n",
       "United States              inf             inf                  inf   \n",
       "United States              inf             inf                  inf   \n",
       "United States              inf             inf                  inf   \n",
       "United States              inf             inf                  inf   \n",
       "United States              inf             inf                  inf   \n",
       "United States              inf             inf                  inf   \n",
       "United States              inf             inf                  inf   \n",
       "United States              inf             inf                  inf   \n",
       "United States              inf             inf                  inf   \n",
       "United States              inf             inf                  inf   \n",
       "United States              inf             inf                  inf   \n",
       "United States              inf             inf                  inf   \n",
       "United States              inf             inf                  inf   \n",
       "United States              inf             inf                  inf   \n",
       "United States              inf             inf                  inf   \n",
       "United States              inf             inf                  inf   \n",
       "United States              inf             inf                  inf   \n",
       "United States              inf             inf                  inf   \n",
       "United States              inf             inf                  inf   \n",
       "United States              inf             inf                  inf   \n",
       "United States              inf             inf                  inf   \n",
       "United States              inf             inf                  inf   \n",
       "United States              inf             inf                  inf   \n",
       "United States              inf             inf                  inf   \n",
       "United States              inf             inf                  inf   \n",
       "United States              inf             inf                  inf   \n",
       "\n",
       "               female_smokers  male_smokers  handwashing_facilities  \\\n",
       "location                                                              \n",
       "United States             inf           inf                     NaN   \n",
       "United States             inf           inf                     NaN   \n",
       "United States             inf           inf                     NaN   \n",
       "United States             inf           inf                     NaN   \n",
       "United States             inf           inf                     NaN   \n",
       "United States             inf           inf                     NaN   \n",
       "United States             inf           inf                     NaN   \n",
       "United States             inf           inf                     NaN   \n",
       "United States             inf           inf                     NaN   \n",
       "United States             inf           inf                     NaN   \n",
       "United States             inf           inf                     NaN   \n",
       "United States             inf           inf                     NaN   \n",
       "United States             inf           inf                     NaN   \n",
       "United States             inf           inf                     NaN   \n",
       "United States             inf           inf                     NaN   \n",
       "United States             inf           inf                     NaN   \n",
       "United States             inf           inf                     NaN   \n",
       "United States             inf           inf                     NaN   \n",
       "United States             inf           inf                     NaN   \n",
       "United States             inf           inf                     NaN   \n",
       "United States             inf           inf                     NaN   \n",
       "United States             inf           inf                     NaN   \n",
       "United States             inf           inf                     NaN   \n",
       "United States             inf           inf                     NaN   \n",
       "United States             inf           inf                     NaN   \n",
       "United States             inf           inf                     NaN   \n",
       "United States             inf           inf                     NaN   \n",
       "United States             inf           inf                     NaN   \n",
       "United States             inf           inf                     NaN   \n",
       "United States             inf           inf                     NaN   \n",
       "...                       ...           ...                     ...   \n",
       "United States             inf           inf                     NaN   \n",
       "United States             inf           inf                     NaN   \n",
       "United States             inf           inf                     NaN   \n",
       "United States             inf           inf                     NaN   \n",
       "United States             inf           inf                     NaN   \n",
       "United States             inf           inf                     NaN   \n",
       "United States             inf           inf                     NaN   \n",
       "United States             inf           inf                     NaN   \n",
       "United States             inf           inf                     NaN   \n",
       "United States             inf           inf                     NaN   \n",
       "United States             inf           inf                     NaN   \n",
       "United States             inf           inf                     NaN   \n",
       "United States             inf           inf                     NaN   \n",
       "United States             inf           inf                     NaN   \n",
       "United States             inf           inf                     NaN   \n",
       "United States             inf           inf                     NaN   \n",
       "United States             inf           inf                     NaN   \n",
       "United States             inf           inf                     NaN   \n",
       "United States             inf           inf                     NaN   \n",
       "United States             inf           inf                     NaN   \n",
       "United States             inf           inf                     NaN   \n",
       "United States             inf           inf                     NaN   \n",
       "United States             inf           inf                     NaN   \n",
       "United States             inf           inf                     NaN   \n",
       "United States             inf           inf                     NaN   \n",
       "United States             inf           inf                     NaN   \n",
       "United States             inf           inf                     NaN   \n",
       "United States             inf           inf                     NaN   \n",
       "United States             inf           inf                     NaN   \n",
       "United States             inf           inf                     NaN   \n",
       "\n",
       "               hospital_beds_per_thousand  \n",
       "location                                   \n",
       "United States                         inf  \n",
       "United States                         inf  \n",
       "United States                         inf  \n",
       "United States                         inf  \n",
       "United States                         inf  \n",
       "United States                         inf  \n",
       "United States                         inf  \n",
       "United States                         inf  \n",
       "United States                         inf  \n",
       "United States                         inf  \n",
       "United States                         inf  \n",
       "United States                         inf  \n",
       "United States                         inf  \n",
       "United States                         inf  \n",
       "United States                         inf  \n",
       "United States                         inf  \n",
       "United States                         inf  \n",
       "United States                         inf  \n",
       "United States                         inf  \n",
       "United States                         inf  \n",
       "United States                         inf  \n",
       "United States                         inf  \n",
       "United States                         inf  \n",
       "United States                         inf  \n",
       "United States                         inf  \n",
       "United States                         inf  \n",
       "United States                         inf  \n",
       "United States                         inf  \n",
       "United States                         inf  \n",
       "United States                         inf  \n",
       "...                                   ...  \n",
       "United States                         inf  \n",
       "United States                         inf  \n",
       "United States                         inf  \n",
       "United States                         inf  \n",
       "United States                         inf  \n",
       "United States                         inf  \n",
       "United States                         inf  \n",
       "United States                         inf  \n",
       "United States                         inf  \n",
       "United States                         inf  \n",
       "United States                         inf  \n",
       "United States                         inf  \n",
       "United States                         inf  \n",
       "United States                         inf  \n",
       "United States                         inf  \n",
       "United States                         inf  \n",
       "United States                         inf  \n",
       "United States                         inf  \n",
       "United States                         inf  \n",
       "United States                         inf  \n",
       "United States                         inf  \n",
       "United States                         inf  \n",
       "United States                         inf  \n",
       "United States                         inf  \n",
       "United States                         inf  \n",
       "United States                         inf  \n",
       "United States                         inf  \n",
       "United States                         inf  \n",
       "United States                         inf  \n",
       "United States                         inf  \n",
       "\n",
       "[160 rows x 29 columns]"
      ]
     },
     "execution_count": 15,
     "metadata": {},
     "output_type": "execute_result"
    }
   ],
   "source": [
    "df_usa"
   ]
  },
  {
   "cell_type": "markdown",
   "metadata": {},
   "source": [
    "### Input 30 days of data and predict 5 days "
   ]
  },
  {
   "cell_type": "code",
   "execution_count": 416,
   "metadata": {},
   "outputs": [],
   "source": [
    "def train_windows(df, ref_day=30, predict_day=5):\n",
    "    X_train, Y_train = [], []\n",
    "    for i in range(df.shape[0]-predict_day-ref_day):\n",
    "        X_train.append(np.array(df.iloc[i:i+ref_day,:-1]))\n",
    "        Y_train.append(np.array(df.iloc[i+ref_day:i+ref_day+predict_day][\"total_cases\"]))\n",
    "    return np.array(X_train), np.array(Y_train)"
   ]
  },
  {
   "cell_type": "code",
   "execution_count": 417,
   "metadata": {},
   "outputs": [],
   "source": [
    "X_train, Y_train = [], []\n",
    "for i in range(df_usa.shape[0]-5-30):\n",
    "    X_train.append(np.array(df_usa.iloc[i:i+30,:-1]))\n",
    "    Y_train.append(np.array(df_usa.iloc[i+30:i+30+5][\"total_cases\"]))"
   ]
  },
  {
   "cell_type": "code",
   "execution_count": 17,
   "metadata": {},
   "outputs": [
    {
     "data": {
      "text/plain": [
       "125"
      ]
     },
     "execution_count": 17,
     "metadata": {},
     "output_type": "execute_result"
    }
   ],
   "source": [
    "df_usa.shape[0] -35"
   ]
  },
  {
   "cell_type": "markdown",
   "metadata": {},
   "source": [
    "### Disorganize the time order to prevent overfitting"
   ]
  },
  {
   "cell_type": "code",
   "execution_count": 371,
   "metadata": {},
   "outputs": [],
   "source": [
    "def shuffle(X,Y):\n",
    "    np.random.seed(10)\n",
    "    randomList = np.arange(X.shape[0])\n",
    "    np.random.shuffle(randomList)\n",
    "    return X[randomList], Y[randomList]"
   ]
  },
  {
   "cell_type": "code",
   "execution_count": 372,
   "metadata": {},
   "outputs": [],
   "source": [
    "X_train, Y_train = train_windows(df_usa, 30,5)"
   ]
  },
  {
   "cell_type": "code",
   "execution_count": 373,
   "metadata": {},
   "outputs": [],
   "source": [
    "X_train, Y_train = shuffle(X_train, Y_train)"
   ]
  },
  {
   "cell_type": "code",
   "execution_count": 374,
   "metadata": {},
   "outputs": [],
   "source": [
    "X_train, Y_train, X_test, Y_test = splitData(X_train, Y_train, 0.1)"
   ]
  },
  {
   "cell_type": "markdown",
   "metadata": {},
   "source": [
    "### Building LSTM model\n",
    "- Input data of LSTM model needs to be constructed into 3 dimensions. \n",
    "X_train has the shape of (113, 30, 28), which mean 113 input records, 30 days as a batch for training, and the data contains 28 features.\n",
    "- The model consists of 2 LSTM layers, and 2 Dense layers\n",
    "- The first hidden layer (Dense) has 5 nodes, and an output layer that predicts 5 numerical value.\n",
    "- The activation function is \"sigmoid\"\n",
    "- The optimizor of this model is \"Adam\", and I adopted \"MAE\" as loss function "
   ]
  },
  {
   "cell_type": "code",
   "execution_count": 375,
   "metadata": {},
   "outputs": [
    {
     "data": {
      "text/plain": [
       "(113, 30, 19)"
      ]
     },
     "execution_count": 375,
     "metadata": {},
     "output_type": "execute_result"
    }
   ],
   "source": [
    "X_train.shape"
   ]
  },
  {
   "cell_type": "code",
   "execution_count": 376,
   "metadata": {},
   "outputs": [
    {
     "data": {
      "text/plain": [
       "(113, 5)"
      ]
     },
     "execution_count": 376,
     "metadata": {},
     "output_type": "execute_result"
    }
   ],
   "source": [
    "Y_train.shape"
   ]
  },
  {
   "cell_type": "code",
   "execution_count": 381,
   "metadata": {},
   "outputs": [
    {
     "data": {
      "text/plain": [
       "113"
      ]
     },
     "execution_count": 381,
     "metadata": {},
     "output_type": "execute_result"
    }
   ],
   "source": [
    "len(Y_train)"
   ]
  },
  {
   "cell_type": "code",
   "execution_count": 377,
   "metadata": {},
   "outputs": [],
   "source": [
    "def lstm_covid_model(shape):\n",
    "    model = Sequential()\n",
    "    model.add(LSTM(256, input_length=shape[1], input_dim=shape[2], return_sequences=True))\n",
    "    model.add(LSTM(256, return_sequences=True))\n",
    "    model.add(TimeDistributed(Dense(1)))\n",
    "    model.add(Flatten())\n",
    "    model.add(Dense(5,activation='softmax'))\n",
    "    model.add(Dense(5,activation='softmax'))\n",
    "    model.compile(loss='MAE', optimizer=\"adam\",metrics=['mean_absolute_error'])\n",
    "    model.summary()\n",
    "    return model"
   ]
  },
  {
   "cell_type": "code",
   "execution_count": 378,
   "metadata": {},
   "outputs": [
    {
     "name": "stdout",
     "output_type": "stream",
     "text": [
      "Model: \"sequential_15\"\n",
      "_________________________________________________________________\n",
      "Layer (type)                 Output Shape              Param #   \n",
      "=================================================================\n",
      "lstm_28 (LSTM)               (None, 30, 256)           282624    \n",
      "_________________________________________________________________\n",
      "lstm_29 (LSTM)               (None, 30, 256)           525312    \n",
      "_________________________________________________________________\n",
      "time_distributed_15 (TimeDis (None, 30, 1)             257       \n",
      "_________________________________________________________________\n",
      "flatten_14 (Flatten)         (None, 30)                0         \n",
      "_________________________________________________________________\n",
      "dense_42 (Dense)             (None, 5)                 155       \n",
      "_________________________________________________________________\n",
      "dense_43 (Dense)             (None, 5)                 30        \n",
      "=================================================================\n",
      "Total params: 808,378\n",
      "Trainable params: 808,378\n",
      "Non-trainable params: 0\n",
      "_________________________________________________________________\n"
     ]
    }
   ],
   "source": [
    "model = lstm_covid_model(X_train.shape)\n",
    "callback = EarlyStopping(monitor=\"mean_absolute_error\", patience=10, verbose=1, mode=\"auto\")"
   ]
  },
  {
   "cell_type": "markdown",
   "metadata": {},
   "source": [
    "### Training Data"
   ]
  },
  {
   "cell_type": "code",
   "execution_count": 379,
   "metadata": {},
   "outputs": [
    {
     "name": "stdout",
     "output_type": "stream",
     "text": [
      "Train on 113 samples, validate on 12 samples\n",
      "Epoch 1/10\n",
      "113/113 [==============================] - 5s 48ms/step - loss: nan - mean_absolute_error: nan - val_loss: nan - val_mean_absolute_error: nan\n",
      "Epoch 2/10\n",
      "113/113 [==============================] - 5s 43ms/step - loss: nan - mean_absolute_error: nan - val_loss: nan - val_mean_absolute_error: nan\n",
      "Epoch 3/10\n",
      "113/113 [==============================] - 5s 47ms/step - loss: nan - mean_absolute_error: nan - val_loss: nan - val_mean_absolute_error: nan\n",
      "Epoch 4/10\n",
      "113/113 [==============================] - 6s 51ms/step - loss: nan - mean_absolute_error: nan - val_loss: nan - val_mean_absolute_error: nan\n",
      "Epoch 5/10\n",
      "113/113 [==============================] - 6s 50ms/step - loss: nan - mean_absolute_error: nan - val_loss: nan - val_mean_absolute_error: nan\n",
      "Epoch 6/10\n",
      "113/113 [==============================] - 6s 49ms/step - loss: nan - mean_absolute_error: nan - val_loss: nan - val_mean_absolute_error: nan\n",
      "Epoch 7/10\n",
      "113/113 [==============================] - 5s 46ms/step - loss: nan - mean_absolute_error: nan - val_loss: nan - val_mean_absolute_error: nan\n",
      "Epoch 8/10\n",
      "113/113 [==============================] - 5s 42ms/step - loss: nan - mean_absolute_error: nan - val_loss: nan - val_mean_absolute_error: nan\n",
      "Epoch 9/10\n",
      "113/113 [==============================] - 5s 44ms/step - loss: nan - mean_absolute_error: nan - val_loss: nan - val_mean_absolute_error: nan\n",
      "Epoch 10/10\n",
      "113/113 [==============================] - 5s 46ms/step - loss: nan - mean_absolute_error: nan - val_loss: nan - val_mean_absolute_error: nan\n",
      "Epoch 00010: early stopping\n"
     ]
    }
   ],
   "source": [
    "history = model.fit(X_train, Y_train, epochs=10, batch_size=1, validation_data=(X_test, Y_test), callbacks=[callback])"
   ]
  },
  {
   "cell_type": "code",
   "execution_count": 341,
   "metadata": {},
   "outputs": [
    {
     "data": {
      "text/plain": [
       "[<matplotlib.lines.Line2D at 0x1a4a383e48>]"
      ]
     },
     "execution_count": 341,
     "metadata": {},
     "output_type": "execute_result"
    },
    {
     "data": {
      "image/png": "[encoded data removed]",
      "text/plain": [
       "<Figure size 432x288 with 1 Axes>"
      ]
     },
     "metadata": {
      "needs_background": "light"
     },
     "output_type": "display_data"
    }
   ],
   "source": [
    "plt.plot(history.history['loss'])"
   ]
  },
  {
   "cell_type": "code",
   "execution_count": 342,
   "metadata": {},
   "outputs": [],
   "source": [
    "real_date = Y_test"
   ]
  },
  {
   "cell_type": "code",
   "execution_count": 343,
   "metadata": {},
   "outputs": [
    {
     "data": {
      "text/plain": [
       "array([[ 164620,  189618,  216721,  245540,  277965],\n",
       "       [   2951,    3774,    4661,    6427,    9415],\n",
       "       [    554,     754,    1025,    1312,    1663],\n",
       "       [ 216721,  245540,  277965,  312237,  337635],\n",
       "       [1601434, 1622670, 1643238, 1662302, 1681212],\n",
       "       [1228603, 1256972, 1283929, 1309541, 1329799],\n",
       "       [  26747,   35206,   46442,   55231,   69194],\n",
       "       [1329799, 1347916, 1369964, 1390746, 1417889],\n",
       "       [ 842629,  869172,  890524,  939053,  965910],\n",
       "       [    433,     554,     754,    1025,    1312],\n",
       "       [      7,       8,      11,      11,      11],\n",
       "       [ 368196,  398809,  432132,  466033,  501560]])"
      ]
     },
     "execution_count": 343,
     "metadata": {},
     "output_type": "execute_result"
    }
   ],
   "source": [
    "real_date"
   ]
  },
  {
   "cell_type": "code",
   "execution_count": 344,
   "metadata": {},
   "outputs": [
    {
     "data": {
      "text/plain": [
       "[<matplotlib.lines.Line2D at 0x1a44f64da0>,\n",
       " <matplotlib.lines.Line2D at 0x1a44f64f28>,\n",
       " <matplotlib.lines.Line2D at 0x1a44f6f0f0>,\n",
       " <matplotlib.lines.Line2D at 0x1a44f6f278>,\n",
       " <matplotlib.lines.Line2D at 0x1a44f6f400>]"
      ]
     },
     "execution_count": 344,
     "metadata": {},
     "output_type": "execute_result"
    },
    {
     "data": {
      "image/png": "[encoded data removed]",
      "text/plain": [
       "<Figure size 432x288 with 1 Axes>"
      ]
     },
     "metadata": {
      "needs_background": "light"
     },
     "output_type": "display_data"
    }
   ],
   "source": [
    "plt.plot(real_date, color = 'black', label = 'Covid Real Data(USA)')"
   ]
  },
  {
   "cell_type": "code",
   "execution_count": 345,
   "metadata": {},
   "outputs": [],
   "source": [
    "predicted_usa = model.predict(X_test1)"
   ]
  },
  {
   "cell_type": "code",
   "execution_count": 346,
   "metadata": {},
   "outputs": [
    {
     "data": {
      "text/plain": [
       "[<matplotlib.lines.Line2D at 0x1a44eceba8>,\n",
       " <matplotlib.lines.Line2D at 0x1a44ece710>,\n",
       " <matplotlib.lines.Line2D at 0x1a44eceeb8>,\n",
       " <matplotlib.lines.Line2D at 0x1a44ee2278>,\n",
       " <matplotlib.lines.Line2D at 0x1a44ee2588>]"
      ]
     },
     "execution_count": 346,
     "metadata": {},
     "output_type": "execute_result"
    },
    {
     "data": {
      "image/png": "[encoded data removed]",
      "text/plain": [
       "<Figure size 432x288 with 1 Axes>"
      ]
     },
     "metadata": {
      "needs_background": "light"
     },
     "output_type": "display_data"
    }
   ],
   "source": [
    "plt.plot(predicted_usa, color = 'green', label = 'Predicted Covid Situation')"
   ]
  },
  {
   "cell_type": "code",
   "execution_count": 347,
   "metadata": {},
   "outputs": [
    {
     "data": {
      "image/png": "[encoded data removed]",
      "text/plain": [
       "<Figure size 432x288 with 1 Axes>"
      ]
     },
     "metadata": {
      "needs_background": "light"
     },
     "output_type": "display_data"
    }
   ],
   "source": [
    "plt.plot(real_date, color = 'black', label = 'Covid19 Real Data(USA)')\n",
    "plt.plot(predicted_usa, color = 'green', label = 'Predicted USA Covid19 Situation')\n",
    "plt.title('COVID 19 Prediction in USA')\n",
    "plt.xlabel('Time')\n",
    "plt.ylabel('DOW Stock Price')\n",
    "plt.show()"
   ]
  },
  {
   "cell_type": "code",
   "execution_count": null,
   "metadata": {},
   "outputs": [],
   "source": []
  }
 ],
 "metadata": {
  "kernelspec": {
   "display_name": "Python 3",
   "language": "python",
   "name": "python3"
  },
  "language_info": {
   "codemirror_mode": {
    "name": "ipython",
    "version": 3
   },
   "file_extension": ".py",
   "mimetype": "text/x-python",
   "name": "python",
   "nbconvert_exporter": "python",
   "pygments_lexer": "ipython3",
   "version": "3.7.3"
  }
 },
 "nbformat": 4,
 "nbformat_minor": 2
}

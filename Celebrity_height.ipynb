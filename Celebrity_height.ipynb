{
 "cells": [
  {
   "cell_type": "markdown",
   "metadata": {},
   "source": [
    "import requests\n",
    "import re\n",
    "import csv\n",
    "import shutil"
   ]
  },
  {
   "cell_type": "code",
   "execution_count": 7,
   "metadata": {},
   "outputs": [],
   "source": [
    "from bs4 import BeautifulSoup"
   ]
  },
  {
   "cell_type": "code",
   "execution_count": 10,
   "metadata": {},
   "outputs": [],
   "source": [
    "img_link = []"
   ]
  },
  {
   "cell_type": "code",
   "execution_count": 11,
   "metadata": {},
   "outputs": [],
   "source": [
    "for i in list(range(1,21)):\n",
    "    web = f\"https://celebsheight.org/?page={i}\"\n",
    "    page = requests.get(web)\n",
    "    soup = BeautifulSoup(page.content, \"html.parser\")\n",
    "    img_links = soup.find_all(\"img\", {\"src\": re.compile('.*?\\.jpg')})\n",
    "    for link in img_links:\n",
    "        img_link.append(link[\"src\"])"
   ]
  },
  {
   "cell_type": "code",
   "execution_count": 14,
   "metadata": {},
   "outputs": [],
   "source": [
    " pic_name = []"
   ]
  },
  {
   "cell_type": "code",
   "execution_count": 15,
   "metadata": {},
   "outputs": [],
   "source": [
    "for img in img_link:\n",
    "    a = img.split(\"/\")\n",
    "    pic_name.append(a[-1])"
   ]
  },
  {
   "cell_type": "code",
   "execution_count": 16,
   "metadata": {},
   "outputs": [],
   "source": [
    "for i in range(len(img_link)):\n",
    "    resp = requests.get(img_link[i], stream=True)\n",
    "    local_file = open(pic_name[i],\"wb\")\n",
    "    resp.raw.decode_content = True\n",
    "    shutil.copyfileobj(resp.raw, local_file)\n",
    "    del resp"
   ]
  },
  {
   "cell_type": "code",
   "execution_count": 17,
   "metadata": {},
   "outputs": [],
   "source": [
    "height_list = []\n",
    "name_list = []\n",
    "height_listt = []\n",
    "name_height_list = {}\n",
    "    "
   ]
  },
  {
   "cell_type": "code",
   "execution_count": 18,
   "metadata": {},
   "outputs": [],
   "source": [
    "for i in list(range(1,21)):\n",
    "    web = f\"https://celebsheight.org/?page={i}\"\n",
    "    page = requests.get(web)\n",
    "    soup = BeautifulSoup(page.content, \"html.parser\")\n",
    "    height = soup.find_all(\"div\", class_ = \"celeb-grid-item-n\")\n",
    "    for i in height:\n",
    "        height_list.append(i)\n",
    "    for i in height[14:]:\n",
    "        name_list.append(i.find(\"h1\").text)\n",
    "        height_listt.append(i.find(\"h2\").text)\n",
    "    for i in range(len(name_list)):\n",
    "        name_height_list[name_list[i]] = height_listt[i]\n",
    "    "
   ]
  },
  {
   "cell_type": "code",
   "execution_count": 19,
   "metadata": {},
   "outputs": [
    {
     "data": {
      "text/plain": [
       "256"
      ]
     },
     "execution_count": 19,
     "metadata": {},
     "output_type": "execute_result"
    }
   ],
   "source": [
    "len(name_height_list)"
   ]
  },
  {
   "cell_type": "code",
   "execution_count": 20,
   "metadata": {},
   "outputs": [],
   "source": [
    "with open('name_height.csv', 'w') as f:\n",
    "    for key in name_height_list.keys():\n",
    "        f.write(\"%s,%s\\n\"%(key,name_height_list[key]))"
   ]
  },
  {
   "cell_type": "code",
   "execution_count": null,
   "metadata": {},
   "outputs": [],
   "source": []
  }
 ],
 "metadata": {
  "kernelspec": {
   "display_name": "Python 3",
   "language": "python",
   "name": "python3"
  },
  "language_info": {
   "codemirror_mode": {
    "name": "ipython",
    "version": 3
   },
   "file_extension": ".py",
   "mimetype": "text/x-python",
   "name": "python",
   "nbconvert_exporter": "python",
   "pygments_lexer": "ipython3",
   "version": "3.7.3"
  }
 },
 "nbformat": 4,
 "nbformat_minor": 2
}

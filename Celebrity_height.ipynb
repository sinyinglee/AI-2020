{
 "cells": [
  {
   "cell_type": "code",
   "execution_count": 1,
   "metadata": {},
   "outputs": [],
   "source": [
    "import requests\n",
    "import re\n",
    "import csv"
   ]
  },
  {
   "cell_type": "code",
   "execution_count": 2,
   "metadata": {},
   "outputs": [],
   "source": [
    "web = \"https://celebsheight.org/?page=1\"\n",
    "page = requests.get(web)"
   ]
  },
  {
   "cell_type": "code",
   "execution_count": 3,
   "metadata": {},
   "outputs": [],
   "source": [
    "from bs4 import BeautifulSoup\n",
    "soup = BeautifulSoup(page.content, \"html.parser\")"
   ]
  },
  {
   "cell_type": "code",
   "execution_count": 4,
   "metadata": {},
   "outputs": [],
   "source": [
    "img_links = soup.find_all(\"img\", {\"src\": re.compile('.*?\\.jpg')})"
   ]
  },
  {
   "cell_type": "code",
   "execution_count": 5,
   "metadata": {},
   "outputs": [],
   "source": [
    "img_link = []"
   ]
  },
  {
   "cell_type": "code",
   "execution_count": 6,
   "metadata": {},
   "outputs": [],
   "source": [
    "for link in img_links:\n",
    "    img_link.append(link[\"src\"])"
   ]
  },
  {
   "cell_type": "code",
   "execution_count": 7,
   "metadata": {},
   "outputs": [
    {
     "data": {
      "text/plain": [
       "['https://celebsheight.org/actors/Georgina Chapman.jpg',\n",
       " 'https://celebsheight.org/actors/Lachlan Power.jpg',\n",
       " 'https://celebsheight.org/actors/Phil Murphy.jpg',\n",
       " 'https://celebsheight.org/actors/Andrew Cuomo.jpg',\n",
       " 'https://celebsheight.org/actors/Gavin Newsom.jpg',\n",
       " 'https://celebsheight.org/actors/Scott Morrison.jpg',\n",
       " 'https://celebsheight.org/actors/Lil Tracy.jpg',\n",
       " 'https://celebsheight.org/actors/Drew Seeley.jpg',\n",
       " 'https://celebsheight.org/actors/Lucas Grabeel.jpg',\n",
       " 'https://celebsheight.org/actors/Vanessa Hudgens.jpg',\n",
       " 'https://celebsheight.org/actors/Adama Traoré.jpg',\n",
       " 'https://celebsheight.org/actors/Toni Kroos.jpg',\n",
       " 'https://celebsheight.org/actors/Pep Guardiola.jpg',\n",
       " 'https://celebsheight.org/actors/1-Celine Dion.jpg',\n",
       " 'https://celebsheight.org/actors/1-Ornella Muti.jpg',\n",
       " 'https://celebsheight.org/actors/7-Tom Cruise.jpg',\n",
       " 'https://celebsheight.org/actors/4-Annasophia Robb.jpg',\n",
       " 'https://celebsheight.org/actors/5-Howie Mandel.jpg',\n",
       " 'https://celebsheight.org/actors/3-Jay Baruchel.jpg',\n",
       " 'https://celebsheight.org/actors/4-Oprah Winfrey.jpg',\n",
       " 'https://celebsheight.org/actors/5-Angela Little.jpg',\n",
       " 'https://celebsheight.org/actors/9-Tina Turner.jpg',\n",
       " 'https://celebsheight.org/actors/10-Dwayne Johnson The Rock.jpg',\n",
       " 'https://celebsheight.org/actors/10-Patricia Clarkson.jpg',\n",
       " 'https://celebsheight.org/actors/4-Jane Fonda.jpg',\n",
       " 'https://celebsheight.org/actors/3-Anne Bancroft.jpg',\n",
       " 'https://celebsheight.org/actors/2-Natalie Portman.jpg',\n",
       " 'https://celebsheight.org/actors/6-Clint Eastwood.jpg',\n",
       " 'https://celebsheight.org/actors/6-Zendaya.jpg',\n",
       " 'https://celebsheight.org/actors/9-Kate Moss.jpg']"
      ]
     },
     "execution_count": 7,
     "metadata": {},
     "output_type": "execute_result"
    }
   ],
   "source": [
    "img_link"
   ]
  },
  {
   "cell_type": "code",
   "execution_count": 8,
   "metadata": {},
   "outputs": [],
   "source": [
    "import os\n",
    "os.makedirs('./img/', exist_ok=True)"
   ]
  },
  {
   "cell_type": "code",
   "execution_count": 9,
   "metadata": {},
   "outputs": [
    {
     "ename": "NameError",
     "evalue": "name 'img' is not defined",
     "output_type": "error",
     "traceback": [
      "\u001b[0;31m---------------------------------------------------------------------------\u001b[0m",
      "\u001b[0;31mNameError\u001b[0m                                 Traceback (most recent call last)",
      "\u001b[0;32m<ipython-input-9-a3d93a7752b6>\u001b[0m in \u001b[0;36m<module>\u001b[0;34m\u001b[0m\n\u001b[1;32m      1\u001b[0m \u001b[0mimg_list\u001b[0m \u001b[0;34m=\u001b[0m \u001b[0;34m[\u001b[0m\u001b[0;34m]\u001b[0m\u001b[0;34m\u001b[0m\u001b[0;34m\u001b[0m\u001b[0m\n\u001b[0;32m----> 2\u001b[0;31m \u001b[0;32mfor\u001b[0m \u001b[0mi\u001b[0m \u001b[0;32min\u001b[0m \u001b[0mimg\u001b[0m\u001b[0;34m:\u001b[0m\u001b[0;34m\u001b[0m\u001b[0;34m\u001b[0m\u001b[0m\n\u001b[0m\u001b[1;32m      3\u001b[0m     \u001b[0mr\u001b[0m \u001b[0;34m=\u001b[0m \u001b[0mrequests\u001b[0m\u001b[0;34m.\u001b[0m\u001b[0mget\u001b[0m\u001b[0;34m(\u001b[0m\u001b[0mi\u001b[0m\u001b[0;34m)\u001b[0m\u001b[0;34m\u001b[0m\u001b[0;34m\u001b[0m\u001b[0m\n\u001b[1;32m      4\u001b[0m     \u001b[0mimg_list\u001b[0m\u001b[0;34m.\u001b[0m\u001b[0mappend\u001b[0m\u001b[0;34m(\u001b[0m\u001b[0mr\u001b[0m\u001b[0;34m)\u001b[0m\u001b[0;34m\u001b[0m\u001b[0;34m\u001b[0m\u001b[0m\n\u001b[1;32m      5\u001b[0m \u001b[0;34m\u001b[0m\u001b[0m\n",
      "\u001b[0;31mNameError\u001b[0m: name 'img' is not defined"
     ]
    }
   ],
   "source": [
    "img_list = []\n",
    "for i in img:\n",
    "    r = requests.get(i)\n",
    "    img_list.append(r)\n",
    "\n",
    "for i in img_list:\n",
    "    with open('./img/image2.png', 'wb') as f:\n",
    "        f.write(i.content)"
   ]
  },
  {
   "cell_type": "code",
   "execution_count": 10,
   "metadata": {},
   "outputs": [],
   "source": [
    "height_list = []\n",
    "name_list = []\n",
    "height_listt = []\n",
    "name_height_list = {}\n",
    "    "
   ]
  },
  {
   "cell_type": "code",
   "execution_count": 11,
   "metadata": {},
   "outputs": [],
   "source": [
    "for i in list(range(1,21)):\n",
    "    web = f\"https://celebsheight.org/?page={i}\"\n",
    "    page = requests.get(web)\n",
    "    soup = BeautifulSoup(page.content, \"html.parser\")\n",
    "    height = soup.find_all(\"div\", class_ = \"celeb-grid-item-n\")\n",
    "    for i in height:\n",
    "        height_list.append(i)\n",
    "    for i in height[14:]:\n",
    "        name_list.append(i.find(\"h1\").text)\n",
    "        height_listt.append(i.find(\"h2\").text)\n",
    "    for i in range(len(name_list)):\n",
    "        name_height_list[name_list[i]] = height_listt[i]\n",
    "    "
   ]
  },
  {
   "cell_type": "code",
   "execution_count": 12,
   "metadata": {},
   "outputs": [
    {
     "data": {
      "text/plain": [
       "247"
      ]
     },
     "execution_count": 12,
     "metadata": {},
     "output_type": "execute_result"
    }
   ],
   "source": [
    "len(name_height_list)"
   ]
  },
  {
   "cell_type": "code",
   "execution_count": 13,
   "metadata": {},
   "outputs": [],
   "source": [
    "with open('name_height.csv', 'w') as f:\n",
    "    for key in name_height_list.keys():\n",
    "        f.write(\"%s,%s\\n\"%(key,name_height_list[key]))"
   ]
  },
  {
   "cell_type": "code",
   "execution_count": null,
   "metadata": {},
   "outputs": [],
   "source": []
  }
 ],
 "metadata": {
  "kernelspec": {
   "display_name": "Python 3",
   "language": "python",
   "name": "python3"
  },
  "language_info": {
   "codemirror_mode": {
    "name": "ipython",
    "version": 3
   },
   "file_extension": ".py",
   "mimetype": "text/x-python",
   "name": "python",
   "nbconvert_exporter": "python",
   "pygments_lexer": "ipython3",
   "version": "3.7.3"
  }
 },
 "nbformat": 4,
 "nbformat_minor": 2
}

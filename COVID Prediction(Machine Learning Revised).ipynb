{
 "cells": [
  {
   "cell_type": "markdown",
   "metadata": {},
   "source": [
    "### Data Processing: find how many days to stability"
   ]
  },
  {
   "cell_type": "code",
   "execution_count": 59,
   "metadata": {},
   "outputs": [],
   "source": [
    "%matplotlib inline\n",
    "import numpy as np\n",
    "import pandas as pd\n",
    "import matplotlib.pyplot as plt"
   ]
  },
  {
   "cell_type": "code",
   "execution_count": 60,
   "metadata": {},
   "outputs": [],
   "source": [
    "covid_original = pd.read_csv(\"owid-covid-data.csv\")"
   ]
  },
  {
   "cell_type": "code",
   "execution_count": 61,
   "metadata": {},
   "outputs": [],
   "source": [
    "country=[\"Germany\"\n",
    "         ,\"Russia\"\n",
    "         ,\"United Kingdom\",\"France\",\"Italy\",\"Spain\",\"Ukraine\",\"Poland\",\"Romania\",\"Netherlands\",\"Belgium\",\"Czech Republic\",\"Greece\",\"Portugal\"\n",
    ",\"Sweden\"\n",
    ",\"Hungary\"\n",
    ",\"Belarus\"\n",
    ",\"Austria\"\n",
    ",\"Serbia\"\n",
    ",\"Switzerland\"\n",
    ",\"Bulgaria\"\n",
    ",\"Denmark\"\n",
    ",\"Finland\"\n",
    ",\"Slovakia\"\n",
    ",\"Norway\"\n",
    ",\"Ireland\"\n",
    ",\"Croatia\"\n",
    ",\"Moldova\"\n",
    ",\"Bosnia and Herzegovina\"\n",
    ",\"Albania\"\n",
    ",\"Lithuania\"\n",
    ",\"North Macedonia\"\n",
    ",\"Slovenia\"\n",
    ",\"Latvia\"\n",
    ",\"Estonia\"\n",
    ",\"Montenegro\"\n",
    ",\"Luxembourg\"\n",
    ",\"Malta\"\n",
    ",\"Iceland\"\n",
    ",\"Canada\"\n",
    ",\"Australia\"\n",
    ",\"New Zealand\"]"
   ]
  },
  {
   "cell_type": "markdown",
   "metadata": {},
   "source": [
    "##### Germany Testing"
   ]
  },
  {
   "cell_type": "code",
   "execution_count": 62,
   "metadata": {},
   "outputs": [],
   "source": [
    "germany_case = covid_original.loc[(covid_original[\"location\"] ==\"Germany\")&(covid_original[\"total_cases\"]>=30), [\"date\",\"total_cases\"]]"
   ]
  },
  {
   "cell_type": "code",
   "execution_count": 63,
   "metadata": {},
   "outputs": [],
   "source": [
    "germany_case[\"date\"] = pd.to_datetime(germany_case[\"date\"],format=\"%Y-%m-%d\")"
   ]
  },
  {
   "cell_type": "code",
   "execution_count": 64,
   "metadata": {},
   "outputs": [
    {
     "data": {
      "text/plain": [
       "pandas.core.series.Series"
      ]
     },
     "execution_count": 64,
     "metadata": {},
     "output_type": "execute_result"
    }
   ],
   "source": [
    "type(germany_case[\"date\"])"
   ]
  },
  {
   "cell_type": "code",
   "execution_count": 65,
   "metadata": {},
   "outputs": [
    {
     "data": {
      "text/plain": [
       "137439.0"
      ]
     },
     "execution_count": 65,
     "metadata": {},
     "output_type": "execute_result"
    }
   ],
   "source": [
    "germany_case.total_cases.median() "
   ]
  },
  {
   "cell_type": "code",
   "execution_count": 66,
   "metadata": {},
   "outputs": [
    {
     "data": {
      "text/html": [
       "<div>\n",
       "<style scoped>\n",
       "    .dataframe tbody tr th:only-of-type {\n",
       "        vertical-align: middle;\n",
       "    }\n",
       "\n",
       "    .dataframe tbody tr th {\n",
       "        vertical-align: top;\n",
       "    }\n",
       "\n",
       "    .dataframe thead th {\n",
       "        text-align: right;\n",
       "    }\n",
       "</style>\n",
       "<table border=\"1\" class=\"dataframe\">\n",
       "  <thead>\n",
       "    <tr style=\"text-align: right;\">\n",
       "      <th></th>\n",
       "      <th>date</th>\n",
       "      <th>total_cases</th>\n",
       "    </tr>\n",
       "  </thead>\n",
       "  <tbody>\n",
       "    <tr>\n",
       "      <th>7754</th>\n",
       "      <td>2020-02-28</td>\n",
       "      <td>47</td>\n",
       "    </tr>\n",
       "    <tr>\n",
       "      <th>7755</th>\n",
       "      <td>2020-02-29</td>\n",
       "      <td>57</td>\n",
       "    </tr>\n",
       "    <tr>\n",
       "      <th>7756</th>\n",
       "      <td>2020-03-01</td>\n",
       "      <td>111</td>\n",
       "    </tr>\n",
       "    <tr>\n",
       "      <th>7757</th>\n",
       "      <td>2020-03-02</td>\n",
       "      <td>129</td>\n",
       "    </tr>\n",
       "    <tr>\n",
       "      <th>7758</th>\n",
       "      <td>2020-03-03</td>\n",
       "      <td>157</td>\n",
       "    </tr>\n",
       "    <tr>\n",
       "      <th>7759</th>\n",
       "      <td>2020-03-04</td>\n",
       "      <td>196</td>\n",
       "    </tr>\n",
       "    <tr>\n",
       "      <th>7760</th>\n",
       "      <td>2020-03-05</td>\n",
       "      <td>262</td>\n",
       "    </tr>\n",
       "    <tr>\n",
       "      <th>7761</th>\n",
       "      <td>2020-03-06</td>\n",
       "      <td>400</td>\n",
       "    </tr>\n",
       "    <tr>\n",
       "      <th>7762</th>\n",
       "      <td>2020-03-07</td>\n",
       "      <td>684</td>\n",
       "    </tr>\n",
       "    <tr>\n",
       "      <th>7763</th>\n",
       "      <td>2020-03-08</td>\n",
       "      <td>847</td>\n",
       "    </tr>\n",
       "  </tbody>\n",
       "</table>\n",
       "</div>"
      ],
      "text/plain": [
       "           date  total_cases\n",
       "7754 2020-02-28           47\n",
       "7755 2020-02-29           57\n",
       "7756 2020-03-01          111\n",
       "7757 2020-03-02          129\n",
       "7758 2020-03-03          157\n",
       "7759 2020-03-04          196\n",
       "7760 2020-03-05          262\n",
       "7761 2020-03-06          400\n",
       "7762 2020-03-07          684\n",
       "7763 2020-03-08          847"
      ]
     },
     "execution_count": 66,
     "metadata": {},
     "output_type": "execute_result"
    }
   ],
   "source": [
    "germany_case.head(10)"
   ]
  },
  {
   "cell_type": "code",
   "execution_count": 67,
   "metadata": {},
   "outputs": [],
   "source": [
    "x = germany_case[\"total_cases\"]\n",
    "y = germany_case[\"date\"]"
   ]
  },
  {
   "cell_type": "code",
   "execution_count": 68,
   "metadata": {},
   "outputs": [
    {
     "data": {
      "text/plain": [
       "<matplotlib.collections.PathCollection at 0x1157e0898>"
      ]
     },
     "execution_count": 68,
     "metadata": {},
     "output_type": "execute_result"
    },
    {
     "data": {
      "image/png": "[encoded data removed]",
      "text/plain": [
       "<Figure size 432x288 with 1 Axes>"
      ]
     },
     "metadata": {
      "needs_background": "light"
     },
     "output_type": "display_data"
    }
   ],
   "source": [
    "plt.scatter(x,y)"
   ]
  },
  {
   "cell_type": "code",
   "execution_count": 69,
   "metadata": {},
   "outputs": [],
   "source": [
    "date_over_median = covid_original.loc[(covid_original[\"location\"] ==\"Germany\")&(covid_original[\"total_cases\"]>=137439), [\"date\",\"total_cases\"]]"
   ]
  },
  {
   "cell_type": "code",
   "execution_count": 70,
   "metadata": {},
   "outputs": [
    {
     "data": {
      "text/html": [
       "<div>\n",
       "<style scoped>\n",
       "    .dataframe tbody tr th:only-of-type {\n",
       "        vertical-align: middle;\n",
       "    }\n",
       "\n",
       "    .dataframe tbody tr th {\n",
       "        vertical-align: top;\n",
       "    }\n",
       "\n",
       "    .dataframe thead th {\n",
       "        text-align: right;\n",
       "    }\n",
       "</style>\n",
       "<table border=\"1\" class=\"dataframe\">\n",
       "  <thead>\n",
       "    <tr style=\"text-align: right;\">\n",
       "      <th></th>\n",
       "      <th>date</th>\n",
       "      <th>total_cases</th>\n",
       "    </tr>\n",
       "  </thead>\n",
       "  <tbody>\n",
       "    <tr>\n",
       "      <th>7804</th>\n",
       "      <td>2020-04-18</td>\n",
       "      <td>137439</td>\n",
       "    </tr>\n",
       "    <tr>\n",
       "      <th>7805</th>\n",
       "      <td>2020-04-19</td>\n",
       "      <td>139897</td>\n",
       "    </tr>\n",
       "    <tr>\n",
       "      <th>7806</th>\n",
       "      <td>2020-04-20</td>\n",
       "      <td>141672</td>\n",
       "    </tr>\n",
       "    <tr>\n",
       "      <th>7807</th>\n",
       "      <td>2020-04-21</td>\n",
       "      <td>143457</td>\n",
       "    </tr>\n",
       "    <tr>\n",
       "      <th>7808</th>\n",
       "      <td>2020-04-22</td>\n",
       "      <td>145694</td>\n",
       "    </tr>\n",
       "    <tr>\n",
       "      <th>7809</th>\n",
       "      <td>2020-04-23</td>\n",
       "      <td>148046</td>\n",
       "    </tr>\n",
       "    <tr>\n",
       "      <th>7810</th>\n",
       "      <td>2020-04-24</td>\n",
       "      <td>150383</td>\n",
       "    </tr>\n",
       "    <tr>\n",
       "      <th>7811</th>\n",
       "      <td>2020-04-25</td>\n",
       "      <td>152438</td>\n",
       "    </tr>\n",
       "    <tr>\n",
       "      <th>7812</th>\n",
       "      <td>2020-04-26</td>\n",
       "      <td>154175</td>\n",
       "    </tr>\n",
       "    <tr>\n",
       "      <th>7813</th>\n",
       "      <td>2020-04-27</td>\n",
       "      <td>155193</td>\n",
       "    </tr>\n",
       "    <tr>\n",
       "      <th>7814</th>\n",
       "      <td>2020-04-28</td>\n",
       "      <td>156337</td>\n",
       "    </tr>\n",
       "    <tr>\n",
       "      <th>7815</th>\n",
       "      <td>2020-04-29</td>\n",
       "      <td>157641</td>\n",
       "    </tr>\n",
       "    <tr>\n",
       "      <th>7816</th>\n",
       "      <td>2020-04-30</td>\n",
       "      <td>159119</td>\n",
       "    </tr>\n",
       "    <tr>\n",
       "      <th>7817</th>\n",
       "      <td>2020-05-01</td>\n",
       "      <td>159119</td>\n",
       "    </tr>\n",
       "    <tr>\n",
       "      <th>7818</th>\n",
       "      <td>2020-05-02</td>\n",
       "      <td>161703</td>\n",
       "    </tr>\n",
       "    <tr>\n",
       "      <th>7819</th>\n",
       "      <td>2020-05-03</td>\n",
       "      <td>162496</td>\n",
       "    </tr>\n",
       "    <tr>\n",
       "      <th>7820</th>\n",
       "      <td>2020-05-04</td>\n",
       "      <td>163175</td>\n",
       "    </tr>\n",
       "    <tr>\n",
       "      <th>7821</th>\n",
       "      <td>2020-05-05</td>\n",
       "      <td>163860</td>\n",
       "    </tr>\n",
       "    <tr>\n",
       "      <th>7822</th>\n",
       "      <td>2020-05-06</td>\n",
       "      <td>164897</td>\n",
       "    </tr>\n",
       "    <tr>\n",
       "      <th>7823</th>\n",
       "      <td>2020-05-07</td>\n",
       "      <td>166091</td>\n",
       "    </tr>\n",
       "    <tr>\n",
       "      <th>7824</th>\n",
       "      <td>2020-05-08</td>\n",
       "      <td>167300</td>\n",
       "    </tr>\n",
       "    <tr>\n",
       "      <th>7825</th>\n",
       "      <td>2020-05-09</td>\n",
       "      <td>168551</td>\n",
       "    </tr>\n",
       "    <tr>\n",
       "      <th>7826</th>\n",
       "      <td>2020-05-10</td>\n",
       "      <td>169218</td>\n",
       "    </tr>\n",
       "    <tr>\n",
       "      <th>7827</th>\n",
       "      <td>2020-05-11</td>\n",
       "      <td>169575</td>\n",
       "    </tr>\n",
       "    <tr>\n",
       "      <th>7828</th>\n",
       "      <td>2020-05-12</td>\n",
       "      <td>170508</td>\n",
       "    </tr>\n",
       "    <tr>\n",
       "      <th>7829</th>\n",
       "      <td>2020-05-13</td>\n",
       "      <td>171306</td>\n",
       "    </tr>\n",
       "    <tr>\n",
       "      <th>7830</th>\n",
       "      <td>2020-05-14</td>\n",
       "      <td>172239</td>\n",
       "    </tr>\n",
       "    <tr>\n",
       "      <th>7831</th>\n",
       "      <td>2020-05-15</td>\n",
       "      <td>173152</td>\n",
       "    </tr>\n",
       "    <tr>\n",
       "      <th>7832</th>\n",
       "      <td>2020-05-16</td>\n",
       "      <td>173772</td>\n",
       "    </tr>\n",
       "    <tr>\n",
       "      <th>7833</th>\n",
       "      <td>2020-05-17</td>\n",
       "      <td>174355</td>\n",
       "    </tr>\n",
       "    <tr>\n",
       "      <th>7834</th>\n",
       "      <td>2020-05-18</td>\n",
       "      <td>174697</td>\n",
       "    </tr>\n",
       "    <tr>\n",
       "      <th>7835</th>\n",
       "      <td>2020-05-19</td>\n",
       "      <td>175210</td>\n",
       "    </tr>\n",
       "    <tr>\n",
       "      <th>7836</th>\n",
       "      <td>2020-05-20</td>\n",
       "      <td>176007</td>\n",
       "    </tr>\n",
       "    <tr>\n",
       "      <th>7837</th>\n",
       "      <td>2020-05-21</td>\n",
       "      <td>176752</td>\n",
       "    </tr>\n",
       "    <tr>\n",
       "      <th>7838</th>\n",
       "      <td>2020-05-22</td>\n",
       "      <td>177212</td>\n",
       "    </tr>\n",
       "    <tr>\n",
       "      <th>7839</th>\n",
       "      <td>2020-05-23</td>\n",
       "      <td>177850</td>\n",
       "    </tr>\n",
       "    <tr>\n",
       "      <th>7840</th>\n",
       "      <td>2020-05-24</td>\n",
       "      <td>178281</td>\n",
       "    </tr>\n",
       "    <tr>\n",
       "      <th>7841</th>\n",
       "      <td>2020-05-25</td>\n",
       "      <td>178570</td>\n",
       "    </tr>\n",
       "    <tr>\n",
       "      <th>7842</th>\n",
       "      <td>2020-05-26</td>\n",
       "      <td>179002</td>\n",
       "    </tr>\n",
       "    <tr>\n",
       "      <th>7843</th>\n",
       "      <td>2020-05-27</td>\n",
       "      <td>179364</td>\n",
       "    </tr>\n",
       "    <tr>\n",
       "      <th>7844</th>\n",
       "      <td>2020-05-28</td>\n",
       "      <td>179717</td>\n",
       "    </tr>\n",
       "    <tr>\n",
       "      <th>7845</th>\n",
       "      <td>2020-05-29</td>\n",
       "      <td>180458</td>\n",
       "    </tr>\n",
       "    <tr>\n",
       "      <th>7846</th>\n",
       "      <td>2020-05-30</td>\n",
       "      <td>181196</td>\n",
       "    </tr>\n",
       "    <tr>\n",
       "      <th>7847</th>\n",
       "      <td>2020-05-31</td>\n",
       "      <td>181482</td>\n",
       "    </tr>\n",
       "    <tr>\n",
       "      <th>7848</th>\n",
       "      <td>2020-06-01</td>\n",
       "      <td>181815</td>\n",
       "    </tr>\n",
       "    <tr>\n",
       "      <th>7849</th>\n",
       "      <td>2020-06-02</td>\n",
       "      <td>182028</td>\n",
       "    </tr>\n",
       "    <tr>\n",
       "      <th>7850</th>\n",
       "      <td>2020-06-03</td>\n",
       "      <td>182370</td>\n",
       "    </tr>\n",
       "    <tr>\n",
       "      <th>7851</th>\n",
       "      <td>2020-06-04</td>\n",
       "      <td>182764</td>\n",
       "    </tr>\n",
       "    <tr>\n",
       "      <th>7852</th>\n",
       "      <td>2020-06-05</td>\n",
       "      <td>183271</td>\n",
       "    </tr>\n",
       "    <tr>\n",
       "      <th>7853</th>\n",
       "      <td>2020-06-06</td>\n",
       "      <td>183678</td>\n",
       "    </tr>\n",
       "    <tr>\n",
       "      <th>7854</th>\n",
       "      <td>2020-06-07</td>\n",
       "      <td>183979</td>\n",
       "    </tr>\n",
       "  </tbody>\n",
       "</table>\n",
       "</div>"
      ],
      "text/plain": [
       "            date  total_cases\n",
       "7804  2020-04-18       137439\n",
       "7805  2020-04-19       139897\n",
       "7806  2020-04-20       141672\n",
       "7807  2020-04-21       143457\n",
       "7808  2020-04-22       145694\n",
       "7809  2020-04-23       148046\n",
       "7810  2020-04-24       150383\n",
       "7811  2020-04-25       152438\n",
       "7812  2020-04-26       154175\n",
       "7813  2020-04-27       155193\n",
       "7814  2020-04-28       156337\n",
       "7815  2020-04-29       157641\n",
       "7816  2020-04-30       159119\n",
       "7817  2020-05-01       159119\n",
       "7818  2020-05-02       161703\n",
       "7819  2020-05-03       162496\n",
       "7820  2020-05-04       163175\n",
       "7821  2020-05-05       163860\n",
       "7822  2020-05-06       164897\n",
       "7823  2020-05-07       166091\n",
       "7824  2020-05-08       167300\n",
       "7825  2020-05-09       168551\n",
       "7826  2020-05-10       169218\n",
       "7827  2020-05-11       169575\n",
       "7828  2020-05-12       170508\n",
       "7829  2020-05-13       171306\n",
       "7830  2020-05-14       172239\n",
       "7831  2020-05-15       173152\n",
       "7832  2020-05-16       173772\n",
       "7833  2020-05-17       174355\n",
       "7834  2020-05-18       174697\n",
       "7835  2020-05-19       175210\n",
       "7836  2020-05-20       176007\n",
       "7837  2020-05-21       176752\n",
       "7838  2020-05-22       177212\n",
       "7839  2020-05-23       177850\n",
       "7840  2020-05-24       178281\n",
       "7841  2020-05-25       178570\n",
       "7842  2020-05-26       179002\n",
       "7843  2020-05-27       179364\n",
       "7844  2020-05-28       179717\n",
       "7845  2020-05-29       180458\n",
       "7846  2020-05-30       181196\n",
       "7847  2020-05-31       181482\n",
       "7848  2020-06-01       181815\n",
       "7849  2020-06-02       182028\n",
       "7850  2020-06-03       182370\n",
       "7851  2020-06-04       182764\n",
       "7852  2020-06-05       183271\n",
       "7853  2020-06-06       183678\n",
       "7854  2020-06-07       183979"
      ]
     },
     "execution_count": 70,
     "metadata": {},
     "output_type": "execute_result"
    }
   ],
   "source": [
    "date_over_median"
   ]
  },
  {
   "cell_type": "code",
   "execution_count": 71,
   "metadata": {},
   "outputs": [],
   "source": [
    "date_over_mean_list = date_over_median[\"date\"].tolist()"
   ]
  },
  {
   "cell_type": "code",
   "execution_count": 72,
   "metadata": {},
   "outputs": [
    {
     "data": {
      "text/plain": [
       "'2020-04-18'"
      ]
     },
     "execution_count": 72,
     "metadata": {},
     "output_type": "execute_result"
    }
   ],
   "source": [
    "date_over_mean_list[0]"
   ]
  },
  {
   "cell_type": "code",
   "execution_count": 73,
   "metadata": {},
   "outputs": [],
   "source": [
    "date = []\n",
    "case = []"
   ]
  },
  {
   "cell_type": "code",
   "execution_count": 74,
   "metadata": {},
   "outputs": [],
   "source": [
    "for i in germany_case[\"date\"]:\n",
    "    date.append(i)"
   ]
  },
  {
   "cell_type": "code",
   "execution_count": 75,
   "metadata": {},
   "outputs": [],
   "source": [
    "for i in germany_case[\"total_cases\"]:\n",
    "    case.append(i)"
   ]
  },
  {
   "cell_type": "code",
   "execution_count": 76,
   "metadata": {},
   "outputs": [],
   "source": [
    "change_rate = []"
   ]
  },
  {
   "cell_type": "code",
   "execution_count": 77,
   "metadata": {},
   "outputs": [],
   "source": [
    "for index, value in enumerate(case):\n",
    "    try:\n",
    "        rate = ((case[index+1] - value)/value)\n",
    "        change_rate.append(rate)\n",
    "    except:\n",
    "        pass\n",
    "    "
   ]
  },
  {
   "cell_type": "code",
   "execution_count": 78,
   "metadata": {},
   "outputs": [],
   "source": [
    "change_rate = np.asarray(change_rate)"
   ]
  },
  {
   "cell_type": "code",
   "execution_count": 79,
   "metadata": {},
   "outputs": [],
   "source": [
    "data = {\"Date\":date[1:], \"Change Rate\":change_rate}"
   ]
  },
  {
   "cell_type": "code",
   "execution_count": 80,
   "metadata": {},
   "outputs": [],
   "source": [
    "df = pd.DataFrame(data)"
   ]
  },
  {
   "cell_type": "code",
   "execution_count": 81,
   "metadata": {},
   "outputs": [],
   "source": [
    "df[\"Date\"] = pd.to_datetime(df[\"Date\"],format=\"%Y-%m-%d\")"
   ]
  },
  {
   "cell_type": "code",
   "execution_count": 82,
   "metadata": {},
   "outputs": [
    {
     "data": {
      "text/html": [
       "<div>\n",
       "<style scoped>\n",
       "    .dataframe tbody tr th:only-of-type {\n",
       "        vertical-align: middle;\n",
       "    }\n",
       "\n",
       "    .dataframe tbody tr th {\n",
       "        vertical-align: top;\n",
       "    }\n",
       "\n",
       "    .dataframe thead th {\n",
       "        text-align: right;\n",
       "    }\n",
       "</style>\n",
       "<table border=\"1\" class=\"dataframe\">\n",
       "  <thead>\n",
       "    <tr style=\"text-align: right;\">\n",
       "      <th></th>\n",
       "      <th>Date</th>\n",
       "      <th>Change Rate</th>\n",
       "    </tr>\n",
       "  </thead>\n",
       "  <tbody>\n",
       "    <tr>\n",
       "      <th>0</th>\n",
       "      <td>2020-02-29</td>\n",
       "      <td>0.212766</td>\n",
       "    </tr>\n",
       "    <tr>\n",
       "      <th>1</th>\n",
       "      <td>2020-03-01</td>\n",
       "      <td>0.947368</td>\n",
       "    </tr>\n",
       "    <tr>\n",
       "      <th>2</th>\n",
       "      <td>2020-03-02</td>\n",
       "      <td>0.162162</td>\n",
       "    </tr>\n",
       "    <tr>\n",
       "      <th>3</th>\n",
       "      <td>2020-03-03</td>\n",
       "      <td>0.217054</td>\n",
       "    </tr>\n",
       "    <tr>\n",
       "      <th>4</th>\n",
       "      <td>2020-03-04</td>\n",
       "      <td>0.248408</td>\n",
       "    </tr>\n",
       "    <tr>\n",
       "      <th>5</th>\n",
       "      <td>2020-03-05</td>\n",
       "      <td>0.336735</td>\n",
       "    </tr>\n",
       "    <tr>\n",
       "      <th>6</th>\n",
       "      <td>2020-03-06</td>\n",
       "      <td>0.526718</td>\n",
       "    </tr>\n",
       "    <tr>\n",
       "      <th>7</th>\n",
       "      <td>2020-03-07</td>\n",
       "      <td>0.710000</td>\n",
       "    </tr>\n",
       "    <tr>\n",
       "      <th>8</th>\n",
       "      <td>2020-03-08</td>\n",
       "      <td>0.238304</td>\n",
       "    </tr>\n",
       "    <tr>\n",
       "      <th>9</th>\n",
       "      <td>2020-03-09</td>\n",
       "      <td>0.064935</td>\n",
       "    </tr>\n",
       "  </tbody>\n",
       "</table>\n",
       "</div>"
      ],
      "text/plain": [
       "        Date  Change Rate\n",
       "0 2020-02-29     0.212766\n",
       "1 2020-03-01     0.947368\n",
       "2 2020-03-02     0.162162\n",
       "3 2020-03-03     0.217054\n",
       "4 2020-03-04     0.248408\n",
       "5 2020-03-05     0.336735\n",
       "6 2020-03-06     0.526718\n",
       "7 2020-03-07     0.710000\n",
       "8 2020-03-08     0.238304\n",
       "9 2020-03-09     0.064935"
      ]
     },
     "execution_count": 82,
     "metadata": {},
     "output_type": "execute_result"
    }
   ],
   "source": [
    "df.head(10)"
   ]
  },
  {
   "cell_type": "code",
   "execution_count": 83,
   "metadata": {},
   "outputs": [],
   "source": [
    "new_df = df.loc[df[\"Date\"]>\"2020-04-09\",:]\n",
    "new_df_quantile = new_df.quantile([0.25,0.5,0.75])"
   ]
  },
  {
   "cell_type": "code",
   "execution_count": 84,
   "metadata": {},
   "outputs": [],
   "source": [
    "new_df_average = new_df_quantile[\"Change Rate\"].tolist()"
   ]
  },
  {
   "cell_type": "code",
   "execution_count": 85,
   "metadata": {},
   "outputs": [
    {
     "data": {
      "text/plain": [
       "[0.0025129535089663023, 0.0049040524912957704, 0.013176507262753129]"
      ]
     },
     "execution_count": 85,
     "metadata": {},
     "output_type": "execute_result"
    }
   ],
   "source": [
    "new_df_average"
   ]
  },
  {
   "cell_type": "markdown",
   "metadata": {},
   "source": [
    "##### Germany reach stabiliy on 2020/05/10, and it took Germany 72 days to control the pandemic"
   ]
  },
  {
   "cell_type": "code",
   "execution_count": 86,
   "metadata": {},
   "outputs": [],
   "source": [
    "stable_date = new_df.loc[df[\"Change Rate\"]<0.4,:\"Date\"]"
   ]
  },
  {
   "cell_type": "code",
   "execution_count": 87,
   "metadata": {},
   "outputs": [],
   "source": [
    "stable_date_list = stable_date[\"Date\"].tolist()"
   ]
  },
  {
   "cell_type": "code",
   "execution_count": 88,
   "metadata": {},
   "outputs": [
    {
     "data": {
      "text/html": [
       "<div>\n",
       "<style scoped>\n",
       "    .dataframe tbody tr th:only-of-type {\n",
       "        vertical-align: middle;\n",
       "    }\n",
       "\n",
       "    .dataframe tbody tr th {\n",
       "        vertical-align: top;\n",
       "    }\n",
       "\n",
       "    .dataframe thead th {\n",
       "        text-align: right;\n",
       "    }\n",
       "</style>\n",
       "<table border=\"1\" class=\"dataframe\">\n",
       "  <thead>\n",
       "    <tr style=\"text-align: right;\">\n",
       "      <th></th>\n",
       "      <th>Date</th>\n",
       "    </tr>\n",
       "  </thead>\n",
       "  <tbody>\n",
       "    <tr>\n",
       "      <th>41</th>\n",
       "      <td>2020-04-10</td>\n",
       "    </tr>\n",
       "    <tr>\n",
       "      <th>42</th>\n",
       "      <td>2020-04-11</td>\n",
       "    </tr>\n",
       "    <tr>\n",
       "      <th>43</th>\n",
       "      <td>2020-04-12</td>\n",
       "    </tr>\n",
       "    <tr>\n",
       "      <th>44</th>\n",
       "      <td>2020-04-13</td>\n",
       "    </tr>\n",
       "    <tr>\n",
       "      <th>45</th>\n",
       "      <td>2020-04-14</td>\n",
       "    </tr>\n",
       "  </tbody>\n",
       "</table>\n",
       "</div>"
      ],
      "text/plain": [
       "         Date\n",
       "41 2020-04-10\n",
       "42 2020-04-11\n",
       "43 2020-04-12\n",
       "44 2020-04-13\n",
       "45 2020-04-14"
      ]
     },
     "execution_count": 88,
     "metadata": {},
     "output_type": "execute_result"
    }
   ],
   "source": [
    "stable_date.head()"
   ]
  },
  {
   "cell_type": "code",
   "execution_count": 89,
   "metadata": {},
   "outputs": [],
   "source": [
    "day_to_stable = stable_date_list[1] - germany_case[\"date\"].min()"
   ]
  },
  {
   "cell_type": "code",
   "execution_count": 90,
   "metadata": {},
   "outputs": [
    {
     "data": {
      "text/plain": [
       "Timedelta('43 days 00:00:00')"
      ]
     },
     "execution_count": 90,
     "metadata": {},
     "output_type": "execute_result"
    }
   ],
   "source": [
    "day_to_stable"
   ]
  },
  {
   "cell_type": "markdown",
   "metadata": {},
   "source": [
    "### Testing for all countries"
   ]
  },
  {
   "cell_type": "code",
   "execution_count": 91,
   "metadata": {},
   "outputs": [],
   "source": [
    "def mean_date(i):\n",
    "    country_case = covid_original.loc[(covid_original[\"location\"] ==i)&(covid_original[\"total_cases\"]>=30), [\"date\",\"total_cases\"]]\n",
    "    country_case[\"date\"] = pd.to_datetime(country_case[\"date\"],format=\"%Y-%m-%d\")\n",
    "    mean_num = country_case.total_cases.mean()\n",
    "    date_over_mean = covid_original.loc[(covid_original[\"location\"] ==i)&(covid_original[\"total_cases\"]>=mean_num), [\"date\",\"total_cases\"]]\n",
    "    date_over_mean_list = date_over_mean[\"date\"].tolist()\n",
    "    date = date_over_mean_list[0]\n",
    "    return date"
   ]
  },
  {
   "cell_type": "code",
   "execution_count": 92,
   "metadata": {},
   "outputs": [],
   "source": [
    "mean = mean_date(\"Russia\")"
   ]
  },
  {
   "cell_type": "code",
   "execution_count": 93,
   "metadata": {},
   "outputs": [
    {
     "data": {
      "text/plain": [
       "'2020-05-05'"
      ]
     },
     "execution_count": 93,
     "metadata": {},
     "output_type": "execute_result"
    }
   ],
   "source": [
    "mean"
   ]
  },
  {
   "cell_type": "code",
   "execution_count": 94,
   "metadata": {},
   "outputs": [],
   "source": [
    "def moving_rate_table(country):\n",
    "    date = []\n",
    "    case = []\n",
    "    country_case = covid_original.loc[(covid_original[\"location\"] ==country)&(covid_original[\"total_cases\"]>=30), [\"date\",\"total_cases\"]]\n",
    "    for i in country_case[\"date\"]:\n",
    "        date.append(i)\n",
    "    for i in country_case[\"total_cases\"]:\n",
    "        case.append(i)\n",
    "    change_rate = []\n",
    "    for index, value in enumerate(case):\n",
    "        try:\n",
    "            rate = ((case[index+1] - value)/value)*100\n",
    "            change_rate.append(rate)\n",
    "        except:\n",
    "            pass\n",
    "    change_rate = np.asarray(change_rate)\n",
    "    data = {\"Date\":date[1:], \"Change Rate\":change_rate}\n",
    "    df = pd.DataFrame(data)\n",
    "    df[\"Date\"] = pd.to_datetime(df[\"Date\"],format=\"%Y-%m-%d\")\n",
    "    return df"
   ]
  },
  {
   "cell_type": "code",
   "execution_count": 95,
   "metadata": {},
   "outputs": [],
   "source": [
    "change_df = moving_rate_table(\"Germany\")"
   ]
  },
  {
   "cell_type": "code",
   "execution_count": 96,
   "metadata": {},
   "outputs": [
    {
     "data": {
      "text/html": [
       "<div>\n",
       "<style scoped>\n",
       "    .dataframe tbody tr th:only-of-type {\n",
       "        vertical-align: middle;\n",
       "    }\n",
       "\n",
       "    .dataframe tbody tr th {\n",
       "        vertical-align: top;\n",
       "    }\n",
       "\n",
       "    .dataframe thead th {\n",
       "        text-align: right;\n",
       "    }\n",
       "</style>\n",
       "<table border=\"1\" class=\"dataframe\">\n",
       "  <thead>\n",
       "    <tr style=\"text-align: right;\">\n",
       "      <th></th>\n",
       "      <th>Date</th>\n",
       "      <th>Change Rate</th>\n",
       "    </tr>\n",
       "  </thead>\n",
       "  <tbody>\n",
       "    <tr>\n",
       "      <th>0</th>\n",
       "      <td>2020-02-29</td>\n",
       "      <td>21.276596</td>\n",
       "    </tr>\n",
       "    <tr>\n",
       "      <th>1</th>\n",
       "      <td>2020-03-01</td>\n",
       "      <td>94.736842</td>\n",
       "    </tr>\n",
       "    <tr>\n",
       "      <th>2</th>\n",
       "      <td>2020-03-02</td>\n",
       "      <td>16.216216</td>\n",
       "    </tr>\n",
       "    <tr>\n",
       "      <th>3</th>\n",
       "      <td>2020-03-03</td>\n",
       "      <td>21.705426</td>\n",
       "    </tr>\n",
       "    <tr>\n",
       "      <th>4</th>\n",
       "      <td>2020-03-04</td>\n",
       "      <td>24.840764</td>\n",
       "    </tr>\n",
       "  </tbody>\n",
       "</table>\n",
       "</div>"
      ],
      "text/plain": [
       "        Date  Change Rate\n",
       "0 2020-02-29    21.276596\n",
       "1 2020-03-01    94.736842\n",
       "2 2020-03-02    16.216216\n",
       "3 2020-03-03    21.705426\n",
       "4 2020-03-04    24.840764"
      ]
     },
     "execution_count": 96,
     "metadata": {},
     "output_type": "execute_result"
    }
   ],
   "source": [
    "change_df.head()"
   ]
  },
  {
   "cell_type": "markdown",
   "metadata": {},
   "source": [
    "#### Get the benchmark of stability"
   ]
  },
  {
   "cell_type": "code",
   "execution_count": 97,
   "metadata": {},
   "outputs": [],
   "source": [
    "def calculate_quarlitle(df,b):\n",
    "    new_df = df.loc[df[\"Date\"]>b,:]\n",
    "    new_df_quantile = new_df.quantile([0.25,0.5,0.75])\n",
    "    new_df_average = new_df_quantile[\"Change Rate\"].tolist()\n",
    "    get_average = new_df_average[1]\n",
    "    return get_average"
   ]
  },
  {
   "cell_type": "markdown",
   "metadata": {},
   "source": [
    "#### Results for error countries"
   ]
  },
  {
   "cell_type": "code",
   "execution_count": 98,
   "metadata": {},
   "outputs": [],
   "source": [
    "mean = mean_date(\"New Zealand\")"
   ]
  },
  {
   "cell_type": "code",
   "execution_count": 99,
   "metadata": {},
   "outputs": [],
   "source": [
    "country_df = moving_rate_table(\"New Zealand\")"
   ]
  },
  {
   "cell_type": "code",
   "execution_count": 100,
   "metadata": {},
   "outputs": [],
   "source": [
    "new_df = country_df.loc[country_df[\"Date\"]>mean,:]"
   ]
  },
  {
   "cell_type": "markdown",
   "metadata": {},
   "source": [
    "#### Montenegro: 3/25 - 5/7 (43)\n",
    "#### Iceland: 3/6 - 5/3 (58)\n",
    "#### New Zealand: 3/20 - 5/12(53)"
   ]
  },
  {
   "cell_type": "code",
   "execution_count": 101,
   "metadata": {},
   "outputs": [],
   "source": [
    "country_case = covid_original.loc[(covid_original[\"location\"] ==\"New Zealand\")&(covid_original[\"total_cases\"]>=30), [\"date\",\"total_cases\"]]"
   ]
  },
  {
   "cell_type": "code",
   "execution_count": 102,
   "metadata": {},
   "outputs": [
    {
     "ename": "NameError",
     "evalue": "name 'a' is not defined",
     "output_type": "error",
     "traceback": [
      "\u001b[0;31m---------------------------------------------------------------------------\u001b[0m",
      "\u001b[0;31mNameError\u001b[0m                                 Traceback (most recent call last)",
      "\u001b[0;32m<ipython-input-102-0591445bf0bd>\u001b[0m in \u001b[0;36m<module>\u001b[0;34m\u001b[0m\n\u001b[1;32m      1\u001b[0m \u001b[0;31m# Germany Testing\u001b[0m\u001b[0;34m\u001b[0m\u001b[0;34m\u001b[0m\u001b[0;34m\u001b[0m\u001b[0m\n\u001b[0;32m----> 2\u001b[0;31m \u001b[0maverage\u001b[0m \u001b[0;34m=\u001b[0m \u001b[0mcalculate_quarlitle\u001b[0m\u001b[0;34m(\u001b[0m\u001b[0ma\u001b[0m\u001b[0;34m,\u001b[0m\u001b[0mb\u001b[0m\u001b[0;34m)\u001b[0m\u001b[0;34m\u001b[0m\u001b[0;34m\u001b[0m\u001b[0m\n\u001b[0m",
      "\u001b[0;31mNameError\u001b[0m: name 'a' is not defined"
     ]
    }
   ],
   "source": [
    "# Germany Testing\n",
    "average = calculate_quarlitle(a,b)"
   ]
  },
  {
   "cell_type": "code",
   "execution_count": 103,
   "metadata": {},
   "outputs": [
    {
     "ename": "NameError",
     "evalue": "name 'average' is not defined",
     "output_type": "error",
     "traceback": [
      "\u001b[0;31m---------------------------------------------------------------------------\u001b[0m",
      "\u001b[0;31mNameError\u001b[0m                                 Traceback (most recent call last)",
      "\u001b[0;32m<ipython-input-103-c3fe9b4213f6>\u001b[0m in \u001b[0;36m<module>\u001b[0;34m\u001b[0m\n\u001b[0;32m----> 1\u001b[0;31m \u001b[0maverage\u001b[0m\u001b[0;34m\u001b[0m\u001b[0;34m\u001b[0m\u001b[0m\n\u001b[0m",
      "\u001b[0;31mNameError\u001b[0m: name 'average' is not defined"
     ]
    }
   ],
   "source": [
    "average"
   ]
  },
  {
   "cell_type": "code",
   "execution_count": 104,
   "metadata": {},
   "outputs": [],
   "source": [
    "def days_to_stable(i,df,date,mean):\n",
    "    new_df = df.loc[df[\"Date\"]>date,:]\n",
    "    mean = mean-0.1\n",
    "    stable_date = new_df.loc[df[\"Change Rate\"]<mean,:\"Date\"]\n",
    "    stable_date_list = stable_date[\"Date\"].tolist()\n",
    "    country_case = covid_original.loc[(covid_original[\"location\"] ==i)&(covid_original[\"total_cases\"]>=30), [\"date\",\"total_cases\"]]\n",
    "    country_case[\"date\"] = pd.to_datetime(country_case[\"date\"],format=\"%Y-%m-%d\")\n",
    "    day_to_stable = stable_date_list[2] - country_case[\"date\"].min()\n",
    "    return day_to_stable"
   ]
  },
  {
   "cell_type": "code",
   "execution_count": 202,
   "metadata": {},
   "outputs": [
    {
     "data": {
      "text/plain": [
       "Timedelta('78 days 00:00:00')"
      ]
     },
     "execution_count": 202,
     "metadata": {},
     "output_type": "execute_result"
    }
   ],
   "source": [
    "days_to_stable(\"Germany\",change_df,mean,average)"
   ]
  },
  {
   "cell_type": "code",
   "execution_count": 210,
   "metadata": {},
   "outputs": [],
   "source": [
    "dic = {}"
   ]
  },
  {
   "cell_type": "code",
   "execution_count": 211,
   "metadata": {},
   "outputs": [
    {
     "name": "stdout",
     "output_type": "stream",
     "text": [
      "North Macedonia occured error\n",
      "Montenegro occured error\n",
      "Iceland occured error\n",
      "New Zealand occured error\n"
     ]
    }
   ],
   "source": [
    "for i in country:\n",
    "    try:\n",
    "        mean = mean_date(i)\n",
    "        change_df = moving_rate_table(i)\n",
    "        average = calculate_quarlitle(change_df,mean)\n",
    "        to_stable = days_to_stable(i,change_df,mean,average)\n",
    "        dic[i] = to_stable\n",
    "    except:\n",
    "        print(f\"{i} occured error\")"
   ]
  },
  {
   "cell_type": "code",
   "execution_count": 212,
   "metadata": {},
   "outputs": [
    {
     "data": {
      "text/plain": [
       "{'Germany': Timedelta('78 days 00:00:00'),\n",
       " 'Russia': Timedelta('75 days 00:00:00'),\n",
       " 'United Kingdom': Timedelta('80 days 00:00:00'),\n",
       " 'France': Timedelta('73 days 00:00:00'),\n",
       " 'Italy': Timedelta('81 days 00:00:00'),\n",
       " 'Spain': Timedelta('73 days 00:00:00'),\n",
       " 'Ukraine': Timedelta('60 days 00:00:00'),\n",
       " 'Poland': Timedelta('59 days 00:00:00'),\n",
       " 'Romania': Timedelta('69 days 00:00:00'),\n",
       " 'Netherlands': Timedelta('75 days 00:00:00'),\n",
       " 'Belgium': Timedelta('74 days 00:00:00'),\n",
       " 'Czech Republic': Timedelta('56 days 00:00:00'),\n",
       " 'Greece': Timedelta('52 days 00:00:00'),\n",
       " 'Portugal': Timedelta('55 days 00:00:00'),\n",
       " 'Sweden': Timedelta('61 days 00:00:00'),\n",
       " 'Hungary': Timedelta('58 days 00:00:00'),\n",
       " 'Belarus': Timedelta('69 days 00:00:00'),\n",
       " 'Austria': Timedelta('60 days 00:00:00'),\n",
       " 'Serbia': Timedelta('60 days 00:00:00'),\n",
       " 'Switzerland': Timedelta('77 days 00:00:00'),\n",
       " 'Bulgaria': Timedelta('59 days 00:00:00'),\n",
       " 'Denmark': Timedelta('71 days 00:00:00'),\n",
       " 'Finland': Timedelta('66 days 00:00:00'),\n",
       " 'Slovakia': Timedelta('57 days 00:00:00'),\n",
       " 'Norway': Timedelta('60 days 00:00:00'),\n",
       " 'Ireland': Timedelta('68 days 00:00:00'),\n",
       " 'Croatia': Timedelta('64 days 00:00:00'),\n",
       " 'Moldova': Timedelta('47 days 00:00:00'),\n",
       " 'Bosnia and Herzegovina': Timedelta('55 days 00:00:00'),\n",
       " 'Albania': Timedelta('50 days 00:00:00'),\n",
       " 'Lithuania': Timedelta('46 days 00:00:00'),\n",
       " 'Slovenia': Timedelta('66 days 00:00:00'),\n",
       " 'Latvia': Timedelta('52 days 00:00:00'),\n",
       " 'Estonia': Timedelta('50 days 00:00:00'),\n",
       " 'Luxembourg': Timedelta('59 days 00:00:00'),\n",
       " 'Malta': Timedelta('40 days 00:00:00'),\n",
       " 'Canada': Timedelta('78 days 00:00:00'),\n",
       " 'Australia': Timedelta('60 days 00:00:00')}"
      ]
     },
     "execution_count": 212,
     "metadata": {},
     "output_type": "execute_result"
    }
   ],
   "source": [
    "dic"
   ]
  },
  {
   "cell_type": "code",
   "execution_count": 265,
   "metadata": {},
   "outputs": [],
   "source": [
    "usa =  covid_original.loc[(covid_original[\"location\"] ==\"United States\")&(covid_original[\"total_cases\"]>=30), [\"date\",\"total_cases\"]]"
   ]
  },
  {
   "cell_type": "code",
   "execution_count": 266,
   "metadata": {},
   "outputs": [
    {
     "data": {
      "text/plain": [
       "date           2020-02-22\n",
       "total_cases            35\n",
       "dtype: object"
      ]
     },
     "execution_count": 266,
     "metadata": {},
     "output_type": "execute_result"
    }
   ],
   "source": [
    "usa.min()"
   ]
  },
  {
   "cell_type": "code",
   "execution_count": 267,
   "metadata": {},
   "outputs": [
    {
     "data": {
      "text/plain": [
       "date           2020-06-07\n",
       "total_cases       1920061\n",
       "dtype: object"
      ]
     },
     "execution_count": 267,
     "metadata": {},
     "output_type": "execute_result"
    }
   ],
   "source": [
    "usa.max()"
   ]
  },
  {
   "cell_type": "markdown",
   "metadata": {},
   "source": [
    "### Machine Training"
   ]
  },
  {
   "cell_type": "code",
   "execution_count": 310,
   "metadata": {},
   "outputs": [],
   "source": [
    "covid_data = pd.read_csv(\"COVID Data Collection - Data for Peak Prediction.csv\")"
   ]
  },
  {
   "cell_type": "code",
   "execution_count": 311,
   "metadata": {},
   "outputs": [],
   "source": [
    "covid_data.set_index(\"Country\",inplace = True)"
   ]
  },
  {
   "cell_type": "code",
   "execution_count": 312,
   "metadata": {},
   "outputs": [
    {
     "data": {
      "text/html": [
       "<div>\n",
       "<style scoped>\n",
       "    .dataframe tbody tr th:only-of-type {\n",
       "        vertical-align: middle;\n",
       "    }\n",
       "\n",
       "    .dataframe tbody tr th {\n",
       "        vertical-align: top;\n",
       "    }\n",
       "\n",
       "    .dataframe thead th {\n",
       "        text-align: right;\n",
       "    }\n",
       "</style>\n",
       "<table border=\"1\" class=\"dataframe\">\n",
       "  <thead>\n",
       "    <tr style=\"text-align: right;\">\n",
       "      <th></th>\n",
       "      <th>Young Population\n",
       "(Aged under 15 )</th>\n",
       "      <th>Working Age Population\n",
       "(Aged between 15 - 64)</th>\n",
       "      <th>Elderly population\n",
       "(Aged 65 and over)</th>\n",
       "      <th>Population</th>\n",
       "      <th>Population Density \n",
       "(per Km2)</th>\n",
       "      <th>Political Ideology</th>\n",
       "      <th>Death Rate</th>\n",
       "      <th>Social Distancing\n",
       "(days)</th>\n",
       "      <th>Wearing Face mask\n",
       "(days)</th>\n",
       "      <th>14 day Quarantine\n",
       "(days)</th>\n",
       "      <th>Boarders\n",
       "(days)</th>\n",
       "      <th>School closures\n",
       "(days)</th>\n",
       "      <th>Lockdown</th>\n",
       "      <th>Days to Peak</th>\n",
       "      <th>Days to Stability</th>\n",
       "    </tr>\n",
       "    <tr>\n",
       "      <th>Country</th>\n",
       "      <th></th>\n",
       "      <th></th>\n",
       "      <th></th>\n",
       "      <th></th>\n",
       "      <th></th>\n",
       "      <th></th>\n",
       "      <th></th>\n",
       "      <th></th>\n",
       "      <th></th>\n",
       "      <th></th>\n",
       "      <th></th>\n",
       "      <th></th>\n",
       "      <th></th>\n",
       "      <th></th>\n",
       "      <th></th>\n",
       "    </tr>\n",
       "  </thead>\n",
       "  <tbody>\n",
       "    <tr>\n",
       "      <th>USA</th>\n",
       "      <td>18.62%</td>\n",
       "      <td>65.35%</td>\n",
       "      <td>16.03%</td>\n",
       "      <td>32823952</td>\n",
       "      <td>34</td>\n",
       "      <td>Democratic</td>\n",
       "      <td>5.60%</td>\n",
       "      <td>103</td>\n",
       "      <td>0</td>\n",
       "      <td>149</td>\n",
       "      <td>109</td>\n",
       "      <td>106</td>\n",
       "      <td>Y</td>\n",
       "      <td>106</td>\n",
       "      <td>NaN</td>\n",
       "    </tr>\n",
       "    <tr>\n",
       "      <th>Germany</th>\n",
       "      <td>13.50%</td>\n",
       "      <td>65.00%</td>\n",
       "      <td>21.47%</td>\n",
       "      <td>83783942</td>\n",
       "      <td>240</td>\n",
       "      <td>Democratic</td>\n",
       "      <td>4.70%</td>\n",
       "      <td>49</td>\n",
       "      <td>44</td>\n",
       "      <td>70</td>\n",
       "      <td>91</td>\n",
       "      <td>52</td>\n",
       "      <td>Y</td>\n",
       "      <td>100</td>\n",
       "      <td>78.0</td>\n",
       "    </tr>\n",
       "    <tr>\n",
       "      <th>Russia</th>\n",
       "      <td>17.91%</td>\n",
       "      <td>67.41%</td>\n",
       "      <td>14.67%</td>\n",
       "      <td>145934462</td>\n",
       "      <td>9</td>\n",
       "      <td>Authoritarian</td>\n",
       "      <td>1.25%</td>\n",
       "      <td>45</td>\n",
       "      <td>64</td>\n",
       "      <td>0</td>\n",
       "      <td>104</td>\n",
       "      <td>0</td>\n",
       "      <td>Y</td>\n",
       "      <td>85</td>\n",
       "      <td>75.0</td>\n",
       "    </tr>\n",
       "    <tr>\n",
       "      <th>United Kingdom</th>\n",
       "      <td>18.90%</td>\n",
       "      <td>63.10%</td>\n",
       "      <td>18.00%</td>\n",
       "      <td>67886011</td>\n",
       "      <td>281</td>\n",
       "      <td>Democratic</td>\n",
       "      <td>14.20%</td>\n",
       "      <td>99</td>\n",
       "      <td>15</td>\n",
       "      <td>60</td>\n",
       "      <td>105</td>\n",
       "      <td>87</td>\n",
       "      <td>Y</td>\n",
       "      <td>97</td>\n",
       "      <td>80.0</td>\n",
       "    </tr>\n",
       "    <tr>\n",
       "      <th>France</th>\n",
       "      <td>18.1 %</td>\n",
       "      <td>62.2 %</td>\n",
       "      <td>19.7 %</td>\n",
       "      <td>65273511</td>\n",
       "      <td>119</td>\n",
       "      <td>Democratic</td>\n",
       "      <td>18.97%</td>\n",
       "      <td>55</td>\n",
       "      <td>51</td>\n",
       "      <td>50</td>\n",
       "      <td>70</td>\n",
       "      <td>55</td>\n",
       "      <td>Y</td>\n",
       "      <td>100</td>\n",
       "      <td>73.0</td>\n",
       "    </tr>\n",
       "  </tbody>\n",
       "</table>\n",
       "</div>"
      ],
      "text/plain": [
       "               Young Population\\n(Aged under 15 )  \\\n",
       "Country                                             \n",
       "USA                                        18.62%   \n",
       "Germany                                    13.50%   \n",
       "Russia                                     17.91%   \n",
       "United Kingdom                             18.90%   \n",
       "France                                     18.1 %   \n",
       "\n",
       "               Working Age Population\\n(Aged between 15 - 64)  \\\n",
       "Country                                                         \n",
       "USA                                                    65.35%   \n",
       "Germany                                                65.00%   \n",
       "Russia                                                 67.41%   \n",
       "United Kingdom                                         63.10%   \n",
       "France                                                 62.2 %   \n",
       "\n",
       "               Elderly population\\n(Aged 65 and over)  Population   \\\n",
       "Country                                                              \n",
       "USA                                            16.03%     32823952   \n",
       "Germany                                        21.47%     83783942   \n",
       "Russia                                         14.67%    145934462   \n",
       "United Kingdom                                 18.00%     67886011   \n",
       "France                                         19.7 %     65273511   \n",
       "\n",
       "                Population Density \\n(per Km2) Political Ideology  Death Rate  \\\n",
       "Country                                                                         \n",
       "USA                                         34          Democratic      5.60%   \n",
       "Germany                                    240          Democratic      4.70%   \n",
       "Russia                                       9       Authoritarian      1.25%   \n",
       "United Kingdom                             281          Democratic     14.20%   \n",
       "France                                     119          Democratic     18.97%   \n",
       "\n",
       "                Social Distancing\\n(days)  Wearing Face mask\\n(days)  \\\n",
       "Country                                                                \n",
       "USA                                   103                          0   \n",
       "Germany                                49                         44   \n",
       "Russia                                 45                         64   \n",
       "United Kingdom                         99                         15   \n",
       "France                                 55                         51   \n",
       "\n",
       "                14 day Quarantine\\n(days)  Boarders\\n(days)  \\\n",
       "Country                                                       \n",
       "USA                                   149               109   \n",
       "Germany                                70                91   \n",
       "Russia                                  0               104   \n",
       "United Kingdom                         60               105   \n",
       "France                                 50                70   \n",
       "\n",
       "                School closures\\n(days) Lockdown  Days to Peak  \\\n",
       "Country                                                          \n",
       "USA                                 106        Y           106   \n",
       "Germany                              52        Y           100   \n",
       "Russia                                0        Y            85   \n",
       "United Kingdom                       87        Y            97   \n",
       "France                               55        Y           100   \n",
       "\n",
       "                Days to Stability  \n",
       "Country                            \n",
       "USA                           NaN  \n",
       "Germany                      78.0  \n",
       "Russia                       75.0  \n",
       "United Kingdom               80.0  \n",
       "France                       73.0  "
      ]
     },
     "execution_count": 312,
     "metadata": {},
     "output_type": "execute_result"
    }
   ],
   "source": [
    "covid_data.head()"
   ]
  },
  {
   "cell_type": "code",
   "execution_count": 313,
   "metadata": {},
   "outputs": [],
   "source": [
    "covid_data.replace(\"Y\",1,inplace = True)\n",
    "covid_data.replace(\"N\",0,inplace=True)"
   ]
  },
  {
   "cell_type": "code",
   "execution_count": 314,
   "metadata": {},
   "outputs": [],
   "source": [
    "covid_data.replace(\"Democratic\",1,inplace = True)\n",
    "covid_data.replace(\"Authoritarian\",0,inplace = True)"
   ]
  },
  {
   "cell_type": "code",
   "execution_count": 315,
   "metadata": {},
   "outputs": [
    {
     "data": {
      "text/plain": [
       "Young Population\\n(Aged under 15 )                 object\n",
       "Working Age Population\\n(Aged between 15 - 64)     object\n",
       "Elderly population\\n(Aged 65 and over)             object\n",
       "Population                                          int64\n",
       "Population Density \\n(per Km2)                      int64\n",
       "Political Ideology                                  int64\n",
       "Death Rate                                         object\n",
       "Social Distancing\\n(days)                           int64\n",
       "Wearing Face mask\\n(days)                           int64\n",
       "14 day Quarantine\\n(days)                           int64\n",
       "Boarders\\n(days)                                    int64\n",
       "School closures\\n(days)                             int64\n",
       "Lockdown                                            int64\n",
       "Days to Peak                                        int64\n",
       "Days to Stability                                 float64\n",
       "dtype: object"
      ]
     },
     "execution_count": 315,
     "metadata": {},
     "output_type": "execute_result"
    }
   ],
   "source": [
    "covid_data.dtypes"
   ]
  },
  {
   "cell_type": "code",
   "execution_count": 316,
   "metadata": {},
   "outputs": [],
   "source": [
    "covid_data[\"Young Population\\n(Aged under 15 )\"] = covid_data[\"Young Population\\n(Aged under 15 )\"].str.rstrip('%').astype('float') / 100.0\n",
    "covid_data[\"Working Age Population\\n(Aged between 15 - 64)\"] = covid_data[\"Working Age Population\\n(Aged between 15 - 64)\"].str.rstrip('%').astype('float') / 100.0\n",
    "covid_data[\"Elderly population\\n(Aged 65 and over)\"] = covid_data[\"Elderly population\\n(Aged 65 and over)\"].str.rstrip(\"%\").astype('float') / 100.0"
   ]
  },
  {
   "cell_type": "code",
   "execution_count": 317,
   "metadata": {},
   "outputs": [],
   "source": [
    "covid_data[\"Death Rate\"] = covid_data[\"Death Rate\"].str.rstrip('%').astype('float') / 100.0"
   ]
  },
  {
   "cell_type": "code",
   "execution_count": 318,
   "metadata": {},
   "outputs": [
    {
     "data": {
      "text/plain": [
       "Young Population\\n(Aged under 15 )                float64\n",
       "Working Age Population\\n(Aged between 15 - 64)    float64\n",
       "Elderly population\\n(Aged 65 and over)            float64\n",
       "Population                                          int64\n",
       "Population Density \\n(per Km2)                      int64\n",
       "Political Ideology                                  int64\n",
       "Death Rate                                        float64\n",
       "Social Distancing\\n(days)                           int64\n",
       "Wearing Face mask\\n(days)                           int64\n",
       "14 day Quarantine\\n(days)                           int64\n",
       "Boarders\\n(days)                                    int64\n",
       "School closures\\n(days)                             int64\n",
       "Lockdown                                            int64\n",
       "Days to Peak                                        int64\n",
       "Days to Stability                                 float64\n",
       "dtype: object"
      ]
     },
     "execution_count": 318,
     "metadata": {},
     "output_type": "execute_result"
    }
   ],
   "source": [
    "covid_data.dtypes"
   ]
  },
  {
   "cell_type": "code",
   "execution_count": 441,
   "metadata": {},
   "outputs": [],
   "source": [
    "from sklearn.linear_model import LinearRegression\n",
    "from sklearn.model_selection import train_test_split"
   ]
  },
  {
   "cell_type": "code",
   "execution_count": 442,
   "metadata": {},
   "outputs": [],
   "source": [
    "covid_world = covid_data.copy()\n",
    "covid_world = covid_world.drop([\"North Macedonia\"])"
   ]
  },
  {
   "cell_type": "code",
   "execution_count": 443,
   "metadata": {},
   "outputs": [],
   "source": [
    "X = covid_world.loc[\"Germany\":,:\"Days to Peak\"]"
   ]
  },
  {
   "cell_type": "code",
   "execution_count": 444,
   "metadata": {},
   "outputs": [
    {
     "data": {
      "text/plain": [
       "41"
      ]
     },
     "execution_count": 444,
     "metadata": {},
     "output_type": "execute_result"
    }
   ],
   "source": [
    "len(X)"
   ]
  },
  {
   "cell_type": "code",
   "execution_count": 445,
   "metadata": {
    "scrolled": true
   },
   "outputs": [],
   "source": [
    "Y = covid_world[\"Days to Stability\"].tolist()"
   ]
  },
  {
   "cell_type": "code",
   "execution_count": 446,
   "metadata": {},
   "outputs": [],
   "source": [
    "Y = Y[1:]"
   ]
  },
  {
   "cell_type": "code",
   "execution_count": 447,
   "metadata": {},
   "outputs": [
    {
     "data": {
      "text/plain": [
       "41"
      ]
     },
     "execution_count": 447,
     "metadata": {},
     "output_type": "execute_result"
    }
   ],
   "source": [
    "len(Y)"
   ]
  },
  {
   "cell_type": "code",
   "execution_count": 448,
   "metadata": {},
   "outputs": [],
   "source": [
    "x_train, x_test, y_train, y_test = train_test_split(X,Y, test_size = 0.2, random_state=0)"
   ]
  },
  {
   "cell_type": "code",
   "execution_count": 449,
   "metadata": {},
   "outputs": [
    {
     "data": {
      "text/plain": [
       "(32, 14)"
      ]
     },
     "execution_count": 449,
     "metadata": {},
     "output_type": "execute_result"
    }
   ],
   "source": [
    "x_train.shape"
   ]
  },
  {
   "cell_type": "code",
   "execution_count": 450,
   "metadata": {},
   "outputs": [],
   "source": [
    "regr = LinearRegression()"
   ]
  },
  {
   "cell_type": "code",
   "execution_count": 451,
   "metadata": {},
   "outputs": [
    {
     "data": {
      "text/plain": [
       "LinearRegression(copy_X=True, fit_intercept=True, n_jobs=None, normalize=False)"
      ]
     },
     "execution_count": 451,
     "metadata": {},
     "output_type": "execute_result"
    }
   ],
   "source": [
    "regr.fit(x_train,y_train)"
   ]
  },
  {
   "cell_type": "code",
   "execution_count": 471,
   "metadata": {},
   "outputs": [],
   "source": [
    "y_predict = regr.predict(x_test)"
   ]
  },
  {
   "cell_type": "code",
   "execution_count": 58,
   "metadata": {
    "scrolled": true
   },
   "outputs": [
    {
     "ename": "NameError",
     "evalue": "name 'y_test' is not defined",
     "output_type": "error",
     "traceback": [
      "\u001b[0;31m---------------------------------------------------------------------------\u001b[0m",
      "\u001b[0;31mNameError\u001b[0m                                 Traceback (most recent call last)",
      "\u001b[0;32m<ipython-input-58-3c4e66ad0ec2>\u001b[0m in \u001b[0;36m<module>\u001b[0;34m\u001b[0m\n\u001b[0;32m----> 1\u001b[0;31m \u001b[0mplt\u001b[0m\u001b[0;34m.\u001b[0m\u001b[0mscatter\u001b[0m\u001b[0;34m(\u001b[0m\u001b[0my_test\u001b[0m\u001b[0;34m,\u001b[0m \u001b[0my_predict\u001b[0m\u001b[0;34m)\u001b[0m\u001b[0;34m\u001b[0m\u001b[0;34m\u001b[0m\u001b[0m\n\u001b[0m\u001b[1;32m      2\u001b[0m \u001b[0mplt\u001b[0m\u001b[0;34m.\u001b[0m\u001b[0mplot\u001b[0m\u001b[0;34m(\u001b[0m\u001b[0;34m[\u001b[0m\u001b[0;36m0\u001b[0m\u001b[0;34m,\u001b[0m\u001b[0;36m100\u001b[0m\u001b[0;34m]\u001b[0m\u001b[0;34m,\u001b[0m\u001b[0;34m[\u001b[0m\u001b[0;36m0\u001b[0m\u001b[0;34m,\u001b[0m\u001b[0;36m100\u001b[0m\u001b[0;34m]\u001b[0m\u001b[0;34m,\u001b[0m\u001b[0;34m\"r\"\u001b[0m\u001b[0;34m)\u001b[0m\u001b[0;34m\u001b[0m\u001b[0;34m\u001b[0m\u001b[0m\n\u001b[1;32m      3\u001b[0m \u001b[0mplt\u001b[0m\u001b[0;34m.\u001b[0m\u001b[0mxlabel\u001b[0m\u001b[0;34m(\u001b[0m\u001b[0;34m\"Actual days\"\u001b[0m\u001b[0;34m)\u001b[0m\u001b[0;34m\u001b[0m\u001b[0;34m\u001b[0m\u001b[0m\n\u001b[1;32m      4\u001b[0m \u001b[0mplt\u001b[0m\u001b[0;34m.\u001b[0m\u001b[0mylabel\u001b[0m\u001b[0;34m(\u001b[0m\u001b[0;34m\"Predicted days\"\u001b[0m\u001b[0;34m)\u001b[0m\u001b[0;34m\u001b[0m\u001b[0;34m\u001b[0m\u001b[0m\n",
      "\u001b[0;31mNameError\u001b[0m: name 'y_test' is not defined"
     ]
    }
   ],
   "source": [
    "plt.scatter(y_test, y_predict)\n",
    "plt.plot([0,100],[0,100],\"r\")\n",
    "plt.xlabel(\"Actual days\")\n",
    "plt.ylabel(\"Predicted days\")"
   ]
  },
  {
   "cell_type": "markdown",
   "metadata": {},
   "source": [
    "### Difference between actual and prediction"
   ]
  },
  {
   "cell_type": "code",
   "execution_count": 472,
   "metadata": {},
   "outputs": [
    {
     "data": {
      "text/plain": [
       "array([-11.42478866,  -7.01131727,  14.26821353,  -4.80630449,\n",
       "         2.27647685, -15.83947919,   8.78121688,   6.67414073,\n",
       "        47.37559251])"
      ]
     },
     "execution_count": 472,
     "metadata": {},
     "output_type": "execute_result"
    }
   ],
   "source": [
    "y_predict - y_test"
   ]
  },
  {
   "cell_type": "code",
   "execution_count": 464,
   "metadata": {},
   "outputs": [],
   "source": [
    "a = x_test.index"
   ]
  },
  {
   "cell_type": "code",
   "execution_count": 465,
   "metadata": {},
   "outputs": [],
   "source": [
    "a = a.tolist()"
   ]
  },
  {
   "cell_type": "markdown",
   "metadata": {},
   "source": [
    "#### Testing Data / Actual Days"
   ]
  },
  {
   "cell_type": "code",
   "execution_count": 470,
   "metadata": {},
   "outputs": [
    {
     "data": {
      "text/plain": [
       "Country\n",
       "Ireland           68.0\n",
       "Luxembourg        59.0\n",
       "Albania           50.0\n",
       "Italy             81.0\n",
       "Belgium           74.0\n",
       "Slovenia          66.0\n",
       "Moldova           47.0\n",
       "Czech Republic    56.0\n",
       "Malta             40.0\n",
       "Name: Days to Stability, dtype: float64"
      ]
     },
     "execution_count": 470,
     "metadata": {},
     "output_type": "execute_result"
    }
   ],
   "source": [
    "covid_data.loc[a,\"Days to Stability\"]"
   ]
  },
  {
   "cell_type": "code",
   "execution_count": 467,
   "metadata": {},
   "outputs": [],
   "source": [
    "y_predict = y_predict.tolist()"
   ]
  },
  {
   "cell_type": "code",
   "execution_count": 468,
   "metadata": {},
   "outputs": [],
   "source": [
    "predict_df = pd.DataFrame({\"Country\":a, \"Prediction(days)\":y_predict})"
   ]
  },
  {
   "cell_type": "markdown",
   "metadata": {},
   "source": [
    "#### Testing Data Predicted Days"
   ]
  },
  {
   "cell_type": "code",
   "execution_count": 469,
   "metadata": {},
   "outputs": [
    {
     "data": {
      "text/html": [
       "<div>\n",
       "<style scoped>\n",
       "    .dataframe tbody tr th:only-of-type {\n",
       "        vertical-align: middle;\n",
       "    }\n",
       "\n",
       "    .dataframe tbody tr th {\n",
       "        vertical-align: top;\n",
       "    }\n",
       "\n",
       "    .dataframe thead th {\n",
       "        text-align: right;\n",
       "    }\n",
       "</style>\n",
       "<table border=\"1\" class=\"dataframe\">\n",
       "  <thead>\n",
       "    <tr style=\"text-align: right;\">\n",
       "      <th></th>\n",
       "      <th>Country</th>\n",
       "      <th>Prediction(days)</th>\n",
       "    </tr>\n",
       "  </thead>\n",
       "  <tbody>\n",
       "    <tr>\n",
       "      <th>0</th>\n",
       "      <td>Ireland</td>\n",
       "      <td>56.575211</td>\n",
       "    </tr>\n",
       "    <tr>\n",
       "      <th>1</th>\n",
       "      <td>Luxembourg</td>\n",
       "      <td>51.988683</td>\n",
       "    </tr>\n",
       "    <tr>\n",
       "      <th>2</th>\n",
       "      <td>Albania</td>\n",
       "      <td>64.268214</td>\n",
       "    </tr>\n",
       "    <tr>\n",
       "      <th>3</th>\n",
       "      <td>Italy</td>\n",
       "      <td>76.193696</td>\n",
       "    </tr>\n",
       "    <tr>\n",
       "      <th>4</th>\n",
       "      <td>Belgium</td>\n",
       "      <td>76.276477</td>\n",
       "    </tr>\n",
       "    <tr>\n",
       "      <th>5</th>\n",
       "      <td>Slovenia</td>\n",
       "      <td>50.160521</td>\n",
       "    </tr>\n",
       "    <tr>\n",
       "      <th>6</th>\n",
       "      <td>Moldova</td>\n",
       "      <td>55.781217</td>\n",
       "    </tr>\n",
       "    <tr>\n",
       "      <th>7</th>\n",
       "      <td>Czech Republic</td>\n",
       "      <td>62.674141</td>\n",
       "    </tr>\n",
       "    <tr>\n",
       "      <th>8</th>\n",
       "      <td>Malta</td>\n",
       "      <td>87.375593</td>\n",
       "    </tr>\n",
       "  </tbody>\n",
       "</table>\n",
       "</div>"
      ],
      "text/plain": [
       "          Country  Prediction(days)\n",
       "0         Ireland         56.575211\n",
       "1      Luxembourg         51.988683\n",
       "2         Albania         64.268214\n",
       "3           Italy         76.193696\n",
       "4         Belgium         76.276477\n",
       "5        Slovenia         50.160521\n",
       "6         Moldova         55.781217\n",
       "7  Czech Republic         62.674141\n",
       "8           Malta         87.375593"
      ]
     },
     "execution_count": 469,
     "metadata": {},
     "output_type": "execute_result"
    }
   ],
   "source": [
    "predict_df"
   ]
  },
  {
   "cell_type": "markdown",
   "metadata": {},
   "source": [
    "### Correlation table of feature and days to stability"
   ]
  },
  {
   "cell_type": "code",
   "execution_count": 498,
   "metadata": {},
   "outputs": [
    {
     "data": {
      "image/png": "[encoded data removed]",
      "text/plain": [
       "<Figure size 720x864 with 15 Axes>"
      ]
     },
     "metadata": {
      "needs_background": "light"
     },
     "output_type": "display_data"
    }
   ],
   "source": [
    "days_to_stability = covid_data.iloc[1:,-1].to_numpy()\n",
    "plt.figure(figsize=(10,12))\n",
    "for i, feature in enumerate(covid_data.columns):\n",
    "    plt.subplot(5,3,i+1)\n",
    "    features = covid_data.iloc[1:,i].to_numpy()\n",
    "    plt.scatter(features, days_to_stability, s=2)\n",
    "    plt.ylabel(\"Days\")\n",
    "    plt.xlabel(feature)\n",
    "    plt.tight_layout()"
   ]
  },
  {
   "cell_type": "markdown",
   "metadata": {},
   "source": [
    "### USA prediction"
   ]
  },
  {
   "cell_type": "code",
   "execution_count": 485,
   "metadata": {},
   "outputs": [],
   "source": [
    "usa = covid_data.loc[\"USA\",:\"Days to Peak\"]"
   ]
  },
  {
   "cell_type": "code",
   "execution_count": 486,
   "metadata": {},
   "outputs": [
    {
     "data": {
      "text/plain": [
       "Young Population\\n(Aged under 15 )                1.862000e-01\n",
       "Working Age Population\\n(Aged between 15 - 64)    6.535000e-01\n",
       "Elderly population\\n(Aged 65 and over)            1.603000e-01\n",
       "Population                                        3.282395e+07\n",
       "Population Density \\n(per Km2)                    3.400000e+01\n",
       "Political Ideology                                1.000000e+00\n",
       "Death Rate                                        5.600000e-02\n",
       "Social Distancing\\n(days)                         1.030000e+02\n",
       "Wearing Face mask\\n(days)                         0.000000e+00\n",
       "14 day Quarantine\\n(days)                         1.490000e+02\n",
       "Boarders\\n(days)                                  1.090000e+02\n",
       "School closures\\n(days)                           1.060000e+02\n",
       "Lockdown                                          1.000000e+00\n",
       "Days to Peak                                      1.060000e+02\n",
       "Name: USA, dtype: float64"
      ]
     },
     "execution_count": 486,
     "metadata": {},
     "output_type": "execute_result"
    }
   ],
   "source": [
    "usa"
   ]
  },
  {
   "cell_type": "code",
   "execution_count": 487,
   "metadata": {},
   "outputs": [],
   "source": [
    "usa = usa.values.reshape(1,14)"
   ]
  },
  {
   "cell_type": "code",
   "execution_count": 488,
   "metadata": {},
   "outputs": [],
   "source": [
    "usa_predict = regr.predict(usa)"
   ]
  },
  {
   "cell_type": "code",
   "execution_count": 489,
   "metadata": {},
   "outputs": [
    {
     "data": {
      "text/plain": [
       "array([75.48650677])"
      ]
     },
     "execution_count": 489,
     "metadata": {},
     "output_type": "execute_result"
    }
   ],
   "source": [
    "usa_predict"
   ]
  },
  {
   "cell_type": "code",
   "execution_count": 490,
   "metadata": {},
   "outputs": [],
   "source": [
    "usa_starting_date = covid_original.loc[(covid_original[\"location\"] ==\"United States\")&(covid_original[\"total_cases\"]>=30), [\"date\",\"total_cases\"]]"
   ]
  },
  {
   "cell_type": "code",
   "execution_count": 494,
   "metadata": {
    "collapsed": true
   },
   "outputs": [
    {
     "data": {
      "text/html": [
       "<div>\n",
       "<style scoped>\n",
       "    .dataframe tbody tr th:only-of-type {\n",
       "        vertical-align: middle;\n",
       "    }\n",
       "\n",
       "    .dataframe tbody tr th {\n",
       "        vertical-align: top;\n",
       "    }\n",
       "\n",
       "    .dataframe thead th {\n",
       "        text-align: right;\n",
       "    }\n",
       "</style>\n",
       "<table border=\"1\" class=\"dataframe\">\n",
       "  <thead>\n",
       "    <tr style=\"text-align: right;\">\n",
       "      <th></th>\n",
       "      <th>date</th>\n",
       "      <th>total_cases</th>\n",
       "    </tr>\n",
       "  </thead>\n",
       "  <tbody>\n",
       "    <tr>\n",
       "      <th>21285</th>\n",
       "      <td>2020-02-22</td>\n",
       "      <td>35</td>\n",
       "    </tr>\n",
       "    <tr>\n",
       "      <th>21286</th>\n",
       "      <td>2020-02-23</td>\n",
       "      <td>35</td>\n",
       "    </tr>\n",
       "    <tr>\n",
       "      <th>21287</th>\n",
       "      <td>2020-02-24</td>\n",
       "      <td>35</td>\n",
       "    </tr>\n",
       "    <tr>\n",
       "      <th>21288</th>\n",
       "      <td>2020-02-25</td>\n",
       "      <td>53</td>\n",
       "    </tr>\n",
       "    <tr>\n",
       "      <th>21289</th>\n",
       "      <td>2020-02-26</td>\n",
       "      <td>53</td>\n",
       "    </tr>\n",
       "    <tr>\n",
       "      <th>21290</th>\n",
       "      <td>2020-02-27</td>\n",
       "      <td>59</td>\n",
       "    </tr>\n",
       "    <tr>\n",
       "      <th>21291</th>\n",
       "      <td>2020-02-28</td>\n",
       "      <td>60</td>\n",
       "    </tr>\n",
       "    <tr>\n",
       "      <th>21292</th>\n",
       "      <td>2020-02-29</td>\n",
       "      <td>66</td>\n",
       "    </tr>\n",
       "    <tr>\n",
       "      <th>21293</th>\n",
       "      <td>2020-03-01</td>\n",
       "      <td>69</td>\n",
       "    </tr>\n",
       "    <tr>\n",
       "      <th>21294</th>\n",
       "      <td>2020-03-02</td>\n",
       "      <td>89</td>\n",
       "    </tr>\n",
       "    <tr>\n",
       "      <th>21295</th>\n",
       "      <td>2020-03-03</td>\n",
       "      <td>103</td>\n",
       "    </tr>\n",
       "    <tr>\n",
       "      <th>21296</th>\n",
       "      <td>2020-03-04</td>\n",
       "      <td>125</td>\n",
       "    </tr>\n",
       "    <tr>\n",
       "      <th>21297</th>\n",
       "      <td>2020-03-05</td>\n",
       "      <td>159</td>\n",
       "    </tr>\n",
       "    <tr>\n",
       "      <th>21298</th>\n",
       "      <td>2020-03-06</td>\n",
       "      <td>233</td>\n",
       "    </tr>\n",
       "    <tr>\n",
       "      <th>21299</th>\n",
       "      <td>2020-03-07</td>\n",
       "      <td>338</td>\n",
       "    </tr>\n",
       "    <tr>\n",
       "      <th>21300</th>\n",
       "      <td>2020-03-08</td>\n",
       "      <td>433</td>\n",
       "    </tr>\n",
       "    <tr>\n",
       "      <th>21301</th>\n",
       "      <td>2020-03-09</td>\n",
       "      <td>554</td>\n",
       "    </tr>\n",
       "    <tr>\n",
       "      <th>21302</th>\n",
       "      <td>2020-03-10</td>\n",
       "      <td>754</td>\n",
       "    </tr>\n",
       "    <tr>\n",
       "      <th>21303</th>\n",
       "      <td>2020-03-11</td>\n",
       "      <td>1025</td>\n",
       "    </tr>\n",
       "    <tr>\n",
       "      <th>21304</th>\n",
       "      <td>2020-03-12</td>\n",
       "      <td>1312</td>\n",
       "    </tr>\n",
       "    <tr>\n",
       "      <th>21305</th>\n",
       "      <td>2020-03-13</td>\n",
       "      <td>1663</td>\n",
       "    </tr>\n",
       "    <tr>\n",
       "      <th>21306</th>\n",
       "      <td>2020-03-14</td>\n",
       "      <td>2174</td>\n",
       "    </tr>\n",
       "    <tr>\n",
       "      <th>21307</th>\n",
       "      <td>2020-03-15</td>\n",
       "      <td>2951</td>\n",
       "    </tr>\n",
       "    <tr>\n",
       "      <th>21308</th>\n",
       "      <td>2020-03-16</td>\n",
       "      <td>3774</td>\n",
       "    </tr>\n",
       "    <tr>\n",
       "      <th>21309</th>\n",
       "      <td>2020-03-17</td>\n",
       "      <td>4661</td>\n",
       "    </tr>\n",
       "    <tr>\n",
       "      <th>21310</th>\n",
       "      <td>2020-03-18</td>\n",
       "      <td>6427</td>\n",
       "    </tr>\n",
       "    <tr>\n",
       "      <th>21311</th>\n",
       "      <td>2020-03-19</td>\n",
       "      <td>9415</td>\n",
       "    </tr>\n",
       "    <tr>\n",
       "      <th>21312</th>\n",
       "      <td>2020-03-20</td>\n",
       "      <td>14250</td>\n",
       "    </tr>\n",
       "    <tr>\n",
       "      <th>21313</th>\n",
       "      <td>2020-03-21</td>\n",
       "      <td>19624</td>\n",
       "    </tr>\n",
       "    <tr>\n",
       "      <th>21314</th>\n",
       "      <td>2020-03-22</td>\n",
       "      <td>26747</td>\n",
       "    </tr>\n",
       "    <tr>\n",
       "      <th>...</th>\n",
       "      <td>...</td>\n",
       "      <td>...</td>\n",
       "    </tr>\n",
       "    <tr>\n",
       "      <th>21362</th>\n",
       "      <td>2020-05-09</td>\n",
       "      <td>1283929</td>\n",
       "    </tr>\n",
       "    <tr>\n",
       "      <th>21363</th>\n",
       "      <td>2020-05-10</td>\n",
       "      <td>1309541</td>\n",
       "    </tr>\n",
       "    <tr>\n",
       "      <th>21364</th>\n",
       "      <td>2020-05-11</td>\n",
       "      <td>1329799</td>\n",
       "    </tr>\n",
       "    <tr>\n",
       "      <th>21365</th>\n",
       "      <td>2020-05-12</td>\n",
       "      <td>1347916</td>\n",
       "    </tr>\n",
       "    <tr>\n",
       "      <th>21366</th>\n",
       "      <td>2020-05-13</td>\n",
       "      <td>1369964</td>\n",
       "    </tr>\n",
       "    <tr>\n",
       "      <th>21367</th>\n",
       "      <td>2020-05-14</td>\n",
       "      <td>1390746</td>\n",
       "    </tr>\n",
       "    <tr>\n",
       "      <th>21368</th>\n",
       "      <td>2020-05-15</td>\n",
       "      <td>1417889</td>\n",
       "    </tr>\n",
       "    <tr>\n",
       "      <th>21369</th>\n",
       "      <td>2020-05-16</td>\n",
       "      <td>1443397</td>\n",
       "    </tr>\n",
       "    <tr>\n",
       "      <th>21370</th>\n",
       "      <td>2020-05-17</td>\n",
       "      <td>1467884</td>\n",
       "    </tr>\n",
       "    <tr>\n",
       "      <th>21371</th>\n",
       "      <td>2020-05-18</td>\n",
       "      <td>1486757</td>\n",
       "    </tr>\n",
       "    <tr>\n",
       "      <th>21372</th>\n",
       "      <td>2020-05-19</td>\n",
       "      <td>1508598</td>\n",
       "    </tr>\n",
       "    <tr>\n",
       "      <th>21373</th>\n",
       "      <td>2020-05-20</td>\n",
       "      <td>1528568</td>\n",
       "    </tr>\n",
       "    <tr>\n",
       "      <th>21374</th>\n",
       "      <td>2020-05-21</td>\n",
       "      <td>1551853</td>\n",
       "    </tr>\n",
       "    <tr>\n",
       "      <th>21375</th>\n",
       "      <td>2020-05-22</td>\n",
       "      <td>1577287</td>\n",
       "    </tr>\n",
       "    <tr>\n",
       "      <th>21376</th>\n",
       "      <td>2020-05-23</td>\n",
       "      <td>1601434</td>\n",
       "    </tr>\n",
       "    <tr>\n",
       "      <th>21377</th>\n",
       "      <td>2020-05-24</td>\n",
       "      <td>1622670</td>\n",
       "    </tr>\n",
       "    <tr>\n",
       "      <th>21378</th>\n",
       "      <td>2020-05-25</td>\n",
       "      <td>1643238</td>\n",
       "    </tr>\n",
       "    <tr>\n",
       "      <th>21379</th>\n",
       "      <td>2020-05-26</td>\n",
       "      <td>1662302</td>\n",
       "    </tr>\n",
       "    <tr>\n",
       "      <th>21380</th>\n",
       "      <td>2020-05-27</td>\n",
       "      <td>1681212</td>\n",
       "    </tr>\n",
       "    <tr>\n",
       "      <th>21381</th>\n",
       "      <td>2020-05-28</td>\n",
       "      <td>1699933</td>\n",
       "    </tr>\n",
       "    <tr>\n",
       "      <th>21382</th>\n",
       "      <td>2020-05-29</td>\n",
       "      <td>1721750</td>\n",
       "    </tr>\n",
       "    <tr>\n",
       "      <th>21383</th>\n",
       "      <td>2020-05-30</td>\n",
       "      <td>1747087</td>\n",
       "    </tr>\n",
       "    <tr>\n",
       "      <th>21384</th>\n",
       "      <td>2020-05-31</td>\n",
       "      <td>1770384</td>\n",
       "    </tr>\n",
       "    <tr>\n",
       "      <th>21385</th>\n",
       "      <td>2020-06-01</td>\n",
       "      <td>1790191</td>\n",
       "    </tr>\n",
       "    <tr>\n",
       "      <th>21386</th>\n",
       "      <td>2020-06-02</td>\n",
       "      <td>1811277</td>\n",
       "    </tr>\n",
       "    <tr>\n",
       "      <th>21387</th>\n",
       "      <td>2020-06-03</td>\n",
       "      <td>1831821</td>\n",
       "    </tr>\n",
       "    <tr>\n",
       "      <th>21388</th>\n",
       "      <td>2020-06-04</td>\n",
       "      <td>1851520</td>\n",
       "    </tr>\n",
       "    <tr>\n",
       "      <th>21389</th>\n",
       "      <td>2020-06-05</td>\n",
       "      <td>1872660</td>\n",
       "    </tr>\n",
       "    <tr>\n",
       "      <th>21390</th>\n",
       "      <td>2020-06-06</td>\n",
       "      <td>1897838</td>\n",
       "    </tr>\n",
       "    <tr>\n",
       "      <th>21391</th>\n",
       "      <td>2020-06-07</td>\n",
       "      <td>1920061</td>\n",
       "    </tr>\n",
       "  </tbody>\n",
       "</table>\n",
       "<p>107 rows × 2 columns</p>\n",
       "</div>"
      ],
      "text/plain": [
       "            date  total_cases\n",
       "21285 2020-02-22           35\n",
       "21286 2020-02-23           35\n",
       "21287 2020-02-24           35\n",
       "21288 2020-02-25           53\n",
       "21289 2020-02-26           53\n",
       "21290 2020-02-27           59\n",
       "21291 2020-02-28           60\n",
       "21292 2020-02-29           66\n",
       "21293 2020-03-01           69\n",
       "21294 2020-03-02           89\n",
       "21295 2020-03-03          103\n",
       "21296 2020-03-04          125\n",
       "21297 2020-03-05          159\n",
       "21298 2020-03-06          233\n",
       "21299 2020-03-07          338\n",
       "21300 2020-03-08          433\n",
       "21301 2020-03-09          554\n",
       "21302 2020-03-10          754\n",
       "21303 2020-03-11         1025\n",
       "21304 2020-03-12         1312\n",
       "21305 2020-03-13         1663\n",
       "21306 2020-03-14         2174\n",
       "21307 2020-03-15         2951\n",
       "21308 2020-03-16         3774\n",
       "21309 2020-03-17         4661\n",
       "21310 2020-03-18         6427\n",
       "21311 2020-03-19         9415\n",
       "21312 2020-03-20        14250\n",
       "21313 2020-03-21        19624\n",
       "21314 2020-03-22        26747\n",
       "...          ...          ...\n",
       "21362 2020-05-09      1283929\n",
       "21363 2020-05-10      1309541\n",
       "21364 2020-05-11      1329799\n",
       "21365 2020-05-12      1347916\n",
       "21366 2020-05-13      1369964\n",
       "21367 2020-05-14      1390746\n",
       "21368 2020-05-15      1417889\n",
       "21369 2020-05-16      1443397\n",
       "21370 2020-05-17      1467884\n",
       "21371 2020-05-18      1486757\n",
       "21372 2020-05-19      1508598\n",
       "21373 2020-05-20      1528568\n",
       "21374 2020-05-21      1551853\n",
       "21375 2020-05-22      1577287\n",
       "21376 2020-05-23      1601434\n",
       "21377 2020-05-24      1622670\n",
       "21378 2020-05-25      1643238\n",
       "21379 2020-05-26      1662302\n",
       "21380 2020-05-27      1681212\n",
       "21381 2020-05-28      1699933\n",
       "21382 2020-05-29      1721750\n",
       "21383 2020-05-30      1747087\n",
       "21384 2020-05-31      1770384\n",
       "21385 2020-06-01      1790191\n",
       "21386 2020-06-02      1811277\n",
       "21387 2020-06-03      1831821\n",
       "21388 2020-06-04      1851520\n",
       "21389 2020-06-05      1872660\n",
       "21390 2020-06-06      1897838\n",
       "21391 2020-06-07      1920061\n",
       "\n",
       "[107 rows x 2 columns]"
      ]
     },
     "execution_count": 494,
     "metadata": {},
     "output_type": "execute_result"
    }
   ],
   "source": [
    "usa_starting_date"
   ]
  },
  {
   "cell_type": "code",
   "execution_count": 497,
   "metadata": {},
   "outputs": [
    {
     "name": "stderr",
     "output_type": "stream",
     "text": [
      "//anaconda3/lib/python3.7/site-packages/pandas/plotting/_converter.py:129: FutureWarning: Using an implicitly registered datetime converter for a matplotlib plotting method. The converter was registered by pandas on import. Future versions of pandas will require you to explicitly register matplotlib converters.\n",
      "\n",
      "To register the converters:\n",
      "\t>>> from pandas.plotting import register_matplotlib_converters\n",
      "\t>>> register_matplotlib_converters()\n",
      "  warnings.warn(msg, FutureWarning)\n"
     ]
    },
    {
     "data": {
      "text/plain": [
       "<matplotlib.legend.Legend at 0x1a1fe69a20>"
      ]
     },
     "execution_count": 497,
     "metadata": {},
     "output_type": "execute_result"
    },
    {
     "data": {
      "image/png": "[encoded data removed]",
      "text/plain": [
       "<Figure size 1296x720 with 1 Axes>"
      ]
     },
     "metadata": {
      "needs_background": "light"
     },
     "output_type": "display_data"
    }
   ],
   "source": [
    "plt.figure(figsize = (18,10))\n",
    "plt.plot(usa_starting_date[\"date\"],usa_starting_date[\"total_cases\"], label = \"USA\")\n",
    "plt.xlabel('Date',fontsize=18)\n",
    "plt.ylabel('Cases',fontsize=18)\n",
    "plt.legend(loc='upper right')"
   ]
  },
  {
   "cell_type": "code",
   "execution_count": null,
   "metadata": {},
   "outputs": [],
   "source": []
  }
 ],
 "metadata": {
  "kernelspec": {
   "display_name": "Python 3",
   "language": "python",
   "name": "python3"
  },
  "language_info": {
   "codemirror_mode": {
    "name": "ipython",
    "version": 3
   },
   "file_extension": ".py",
   "mimetype": "text/x-python",
   "name": "python",
   "nbconvert_exporter": "python",
   "pygments_lexer": "ipython3",
   "version": "3.7.3"
  }
 },
 "nbformat": 4,
 "nbformat_minor": 2
}

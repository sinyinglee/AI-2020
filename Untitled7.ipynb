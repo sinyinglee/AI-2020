{
 "cells": [
  {
   "cell_type": "code",
   "execution_count": 143,
   "metadata": {},
   "outputs": [],
   "source": [
    "import pandas as pd\n",
    "import numpy as np\n",
    "from keras.models import Sequential\n",
    "from keras.layers import Dense, Dropout, Activation, Flatten, LSTM, TimeDistributed, RepeatVector\n",
    "from keras.layers.normalization import BatchNormalization\n",
    "from keras.optimizers import Adam\n",
    "from keras.callbacks import EarlyStopping, ModelCheckpoint\n",
    "import matplotlib.pyplot as plt\n",
    "%matplotlib inline"
   ]
  },
  {
   "cell_type": "code",
   "execution_count": 144,
   "metadata": {},
   "outputs": [],
   "source": [
    "covid_original = pd.read_csv(\"owid-covid-data.csv\")"
   ]
  },
  {
   "cell_type": "code",
   "execution_count": 145,
   "metadata": {},
   "outputs": [
    {
     "data": {
      "text/plain": [
       "Index(['iso_code', 'continent', 'location', 'date', 'total_cases', 'new_cases',\n",
       "       'total_deaths', 'new_deaths', 'total_cases_per_million',\n",
       "       'new_cases_per_million', 'total_deaths_per_million',\n",
       "       'new_deaths_per_million', 'total_tests', 'new_tests',\n",
       "       'total_tests_per_thousand', 'new_tests_per_thousand',\n",
       "       'new_tests_smoothed', 'new_tests_smoothed_per_thousand', 'tests_units',\n",
       "       'stringency_index', 'population', 'population_density', 'median_age',\n",
       "       'aged_65_older', 'aged_70_older', 'gdp_per_capita', 'extreme_poverty',\n",
       "       'cvd_death_rate', 'diabetes_prevalence', 'female_smokers',\n",
       "       'male_smokers', 'handwashing_facilities', 'hospital_beds_per_thousand'],\n",
       "      dtype='object')"
      ]
     },
     "execution_count": 145,
     "metadata": {},
     "output_type": "execute_result"
    }
   ],
   "source": [
    "covid_original.columns"
   ]
  },
  {
   "cell_type": "code",
   "execution_count": 146,
   "metadata": {},
   "outputs": [],
   "source": [
    "del covid_original[\"iso_code\"]\n",
    "del covid_original[\"continent\"]"
   ]
  },
  {
   "cell_type": "code",
   "execution_count": 147,
   "metadata": {},
   "outputs": [],
   "source": [
    "covid_original.set_index(\"location\", inplace= True)"
   ]
  },
  {
   "cell_type": "code",
   "execution_count": 148,
   "metadata": {},
   "outputs": [],
   "source": [
    "covid_usa = covid_original.loc[\"United States\"]"
   ]
  },
  {
   "cell_type": "code",
   "execution_count": 149,
   "metadata": {},
   "outputs": [
    {
     "name": "stderr",
     "output_type": "stream",
     "text": [
      "//anaconda3/lib/python3.7/site-packages/ipykernel_launcher.py:1: SettingWithCopyWarning: \n",
      "A value is trying to be set on a copy of a slice from a DataFrame\n",
      "\n",
      "See the caveats in the documentation: http://pandas.pydata.org/pandas-docs/stable/indexing.html#indexing-view-versus-copy\n",
      "  \"\"\"Entry point for launching an IPython kernel.\n"
     ]
    }
   ],
   "source": [
    "covid_usa.dropna(axis =1, inplace = True)"
   ]
  },
  {
   "cell_type": "code",
   "execution_count": 150,
   "metadata": {},
   "outputs": [],
   "source": [
    "covid_usa = covid_usa.loc[covid_usa[\"date\"] >= \"2020-02-22\",:]"
   ]
  },
  {
   "cell_type": "code",
   "execution_count": 153,
   "metadata": {},
   "outputs": [],
   "source": [
    "covid_usa = covid_usa.drop([\"date\"],axis = 1)"
   ]
  },
  {
   "cell_type": "code",
   "execution_count": 99,
   "metadata": {},
   "outputs": [],
   "source": [
    "# def normalize(df):\n",
    "#     df = df.drop([\"date\"], axis=1)\n",
    "#     df_norm = df.apply(lambda x: (x - np.mean(x)) / (np.max(x) - np.min(x)))\n",
    "#     return df_norm"
   ]
  },
  {
   "cell_type": "markdown",
   "metadata": {},
   "source": [
    "#### After normalizing, several values in covid_usa were transformed to infinite number which the model couldn't calculate upon. Hence, I removed the normalization process to make the model work. "
   ]
  },
  {
   "cell_type": "code",
   "execution_count": 100,
   "metadata": {},
   "outputs": [],
   "source": [
    "# df_usa = normalize(covid_usa)"
   ]
  },
  {
   "cell_type": "code",
   "execution_count": 155,
   "metadata": {},
   "outputs": [],
   "source": [
    "def train_windows(df, ref_day=30, predict_day=5):\n",
    "    X_train, Y_train = [], []\n",
    "    for i in range(df.shape[0]-predict_day-ref_day):\n",
    "        X_train.append(np.array(df.iloc[i:i+ref_day,:-1]))\n",
    "        Y_train.append(np.array(df.iloc[i+ref_day:i+ref_day+predict_day][\"total_cases\"]))\n",
    "    return np.array(X_train), np.array(Y_train)"
   ]
  },
  {
   "cell_type": "code",
   "execution_count": 156,
   "metadata": {},
   "outputs": [],
   "source": [
    "def shuffle(X,Y):\n",
    "    np.random.seed(10)\n",
    "    randomList = np.arange(X.shape[0])\n",
    "    np.random.shuffle(randomList)\n",
    "    return X[randomList], Y[randomList]"
   ]
  },
  {
   "cell_type": "code",
   "execution_count": 157,
   "metadata": {},
   "outputs": [],
   "source": [
    "def splitData(X,Y,rate):\n",
    "    X_train = X[int(X.shape[0]*rate):]\n",
    "    Y_train = Y[int(Y.shape[0]*rate):]\n",
    "    X_test = X[:int(X.shape[0]*rate)]\n",
    "    Y_test = Y[:int(Y.shape[0]*rate)]\n",
    "    return X_train, Y_train, X_test, Y_test"
   ]
  },
  {
   "cell_type": "code",
   "execution_count": 158,
   "metadata": {},
   "outputs": [],
   "source": [
    "X_train, Y_train = train_windows(covid_usa, 30,5)"
   ]
  },
  {
   "cell_type": "code",
   "execution_count": 159,
   "metadata": {},
   "outputs": [],
   "source": [
    "X_train, Y_train = shuffle(X_train, Y_train)"
   ]
  },
  {
   "cell_type": "code",
   "execution_count": 160,
   "metadata": {},
   "outputs": [],
   "source": [
    "X_train, Y_train, X_test, Y_test = splitData(X_train, Y_train, 0.1)"
   ]
  },
  {
   "cell_type": "code",
   "execution_count": 161,
   "metadata": {},
   "outputs": [
    {
     "data": {
      "text/plain": [
       "(65, 30, 19)"
      ]
     },
     "execution_count": 161,
     "metadata": {},
     "output_type": "execute_result"
    }
   ],
   "source": [
    "X_train.shape"
   ]
  },
  {
   "cell_type": "code",
   "execution_count": 162,
   "metadata": {},
   "outputs": [
    {
     "data": {
      "text/plain": [
       "(65, 5)"
      ]
     },
     "execution_count": 162,
     "metadata": {},
     "output_type": "execute_result"
    }
   ],
   "source": [
    "Y_train.shape"
   ]
  },
  {
   "cell_type": "code",
   "execution_count": null,
   "metadata": {},
   "outputs": [],
   "source": []
  },
  {
   "cell_type": "code",
   "execution_count": 163,
   "metadata": {},
   "outputs": [],
   "source": [
    "def lstm_covid_model(shape):\n",
    "    model = Sequential()\n",
    "    model.add(LSTM(256, input_length=shape[1], input_dim=shape[2], return_sequences=True))\n",
    "    model.add(LSTM(256, return_sequences=True))\n",
    "    model.add(TimeDistributed(Dense(1)))\n",
    "    model.add(Flatten())\n",
    "    model.add(Dense(5,activation='tanh'))\n",
    "    model.add(Dense(5,activation='tanh'))\n",
    "    model.compile(loss='MAE', optimizer=\"adam\",metrics=['mean_absolute_error'])\n",
    "    model.summary()\n",
    "    return model"
   ]
  },
  {
   "cell_type": "code",
   "execution_count": 164,
   "metadata": {},
   "outputs": [
    {
     "name": "stderr",
     "output_type": "stream",
     "text": [
      "//anaconda3/lib/python3.7/site-packages/ipykernel_launcher.py:3: UserWarning: The `input_dim` and `input_length` arguments in recurrent layers are deprecated. Use `input_shape` instead.\n",
      "  This is separate from the ipykernel package so we can avoid doing imports until\n",
      "//anaconda3/lib/python3.7/site-packages/ipykernel_launcher.py:3: UserWarning: Update your `LSTM` call to the Keras 2 API: `LSTM(256, return_sequences=True, input_shape=(30, 19))`\n",
      "  This is separate from the ipykernel package so we can avoid doing imports until\n"
     ]
    },
    {
     "name": "stdout",
     "output_type": "stream",
     "text": [
      "Model: \"sequential_6\"\n",
      "_________________________________________________________________\n",
      "Layer (type)                 Output Shape              Param #   \n",
      "=================================================================\n",
      "lstm_11 (LSTM)               (None, 30, 256)           282624    \n",
      "_________________________________________________________________\n",
      "lstm_12 (LSTM)               (None, 30, 256)           525312    \n",
      "_________________________________________________________________\n",
      "time_distributed_6 (TimeDist (None, 30, 1)             257       \n",
      "_________________________________________________________________\n",
      "flatten_6 (Flatten)          (None, 30)                0         \n",
      "_________________________________________________________________\n",
      "dense_17 (Dense)             (None, 5)                 155       \n",
      "_________________________________________________________________\n",
      "dense_18 (Dense)             (None, 5)                 30        \n",
      "=================================================================\n",
      "Total params: 808,378\n",
      "Trainable params: 808,378\n",
      "Non-trainable params: 0\n",
      "_________________________________________________________________\n"
     ]
    }
   ],
   "source": [
    "model = lstm_covid_model(X_train.shape)\n",
    "callback = EarlyStopping(monitor=\"mean_absolute_error\", patience=10, verbose=1, mode=\"auto\")"
   ]
  },
  {
   "cell_type": "code",
   "execution_count": 165,
   "metadata": {},
   "outputs": [
    {
     "name": "stdout",
     "output_type": "stream",
     "text": [
      "Train on 65 samples, validate on 7 samples\n",
      "Epoch 1/10\n",
      "65/65 [==============================] - 3s 50ms/step - loss: 1008195.0594 - mean_absolute_error: 1008194.9375 - val_loss: 815059.5045 - val_mean_absolute_error: 815059.5000\n",
      "Epoch 2/10\n",
      "65/65 [==============================] - 2s 36ms/step - loss: 1008194.8919 - mean_absolute_error: 1008194.8750 - val_loss: 815059.3661 - val_mean_absolute_error: 815059.3750\n",
      "Epoch 3/10\n",
      "65/65 [==============================] - 2s 36ms/step - loss: 1008194.7983 - mean_absolute_error: 1008194.8125 - val_loss: 815059.2835 - val_mean_absolute_error: 815059.3125\n",
      "Epoch 4/10\n",
      "65/65 [==============================] - 2s 36ms/step - loss: 1008194.7402 - mean_absolute_error: 1008194.6875 - val_loss: 815059.2690 - val_mean_absolute_error: 815059.3125\n",
      "Epoch 5/10\n",
      "65/65 [==============================] - 2s 37ms/step - loss: 1008194.7064 - mean_absolute_error: 1008194.6875 - val_loss: 815059.2511 - val_mean_absolute_error: 815059.3125\n",
      "Epoch 6/10\n",
      "65/65 [==============================] - 2s 37ms/step - loss: 1008194.6906 - mean_absolute_error: 1008194.6250 - val_loss: 815059.2344 - val_mean_absolute_error: 815059.3125\n",
      "Epoch 7/10\n",
      "65/65 [==============================] - 3s 39ms/step - loss: 1008194.6839 - mean_absolute_error: 1008194.6250 - val_loss: 815059.2321 - val_mean_absolute_error: 815059.3125\n",
      "Epoch 8/10\n",
      "65/65 [==============================] - 3s 44ms/step - loss: 1008194.6818 - mean_absolute_error: 1008194.6875 - val_loss: 815059.2288 - val_mean_absolute_error: 815059.3125\n",
      "Epoch 9/10\n",
      "65/65 [==============================] - 3s 41ms/step - loss: 1008194.6764 - mean_absolute_error: 1008194.6875 - val_loss: 815059.2288 - val_mean_absolute_error: 815059.3125\n",
      "Epoch 10/10\n",
      "65/65 [==============================] - 3s 40ms/step - loss: 1008194.6752 - mean_absolute_error: 1008194.6250 - val_loss: 815059.2266 - val_mean_absolute_error: 815059.3125\n"
     ]
    }
   ],
   "source": [
    "history = model.fit(X_train, Y_train, epochs=10, batch_size=1, validation_data=(X_test, Y_test), callbacks=[callback])"
   ]
  },
  {
   "cell_type": "code",
   "execution_count": 166,
   "metadata": {},
   "outputs": [
    {
     "data": {
      "text/plain": [
       "[<matplotlib.lines.Line2D at 0x1a48e45f60>]"
      ]
     },
     "execution_count": 166,
     "metadata": {},
     "output_type": "execute_result"
    },
    {
     "data": {
      "image/png": "[encoded data removed]",
      "text/plain": [
       "<Figure size 432x288 with 1 Axes>"
      ]
     },
     "metadata": {
      "needs_background": "light"
     },
     "output_type": "display_data"
    }
   ],
   "source": [
    "plt.plot(history.history['loss'])"
   ]
  },
  {
   "cell_type": "code",
   "execution_count": 167,
   "metadata": {},
   "outputs": [],
   "source": [
    "real_date = Y_test"
   ]
  },
  {
   "cell_type": "code",
   "execution_count": 168,
   "metadata": {},
   "outputs": [
    {
     "data": {
      "text/plain": [
       "array([[1770384, 1790191, 1811277, 1831821, 1851520],\n",
       "       [  69194,   85991,  104686,  124665,  143025],\n",
       "       [ 702164,  735086,  759687,  787752,  825041],\n",
       "       [1069826, 1103781, 1133069, 1158041, 1180634],\n",
       "       [  55231,   69194,   85991,  104686,  124665],\n",
       "       [ 124665,  143025,  164620,  189618,  216721],\n",
       "       [1601434, 1622670, 1643238, 1662302, 1681212]])"
      ]
     },
     "execution_count": 168,
     "metadata": {},
     "output_type": "execute_result"
    }
   ],
   "source": [
    "real_date"
   ]
  },
  {
   "cell_type": "code",
   "execution_count": 169,
   "metadata": {},
   "outputs": [
    {
     "data": {
      "text/plain": [
       "[<matplotlib.lines.Line2D at 0x1a422d34e0>,\n",
       " <matplotlib.lines.Line2D at 0x1a422d3630>,\n",
       " <matplotlib.lines.Line2D at 0x1a422d3780>,\n",
       " <matplotlib.lines.Line2D at 0x1a422d38d0>,\n",
       " <matplotlib.lines.Line2D at 0x1a422d3a20>]"
      ]
     },
     "execution_count": 169,
     "metadata": {},
     "output_type": "execute_result"
    },
    {
     "data": {
      "image/png": "[encoded data removed]",
      "text/plain": [
       "<Figure size 432x288 with 1 Axes>"
      ]
     },
     "metadata": {
      "needs_background": "light"
     },
     "output_type": "display_data"
    }
   ],
   "source": [
    "plt.plot(real_date, color = 'black', label = 'Covid Real Data(USA)')"
   ]
  },
  {
   "cell_type": "code",
   "execution_count": 170,
   "metadata": {},
   "outputs": [],
   "source": [
    "predicted_usa = model.predict(X_test)"
   ]
  },
  {
   "cell_type": "code",
   "execution_count": 171,
   "metadata": {},
   "outputs": [
    {
     "data": {
      "text/plain": [
       "[<matplotlib.lines.Line2D at 0x1a422ffe48>,\n",
       " <matplotlib.lines.Line2D at 0x1a422ffda0>,\n",
       " <matplotlib.lines.Line2D at 0x1a422f0be0>,\n",
       " <matplotlib.lines.Line2D at 0x1a422f06d8>,\n",
       " <matplotlib.lines.Line2D at 0x1a422f0518>]"
      ]
     },
     "execution_count": 171,
     "metadata": {},
     "output_type": "execute_result"
    },
    {
     "data": {
      "image/png": "[encoded data removed]",
      "text/plain": [
       "<Figure size 432x288 with 1 Axes>"
      ]
     },
     "metadata": {
      "needs_background": "light"
     },
     "output_type": "display_data"
    }
   ],
   "source": [
    "plt.plot(predicted_usa, color = 'green', label = 'Predicted Covid Situation')"
   ]
  },
  {
   "cell_type": "code",
   "execution_count": 172,
   "metadata": {},
   "outputs": [
    {
     "data": {
      "image/png": "[encoded data removed]",
      "text/plain": [
       "<Figure size 432x288 with 1 Axes>"
      ]
     },
     "metadata": {
      "needs_background": "light"
     },
     "output_type": "display_data"
    }
   ],
   "source": [
    "plt.plot(real_date, color = 'black', label = 'Covid19 Real Data(USA)')\n",
    "plt.plot(predicted_usa, color = 'green', label = 'Predicted USA Covid19 Situation')\n",
    "plt.title('COVID 19 Prediction in USA')\n",
    "plt.xlabel('Time')\n",
    "plt.ylabel('DOW Stock Price')\n",
    "plt.show()"
   ]
  },
  {
   "cell_type": "code",
   "execution_count": null,
   "metadata": {},
   "outputs": [],
   "source": []
  }
 ],
 "metadata": {
  "kernelspec": {
   "display_name": "Python 3",
   "language": "python",
   "name": "python3"
  },
  "language_info": {
   "codemirror_mode": {
    "name": "ipython",
    "version": 3
   },
   "file_extension": ".py",
   "mimetype": "text/x-python",
   "name": "python",
   "nbconvert_exporter": "python",
   "pygments_lexer": "ipython3",
   "version": "3.7.3"
  }
 },
 "nbformat": 4,
 "nbformat_minor": 2
}
